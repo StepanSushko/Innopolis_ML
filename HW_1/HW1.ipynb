{
 "cells": [
  {
   "cell_type": "markdown",
   "id": "a7da48ca",
   "metadata": {},
   "source": [
    "# Данные"
   ]
  },
  {
   "cell_type": "code",
   "execution_count": 2,
   "id": "2ab378c1",
   "metadata": {},
   "outputs": [
    {
     "data": {
      "application/vnd.microsoft.datawrangler.viewer.v0+json": {
       "columns": [
        {
         "name": "index",
         "rawType": "int64",
         "type": "integer"
        },
        {
         "name": "dataset",
         "rawType": "object",
         "type": "string"
        },
        {
         "name": "x",
         "rawType": "float64",
         "type": "float"
        },
        {
         "name": "y",
         "rawType": "float64",
         "type": "float"
        }
       ],
       "conversionMethod": "pd.DataFrame",
       "ref": "afb7b07c-e008-4080-b867-6c7c27237dff",
       "rows": [
        [
         "0",
         "dino",
         "55.3846",
         "97.1795"
        ],
        [
         "1",
         "dino",
         "51.5385",
         "96.0256"
        ],
        [
         "2",
         "dino",
         "46.1538",
         "94.4872"
        ],
        [
         "3",
         "dino",
         "42.8205",
         "91.4103"
        ],
        [
         "4",
         "dino",
         "40.7692",
         "88.3333"
        ],
        [
         "5",
         "dino",
         "38.7179",
         "84.8718"
        ],
        [
         "6",
         "dino",
         "35.641",
         "79.8718"
        ],
        [
         "7",
         "dino",
         "33.0769",
         "77.5641"
        ],
        [
         "8",
         "dino",
         "28.9744",
         "74.4872"
        ],
        [
         "9",
         "dino",
         "26.1538",
         "71.4103"
        ],
        [
         "10",
         "dino",
         "23.0769",
         "66.4103"
        ],
        [
         "11",
         "dino",
         "22.3077",
         "61.7949"
        ],
        [
         "12",
         "dino",
         "22.3077",
         "57.1795"
        ],
        [
         "13",
         "dino",
         "23.3333",
         "52.9487"
        ],
        [
         "14",
         "dino",
         "25.8974",
         "51.0256"
        ],
        [
         "15",
         "dino",
         "29.4872",
         "51.0256"
        ],
        [
         "16",
         "dino",
         "32.8205",
         "51.0256"
        ],
        [
         "17",
         "dino",
         "35.3846",
         "51.4103"
        ],
        [
         "18",
         "dino",
         "40.2564",
         "51.4103"
        ],
        [
         "19",
         "dino",
         "44.1026",
         "52.9487"
        ],
        [
         "20",
         "dino",
         "46.6667",
         "54.1026"
        ],
        [
         "21",
         "dino",
         "50.0",
         "55.2564"
        ],
        [
         "22",
         "dino",
         "53.0769",
         "55.641"
        ],
        [
         "23",
         "dino",
         "56.6667",
         "56.0256"
        ],
        [
         "24",
         "dino",
         "59.2308",
         "57.9487"
        ],
        [
         "25",
         "dino",
         "61.2821",
         "62.1795"
        ],
        [
         "26",
         "dino",
         "61.5385",
         "66.4103"
        ],
        [
         "27",
         "dino",
         "61.7949",
         "69.1026"
        ],
        [
         "28",
         "dino",
         "57.4359",
         "55.2564"
        ],
        [
         "29",
         "dino",
         "54.8718",
         "49.8718"
        ],
        [
         "30",
         "dino",
         "52.5641",
         "46.0256"
        ],
        [
         "31",
         "dino",
         "48.2051",
         "38.3333"
        ],
        [
         "32",
         "dino",
         "49.4872",
         "42.1795"
        ],
        [
         "33",
         "dino",
         "51.0256",
         "44.1026"
        ],
        [
         "34",
         "dino",
         "45.3846",
         "36.4103"
        ],
        [
         "35",
         "dino",
         "42.8205",
         "32.5641"
        ],
        [
         "36",
         "dino",
         "38.7179",
         "31.4103"
        ],
        [
         "37",
         "dino",
         "35.1282",
         "30.2564"
        ],
        [
         "38",
         "dino",
         "32.5641",
         "32.1795"
        ],
        [
         "39",
         "dino",
         "30.0",
         "36.7949"
        ],
        [
         "40",
         "dino",
         "33.5897",
         "41.4103"
        ],
        [
         "41",
         "dino",
         "36.6667",
         "45.641"
        ],
        [
         "42",
         "dino",
         "38.2051",
         "49.1026"
        ],
        [
         "43",
         "dino",
         "29.7436",
         "36.0256"
        ],
        [
         "44",
         "dino",
         "29.7436",
         "32.1795"
        ],
        [
         "45",
         "dino",
         "30.0",
         "29.1026"
        ],
        [
         "46",
         "dino",
         "32.0513",
         "26.7949"
        ],
        [
         "47",
         "dino",
         "35.8974",
         "25.2564"
        ],
        [
         "48",
         "dino",
         "41.0256",
         "25.2564"
        ],
        [
         "49",
         "dino",
         "44.1026",
         "25.641"
        ]
       ],
       "shape": {
        "columns": 3,
        "rows": 1846
       }
      },
      "text/html": [
       "<div>\n",
       "<style scoped>\n",
       "    .dataframe tbody tr th:only-of-type {\n",
       "        vertical-align: middle;\n",
       "    }\n",
       "\n",
       "    .dataframe tbody tr th {\n",
       "        vertical-align: top;\n",
       "    }\n",
       "\n",
       "    .dataframe thead th {\n",
       "        text-align: right;\n",
       "    }\n",
       "</style>\n",
       "<table border=\"1\" class=\"dataframe\">\n",
       "  <thead>\n",
       "    <tr style=\"text-align: right;\">\n",
       "      <th></th>\n",
       "      <th>dataset</th>\n",
       "      <th>x</th>\n",
       "      <th>y</th>\n",
       "    </tr>\n",
       "  </thead>\n",
       "  <tbody>\n",
       "    <tr>\n",
       "      <th>0</th>\n",
       "      <td>dino</td>\n",
       "      <td>55.384600</td>\n",
       "      <td>97.179500</td>\n",
       "    </tr>\n",
       "    <tr>\n",
       "      <th>1</th>\n",
       "      <td>dino</td>\n",
       "      <td>51.538500</td>\n",
       "      <td>96.025600</td>\n",
       "    </tr>\n",
       "    <tr>\n",
       "      <th>2</th>\n",
       "      <td>dino</td>\n",
       "      <td>46.153800</td>\n",
       "      <td>94.487200</td>\n",
       "    </tr>\n",
       "    <tr>\n",
       "      <th>3</th>\n",
       "      <td>dino</td>\n",
       "      <td>42.820500</td>\n",
       "      <td>91.410300</td>\n",
       "    </tr>\n",
       "    <tr>\n",
       "      <th>4</th>\n",
       "      <td>dino</td>\n",
       "      <td>40.769200</td>\n",
       "      <td>88.333300</td>\n",
       "    </tr>\n",
       "    <tr>\n",
       "      <th>...</th>\n",
       "      <td>...</td>\n",
       "      <td>...</td>\n",
       "      <td>...</td>\n",
       "    </tr>\n",
       "    <tr>\n",
       "      <th>1841</th>\n",
       "      <td>wide_lines</td>\n",
       "      <td>33.674442</td>\n",
       "      <td>26.090490</td>\n",
       "    </tr>\n",
       "    <tr>\n",
       "      <th>1842</th>\n",
       "      <td>wide_lines</td>\n",
       "      <td>75.627255</td>\n",
       "      <td>37.128752</td>\n",
       "    </tr>\n",
       "    <tr>\n",
       "      <th>1843</th>\n",
       "      <td>wide_lines</td>\n",
       "      <td>40.610125</td>\n",
       "      <td>89.136240</td>\n",
       "    </tr>\n",
       "    <tr>\n",
       "      <th>1844</th>\n",
       "      <td>wide_lines</td>\n",
       "      <td>39.114366</td>\n",
       "      <td>96.481751</td>\n",
       "    </tr>\n",
       "    <tr>\n",
       "      <th>1845</th>\n",
       "      <td>wide_lines</td>\n",
       "      <td>34.583829</td>\n",
       "      <td>89.588902</td>\n",
       "    </tr>\n",
       "  </tbody>\n",
       "</table>\n",
       "<p>1846 rows × 3 columns</p>\n",
       "</div>"
      ],
      "text/plain": [
       "         dataset          x          y\n",
       "0           dino  55.384600  97.179500\n",
       "1           dino  51.538500  96.025600\n",
       "2           dino  46.153800  94.487200\n",
       "3           dino  42.820500  91.410300\n",
       "4           dino  40.769200  88.333300\n",
       "...          ...        ...        ...\n",
       "1841  wide_lines  33.674442  26.090490\n",
       "1842  wide_lines  75.627255  37.128752\n",
       "1843  wide_lines  40.610125  89.136240\n",
       "1844  wide_lines  39.114366  96.481751\n",
       "1845  wide_lines  34.583829  89.588902\n",
       "\n",
       "[1846 rows x 3 columns]"
      ]
     },
     "execution_count": 2,
     "metadata": {},
     "output_type": "execute_result"
    }
   ],
   "source": [
    "import pandas as pd\n",
    "\n",
    "df = pd.read_csv(\"Never Trust Summary Statistics.tsv\", delimiter=\"\\t\")\n",
    "df"
   ]
  },
  {
   "cell_type": "markdown",
   "id": "abc30a6d",
   "metadata": {},
   "source": [
    "## Размер данных"
   ]
  },
  {
   "cell_type": "code",
   "execution_count": 8,
   "id": "e54bee5b",
   "metadata": {},
   "outputs": [
    {
     "name": "stdout",
     "output_type": "stream",
     "text": [
      "Количество строк:  1846   Количество колонок:  3\n"
     ]
    }
   ],
   "source": [
    "print( \"Количество строк: \", df.shape[0], \"  Количество колонок: \", df.shape[1])"
   ]
  },
  {
   "cell_type": "markdown",
   "id": "45fb2586",
   "metadata": {},
   "source": [
    "## Типы данных"
   ]
  },
  {
   "cell_type": "code",
   "execution_count": 11,
   "id": "4863f285",
   "metadata": {},
   "outputs": [
    {
     "name": "stdout",
     "output_type": "stream",
     "text": [
      "dataset     object\n",
      "x          float64\n",
      "y          float64\n",
      "dtype: object\n"
     ]
    }
   ],
   "source": [
    "# Types of dataframe columns\n",
    "print( df.dtypes) "
   ]
  },
  {
   "cell_type": "markdown",
   "id": "84cd2435",
   "metadata": {},
   "source": [
    "## Уникальные значения"
   ]
  },
  {
   "cell_type": "code",
   "execution_count": 12,
   "id": "a9e4702e",
   "metadata": {},
   "outputs": [
    {
     "data": {
      "text/plain": [
       "array(['dino', 'away', 'h_lines', 'v_lines', 'x_shape', 'star',\n",
       "       'high_lines', 'dots', 'circle', 'bullseye', 'slant_up',\n",
       "       'slant_down', 'wide_lines'], dtype=object)"
      ]
     },
     "execution_count": 12,
     "metadata": {},
     "output_type": "execute_result"
    }
   ],
   "source": [
    "df[\"dataset\"].unique()"
   ]
  },
  {
   "cell_type": "markdown",
   "id": "7a978087",
   "metadata": {},
   "source": [
    "## Частота значений"
   ]
  },
  {
   "cell_type": "code",
   "execution_count": null,
   "id": "efb6b7bf",
   "metadata": {},
   "outputs": [
    {
     "data": {
      "text/plain": [
       "dataset\n",
       "dino          142\n",
       "away          142\n",
       "h_lines       142\n",
       "v_lines       142\n",
       "x_shape       142\n",
       "star          142\n",
       "high_lines    142\n",
       "dots          142\n",
       "circle        142\n",
       "bullseye      142\n",
       "slant_up      142\n",
       "slant_down    142\n",
       "wide_lines    142\n",
       "Name: count, dtype: int64"
      ]
     },
     "execution_count": 19,
     "metadata": {},
     "output_type": "execute_result"
    }
   ],
   "source": [
    "df[\"dataset\"].value_counts()"
   ]
  },
  {
   "cell_type": "markdown",
   "id": "a0ecce2b",
   "metadata": {},
   "source": [
    "## Статистика по X и Y"
   ]
  },
  {
   "cell_type": "code",
   "execution_count": 29,
   "id": "c7d7309c",
   "metadata": {},
   "outputs": [
    {
     "name": "stdout",
     "output_type": "stream",
     "text": [
      "Минимум\n",
      " 15.5607495229\n",
      "Максимум:\n",
      " 98.2881232748\n",
      "Среднее:\n",
      " 54.265695295881045\n",
      "Медиана:\n",
      " 52.5912691143\n"
     ]
    }
   ],
   "source": [
    "min_values = df[\"x\"].min()\n",
    "max_values = df[\"x\"].max()\n",
    "mean_values = df[\"x\"].mean()\n",
    "median_values = df[\"x\"].median()\n",
    "\n",
    "print(\"Минимум\\n\", min_values)\n",
    "print(\"Максимум:\\n\", max_values)\n",
    "print(\"Среднее:\\n\", mean_values)\n",
    "print(\"Медиана:\\n\", median_values)\n"
   ]
  },
  {
   "cell_type": "code",
   "execution_count": 30,
   "id": "433155bd",
   "metadata": {},
   "outputs": [
    {
     "name": "stdout",
     "output_type": "stream",
     "text": [
      "Минимум\n",
      " 0.0151193251552\n",
      "Максимум:\n",
      " 99.6946801425\n",
      "Среднее:\n",
      " 47.8350992041227\n",
      "Медиана:\n",
      " 47.59444996225\n"
     ]
    }
   ],
   "source": [
    "min_values = df[\"y\"].min()\n",
    "max_values = df[\"y\"].max()\n",
    "mean_values = df[\"y\"].mean()\n",
    "median_values = df[\"y\"].median()\n",
    "\n",
    "print(\"Минимум\\n\", min_values)\n",
    "print(\"Максимум:\\n\", max_values)\n",
    "print(\"Среднее:\\n\", mean_values)\n",
    "print(\"Медиана:\\n\", median_values)"
   ]
  },
  {
   "cell_type": "code",
   "execution_count": null,
   "id": "ebfd73f2",
   "metadata": {},
   "outputs": [],
   "source": []
  }
 ],
 "metadata": {
  "kernelspec": {
   "display_name": ".venv",
   "language": "python",
   "name": "python3"
  },
  "language_info": {
   "codemirror_mode": {
    "name": "ipython",
    "version": 3
   },
   "file_extension": ".py",
   "mimetype": "text/x-python",
   "name": "python",
   "nbconvert_exporter": "python",
   "pygments_lexer": "ipython3",
   "version": "3.12.4"
  }
 },
 "nbformat": 4,
 "nbformat_minor": 5
}
