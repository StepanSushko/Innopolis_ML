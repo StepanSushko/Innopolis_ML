{
 "cells": [
  {
   "cell_type": "markdown",
   "id": "bd05a314",
   "metadata": {},
   "source": [
    "# Данные"
   ]
  },
  {
   "cell_type": "code",
   "execution_count": 156,
   "id": "77cd0a34",
   "metadata": {},
   "outputs": [
    {
     "data": {
      "application/vnd.microsoft.datawrangler.viewer.v0+json": {
       "columns": [
        {
         "name": "index",
         "rawType": "int64",
         "type": "integer"
        },
        {
         "name": "dataset",
         "rawType": "object",
         "type": "string"
        },
        {
         "name": "x",
         "rawType": "float64",
         "type": "float"
        },
        {
         "name": "y",
         "rawType": "float64",
         "type": "float"
        }
       ],
       "ref": "cc52ff99-801c-4f40-a709-b84066feef81",
       "rows": [
        [
         "0",
         "dino",
         "55.3846",
         "97.1795"
        ],
        [
         "1",
         "dino",
         "51.5385",
         "96.0256"
        ],
        [
         "2",
         "dino",
         "46.1538",
         "94.4872"
        ],
        [
         "3",
         "dino",
         "42.8205",
         "91.4103"
        ],
        [
         "4",
         "dino",
         "40.7692",
         "88.3333"
        ],
        [
         "5",
         "dino",
         "38.7179",
         "84.8718"
        ],
        [
         "6",
         "dino",
         "35.641",
         "79.8718"
        ],
        [
         "7",
         "dino",
         "33.0769",
         "77.5641"
        ],
        [
         "8",
         "dino",
         "28.9744",
         "74.4872"
        ],
        [
         "9",
         "dino",
         "26.1538",
         "71.4103"
        ],
        [
         "10",
         "dino",
         "23.0769",
         "66.4103"
        ],
        [
         "11",
         "dino",
         "22.3077",
         "61.7949"
        ],
        [
         "12",
         "dino",
         "22.3077",
         "57.1795"
        ],
        [
         "13",
         "dino",
         "23.3333",
         "52.9487"
        ],
        [
         "14",
         "dino",
         "25.8974",
         "51.0256"
        ],
        [
         "15",
         "dino",
         "29.4872",
         "51.0256"
        ],
        [
         "16",
         "dino",
         "32.8205",
         "51.0256"
        ],
        [
         "17",
         "dino",
         "35.3846",
         "51.4103"
        ],
        [
         "18",
         "dino",
         "40.2564",
         "51.4103"
        ],
        [
         "19",
         "dino",
         "44.1026",
         "52.9487"
        ],
        [
         "20",
         "dino",
         "46.6667",
         "54.1026"
        ],
        [
         "21",
         "dino",
         "50.0",
         "55.2564"
        ],
        [
         "22",
         "dino",
         "53.0769",
         "55.641"
        ],
        [
         "23",
         "dino",
         "56.6667",
         "56.0256"
        ],
        [
         "24",
         "dino",
         "59.2308",
         "57.9487"
        ],
        [
         "25",
         "dino",
         "61.2821",
         "62.1795"
        ],
        [
         "26",
         "dino",
         "61.5385",
         "66.4103"
        ],
        [
         "27",
         "dino",
         "61.7949",
         "69.1026"
        ],
        [
         "28",
         "dino",
         "57.4359",
         "55.2564"
        ],
        [
         "29",
         "dino",
         "54.8718",
         "49.8718"
        ],
        [
         "30",
         "dino",
         "52.5641",
         "46.0256"
        ],
        [
         "31",
         "dino",
         "48.2051",
         "38.3333"
        ],
        [
         "32",
         "dino",
         "49.4872",
         "42.1795"
        ],
        [
         "33",
         "dino",
         "51.0256",
         "44.1026"
        ],
        [
         "34",
         "dino",
         "45.3846",
         "36.4103"
        ],
        [
         "35",
         "dino",
         "42.8205",
         "32.5641"
        ],
        [
         "36",
         "dino",
         "38.7179",
         "31.4103"
        ],
        [
         "37",
         "dino",
         "35.1282",
         "30.2564"
        ],
        [
         "38",
         "dino",
         "32.5641",
         "32.1795"
        ],
        [
         "39",
         "dino",
         "30.0",
         "36.7949"
        ],
        [
         "40",
         "dino",
         "33.5897",
         "41.4103"
        ],
        [
         "41",
         "dino",
         "36.6667",
         "45.641"
        ],
        [
         "42",
         "dino",
         "38.2051",
         "49.1026"
        ],
        [
         "43",
         "dino",
         "29.7436",
         "36.0256"
        ],
        [
         "44",
         "dino",
         "29.7436",
         "32.1795"
        ],
        [
         "45",
         "dino",
         "30.0",
         "29.1026"
        ],
        [
         "46",
         "dino",
         "32.0513",
         "26.7949"
        ],
        [
         "47",
         "dino",
         "35.8974",
         "25.2564"
        ],
        [
         "48",
         "dino",
         "41.0256",
         "25.2564"
        ],
        [
         "49",
         "dino",
         "44.1026",
         "25.641"
        ]
       ],
       "shape": {
        "columns": 3,
        "rows": 1846
       }
      },
      "text/html": [
       "<div>\n",
       "<style scoped>\n",
       "    .dataframe tbody tr th:only-of-type {\n",
       "        vertical-align: middle;\n",
       "    }\n",
       "\n",
       "    .dataframe tbody tr th {\n",
       "        vertical-align: top;\n",
       "    }\n",
       "\n",
       "    .dataframe thead th {\n",
       "        text-align: right;\n",
       "    }\n",
       "</style>\n",
       "<table border=\"1\" class=\"dataframe\">\n",
       "  <thead>\n",
       "    <tr style=\"text-align: right;\">\n",
       "      <th></th>\n",
       "      <th>dataset</th>\n",
       "      <th>x</th>\n",
       "      <th>y</th>\n",
       "    </tr>\n",
       "  </thead>\n",
       "  <tbody>\n",
       "    <tr>\n",
       "      <th>0</th>\n",
       "      <td>dino</td>\n",
       "      <td>55.384600</td>\n",
       "      <td>97.179500</td>\n",
       "    </tr>\n",
       "    <tr>\n",
       "      <th>1</th>\n",
       "      <td>dino</td>\n",
       "      <td>51.538500</td>\n",
       "      <td>96.025600</td>\n",
       "    </tr>\n",
       "    <tr>\n",
       "      <th>2</th>\n",
       "      <td>dino</td>\n",
       "      <td>46.153800</td>\n",
       "      <td>94.487200</td>\n",
       "    </tr>\n",
       "    <tr>\n",
       "      <th>3</th>\n",
       "      <td>dino</td>\n",
       "      <td>42.820500</td>\n",
       "      <td>91.410300</td>\n",
       "    </tr>\n",
       "    <tr>\n",
       "      <th>4</th>\n",
       "      <td>dino</td>\n",
       "      <td>40.769200</td>\n",
       "      <td>88.333300</td>\n",
       "    </tr>\n",
       "    <tr>\n",
       "      <th>...</th>\n",
       "      <td>...</td>\n",
       "      <td>...</td>\n",
       "      <td>...</td>\n",
       "    </tr>\n",
       "    <tr>\n",
       "      <th>1841</th>\n",
       "      <td>wide_lines</td>\n",
       "      <td>33.674442</td>\n",
       "      <td>26.090490</td>\n",
       "    </tr>\n",
       "    <tr>\n",
       "      <th>1842</th>\n",
       "      <td>wide_lines</td>\n",
       "      <td>75.627255</td>\n",
       "      <td>37.128752</td>\n",
       "    </tr>\n",
       "    <tr>\n",
       "      <th>1843</th>\n",
       "      <td>wide_lines</td>\n",
       "      <td>40.610125</td>\n",
       "      <td>89.136240</td>\n",
       "    </tr>\n",
       "    <tr>\n",
       "      <th>1844</th>\n",
       "      <td>wide_lines</td>\n",
       "      <td>39.114366</td>\n",
       "      <td>96.481751</td>\n",
       "    </tr>\n",
       "    <tr>\n",
       "      <th>1845</th>\n",
       "      <td>wide_lines</td>\n",
       "      <td>34.583829</td>\n",
       "      <td>89.588902</td>\n",
       "    </tr>\n",
       "  </tbody>\n",
       "</table>\n",
       "<p>1846 rows × 3 columns</p>\n",
       "</div>"
      ],
      "text/plain": [
       "         dataset          x          y\n",
       "0           dino  55.384600  97.179500\n",
       "1           dino  51.538500  96.025600\n",
       "2           dino  46.153800  94.487200\n",
       "3           dino  42.820500  91.410300\n",
       "4           dino  40.769200  88.333300\n",
       "...          ...        ...        ...\n",
       "1841  wide_lines  33.674442  26.090490\n",
       "1842  wide_lines  75.627255  37.128752\n",
       "1843  wide_lines  40.610125  89.136240\n",
       "1844  wide_lines  39.114366  96.481751\n",
       "1845  wide_lines  34.583829  89.588902\n",
       "\n",
       "[1846 rows x 3 columns]"
      ]
     },
     "execution_count": 156,
     "metadata": {},
     "output_type": "execute_result"
    }
   ],
   "source": [
    "import pandas as pd\n",
    "import plotly.express as px\n",
    "from plotly.subplots import make_subplots\n",
    "import plotly.graph_objects as go\n",
    "\n",
    "\n",
    "corp_col = '#40ba21'\n",
    "\n",
    "df = pd.read_csv(\"Never Trust Summary Statistics.tsv\", delimiter=\"\\t\")\n",
    "df"
   ]
  },
  {
   "cell_type": "markdown",
   "id": "9986b666",
   "metadata": {},
   "source": [
    "# Домашнее задание 4"
   ]
  },
  {
   "cell_type": "markdown",
   "id": "609f0472",
   "metadata": {},
   "source": [
    "## Добавление бинарной переменной"
   ]
  },
  {
   "cell_type": "markdown",
   "id": "58486f70",
   "metadata": {},
   "source": [
    "### Вариант 1 "
   ]
  },
  {
   "cell_type": "code",
   "execution_count": 157,
   "id": "737fc926",
   "metadata": {},
   "outputs": [
    {
     "data": {
      "application/vnd.microsoft.datawrangler.viewer.v0+json": {
       "columns": [
        {
         "name": "index",
         "rawType": "int64",
         "type": "integer"
        },
        {
         "name": "dataset",
         "rawType": "object",
         "type": "string"
        },
        {
         "name": "x",
         "rawType": "float64",
         "type": "float"
        },
        {
         "name": "y",
         "rawType": "float64",
         "type": "float"
        },
        {
         "name": "binary",
         "rawType": "int64",
         "type": "integer"
        }
       ],
       "ref": "24ba290f-690c-4e2a-8bc9-9bbf0effaa26",
       "rows": [
        [
         "0",
         "dino",
         "55.3846",
         "97.1795",
         "1"
        ],
        [
         "1",
         "dino",
         "51.5385",
         "96.0256",
         "1"
        ],
        [
         "2",
         "dino",
         "46.1538",
         "94.4872",
         "0"
        ],
        [
         "3",
         "dino",
         "42.8205",
         "91.4103",
         "0"
        ],
        [
         "4",
         "dino",
         "40.7692",
         "88.3333",
         "0"
        ],
        [
         "5",
         "dino",
         "38.7179",
         "84.8718",
         "0"
        ],
        [
         "6",
         "dino",
         "35.641",
         "79.8718",
         "0"
        ],
        [
         "7",
         "dino",
         "33.0769",
         "77.5641",
         "0"
        ],
        [
         "8",
         "dino",
         "28.9744",
         "74.4872",
         "0"
        ],
        [
         "9",
         "dino",
         "26.1538",
         "71.4103",
         "0"
        ],
        [
         "10",
         "dino",
         "23.0769",
         "66.4103",
         "0"
        ],
        [
         "11",
         "dino",
         "22.3077",
         "61.7949",
         "0"
        ],
        [
         "12",
         "dino",
         "22.3077",
         "57.1795",
         "0"
        ],
        [
         "13",
         "dino",
         "23.3333",
         "52.9487",
         "0"
        ],
        [
         "14",
         "dino",
         "25.8974",
         "51.0256",
         "0"
        ],
        [
         "15",
         "dino",
         "29.4872",
         "51.0256",
         "0"
        ],
        [
         "16",
         "dino",
         "32.8205",
         "51.0256",
         "0"
        ],
        [
         "17",
         "dino",
         "35.3846",
         "51.4103",
         "0"
        ],
        [
         "18",
         "dino",
         "40.2564",
         "51.4103",
         "0"
        ],
        [
         "19",
         "dino",
         "44.1026",
         "52.9487",
         "0"
        ],
        [
         "20",
         "dino",
         "46.6667",
         "54.1026",
         "0"
        ],
        [
         "21",
         "dino",
         "50.0",
         "55.2564",
         "1"
        ],
        [
         "22",
         "dino",
         "53.0769",
         "55.641",
         "1"
        ],
        [
         "23",
         "dino",
         "56.6667",
         "56.0256",
         "1"
        ],
        [
         "24",
         "dino",
         "59.2308",
         "57.9487",
         "1"
        ],
        [
         "25",
         "dino",
         "61.2821",
         "62.1795",
         "1"
        ],
        [
         "26",
         "dino",
         "61.5385",
         "66.4103",
         "1"
        ],
        [
         "27",
         "dino",
         "61.7949",
         "69.1026",
         "1"
        ],
        [
         "28",
         "dino",
         "57.4359",
         "55.2564",
         "1"
        ],
        [
         "29",
         "dino",
         "54.8718",
         "49.8718",
         "1"
        ],
        [
         "30",
         "dino",
         "52.5641",
         "46.0256",
         "1"
        ],
        [
         "31",
         "dino",
         "48.2051",
         "38.3333",
         "0"
        ],
        [
         "32",
         "dino",
         "49.4872",
         "42.1795",
         "0"
        ],
        [
         "33",
         "dino",
         "51.0256",
         "44.1026",
         "1"
        ],
        [
         "34",
         "dino",
         "45.3846",
         "36.4103",
         "0"
        ],
        [
         "35",
         "dino",
         "42.8205",
         "32.5641",
         "0"
        ],
        [
         "36",
         "dino",
         "38.7179",
         "31.4103",
         "0"
        ],
        [
         "37",
         "dino",
         "35.1282",
         "30.2564",
         "0"
        ],
        [
         "38",
         "dino",
         "32.5641",
         "32.1795",
         "0"
        ],
        [
         "39",
         "dino",
         "30.0",
         "36.7949",
         "0"
        ],
        [
         "40",
         "dino",
         "33.5897",
         "41.4103",
         "0"
        ],
        [
         "41",
         "dino",
         "36.6667",
         "45.641",
         "0"
        ],
        [
         "42",
         "dino",
         "38.2051",
         "49.1026",
         "0"
        ],
        [
         "43",
         "dino",
         "29.7436",
         "36.0256",
         "0"
        ],
        [
         "44",
         "dino",
         "29.7436",
         "32.1795",
         "0"
        ],
        [
         "45",
         "dino",
         "30.0",
         "29.1026",
         "0"
        ],
        [
         "46",
         "dino",
         "32.0513",
         "26.7949",
         "0"
        ],
        [
         "47",
         "dino",
         "35.8974",
         "25.2564",
         "0"
        ],
        [
         "48",
         "dino",
         "41.0256",
         "25.2564",
         "0"
        ],
        [
         "49",
         "dino",
         "44.1026",
         "25.641",
         "0"
        ]
       ],
       "shape": {
        "columns": 4,
        "rows": 1846
       }
      },
      "text/html": [
       "<div>\n",
       "<style scoped>\n",
       "    .dataframe tbody tr th:only-of-type {\n",
       "        vertical-align: middle;\n",
       "    }\n",
       "\n",
       "    .dataframe tbody tr th {\n",
       "        vertical-align: top;\n",
       "    }\n",
       "\n",
       "    .dataframe thead th {\n",
       "        text-align: right;\n",
       "    }\n",
       "</style>\n",
       "<table border=\"1\" class=\"dataframe\">\n",
       "  <thead>\n",
       "    <tr style=\"text-align: right;\">\n",
       "      <th></th>\n",
       "      <th>dataset</th>\n",
       "      <th>x</th>\n",
       "      <th>y</th>\n",
       "      <th>binary</th>\n",
       "    </tr>\n",
       "  </thead>\n",
       "  <tbody>\n",
       "    <tr>\n",
       "      <th>0</th>\n",
       "      <td>dino</td>\n",
       "      <td>55.384600</td>\n",
       "      <td>97.179500</td>\n",
       "      <td>1</td>\n",
       "    </tr>\n",
       "    <tr>\n",
       "      <th>1</th>\n",
       "      <td>dino</td>\n",
       "      <td>51.538500</td>\n",
       "      <td>96.025600</td>\n",
       "      <td>1</td>\n",
       "    </tr>\n",
       "    <tr>\n",
       "      <th>2</th>\n",
       "      <td>dino</td>\n",
       "      <td>46.153800</td>\n",
       "      <td>94.487200</td>\n",
       "      <td>0</td>\n",
       "    </tr>\n",
       "    <tr>\n",
       "      <th>3</th>\n",
       "      <td>dino</td>\n",
       "      <td>42.820500</td>\n",
       "      <td>91.410300</td>\n",
       "      <td>0</td>\n",
       "    </tr>\n",
       "    <tr>\n",
       "      <th>4</th>\n",
       "      <td>dino</td>\n",
       "      <td>40.769200</td>\n",
       "      <td>88.333300</td>\n",
       "      <td>0</td>\n",
       "    </tr>\n",
       "    <tr>\n",
       "      <th>...</th>\n",
       "      <td>...</td>\n",
       "      <td>...</td>\n",
       "      <td>...</td>\n",
       "      <td>...</td>\n",
       "    </tr>\n",
       "    <tr>\n",
       "      <th>1841</th>\n",
       "      <td>wide_lines</td>\n",
       "      <td>33.674442</td>\n",
       "      <td>26.090490</td>\n",
       "      <td>0</td>\n",
       "    </tr>\n",
       "    <tr>\n",
       "      <th>1842</th>\n",
       "      <td>wide_lines</td>\n",
       "      <td>75.627255</td>\n",
       "      <td>37.128752</td>\n",
       "      <td>1</td>\n",
       "    </tr>\n",
       "    <tr>\n",
       "      <th>1843</th>\n",
       "      <td>wide_lines</td>\n",
       "      <td>40.610125</td>\n",
       "      <td>89.136240</td>\n",
       "      <td>0</td>\n",
       "    </tr>\n",
       "    <tr>\n",
       "      <th>1844</th>\n",
       "      <td>wide_lines</td>\n",
       "      <td>39.114366</td>\n",
       "      <td>96.481751</td>\n",
       "      <td>0</td>\n",
       "    </tr>\n",
       "    <tr>\n",
       "      <th>1845</th>\n",
       "      <td>wide_lines</td>\n",
       "      <td>34.583829</td>\n",
       "      <td>89.588902</td>\n",
       "      <td>0</td>\n",
       "    </tr>\n",
       "  </tbody>\n",
       "</table>\n",
       "<p>1846 rows × 4 columns</p>\n",
       "</div>"
      ],
      "text/plain": [
       "         dataset          x          y  binary\n",
       "0           dino  55.384600  97.179500       1\n",
       "1           dino  51.538500  96.025600       1\n",
       "2           dino  46.153800  94.487200       0\n",
       "3           dino  42.820500  91.410300       0\n",
       "4           dino  40.769200  88.333300       0\n",
       "...          ...        ...        ...     ...\n",
       "1841  wide_lines  33.674442  26.090490       0\n",
       "1842  wide_lines  75.627255  37.128752       1\n",
       "1843  wide_lines  40.610125  89.136240       0\n",
       "1844  wide_lines  39.114366  96.481751       0\n",
       "1845  wide_lines  34.583829  89.588902       0\n",
       "\n",
       "[1846 rows x 4 columns]"
      ]
     },
     "execution_count": 157,
     "metadata": {},
     "output_type": "execute_result"
    }
   ],
   "source": [
    "df[\"binary\"] = 0\n",
    "df.loc[ df[\"x\"] >= 50, \"binary\"] = 1\n",
    "df"
   ]
  },
  {
   "cell_type": "markdown",
   "id": "0c610d1f",
   "metadata": {},
   "source": [
    "### Вариант 2\n",
    "\n",
    "Более логично прогнозировать не координату, а принадлежность к подклассу (dino и т.д.). Поэтому постараемся спронозировать принадлежность к классу вертикальных линий (v_lines)."
   ]
  },
  {
   "cell_type": "code",
   "execution_count": 158,
   "id": "8f7dd447",
   "metadata": {},
   "outputs": [
    {
     "data": {
      "application/vnd.microsoft.datawrangler.viewer.v0+json": {
       "columns": [
        {
         "name": "index",
         "rawType": "int64",
         "type": "integer"
        },
        {
         "name": "dataset",
         "rawType": "object",
         "type": "string"
        },
        {
         "name": "x",
         "rawType": "float64",
         "type": "float"
        },
        {
         "name": "y",
         "rawType": "float64",
         "type": "float"
        },
        {
         "name": "binary",
         "rawType": "int64",
         "type": "integer"
        }
       ],
       "ref": "82e6aeca-7dfc-49a2-88ca-3fc9109f9fbd",
       "rows": [
        [
         "0",
         "dino",
         "55.3846",
         "97.1795",
         "0"
        ],
        [
         "1",
         "dino",
         "51.5385",
         "96.0256",
         "0"
        ],
        [
         "2",
         "dino",
         "46.1538",
         "94.4872",
         "0"
        ],
        [
         "3",
         "dino",
         "42.8205",
         "91.4103",
         "0"
        ],
        [
         "4",
         "dino",
         "40.7692",
         "88.3333",
         "0"
        ],
        [
         "5",
         "dino",
         "38.7179",
         "84.8718",
         "0"
        ],
        [
         "6",
         "dino",
         "35.641",
         "79.8718",
         "0"
        ],
        [
         "7",
         "dino",
         "33.0769",
         "77.5641",
         "0"
        ],
        [
         "8",
         "dino",
         "28.9744",
         "74.4872",
         "0"
        ],
        [
         "9",
         "dino",
         "26.1538",
         "71.4103",
         "0"
        ],
        [
         "10",
         "dino",
         "23.0769",
         "66.4103",
         "0"
        ],
        [
         "11",
         "dino",
         "22.3077",
         "61.7949",
         "0"
        ],
        [
         "12",
         "dino",
         "22.3077",
         "57.1795",
         "0"
        ],
        [
         "13",
         "dino",
         "23.3333",
         "52.9487",
         "0"
        ],
        [
         "14",
         "dino",
         "25.8974",
         "51.0256",
         "0"
        ],
        [
         "15",
         "dino",
         "29.4872",
         "51.0256",
         "0"
        ],
        [
         "16",
         "dino",
         "32.8205",
         "51.0256",
         "0"
        ],
        [
         "17",
         "dino",
         "35.3846",
         "51.4103",
         "0"
        ],
        [
         "18",
         "dino",
         "40.2564",
         "51.4103",
         "0"
        ],
        [
         "19",
         "dino",
         "44.1026",
         "52.9487",
         "0"
        ],
        [
         "20",
         "dino",
         "46.6667",
         "54.1026",
         "0"
        ],
        [
         "21",
         "dino",
         "50.0",
         "55.2564",
         "0"
        ],
        [
         "22",
         "dino",
         "53.0769",
         "55.641",
         "0"
        ],
        [
         "23",
         "dino",
         "56.6667",
         "56.0256",
         "0"
        ],
        [
         "24",
         "dino",
         "59.2308",
         "57.9487",
         "0"
        ],
        [
         "25",
         "dino",
         "61.2821",
         "62.1795",
         "0"
        ],
        [
         "26",
         "dino",
         "61.5385",
         "66.4103",
         "0"
        ],
        [
         "27",
         "dino",
         "61.7949",
         "69.1026",
         "0"
        ],
        [
         "28",
         "dino",
         "57.4359",
         "55.2564",
         "0"
        ],
        [
         "29",
         "dino",
         "54.8718",
         "49.8718",
         "0"
        ],
        [
         "30",
         "dino",
         "52.5641",
         "46.0256",
         "0"
        ],
        [
         "31",
         "dino",
         "48.2051",
         "38.3333",
         "0"
        ],
        [
         "32",
         "dino",
         "49.4872",
         "42.1795",
         "0"
        ],
        [
         "33",
         "dino",
         "51.0256",
         "44.1026",
         "0"
        ],
        [
         "34",
         "dino",
         "45.3846",
         "36.4103",
         "0"
        ],
        [
         "35",
         "dino",
         "42.8205",
         "32.5641",
         "0"
        ],
        [
         "36",
         "dino",
         "38.7179",
         "31.4103",
         "0"
        ],
        [
         "37",
         "dino",
         "35.1282",
         "30.2564",
         "0"
        ],
        [
         "38",
         "dino",
         "32.5641",
         "32.1795",
         "0"
        ],
        [
         "39",
         "dino",
         "30.0",
         "36.7949",
         "0"
        ],
        [
         "40",
         "dino",
         "33.5897",
         "41.4103",
         "0"
        ],
        [
         "41",
         "dino",
         "36.6667",
         "45.641",
         "0"
        ],
        [
         "42",
         "dino",
         "38.2051",
         "49.1026",
         "0"
        ],
        [
         "43",
         "dino",
         "29.7436",
         "36.0256",
         "0"
        ],
        [
         "44",
         "dino",
         "29.7436",
         "32.1795",
         "0"
        ],
        [
         "45",
         "dino",
         "30.0",
         "29.1026",
         "0"
        ],
        [
         "46",
         "dino",
         "32.0513",
         "26.7949",
         "0"
        ],
        [
         "47",
         "dino",
         "35.8974",
         "25.2564",
         "0"
        ],
        [
         "48",
         "dino",
         "41.0256",
         "25.2564",
         "0"
        ],
        [
         "49",
         "dino",
         "44.1026",
         "25.641",
         "0"
        ]
       ],
       "shape": {
        "columns": 4,
        "rows": 1846
       }
      },
      "text/html": [
       "<div>\n",
       "<style scoped>\n",
       "    .dataframe tbody tr th:only-of-type {\n",
       "        vertical-align: middle;\n",
       "    }\n",
       "\n",
       "    .dataframe tbody tr th {\n",
       "        vertical-align: top;\n",
       "    }\n",
       "\n",
       "    .dataframe thead th {\n",
       "        text-align: right;\n",
       "    }\n",
       "</style>\n",
       "<table border=\"1\" class=\"dataframe\">\n",
       "  <thead>\n",
       "    <tr style=\"text-align: right;\">\n",
       "      <th></th>\n",
       "      <th>dataset</th>\n",
       "      <th>x</th>\n",
       "      <th>y</th>\n",
       "      <th>binary</th>\n",
       "    </tr>\n",
       "  </thead>\n",
       "  <tbody>\n",
       "    <tr>\n",
       "      <th>0</th>\n",
       "      <td>dino</td>\n",
       "      <td>55.384600</td>\n",
       "      <td>97.179500</td>\n",
       "      <td>0</td>\n",
       "    </tr>\n",
       "    <tr>\n",
       "      <th>1</th>\n",
       "      <td>dino</td>\n",
       "      <td>51.538500</td>\n",
       "      <td>96.025600</td>\n",
       "      <td>0</td>\n",
       "    </tr>\n",
       "    <tr>\n",
       "      <th>2</th>\n",
       "      <td>dino</td>\n",
       "      <td>46.153800</td>\n",
       "      <td>94.487200</td>\n",
       "      <td>0</td>\n",
       "    </tr>\n",
       "    <tr>\n",
       "      <th>3</th>\n",
       "      <td>dino</td>\n",
       "      <td>42.820500</td>\n",
       "      <td>91.410300</td>\n",
       "      <td>0</td>\n",
       "    </tr>\n",
       "    <tr>\n",
       "      <th>4</th>\n",
       "      <td>dino</td>\n",
       "      <td>40.769200</td>\n",
       "      <td>88.333300</td>\n",
       "      <td>0</td>\n",
       "    </tr>\n",
       "    <tr>\n",
       "      <th>...</th>\n",
       "      <td>...</td>\n",
       "      <td>...</td>\n",
       "      <td>...</td>\n",
       "      <td>...</td>\n",
       "    </tr>\n",
       "    <tr>\n",
       "      <th>1841</th>\n",
       "      <td>wide_lines</td>\n",
       "      <td>33.674442</td>\n",
       "      <td>26.090490</td>\n",
       "      <td>0</td>\n",
       "    </tr>\n",
       "    <tr>\n",
       "      <th>1842</th>\n",
       "      <td>wide_lines</td>\n",
       "      <td>75.627255</td>\n",
       "      <td>37.128752</td>\n",
       "      <td>0</td>\n",
       "    </tr>\n",
       "    <tr>\n",
       "      <th>1843</th>\n",
       "      <td>wide_lines</td>\n",
       "      <td>40.610125</td>\n",
       "      <td>89.136240</td>\n",
       "      <td>0</td>\n",
       "    </tr>\n",
       "    <tr>\n",
       "      <th>1844</th>\n",
       "      <td>wide_lines</td>\n",
       "      <td>39.114366</td>\n",
       "      <td>96.481751</td>\n",
       "      <td>0</td>\n",
       "    </tr>\n",
       "    <tr>\n",
       "      <th>1845</th>\n",
       "      <td>wide_lines</td>\n",
       "      <td>34.583829</td>\n",
       "      <td>89.588902</td>\n",
       "      <td>0</td>\n",
       "    </tr>\n",
       "  </tbody>\n",
       "</table>\n",
       "<p>1846 rows × 4 columns</p>\n",
       "</div>"
      ],
      "text/plain": [
       "         dataset          x          y  binary\n",
       "0           dino  55.384600  97.179500       0\n",
       "1           dino  51.538500  96.025600       0\n",
       "2           dino  46.153800  94.487200       0\n",
       "3           dino  42.820500  91.410300       0\n",
       "4           dino  40.769200  88.333300       0\n",
       "...          ...        ...        ...     ...\n",
       "1841  wide_lines  33.674442  26.090490       0\n",
       "1842  wide_lines  75.627255  37.128752       0\n",
       "1843  wide_lines  40.610125  89.136240       0\n",
       "1844  wide_lines  39.114366  96.481751       0\n",
       "1845  wide_lines  34.583829  89.588902       0\n",
       "\n",
       "[1846 rows x 4 columns]"
      ]
     },
     "execution_count": 158,
     "metadata": {},
     "output_type": "execute_result"
    }
   ],
   "source": [
    "df[\"binary\"] = 0\n",
    "df.loc[ df[\"dataset\"] == \"v_lines\", \"binary\"] = 1\n",
    "df"
   ]
  },
  {
   "cell_type": "markdown",
   "id": "52c93137",
   "metadata": {},
   "source": [
    "## Обучающая и тестовая выборки"
   ]
  },
  {
   "cell_type": "code",
   "execution_count": 159,
   "id": "ba8f6daa",
   "metadata": {},
   "outputs": [],
   "source": [
    "from sklearn.model_selection import train_test_split\n",
    "\n",
    "X = df.drop(['binary', 'dataset'], axis=1) # X — признаки (features)\n",
    "y = df[['binary']]              # y — целевая переменная (label)\n",
    "\n",
    "# Разделение на обучающую и тестовую выборки\n",
    "X_train, X_test, y_train, y_test = train_test_split(X, y, test_size=0.2, random_state=42)"
   ]
  },
  {
   "cell_type": "markdown",
   "id": "f2521662",
   "metadata": {},
   "source": [
    "## Стандартизация объясняющих переменных"
   ]
  },
  {
   "cell_type": "code",
   "execution_count": 160,
   "id": "0958c723",
   "metadata": {},
   "outputs": [],
   "source": [
    "from sklearn.preprocessing import StandardScaler\n",
    "\n",
    "# Инициализируем объект класса StandardScaler\n",
    "scaler = StandardScaler()\n",
    "\n",
    "# Обучаем scaler на обучающей выборке и сразу применяем преобразование\n",
    "X_train_scaled = scaler.fit_transform(X_train)\n",
    "\n",
    "# Применяем масштабирование к тестовым данным (используя параметры, полученные на обучении)\n",
    "X_test_scaled = scaler.transform(X_test)"
   ]
  },
  {
   "cell_type": "code",
   "execution_count": 161,
   "id": "12e6778c",
   "metadata": {},
   "outputs": [
    {
     "data": {
      "text/plain": [
       "array([[-1.11385846, -0.48978897],\n",
       "       [ 0.1749648 ,  0.21930067],\n",
       "       [ 0.58670268, -0.75909704],\n",
       "       ...,\n",
       "       [-1.67513968,  0.98665958],\n",
       "       [-1.24855215, -0.62897967],\n",
       "       [ 1.24511372, -1.16286241]], shape=(1476, 2))"
      ]
     },
     "execution_count": 161,
     "metadata": {},
     "output_type": "execute_result"
    }
   ],
   "source": [
    "X_train_scaled"
   ]
  },
  {
   "cell_type": "markdown",
   "id": "86f58714",
   "metadata": {},
   "source": [
    "## Обучение KNN "
   ]
  },
  {
   "cell_type": "code",
   "execution_count": 162,
   "id": "dbe52a69",
   "metadata": {},
   "outputs": [
    {
     "name": "stderr",
     "output_type": "stream",
     "text": [
      "f:\\Staff\\Иннополис\\Innopolis\\.venv\\Lib\\site-packages\\sklearn\\neighbors\\_classification.py:239: DataConversionWarning: A column-vector y was passed when a 1d array was expected. Please change the shape of y to (n_samples,), for example using ravel().\n",
      "  return self._fit(X, y)\n"
     ]
    },
    {
     "data": {
      "text/html": [
       "<style>#sk-container-id-11 {\n",
       "  /* Definition of color scheme common for light and dark mode */\n",
       "  --sklearn-color-text: #000;\n",
       "  --sklearn-color-text-muted: #666;\n",
       "  --sklearn-color-line: gray;\n",
       "  /* Definition of color scheme for unfitted estimators */\n",
       "  --sklearn-color-unfitted-level-0: #fff5e6;\n",
       "  --sklearn-color-unfitted-level-1: #f6e4d2;\n",
       "  --sklearn-color-unfitted-level-2: #ffe0b3;\n",
       "  --sklearn-color-unfitted-level-3: chocolate;\n",
       "  /* Definition of color scheme for fitted estimators */\n",
       "  --sklearn-color-fitted-level-0: #f0f8ff;\n",
       "  --sklearn-color-fitted-level-1: #d4ebff;\n",
       "  --sklearn-color-fitted-level-2: #b3dbfd;\n",
       "  --sklearn-color-fitted-level-3: cornflowerblue;\n",
       "\n",
       "  /* Specific color for light theme */\n",
       "  --sklearn-color-text-on-default-background: var(--sg-text-color, var(--theme-code-foreground, var(--jp-content-font-color1, black)));\n",
       "  --sklearn-color-background: var(--sg-background-color, var(--theme-background, var(--jp-layout-color0, white)));\n",
       "  --sklearn-color-border-box: var(--sg-text-color, var(--theme-code-foreground, var(--jp-content-font-color1, black)));\n",
       "  --sklearn-color-icon: #696969;\n",
       "\n",
       "  @media (prefers-color-scheme: dark) {\n",
       "    /* Redefinition of color scheme for dark theme */\n",
       "    --sklearn-color-text-on-default-background: var(--sg-text-color, var(--theme-code-foreground, var(--jp-content-font-color1, white)));\n",
       "    --sklearn-color-background: var(--sg-background-color, var(--theme-background, var(--jp-layout-color0, #111)));\n",
       "    --sklearn-color-border-box: var(--sg-text-color, var(--theme-code-foreground, var(--jp-content-font-color1, white)));\n",
       "    --sklearn-color-icon: #878787;\n",
       "  }\n",
       "}\n",
       "\n",
       "#sk-container-id-11 {\n",
       "  color: var(--sklearn-color-text);\n",
       "}\n",
       "\n",
       "#sk-container-id-11 pre {\n",
       "  padding: 0;\n",
       "}\n",
       "\n",
       "#sk-container-id-11 input.sk-hidden--visually {\n",
       "  border: 0;\n",
       "  clip: rect(1px 1px 1px 1px);\n",
       "  clip: rect(1px, 1px, 1px, 1px);\n",
       "  height: 1px;\n",
       "  margin: -1px;\n",
       "  overflow: hidden;\n",
       "  padding: 0;\n",
       "  position: absolute;\n",
       "  width: 1px;\n",
       "}\n",
       "\n",
       "#sk-container-id-11 div.sk-dashed-wrapped {\n",
       "  border: 1px dashed var(--sklearn-color-line);\n",
       "  margin: 0 0.4em 0.5em 0.4em;\n",
       "  box-sizing: border-box;\n",
       "  padding-bottom: 0.4em;\n",
       "  background-color: var(--sklearn-color-background);\n",
       "}\n",
       "\n",
       "#sk-container-id-11 div.sk-container {\n",
       "  /* jupyter's `normalize.less` sets `[hidden] { display: none; }`\n",
       "     but bootstrap.min.css set `[hidden] { display: none !important; }`\n",
       "     so we also need the `!important` here to be able to override the\n",
       "     default hidden behavior on the sphinx rendered scikit-learn.org.\n",
       "     See: https://github.com/scikit-learn/scikit-learn/issues/21755 */\n",
       "  display: inline-block !important;\n",
       "  position: relative;\n",
       "}\n",
       "\n",
       "#sk-container-id-11 div.sk-text-repr-fallback {\n",
       "  display: none;\n",
       "}\n",
       "\n",
       "div.sk-parallel-item,\n",
       "div.sk-serial,\n",
       "div.sk-item {\n",
       "  /* draw centered vertical line to link estimators */\n",
       "  background-image: linear-gradient(var(--sklearn-color-text-on-default-background), var(--sklearn-color-text-on-default-background));\n",
       "  background-size: 2px 100%;\n",
       "  background-repeat: no-repeat;\n",
       "  background-position: center center;\n",
       "}\n",
       "\n",
       "/* Parallel-specific style estimator block */\n",
       "\n",
       "#sk-container-id-11 div.sk-parallel-item::after {\n",
       "  content: \"\";\n",
       "  width: 100%;\n",
       "  border-bottom: 2px solid var(--sklearn-color-text-on-default-background);\n",
       "  flex-grow: 1;\n",
       "}\n",
       "\n",
       "#sk-container-id-11 div.sk-parallel {\n",
       "  display: flex;\n",
       "  align-items: stretch;\n",
       "  justify-content: center;\n",
       "  background-color: var(--sklearn-color-background);\n",
       "  position: relative;\n",
       "}\n",
       "\n",
       "#sk-container-id-11 div.sk-parallel-item {\n",
       "  display: flex;\n",
       "  flex-direction: column;\n",
       "}\n",
       "\n",
       "#sk-container-id-11 div.sk-parallel-item:first-child::after {\n",
       "  align-self: flex-end;\n",
       "  width: 50%;\n",
       "}\n",
       "\n",
       "#sk-container-id-11 div.sk-parallel-item:last-child::after {\n",
       "  align-self: flex-start;\n",
       "  width: 50%;\n",
       "}\n",
       "\n",
       "#sk-container-id-11 div.sk-parallel-item:only-child::after {\n",
       "  width: 0;\n",
       "}\n",
       "\n",
       "/* Serial-specific style estimator block */\n",
       "\n",
       "#sk-container-id-11 div.sk-serial {\n",
       "  display: flex;\n",
       "  flex-direction: column;\n",
       "  align-items: center;\n",
       "  background-color: var(--sklearn-color-background);\n",
       "  padding-right: 1em;\n",
       "  padding-left: 1em;\n",
       "}\n",
       "\n",
       "\n",
       "/* Toggleable style: style used for estimator/Pipeline/ColumnTransformer box that is\n",
       "clickable and can be expanded/collapsed.\n",
       "- Pipeline and ColumnTransformer use this feature and define the default style\n",
       "- Estimators will overwrite some part of the style using the `sk-estimator` class\n",
       "*/\n",
       "\n",
       "/* Pipeline and ColumnTransformer style (default) */\n",
       "\n",
       "#sk-container-id-11 div.sk-toggleable {\n",
       "  /* Default theme specific background. It is overwritten whether we have a\n",
       "  specific estimator or a Pipeline/ColumnTransformer */\n",
       "  background-color: var(--sklearn-color-background);\n",
       "}\n",
       "\n",
       "/* Toggleable label */\n",
       "#sk-container-id-11 label.sk-toggleable__label {\n",
       "  cursor: pointer;\n",
       "  display: flex;\n",
       "  width: 100%;\n",
       "  margin-bottom: 0;\n",
       "  padding: 0.5em;\n",
       "  box-sizing: border-box;\n",
       "  text-align: center;\n",
       "  align-items: start;\n",
       "  justify-content: space-between;\n",
       "  gap: 0.5em;\n",
       "}\n",
       "\n",
       "#sk-container-id-11 label.sk-toggleable__label .caption {\n",
       "  font-size: 0.6rem;\n",
       "  font-weight: lighter;\n",
       "  color: var(--sklearn-color-text-muted);\n",
       "}\n",
       "\n",
       "#sk-container-id-11 label.sk-toggleable__label-arrow:before {\n",
       "  /* Arrow on the left of the label */\n",
       "  content: \"▸\";\n",
       "  float: left;\n",
       "  margin-right: 0.25em;\n",
       "  color: var(--sklearn-color-icon);\n",
       "}\n",
       "\n",
       "#sk-container-id-11 label.sk-toggleable__label-arrow:hover:before {\n",
       "  color: var(--sklearn-color-text);\n",
       "}\n",
       "\n",
       "/* Toggleable content - dropdown */\n",
       "\n",
       "#sk-container-id-11 div.sk-toggleable__content {\n",
       "  max-height: 0;\n",
       "  max-width: 0;\n",
       "  overflow: hidden;\n",
       "  text-align: left;\n",
       "  /* unfitted */\n",
       "  background-color: var(--sklearn-color-unfitted-level-0);\n",
       "}\n",
       "\n",
       "#sk-container-id-11 div.sk-toggleable__content.fitted {\n",
       "  /* fitted */\n",
       "  background-color: var(--sklearn-color-fitted-level-0);\n",
       "}\n",
       "\n",
       "#sk-container-id-11 div.sk-toggleable__content pre {\n",
       "  margin: 0.2em;\n",
       "  border-radius: 0.25em;\n",
       "  color: var(--sklearn-color-text);\n",
       "  /* unfitted */\n",
       "  background-color: var(--sklearn-color-unfitted-level-0);\n",
       "}\n",
       "\n",
       "#sk-container-id-11 div.sk-toggleable__content.fitted pre {\n",
       "  /* unfitted */\n",
       "  background-color: var(--sklearn-color-fitted-level-0);\n",
       "}\n",
       "\n",
       "#sk-container-id-11 input.sk-toggleable__control:checked~div.sk-toggleable__content {\n",
       "  /* Expand drop-down */\n",
       "  max-height: 200px;\n",
       "  max-width: 100%;\n",
       "  overflow: auto;\n",
       "}\n",
       "\n",
       "#sk-container-id-11 input.sk-toggleable__control:checked~label.sk-toggleable__label-arrow:before {\n",
       "  content: \"▾\";\n",
       "}\n",
       "\n",
       "/* Pipeline/ColumnTransformer-specific style */\n",
       "\n",
       "#sk-container-id-11 div.sk-label input.sk-toggleable__control:checked~label.sk-toggleable__label {\n",
       "  color: var(--sklearn-color-text);\n",
       "  background-color: var(--sklearn-color-unfitted-level-2);\n",
       "}\n",
       "\n",
       "#sk-container-id-11 div.sk-label.fitted input.sk-toggleable__control:checked~label.sk-toggleable__label {\n",
       "  background-color: var(--sklearn-color-fitted-level-2);\n",
       "}\n",
       "\n",
       "/* Estimator-specific style */\n",
       "\n",
       "/* Colorize estimator box */\n",
       "#sk-container-id-11 div.sk-estimator input.sk-toggleable__control:checked~label.sk-toggleable__label {\n",
       "  /* unfitted */\n",
       "  background-color: var(--sklearn-color-unfitted-level-2);\n",
       "}\n",
       "\n",
       "#sk-container-id-11 div.sk-estimator.fitted input.sk-toggleable__control:checked~label.sk-toggleable__label {\n",
       "  /* fitted */\n",
       "  background-color: var(--sklearn-color-fitted-level-2);\n",
       "}\n",
       "\n",
       "#sk-container-id-11 div.sk-label label.sk-toggleable__label,\n",
       "#sk-container-id-11 div.sk-label label {\n",
       "  /* The background is the default theme color */\n",
       "  color: var(--sklearn-color-text-on-default-background);\n",
       "}\n",
       "\n",
       "/* On hover, darken the color of the background */\n",
       "#sk-container-id-11 div.sk-label:hover label.sk-toggleable__label {\n",
       "  color: var(--sklearn-color-text);\n",
       "  background-color: var(--sklearn-color-unfitted-level-2);\n",
       "}\n",
       "\n",
       "/* Label box, darken color on hover, fitted */\n",
       "#sk-container-id-11 div.sk-label.fitted:hover label.sk-toggleable__label.fitted {\n",
       "  color: var(--sklearn-color-text);\n",
       "  background-color: var(--sklearn-color-fitted-level-2);\n",
       "}\n",
       "\n",
       "/* Estimator label */\n",
       "\n",
       "#sk-container-id-11 div.sk-label label {\n",
       "  font-family: monospace;\n",
       "  font-weight: bold;\n",
       "  display: inline-block;\n",
       "  line-height: 1.2em;\n",
       "}\n",
       "\n",
       "#sk-container-id-11 div.sk-label-container {\n",
       "  text-align: center;\n",
       "}\n",
       "\n",
       "/* Estimator-specific */\n",
       "#sk-container-id-11 div.sk-estimator {\n",
       "  font-family: monospace;\n",
       "  border: 1px dotted var(--sklearn-color-border-box);\n",
       "  border-radius: 0.25em;\n",
       "  box-sizing: border-box;\n",
       "  margin-bottom: 0.5em;\n",
       "  /* unfitted */\n",
       "  background-color: var(--sklearn-color-unfitted-level-0);\n",
       "}\n",
       "\n",
       "#sk-container-id-11 div.sk-estimator.fitted {\n",
       "  /* fitted */\n",
       "  background-color: var(--sklearn-color-fitted-level-0);\n",
       "}\n",
       "\n",
       "/* on hover */\n",
       "#sk-container-id-11 div.sk-estimator:hover {\n",
       "  /* unfitted */\n",
       "  background-color: var(--sklearn-color-unfitted-level-2);\n",
       "}\n",
       "\n",
       "#sk-container-id-11 div.sk-estimator.fitted:hover {\n",
       "  /* fitted */\n",
       "  background-color: var(--sklearn-color-fitted-level-2);\n",
       "}\n",
       "\n",
       "/* Specification for estimator info (e.g. \"i\" and \"?\") */\n",
       "\n",
       "/* Common style for \"i\" and \"?\" */\n",
       "\n",
       ".sk-estimator-doc-link,\n",
       "a:link.sk-estimator-doc-link,\n",
       "a:visited.sk-estimator-doc-link {\n",
       "  float: right;\n",
       "  font-size: smaller;\n",
       "  line-height: 1em;\n",
       "  font-family: monospace;\n",
       "  background-color: var(--sklearn-color-background);\n",
       "  border-radius: 1em;\n",
       "  height: 1em;\n",
       "  width: 1em;\n",
       "  text-decoration: none !important;\n",
       "  margin-left: 0.5em;\n",
       "  text-align: center;\n",
       "  /* unfitted */\n",
       "  border: var(--sklearn-color-unfitted-level-1) 1pt solid;\n",
       "  color: var(--sklearn-color-unfitted-level-1);\n",
       "}\n",
       "\n",
       ".sk-estimator-doc-link.fitted,\n",
       "a:link.sk-estimator-doc-link.fitted,\n",
       "a:visited.sk-estimator-doc-link.fitted {\n",
       "  /* fitted */\n",
       "  border: var(--sklearn-color-fitted-level-1) 1pt solid;\n",
       "  color: var(--sklearn-color-fitted-level-1);\n",
       "}\n",
       "\n",
       "/* On hover */\n",
       "div.sk-estimator:hover .sk-estimator-doc-link:hover,\n",
       ".sk-estimator-doc-link:hover,\n",
       "div.sk-label-container:hover .sk-estimator-doc-link:hover,\n",
       ".sk-estimator-doc-link:hover {\n",
       "  /* unfitted */\n",
       "  background-color: var(--sklearn-color-unfitted-level-3);\n",
       "  color: var(--sklearn-color-background);\n",
       "  text-decoration: none;\n",
       "}\n",
       "\n",
       "div.sk-estimator.fitted:hover .sk-estimator-doc-link.fitted:hover,\n",
       ".sk-estimator-doc-link.fitted:hover,\n",
       "div.sk-label-container:hover .sk-estimator-doc-link.fitted:hover,\n",
       ".sk-estimator-doc-link.fitted:hover {\n",
       "  /* fitted */\n",
       "  background-color: var(--sklearn-color-fitted-level-3);\n",
       "  color: var(--sklearn-color-background);\n",
       "  text-decoration: none;\n",
       "}\n",
       "\n",
       "/* Span, style for the box shown on hovering the info icon */\n",
       ".sk-estimator-doc-link span {\n",
       "  display: none;\n",
       "  z-index: 9999;\n",
       "  position: relative;\n",
       "  font-weight: normal;\n",
       "  right: .2ex;\n",
       "  padding: .5ex;\n",
       "  margin: .5ex;\n",
       "  width: min-content;\n",
       "  min-width: 20ex;\n",
       "  max-width: 50ex;\n",
       "  color: var(--sklearn-color-text);\n",
       "  box-shadow: 2pt 2pt 4pt #999;\n",
       "  /* unfitted */\n",
       "  background: var(--sklearn-color-unfitted-level-0);\n",
       "  border: .5pt solid var(--sklearn-color-unfitted-level-3);\n",
       "}\n",
       "\n",
       ".sk-estimator-doc-link.fitted span {\n",
       "  /* fitted */\n",
       "  background: var(--sklearn-color-fitted-level-0);\n",
       "  border: var(--sklearn-color-fitted-level-3);\n",
       "}\n",
       "\n",
       ".sk-estimator-doc-link:hover span {\n",
       "  display: block;\n",
       "}\n",
       "\n",
       "/* \"?\"-specific style due to the `<a>` HTML tag */\n",
       "\n",
       "#sk-container-id-11 a.estimator_doc_link {\n",
       "  float: right;\n",
       "  font-size: 1rem;\n",
       "  line-height: 1em;\n",
       "  font-family: monospace;\n",
       "  background-color: var(--sklearn-color-background);\n",
       "  border-radius: 1rem;\n",
       "  height: 1rem;\n",
       "  width: 1rem;\n",
       "  text-decoration: none;\n",
       "  /* unfitted */\n",
       "  color: var(--sklearn-color-unfitted-level-1);\n",
       "  border: var(--sklearn-color-unfitted-level-1) 1pt solid;\n",
       "}\n",
       "\n",
       "#sk-container-id-11 a.estimator_doc_link.fitted {\n",
       "  /* fitted */\n",
       "  border: var(--sklearn-color-fitted-level-1) 1pt solid;\n",
       "  color: var(--sklearn-color-fitted-level-1);\n",
       "}\n",
       "\n",
       "/* On hover */\n",
       "#sk-container-id-11 a.estimator_doc_link:hover {\n",
       "  /* unfitted */\n",
       "  background-color: var(--sklearn-color-unfitted-level-3);\n",
       "  color: var(--sklearn-color-background);\n",
       "  text-decoration: none;\n",
       "}\n",
       "\n",
       "#sk-container-id-11 a.estimator_doc_link.fitted:hover {\n",
       "  /* fitted */\n",
       "  background-color: var(--sklearn-color-fitted-level-3);\n",
       "}\n",
       "</style><div id=\"sk-container-id-11\" class=\"sk-top-container\"><div class=\"sk-text-repr-fallback\"><pre>KNeighborsClassifier(n_neighbors=2)</pre><b>In a Jupyter environment, please rerun this cell to show the HTML representation or trust the notebook. <br />On GitHub, the HTML representation is unable to render, please try loading this page with nbviewer.org.</b></div><div class=\"sk-container\" hidden><div class=\"sk-item\"><div class=\"sk-estimator fitted sk-toggleable\"><input class=\"sk-toggleable__control sk-hidden--visually\" id=\"sk-estimator-id-11\" type=\"checkbox\" checked><label for=\"sk-estimator-id-11\" class=\"sk-toggleable__label fitted sk-toggleable__label-arrow\"><div><div>KNeighborsClassifier</div></div><div><a class=\"sk-estimator-doc-link fitted\" rel=\"noreferrer\" target=\"_blank\" href=\"https://scikit-learn.org/1.6/modules/generated/sklearn.neighbors.KNeighborsClassifier.html\">?<span>Documentation for KNeighborsClassifier</span></a><span class=\"sk-estimator-doc-link fitted\">i<span>Fitted</span></span></div></label><div class=\"sk-toggleable__content fitted\"><pre>KNeighborsClassifier(n_neighbors=2)</pre></div> </div></div></div></div>"
      ],
      "text/plain": [
       "KNeighborsClassifier(n_neighbors=2)"
      ]
     },
     "execution_count": 162,
     "metadata": {},
     "output_type": "execute_result"
    }
   ],
   "source": [
    "from sklearn.neighbors import KNeighborsClassifier\n",
    "from sklearn.metrics import accuracy_score\n",
    "\n",
    "# Инициализация классификатора KNN с числом соседей = 2\n",
    "knn_model = KNeighborsClassifier(n_neighbors=2)\n",
    "\n",
    "# Обучение модели на обучающей выборке\n",
    "knn_model.fit(X_train_scaled, y_train)"
   ]
  },
  {
   "cell_type": "markdown",
   "id": "ca342a63",
   "metadata": {},
   "source": [
    "## Предсказание"
   ]
  },
  {
   "cell_type": "code",
   "execution_count": 163,
   "id": "6b8d26bf",
   "metadata": {},
   "outputs": [],
   "source": [
    "# Прогнозирование классов на тестовом наборе\n",
    "y_pred = knn_model.predict(X_test_scaled)"
   ]
  },
  {
   "cell_type": "markdown",
   "id": "439fff04",
   "metadata": {},
   "source": [
    "## Матрица ошибок"
   ]
  },
  {
   "cell_type": "code",
   "execution_count": 164,
   "id": "73ad2612",
   "metadata": {},
   "outputs": [],
   "source": [
    "# Рассчитываем матрицу ошибок\n",
    "from sklearn.metrics import confusion_matrix\n",
    "cm = confusion_matrix(y_test, y_pred)"
   ]
  },
  {
   "cell_type": "markdown",
   "id": "25ec065a",
   "metadata": {},
   "source": [
    "Визуализируем матрицу ошибок"
   ]
  },
  {
   "cell_type": "code",
   "execution_count": 165,
   "id": "2165a93e",
   "metadata": {},
   "outputs": [
    {
     "data": {
      "image/png": "[encoded data removed]",
      "text/plain": [
       "<Figure size 600x500 with 2 Axes>"
      ]
     },
     "metadata": {},
     "output_type": "display_data"
    }
   ],
   "source": [
    "import numpy as np\n",
    "import seaborn as sns\n",
    "import matplotlib.pyplot as plt\n",
    "from matplotlib.colors import LinearSegmentedColormap\n",
    "\n",
    "# Исходный зеленый цвет в HEX\n",
    "hex_green_color = corp_col\n",
    "\n",
    "# Преобразуем hex-код в tuple (R,G,B)\n",
    "rgb_green_color = tuple(int(hex_green_color[i:i+2], 16)/255 for i in (1, 3, 5))  # конвертируем каждый байт из HEX в float\n",
    "\n",
    "# Создаем градиент от белого (1,1,1) до нашего зеленого цвета\n",
    "colors = [(1, 1, 1), rgb_green_color]\n",
    "\n",
    "# Создаем линейную сегментированную цветовую карту\n",
    "c_map = LinearSegmentedColormap.from_list(\"\", colors)\n",
    "\n",
    "# Строим матрицу ошибок с градиентом цветов\n",
    "plt.figure(figsize=(6, 5))\n",
    "sns.heatmap(cm, annot=True, fmt=\"d\", cmap=c_map, linewidths=.5, square=True)\n",
    "plt.xlabel(\"Predicted Labels\")\n",
    "plt.ylabel(\"True Labels\")\n",
    "plt.title(\"Confusion Matrix with White to Green Gradient\")\n",
    "plt.show()"
   ]
  },
  {
   "cell_type": "markdown",
   "id": "d4194151",
   "metadata": {},
   "source": [
    "## Метрики качества"
   ]
  },
  {
   "cell_type": "code",
   "execution_count": 168,
   "id": "db0b0872",
   "metadata": {},
   "outputs": [
    {
     "name": "stdout",
     "output_type": "stream",
     "text": [
      "\n",
      "Метрики:\n",
      "Прецизионность (Precision): 0.765\n",
      "Полнота (Recall): 0.394\n",
      "Специфичность (Specificity): 0.988\n",
      "F1-Score: 0.520\n",
      "Общая точность (Accuracy): 0.935\n"
     ]
    }
   ],
   "source": [
    "TP = cm[1, 1]\n",
    "FP = cm[0, 1]\n",
    "FN = cm[1, 0]\n",
    "TN = cm[0, 0]\n",
    "\n",
    "# Ручной расчет метрик\n",
    "precision_manual = TP / (TP + FP)\n",
    "recall_manual = TP / (TP + FN)\n",
    "specificity_manual = TN / (TN + FP)\n",
    "f1_manual = 2 * ((precision_manual * recall_manual) / (precision_manual + recall_manual))\n",
    "accuracy_manual = (TP + TN) / (TP + TN + FP + FN)\n",
    "\n",
    "print(\"\\nМетрики:\")\n",
    "print(f\"Прецизионность (Precision): {precision_manual:.3f}\")\n",
    "print(f\"Полнота (Recall): {recall_manual:.3f}\")\n",
    "print(f\"Специфичность (Specificity): {specificity_manual:.3f}\")\n",
    "print(f\"F1-Score: {f1_manual:.3f}\")\n",
    "print(f\"Общая точность (Accuracy): {accuracy_manual:.3f}\")"
   ]
  },
  {
   "cell_type": "markdown",
   "id": "54851e1d",
   "metadata": {},
   "source": [
    "# Общие выводы\n",
    "\n",
    "Наилучшие результаты для прогноза принадлежности значений к подмножеству v_lines был получен для К = 2. Для этого значения показатель доли верно классифицированных значений принадлежности к v_lines (1) среди всех тех кто был предсказан как принадлежащий к классу (1) составил 76.5% (Precision). Доля верно найденных примеров принадлежности к классу v_lines относительно реально принадлежащих составила 39.4% (Recall).\n",
    "\n",
    "При тестировании на подклассе dino вместо v_lines была полученаа околонулевая точность, так как метод KNN основывал свои прогнозы лишь на геометрической близости точек и не учитывал никакие другие зависимости. Для более высокого качества прогнозирования принадлежности к одной из подгрупп (переменная dataset), нужно либо более сложные методы, либо нужно больше предсказательных переменых помимо только лишь двух координат X и Y."
   ]
  }
 ],
 "metadata": {
  "kernelspec": {
   "display_name": ".venv",
   "language": "python",
   "name": "python3"
  },
  "language_info": {
   "codemirror_mode": {
    "name": "ipython",
    "version": 3
   },
   "file_extension": ".py",
   "mimetype": "text/x-python",
   "name": "python",
   "nbconvert_exporter": "python",
   "pygments_lexer": "ipython3",
   "version": "3.12.4"
  }
 },
 "nbformat": 4,
 "nbformat_minor": 5
}
