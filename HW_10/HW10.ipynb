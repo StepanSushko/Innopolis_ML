{
 "cells": [
  {
   "cell_type": "markdown",
   "id": "bd05a314",
   "metadata": {},
   "source": [
    "# Данные"
   ]
  },
  {
   "cell_type": "code",
   "execution_count": 4,
   "id": "77cd0a34",
   "metadata": {},
   "outputs": [],
   "source": [
    "import pandas as pd\n",
    "import plotly.express as px\n",
    "from plotly.subplots import make_subplots\n",
    "import plotly.graph_objects as go\n",
    "import seaborn as sns\n",
    "\n",
    "corp_col = '#40ba21'\n"
   ]
  },
  {
   "cell_type": "markdown",
   "id": "483c2900",
   "metadata": {},
   "source": [
    "## Для анализа использован массив \"RedWineQuality.csv\"."
   ]
  },
  {
   "cell_type": "code",
   "execution_count": 7,
   "id": "d08accc1",
   "metadata": {},
   "outputs": [
    {
     "data": {
      "application/vnd.microsoft.datawrangler.viewer.v0+json": {
       "columns": [
        {
         "name": "index",
         "rawType": "int64",
         "type": "integer"
        },
        {
         "name": "fixed acidity",
         "rawType": "float64",
         "type": "float"
        },
        {
         "name": "volatile acidity",
         "rawType": "float64",
         "type": "float"
        },
        {
         "name": "citric acid",
         "rawType": "float64",
         "type": "float"
        },
        {
         "name": "residual sugar",
         "rawType": "float64",
         "type": "float"
        },
        {
         "name": "chlorides",
         "rawType": "float64",
         "type": "float"
        },
        {
         "name": "free sulfur dioxide",
         "rawType": "float64",
         "type": "float"
        },
        {
         "name": "total sulfur dioxide",
         "rawType": "float64",
         "type": "float"
        },
        {
         "name": "density",
         "rawType": "float64",
         "type": "float"
        },
        {
         "name": "pH",
         "rawType": "float64",
         "type": "float"
        },
        {
         "name": "sulphates",
         "rawType": "float64",
         "type": "float"
        },
        {
         "name": "alcohol",
         "rawType": "float64",
         "type": "float"
        },
        {
         "name": "quality",
         "rawType": "int64",
         "type": "integer"
        }
       ],
       "ref": "c173ec99-43f1-4a8e-a05d-1235d57b38be",
       "rows": [
        [
         "0",
         "7.4",
         "0.7",
         "0.0",
         "1.9",
         "0.076",
         "11.0",
         "34.0",
         "0.9978",
         "3.51",
         "0.56",
         "9.4",
         "5"
        ],
        [
         "1",
         "7.8",
         "0.88",
         "0.0",
         "2.6",
         "0.098",
         "25.0",
         "67.0",
         "0.9968",
         "3.2",
         "0.68",
         "9.8",
         "5"
        ],
        [
         "2",
         "7.8",
         "0.76",
         "0.04",
         "2.3",
         "0.092",
         "15.0",
         "54.0",
         "0.997",
         "3.26",
         "0.65",
         "9.8",
         "5"
        ],
        [
         "3",
         "11.2",
         "0.28",
         "0.56",
         "1.9",
         "0.075",
         "17.0",
         "60.0",
         "0.998",
         "3.16",
         "0.58",
         "9.8",
         "6"
        ],
        [
         "4",
         "7.4",
         "0.7",
         "0.0",
         "1.9",
         "0.076",
         "11.0",
         "34.0",
         "0.9978",
         "3.51",
         "0.56",
         "9.4",
         "5"
        ],
        [
         "5",
         "7.4",
         "0.66",
         "0.0",
         "1.8",
         "0.075",
         "13.0",
         "40.0",
         "0.9978",
         "3.51",
         "0.56",
         "9.4",
         "5"
        ],
        [
         "6",
         "7.9",
         "0.6",
         "0.06",
         "1.6",
         "0.069",
         "15.0",
         "59.0",
         "0.9964",
         "3.3",
         "0.46",
         "9.4",
         "5"
        ],
        [
         "7",
         "7.3",
         "0.65",
         "0.0",
         "1.2",
         "0.065",
         "15.0",
         "21.0",
         "0.9946",
         "3.39",
         "0.47",
         "10.0",
         "7"
        ],
        [
         "8",
         "7.8",
         "0.58",
         "0.02",
         "2.0",
         "0.073",
         "9.0",
         "18.0",
         "0.9968",
         "3.36",
         "0.57",
         "9.5",
         "7"
        ],
        [
         "9",
         "7.5",
         "0.5",
         "0.36",
         "6.1",
         "0.071",
         "17.0",
         "102.0",
         "0.9978",
         "3.35",
         "0.8",
         "10.5",
         "5"
        ],
        [
         "10",
         "6.7",
         "0.58",
         "0.08",
         "1.8",
         "0.097",
         "15.0",
         "65.0",
         "0.9959",
         "3.28",
         "0.54",
         "9.2",
         "5"
        ],
        [
         "11",
         "7.5",
         "0.5",
         "0.36",
         "6.1",
         "0.071",
         "17.0",
         "102.0",
         "0.9978",
         "3.35",
         "0.8",
         "10.5",
         "5"
        ],
        [
         "12",
         "5.6",
         "0.615",
         "0.0",
         "1.6",
         "0.089",
         "16.0",
         "59.0",
         "0.9943",
         "3.58",
         "0.52",
         "9.9",
         "5"
        ],
        [
         "13",
         "7.8",
         "0.61",
         "0.29",
         "1.6",
         "0.114",
         "9.0",
         "29.0",
         "0.9974",
         "3.26",
         "1.56",
         "9.1",
         "5"
        ],
        [
         "14",
         "8.9",
         "0.62",
         "0.18",
         "3.8",
         "0.176",
         "52.0",
         "145.0",
         "0.9986",
         "3.16",
         "0.88",
         "9.2",
         "5"
        ],
        [
         "15",
         "8.9",
         "0.62",
         "0.19",
         "3.9",
         "0.17",
         "51.0",
         "148.0",
         "0.9986",
         "3.17",
         "0.93",
         "9.2",
         "5"
        ],
        [
         "16",
         "8.5",
         "0.28",
         "0.56",
         "1.8",
         "0.092",
         "35.0",
         "103.0",
         "0.9969",
         "3.3",
         "0.75",
         "10.5",
         "7"
        ],
        [
         "17",
         "8.1",
         "0.56",
         "0.28",
         "1.7",
         "0.368",
         "16.0",
         "56.0",
         "0.9968",
         "3.11",
         "1.28",
         "9.3",
         "5"
        ],
        [
         "18",
         "7.4",
         "0.59",
         "0.08",
         "4.4",
         "0.086",
         "6.0",
         "29.0",
         "0.9974",
         "3.38",
         "0.5",
         "9.0",
         "4"
        ],
        [
         "19",
         "7.9",
         "0.32",
         "0.51",
         "1.8",
         "0.341",
         "17.0",
         "56.0",
         "0.9969",
         "3.04",
         "1.08",
         "9.2",
         "6"
        ],
        [
         "20",
         "8.9",
         "0.22",
         "0.48",
         "1.8",
         "0.077",
         "29.0",
         "60.0",
         "0.9968",
         "3.39",
         "0.53",
         "9.4",
         "6"
        ],
        [
         "21",
         "7.6",
         "0.39",
         "0.31",
         "2.3",
         "0.082",
         "23.0",
         "71.0",
         "0.9982",
         "3.52",
         "0.65",
         "9.7",
         "5"
        ],
        [
         "22",
         "7.9",
         "0.43",
         "0.21",
         "1.6",
         "0.106",
         "10.0",
         "37.0",
         "0.9966",
         "3.17",
         "0.91",
         "9.5",
         "5"
        ],
        [
         "23",
         "8.5",
         "0.49",
         "0.11",
         "2.3",
         "0.084",
         "9.0",
         "67.0",
         "0.9968",
         "3.17",
         "0.53",
         "9.4",
         "5"
        ],
        [
         "24",
         "6.9",
         "0.4",
         "0.14",
         "2.4",
         "0.085",
         "21.0",
         "40.0",
         "0.9968",
         "3.43",
         "0.63",
         "9.7",
         "6"
        ],
        [
         "25",
         "6.3",
         "0.39",
         "0.16",
         "1.4",
         "0.08",
         "11.0",
         "23.0",
         "0.9955",
         "3.34",
         "0.56",
         "9.3",
         "5"
        ],
        [
         "26",
         "7.6",
         "0.41",
         "0.24",
         "1.8",
         "0.08",
         "4.0",
         "11.0",
         "0.9962",
         "3.28",
         "0.59",
         "9.5",
         "5"
        ],
        [
         "27",
         "7.9",
         "0.43",
         "0.21",
         "1.6",
         "0.106",
         "10.0",
         "37.0",
         "0.9966",
         "3.17",
         "0.91",
         "9.5",
         "5"
        ],
        [
         "28",
         "7.1",
         "0.71",
         "0.0",
         "1.9",
         "0.08",
         "14.0",
         "35.0",
         "0.9972",
         "3.47",
         "0.55",
         "9.4",
         "5"
        ],
        [
         "29",
         "7.8",
         "0.645",
         "0.0",
         "2.0",
         "0.082",
         "8.0",
         "16.0",
         "0.9964",
         "3.38",
         "0.59",
         "9.8",
         "6"
        ],
        [
         "30",
         "6.7",
         "0.675",
         "0.07",
         "2.4",
         "0.089",
         "17.0",
         "82.0",
         "0.9958",
         "3.35",
         "0.54",
         "10.1",
         "5"
        ],
        [
         "31",
         "6.9",
         "0.685",
         "0.0",
         "2.5",
         "0.105",
         "22.0",
         "37.0",
         "0.9966",
         "3.46",
         "0.57",
         "10.6",
         "6"
        ],
        [
         "32",
         "8.3",
         "0.655",
         "0.12",
         "2.3",
         "0.083",
         "15.0",
         "113.0",
         "0.9966",
         "3.17",
         "0.66",
         "9.8",
         "5"
        ],
        [
         "33",
         "6.9",
         "0.605",
         "0.12",
         "10.7",
         "0.073",
         "40.0",
         "83.0",
         "0.9993",
         "3.45",
         "0.52",
         "9.4",
         "6"
        ],
        [
         "34",
         "5.2",
         "0.32",
         "0.25",
         "1.8",
         "0.103",
         "13.0",
         "50.0",
         "0.9957",
         "3.38",
         "0.55",
         "9.2",
         "5"
        ],
        [
         "35",
         "7.8",
         "0.645",
         "0.0",
         "5.5",
         "0.086",
         "5.0",
         "18.0",
         "0.9986",
         "3.4",
         "0.55",
         "9.6",
         "6"
        ],
        [
         "36",
         "7.8",
         "0.6",
         "0.14",
         "2.4",
         "0.086",
         "3.0",
         "15.0",
         "0.9975",
         "3.42",
         "0.6",
         "10.8",
         "6"
        ],
        [
         "37",
         "8.1",
         "0.38",
         "0.28",
         "2.1",
         "0.066",
         "13.0",
         "30.0",
         "0.9968",
         "3.23",
         "0.73",
         "9.7",
         "7"
        ],
        [
         "38",
         "5.7",
         "1.13",
         "0.09",
         "1.5",
         "0.172",
         "7.0",
         "19.0",
         "0.994",
         "3.5",
         "0.48",
         "9.8",
         "4"
        ],
        [
         "39",
         "7.3",
         "0.45",
         "0.36",
         "5.9",
         "0.074",
         "12.0",
         "87.0",
         "0.9978",
         "3.33",
         "0.83",
         "10.5",
         "5"
        ],
        [
         "40",
         "7.3",
         "0.45",
         "0.36",
         "5.9",
         "0.074",
         "12.0",
         "87.0",
         "0.9978",
         "3.33",
         "0.83",
         "10.5",
         "5"
        ],
        [
         "41",
         "8.8",
         "0.61",
         "0.3",
         "2.8",
         "0.088",
         "17.0",
         "46.0",
         "0.9976",
         "3.26",
         "0.51",
         "9.3",
         "4"
        ],
        [
         "42",
         "7.5",
         "0.49",
         "0.2",
         "2.6",
         "0.332",
         "8.0",
         "14.0",
         "0.9968",
         "3.21",
         "0.9",
         "10.5",
         "6"
        ],
        [
         "43",
         "8.1",
         "0.66",
         "0.22",
         "2.2",
         "0.069",
         "9.0",
         "23.0",
         "0.9968",
         "3.3",
         "1.2",
         "10.3",
         "5"
        ],
        [
         "44",
         "6.8",
         "0.67",
         "0.02",
         "1.8",
         "0.05",
         "5.0",
         "11.0",
         "0.9962",
         "3.48",
         "0.52",
         "9.5",
         "5"
        ],
        [
         "45",
         "4.6",
         "0.52",
         "0.15",
         "2.1",
         "0.054",
         "8.0",
         "65.0",
         "0.9934",
         "3.9",
         "0.56",
         "13.1",
         "4"
        ],
        [
         "46",
         "7.7",
         "0.935",
         "0.43",
         "2.2",
         "0.114",
         "22.0",
         "114.0",
         "0.997",
         "3.25",
         "0.73",
         "9.2",
         "5"
        ],
        [
         "47",
         "8.7",
         "0.29",
         "0.52",
         "1.6",
         "0.113",
         "12.0",
         "37.0",
         "0.9969",
         "3.25",
         "0.58",
         "9.5",
         "5"
        ],
        [
         "48",
         "6.4",
         "0.4",
         "0.23",
         "1.6",
         "0.066",
         "5.0",
         "12.0",
         "0.9958",
         "3.34",
         "0.56",
         "9.2",
         "5"
        ],
        [
         "49",
         "5.6",
         "0.31",
         "0.37",
         "1.4",
         "0.074",
         "12.0",
         "96.0",
         "0.9954",
         "3.32",
         "0.58",
         "9.2",
         "5"
        ]
       ],
       "shape": {
        "columns": 12,
        "rows": 1599
       }
      },
      "text/html": [
       "<div>\n",
       "<style scoped>\n",
       "    .dataframe tbody tr th:only-of-type {\n",
       "        vertical-align: middle;\n",
       "    }\n",
       "\n",
       "    .dataframe tbody tr th {\n",
       "        vertical-align: top;\n",
       "    }\n",
       "\n",
       "    .dataframe thead th {\n",
       "        text-align: right;\n",
       "    }\n",
       "</style>\n",
       "<table border=\"1\" class=\"dataframe\">\n",
       "  <thead>\n",
       "    <tr style=\"text-align: right;\">\n",
       "      <th></th>\n",
       "      <th>fixed acidity</th>\n",
       "      <th>volatile acidity</th>\n",
       "      <th>citric acid</th>\n",
       "      <th>residual sugar</th>\n",
       "      <th>chlorides</th>\n",
       "      <th>free sulfur dioxide</th>\n",
       "      <th>total sulfur dioxide</th>\n",
       "      <th>density</th>\n",
       "      <th>pH</th>\n",
       "      <th>sulphates</th>\n",
       "      <th>alcohol</th>\n",
       "      <th>quality</th>\n",
       "    </tr>\n",
       "  </thead>\n",
       "  <tbody>\n",
       "    <tr>\n",
       "      <th>0</th>\n",
       "      <td>7.4</td>\n",
       "      <td>0.700</td>\n",
       "      <td>0.00</td>\n",
       "      <td>1.9</td>\n",
       "      <td>0.076</td>\n",
       "      <td>11.0</td>\n",
       "      <td>34.0</td>\n",
       "      <td>0.99780</td>\n",
       "      <td>3.51</td>\n",
       "      <td>0.56</td>\n",
       "      <td>9.4</td>\n",
       "      <td>5</td>\n",
       "    </tr>\n",
       "    <tr>\n",
       "      <th>1</th>\n",
       "      <td>7.8</td>\n",
       "      <td>0.880</td>\n",
       "      <td>0.00</td>\n",
       "      <td>2.6</td>\n",
       "      <td>0.098</td>\n",
       "      <td>25.0</td>\n",
       "      <td>67.0</td>\n",
       "      <td>0.99680</td>\n",
       "      <td>3.20</td>\n",
       "      <td>0.68</td>\n",
       "      <td>9.8</td>\n",
       "      <td>5</td>\n",
       "    </tr>\n",
       "    <tr>\n",
       "      <th>2</th>\n",
       "      <td>7.8</td>\n",
       "      <td>0.760</td>\n",
       "      <td>0.04</td>\n",
       "      <td>2.3</td>\n",
       "      <td>0.092</td>\n",
       "      <td>15.0</td>\n",
       "      <td>54.0</td>\n",
       "      <td>0.99700</td>\n",
       "      <td>3.26</td>\n",
       "      <td>0.65</td>\n",
       "      <td>9.8</td>\n",
       "      <td>5</td>\n",
       "    </tr>\n",
       "    <tr>\n",
       "      <th>3</th>\n",
       "      <td>11.2</td>\n",
       "      <td>0.280</td>\n",
       "      <td>0.56</td>\n",
       "      <td>1.9</td>\n",
       "      <td>0.075</td>\n",
       "      <td>17.0</td>\n",
       "      <td>60.0</td>\n",
       "      <td>0.99800</td>\n",
       "      <td>3.16</td>\n",
       "      <td>0.58</td>\n",
       "      <td>9.8</td>\n",
       "      <td>6</td>\n",
       "    </tr>\n",
       "    <tr>\n",
       "      <th>4</th>\n",
       "      <td>7.4</td>\n",
       "      <td>0.700</td>\n",
       "      <td>0.00</td>\n",
       "      <td>1.9</td>\n",
       "      <td>0.076</td>\n",
       "      <td>11.0</td>\n",
       "      <td>34.0</td>\n",
       "      <td>0.99780</td>\n",
       "      <td>3.51</td>\n",
       "      <td>0.56</td>\n",
       "      <td>9.4</td>\n",
       "      <td>5</td>\n",
       "    </tr>\n",
       "    <tr>\n",
       "      <th>...</th>\n",
       "      <td>...</td>\n",
       "      <td>...</td>\n",
       "      <td>...</td>\n",
       "      <td>...</td>\n",
       "      <td>...</td>\n",
       "      <td>...</td>\n",
       "      <td>...</td>\n",
       "      <td>...</td>\n",
       "      <td>...</td>\n",
       "      <td>...</td>\n",
       "      <td>...</td>\n",
       "      <td>...</td>\n",
       "    </tr>\n",
       "    <tr>\n",
       "      <th>1594</th>\n",
       "      <td>6.2</td>\n",
       "      <td>0.600</td>\n",
       "      <td>0.08</td>\n",
       "      <td>2.0</td>\n",
       "      <td>0.090</td>\n",
       "      <td>32.0</td>\n",
       "      <td>44.0</td>\n",
       "      <td>0.99490</td>\n",
       "      <td>3.45</td>\n",
       "      <td>0.58</td>\n",
       "      <td>10.5</td>\n",
       "      <td>5</td>\n",
       "    </tr>\n",
       "    <tr>\n",
       "      <th>1595</th>\n",
       "      <td>5.9</td>\n",
       "      <td>0.550</td>\n",
       "      <td>0.10</td>\n",
       "      <td>2.2</td>\n",
       "      <td>0.062</td>\n",
       "      <td>39.0</td>\n",
       "      <td>51.0</td>\n",
       "      <td>0.99512</td>\n",
       "      <td>3.52</td>\n",
       "      <td>0.76</td>\n",
       "      <td>11.2</td>\n",
       "      <td>6</td>\n",
       "    </tr>\n",
       "    <tr>\n",
       "      <th>1596</th>\n",
       "      <td>6.3</td>\n",
       "      <td>0.510</td>\n",
       "      <td>0.13</td>\n",
       "      <td>2.3</td>\n",
       "      <td>0.076</td>\n",
       "      <td>29.0</td>\n",
       "      <td>40.0</td>\n",
       "      <td>0.99574</td>\n",
       "      <td>3.42</td>\n",
       "      <td>0.75</td>\n",
       "      <td>11.0</td>\n",
       "      <td>6</td>\n",
       "    </tr>\n",
       "    <tr>\n",
       "      <th>1597</th>\n",
       "      <td>5.9</td>\n",
       "      <td>0.645</td>\n",
       "      <td>0.12</td>\n",
       "      <td>2.0</td>\n",
       "      <td>0.075</td>\n",
       "      <td>32.0</td>\n",
       "      <td>44.0</td>\n",
       "      <td>0.99547</td>\n",
       "      <td>3.57</td>\n",
       "      <td>0.71</td>\n",
       "      <td>10.2</td>\n",
       "      <td>5</td>\n",
       "    </tr>\n",
       "    <tr>\n",
       "      <th>1598</th>\n",
       "      <td>6.0</td>\n",
       "      <td>0.310</td>\n",
       "      <td>0.47</td>\n",
       "      <td>3.6</td>\n",
       "      <td>0.067</td>\n",
       "      <td>18.0</td>\n",
       "      <td>42.0</td>\n",
       "      <td>0.99549</td>\n",
       "      <td>3.39</td>\n",
       "      <td>0.66</td>\n",
       "      <td>11.0</td>\n",
       "      <td>6</td>\n",
       "    </tr>\n",
       "  </tbody>\n",
       "</table>\n",
       "<p>1599 rows × 12 columns</p>\n",
       "</div>"
      ],
      "text/plain": [
       "      fixed acidity  volatile acidity  citric acid  residual sugar  chlorides  \\\n",
       "0               7.4             0.700         0.00             1.9      0.076   \n",
       "1               7.8             0.880         0.00             2.6      0.098   \n",
       "2               7.8             0.760         0.04             2.3      0.092   \n",
       "3              11.2             0.280         0.56             1.9      0.075   \n",
       "4               7.4             0.700         0.00             1.9      0.076   \n",
       "...             ...               ...          ...             ...        ...   \n",
       "1594            6.2             0.600         0.08             2.0      0.090   \n",
       "1595            5.9             0.550         0.10             2.2      0.062   \n",
       "1596            6.3             0.510         0.13             2.3      0.076   \n",
       "1597            5.9             0.645         0.12             2.0      0.075   \n",
       "1598            6.0             0.310         0.47             3.6      0.067   \n",
       "\n",
       "      free sulfur dioxide  total sulfur dioxide  density    pH  sulphates  \\\n",
       "0                    11.0                  34.0  0.99780  3.51       0.56   \n",
       "1                    25.0                  67.0  0.99680  3.20       0.68   \n",
       "2                    15.0                  54.0  0.99700  3.26       0.65   \n",
       "3                    17.0                  60.0  0.99800  3.16       0.58   \n",
       "4                    11.0                  34.0  0.99780  3.51       0.56   \n",
       "...                   ...                   ...      ...   ...        ...   \n",
       "1594                 32.0                  44.0  0.99490  3.45       0.58   \n",
       "1595                 39.0                  51.0  0.99512  3.52       0.76   \n",
       "1596                 29.0                  40.0  0.99574  3.42       0.75   \n",
       "1597                 32.0                  44.0  0.99547  3.57       0.71   \n",
       "1598                 18.0                  42.0  0.99549  3.39       0.66   \n",
       "\n",
       "      alcohol  quality  \n",
       "0         9.4        5  \n",
       "1         9.8        5  \n",
       "2         9.8        5  \n",
       "3         9.8        6  \n",
       "4         9.4        5  \n",
       "...       ...      ...  \n",
       "1594     10.5        5  \n",
       "1595     11.2        6  \n",
       "1596     11.0        6  \n",
       "1597     10.2        5  \n",
       "1598     11.0        6  \n",
       "\n",
       "[1599 rows x 12 columns]"
      ]
     },
     "execution_count": 7,
     "metadata": {},
     "output_type": "execute_result"
    }
   ],
   "source": [
    "df = pd.read_csv(\"RedWineQuality.csv\", delimiter=\";\")\n",
    "df"
   ]
  },
  {
   "cell_type": "code",
   "execution_count": null,
   "id": "04a055b1",
   "metadata": {},
   "outputs": [
    {
     "data": {
      "text/plain": [
       "Index(['fixed acidity', 'volatile acidity', 'citric acid', 'residual sugar',\n",
       "       'chlorides', 'free sulfur dioxide', 'total sulfur dioxide', 'density',\n",
       "       'pH', 'sulphates', 'alcohol', 'quality'],\n",
       "      dtype='object')"
      ]
     },
     "execution_count": 5,
     "metadata": {},
     "output_type": "execute_result"
    }
   ],
   "source": [
    "df.columns"
   ]
  },
  {
   "cell_type": "markdown",
   "id": "9986b666",
   "metadata": {},
   "source": [
    "# Домашнее задание 10. Непараметрическая статистика."
   ]
  },
  {
   "cell_type": "markdown",
   "id": "dbbe54fe",
   "metadata": {},
   "source": [
    "## Средние значения и доверительные интервалы"
   ]
  },
  {
   "cell_type": "code",
   "execution_count": 15,
   "id": "2c661418",
   "metadata": {},
   "outputs": [
    {
     "name": "stdout",
     "output_type": "stream",
     "text": [
      "Среднее значение:  10.42  в доверительном интервала ( (np.float64(10.370710444963722), np.float64(10.475255783929336)) )\n"
     ]
    }
   ],
   "source": [
    "import numpy as np\n",
    "from scipy import stats\n",
    "\n",
    "# Для alcohol\n",
    "alcohol_mean = np.mean(df['alcohol'])\n",
    "alcohol_ci = stats.t.interval(0.95, len(df)-1, loc=alcohol_mean, scale=stats.sem(df['alcohol']))\n",
    "print( \"Среднее значение: \", round( alcohol_mean, 2 ), \" в доверительном интервала (\", alcohol_ci, \")\" )"
   ]
  },
  {
   "cell_type": "markdown",
   "id": "145d4c7a",
   "metadata": {},
   "source": [
    "### Вывод: с вероятностью 95% истинное среднее содержание алкоголя в генеральной совокупности вин находится между 10.37% и 10.47%"
   ]
  },
  {
   "cell_type": "code",
   "execution_count": 16,
   "id": "124db424",
   "metadata": {},
   "outputs": [
    {
     "name": "stdout",
     "output_type": "stream",
     "text": [
      "Среднее значение:  5.64  в доверительном интервала ( (np.float64(5.596409964035299), np.float64(5.67563506410729)) )\n"
     ]
    }
   ],
   "source": [
    "# Для quality\n",
    "quality_mean = np.mean(df['quality'])\n",
    "quality_ci = stats.t.interval(0.95, len(df)-1, loc=quality_mean, scale=stats.sem(df['quality']))\n",
    "print( \"Среднее значение: \", round( quality_mean, 2 ), \" в доверительном интервала (\", quality_ci, \")\" )"
   ]
  },
  {
   "cell_type": "markdown",
   "id": "4038b5e8",
   "metadata": {},
   "source": [
    "### Вывод: С вероятностью 95% истинное среднее оценка качества в генеральной совокупности вин находится между 5.60% и 5.68%"
   ]
  },
  {
   "cell_type": "code",
   "execution_count": 19,
   "id": "9009be2f",
   "metadata": {},
   "outputs": [
    {
     "name": "stdout",
     "output_type": "stream",
     "text": [
      "ShapiroResult(statistic=np.float64(0.9288390813054377), pvalue=np.float64(6.644056905730039e-27))\n"
     ]
    }
   ],
   "source": [
    "# Shapiro-Wilk test\n",
    "shapiro_alcohol = stats.shapiro(df['alcohol'])\n",
    "print( shapiro_alcohol )"
   ]
  },
  {
   "cell_type": "code",
   "execution_count": 20,
   "id": "b6b07d31",
   "metadata": {},
   "outputs": [
    {
     "name": "stdout",
     "output_type": "stream",
     "text": [
      "ShapiroResult(statistic=np.float64(0.8575895017309976), pvalue=np.float64(9.515084999430088e-36))\n"
     ]
    }
   ],
   "source": [
    "shapiro_quality = stats.shapiro(df['quality'])\n",
    "print( shapiro_quality )"
   ]
  },
  {
   "cell_type": "markdown",
   "id": "db77f578",
   "metadata": {},
   "source": [
    "### Вывод: Обе переменные значимо отклоняются от нормального распределения."
   ]
  },
  {
   "cell_type": "code",
   "execution_count": 21,
   "id": "da93bc39",
   "metadata": {},
   "outputs": [
    {
     "data": {
      "text/plain": [
       "TtestResult(statistic=np.float64(19.78218499094004), pvalue=np.float64(1.139484979295024e-77), df=np.float64(1516.753137126026))"
      ]
     },
     "execution_count": 21,
     "metadata": {},
     "output_type": "execute_result"
    }
   ],
   "source": [
    "group_low = df[df['quality'] < 6]['alcohol']\n",
    "group_high = df[df['quality'] >= 6]['alcohol']\n",
    "\n",
    "# Двухвыборочный t-тест\n",
    "t_test = stats.ttest_ind(group_high, group_low, equal_var=False)\n",
    "t_test"
   ]
  },
  {
   "cell_type": "code",
   "execution_count": 25,
   "id": "4286c184",
   "metadata": {},
   "outputs": [
    {
     "data": {
      "text/plain": [
       "(855,)"
      ]
     },
     "execution_count": 25,
     "metadata": {},
     "output_type": "execute_result"
    }
   ],
   "source": [
    "group_high.shape"
   ]
  },
  {
   "cell_type": "code",
   "execution_count": 22,
   "id": "f89b3429",
   "metadata": {},
   "outputs": [
    {
     "data": {
      "text/plain": [
       "MannwhitneyuResult(statistic=np.float64(481313.0), pvalue=np.float64(2.0060593309032682e-70))"
      ]
     },
     "execution_count": 22,
     "metadata": {},
     "output_type": "execute_result"
    }
   ],
   "source": [
    "# Тест Манна-Уитни\n",
    "mannwhitney = stats.mannwhitneyu(group_high, group_low)\n",
    "mannwhitney"
   ]
  },
  {
   "cell_type": "markdown",
   "id": "6a7a6147",
   "metadata": {},
   "source": [
    "### Вывод: оба теста показывают статистически значимые различия средних. Поскольку распределение alcohol не является нормальным, тест Манна-Уитни более надёжен в данной ситуации."
   ]
  },
  {
   "cell_type": "code",
   "execution_count": 23,
   "id": "0da081e7",
   "metadata": {},
   "outputs": [
    {
     "data": {
      "text/plain": [
       "array([0.83672412, 1.01966384])"
      ]
     },
     "execution_count": 23,
     "metadata": {},
     "output_type": "execute_result"
    }
   ],
   "source": [
    "def bootstrap_diff_means(data1, data2, n_bootstrap=10000):\n",
    "    diffs = []\n",
    "    for _ in range(n_bootstrap):\n",
    "        sample1 = np.random.choice(data1, size=len(data1), replace=True)\n",
    "        sample2 = np.random.choice(data2, size=len(data2), replace=True)\n",
    "        diffs.append(np.mean(sample1) - np.mean(sample2))\n",
    "    return np.percentile(diffs, [2.5, 97.5])\n",
    "\n",
    "bootstrap_ci = bootstrap_diff_means(group_high, group_low)\n",
    "bootstrap_ci"
   ]
  },
  {
   "cell_type": "markdown",
   "id": "1abbeefc",
   "metadata": {},
   "source": [
    "### Вывод: Содержание алкоголя в винах высокого качества статистически значимо выше, чем в винах низкого качества (разница составляет 0.84–1.02%).\n",
    "\n"
   ]
  }
 ],
 "metadata": {
  "kernelspec": {
   "display_name": ".venv",
   "language": "python",
   "name": "python3"
  },
  "language_info": {
   "codemirror_mode": {
    "name": "ipython",
    "version": 3
   },
   "file_extension": ".py",
   "mimetype": "text/x-python",
   "name": "python",
   "nbconvert_exporter": "python",
   "pygments_lexer": "ipython3",
   "version": "3.12.4"
  }
 },
 "nbformat": 4,
 "nbformat_minor": 5
}
