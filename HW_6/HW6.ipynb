{
 "cells": [
  {
   "cell_type": "markdown",
   "id": "bd05a314",
   "metadata": {},
   "source": [
    "# Данные"
   ]
  },
  {
   "cell_type": "code",
   "execution_count": 43,
   "id": "77cd0a34",
   "metadata": {},
   "outputs": [
    {
     "data": {
      "text/plain": [
       "array(['dino', 'away', 'h_lines', 'v_lines', 'x_shape', 'star',\n",
       "       'high_lines', 'dots', 'circle', 'bullseye', 'slant_up',\n",
       "       'slant_down', 'wide_lines'], dtype=object)"
      ]
     },
     "execution_count": 43,
     "metadata": {},
     "output_type": "execute_result"
    }
   ],
   "source": [
    "import pandas as pd\n",
    "import plotly.express as px\n",
    "from plotly.subplots import make_subplots\n",
    "import plotly.graph_objects as go\n",
    "\n",
    "\n",
    "corp_col = '#40ba21'\n",
    "\n",
    "df = pd.read_csv(\"Never Trust Summary Statistics.tsv\", delimiter=\"\\t\")\n",
    "df[\"dataset\"].unique()"
   ]
  },
  {
   "cell_type": "markdown",
   "id": "705402cd",
   "metadata": {},
   "source": [
    "## Выберем в качестве бинарной переменной колонку dataset, присвоив 1 фигуре \"wide_lines\", остальным 0, то есть задача будет сводится к определению относится ли конкретная точка в массиве к фигуре \"wide_lines\" или нет."
   ]
  },
  {
   "cell_type": "code",
   "execution_count": 44,
   "id": "bbf119cb",
   "metadata": {},
   "outputs": [],
   "source": [
    "df.loc[df[\"dataset\"] != 'wide_lines', \"dataset\"] = 0\n",
    "df.loc[df[\"dataset\"] == 'wide_lines', \"dataset\"] = 1\n",
    "df[\"dataset\"] = df[\"dataset\"].astype(int)"
   ]
  },
  {
   "cell_type": "code",
   "execution_count": 45,
   "id": "d21d779c",
   "metadata": {},
   "outputs": [
    {
     "data": {
      "application/vnd.microsoft.datawrangler.viewer.v0+json": {
       "columns": [
        {
         "name": "index",
         "rawType": "int64",
         "type": "integer"
        },
        {
         "name": "dataset",
         "rawType": "int64",
         "type": "integer"
        },
        {
         "name": "x",
         "rawType": "float64",
         "type": "float"
        },
        {
         "name": "y",
         "rawType": "float64",
         "type": "float"
        }
       ],
       "ref": "7a342947-a3ba-4900-84de-4f709397dffc",
       "rows": [
        [
         "0",
         "0",
         "55.3846",
         "97.1795"
        ],
        [
         "1",
         "0",
         "51.5385",
         "96.0256"
        ],
        [
         "2",
         "0",
         "46.1538",
         "94.4872"
        ],
        [
         "3",
         "0",
         "42.8205",
         "91.4103"
        ],
        [
         "4",
         "0",
         "40.7692",
         "88.3333"
        ],
        [
         "5",
         "0",
         "38.7179",
         "84.8718"
        ],
        [
         "6",
         "0",
         "35.641",
         "79.8718"
        ],
        [
         "7",
         "0",
         "33.0769",
         "77.5641"
        ],
        [
         "8",
         "0",
         "28.9744",
         "74.4872"
        ],
        [
         "9",
         "0",
         "26.1538",
         "71.4103"
        ],
        [
         "10",
         "0",
         "23.0769",
         "66.4103"
        ],
        [
         "11",
         "0",
         "22.3077",
         "61.7949"
        ],
        [
         "12",
         "0",
         "22.3077",
         "57.1795"
        ],
        [
         "13",
         "0",
         "23.3333",
         "52.9487"
        ],
        [
         "14",
         "0",
         "25.8974",
         "51.0256"
        ],
        [
         "15",
         "0",
         "29.4872",
         "51.0256"
        ],
        [
         "16",
         "0",
         "32.8205",
         "51.0256"
        ],
        [
         "17",
         "0",
         "35.3846",
         "51.4103"
        ],
        [
         "18",
         "0",
         "40.2564",
         "51.4103"
        ],
        [
         "19",
         "0",
         "44.1026",
         "52.9487"
        ],
        [
         "20",
         "0",
         "46.6667",
         "54.1026"
        ],
        [
         "21",
         "0",
         "50.0",
         "55.2564"
        ],
        [
         "22",
         "0",
         "53.0769",
         "55.641"
        ],
        [
         "23",
         "0",
         "56.6667",
         "56.0256"
        ],
        [
         "24",
         "0",
         "59.2308",
         "57.9487"
        ],
        [
         "25",
         "0",
         "61.2821",
         "62.1795"
        ],
        [
         "26",
         "0",
         "61.5385",
         "66.4103"
        ],
        [
         "27",
         "0",
         "61.7949",
         "69.1026"
        ],
        [
         "28",
         "0",
         "57.4359",
         "55.2564"
        ],
        [
         "29",
         "0",
         "54.8718",
         "49.8718"
        ],
        [
         "30",
         "0",
         "52.5641",
         "46.0256"
        ],
        [
         "31",
         "0",
         "48.2051",
         "38.3333"
        ],
        [
         "32",
         "0",
         "49.4872",
         "42.1795"
        ],
        [
         "33",
         "0",
         "51.0256",
         "44.1026"
        ],
        [
         "34",
         "0",
         "45.3846",
         "36.4103"
        ],
        [
         "35",
         "0",
         "42.8205",
         "32.5641"
        ],
        [
         "36",
         "0",
         "38.7179",
         "31.4103"
        ],
        [
         "37",
         "0",
         "35.1282",
         "30.2564"
        ],
        [
         "38",
         "0",
         "32.5641",
         "32.1795"
        ],
        [
         "39",
         "0",
         "30.0",
         "36.7949"
        ],
        [
         "40",
         "0",
         "33.5897",
         "41.4103"
        ],
        [
         "41",
         "0",
         "36.6667",
         "45.641"
        ],
        [
         "42",
         "0",
         "38.2051",
         "49.1026"
        ],
        [
         "43",
         "0",
         "29.7436",
         "36.0256"
        ],
        [
         "44",
         "0",
         "29.7436",
         "32.1795"
        ],
        [
         "45",
         "0",
         "30.0",
         "29.1026"
        ],
        [
         "46",
         "0",
         "32.0513",
         "26.7949"
        ],
        [
         "47",
         "0",
         "35.8974",
         "25.2564"
        ],
        [
         "48",
         "0",
         "41.0256",
         "25.2564"
        ],
        [
         "49",
         "0",
         "44.1026",
         "25.641"
        ]
       ],
       "shape": {
        "columns": 3,
        "rows": 1846
       }
      },
      "text/html": [
       "<div>\n",
       "<style scoped>\n",
       "    .dataframe tbody tr th:only-of-type {\n",
       "        vertical-align: middle;\n",
       "    }\n",
       "\n",
       "    .dataframe tbody tr th {\n",
       "        vertical-align: top;\n",
       "    }\n",
       "\n",
       "    .dataframe thead th {\n",
       "        text-align: right;\n",
       "    }\n",
       "</style>\n",
       "<table border=\"1\" class=\"dataframe\">\n",
       "  <thead>\n",
       "    <tr style=\"text-align: right;\">\n",
       "      <th></th>\n",
       "      <th>dataset</th>\n",
       "      <th>x</th>\n",
       "      <th>y</th>\n",
       "    </tr>\n",
       "  </thead>\n",
       "  <tbody>\n",
       "    <tr>\n",
       "      <th>0</th>\n",
       "      <td>0</td>\n",
       "      <td>55.384600</td>\n",
       "      <td>97.179500</td>\n",
       "    </tr>\n",
       "    <tr>\n",
       "      <th>1</th>\n",
       "      <td>0</td>\n",
       "      <td>51.538500</td>\n",
       "      <td>96.025600</td>\n",
       "    </tr>\n",
       "    <tr>\n",
       "      <th>2</th>\n",
       "      <td>0</td>\n",
       "      <td>46.153800</td>\n",
       "      <td>94.487200</td>\n",
       "    </tr>\n",
       "    <tr>\n",
       "      <th>3</th>\n",
       "      <td>0</td>\n",
       "      <td>42.820500</td>\n",
       "      <td>91.410300</td>\n",
       "    </tr>\n",
       "    <tr>\n",
       "      <th>4</th>\n",
       "      <td>0</td>\n",
       "      <td>40.769200</td>\n",
       "      <td>88.333300</td>\n",
       "    </tr>\n",
       "    <tr>\n",
       "      <th>...</th>\n",
       "      <td>...</td>\n",
       "      <td>...</td>\n",
       "      <td>...</td>\n",
       "    </tr>\n",
       "    <tr>\n",
       "      <th>1841</th>\n",
       "      <td>1</td>\n",
       "      <td>33.674442</td>\n",
       "      <td>26.090490</td>\n",
       "    </tr>\n",
       "    <tr>\n",
       "      <th>1842</th>\n",
       "      <td>1</td>\n",
       "      <td>75.627255</td>\n",
       "      <td>37.128752</td>\n",
       "    </tr>\n",
       "    <tr>\n",
       "      <th>1843</th>\n",
       "      <td>1</td>\n",
       "      <td>40.610125</td>\n",
       "      <td>89.136240</td>\n",
       "    </tr>\n",
       "    <tr>\n",
       "      <th>1844</th>\n",
       "      <td>1</td>\n",
       "      <td>39.114366</td>\n",
       "      <td>96.481751</td>\n",
       "    </tr>\n",
       "    <tr>\n",
       "      <th>1845</th>\n",
       "      <td>1</td>\n",
       "      <td>34.583829</td>\n",
       "      <td>89.588902</td>\n",
       "    </tr>\n",
       "  </tbody>\n",
       "</table>\n",
       "<p>1846 rows × 3 columns</p>\n",
       "</div>"
      ],
      "text/plain": [
       "      dataset          x          y\n",
       "0           0  55.384600  97.179500\n",
       "1           0  51.538500  96.025600\n",
       "2           0  46.153800  94.487200\n",
       "3           0  42.820500  91.410300\n",
       "4           0  40.769200  88.333300\n",
       "...       ...        ...        ...\n",
       "1841        1  33.674442  26.090490\n",
       "1842        1  75.627255  37.128752\n",
       "1843        1  40.610125  89.136240\n",
       "1844        1  39.114366  96.481751\n",
       "1845        1  34.583829  89.588902\n",
       "\n",
       "[1846 rows x 3 columns]"
      ]
     },
     "execution_count": 45,
     "metadata": {},
     "output_type": "execute_result"
    }
   ],
   "source": [
    "df"
   ]
  },
  {
   "cell_type": "markdown",
   "id": "9986b666",
   "metadata": {},
   "source": [
    "# Домашнее задание 6"
   ]
  },
  {
   "cell_type": "markdown",
   "id": "876746cf",
   "metadata": {},
   "source": [
    "## Обучающая и тестовая выборки."
   ]
  },
  {
   "cell_type": "code",
   "execution_count": 46,
   "id": "81f6aa0f",
   "metadata": {},
   "outputs": [
    {
     "data": {
      "application/vnd.microsoft.datawrangler.viewer.v0+json": {
       "columns": [
        {
         "name": "index",
         "rawType": "int64",
         "type": "integer"
        },
        {
         "name": "x",
         "rawType": "float64",
         "type": "float"
        },
        {
         "name": "y",
         "rawType": "float64",
         "type": "float"
        }
       ],
       "ref": "0e65e88d-525e-475d-b7ee-1fd988be6aec",
       "rows": [
        [
         "1578",
         "35.4355325251",
         "34.9610381566"
        ],
        [
         "590",
         "57.134855354",
         "53.8779658045"
        ],
        [
         "952",
         "64.0670962137",
         "27.7765005568"
        ],
        [
         "1138",
         "51.2884586593",
         "82.4359398425"
        ],
        [
         "1461",
         "47.2250252695",
         "44.5756466185"
        ],
        [
         "1343",
         "53.0030253202",
         "84.6747986012"
        ],
        [
         "250",
         "40.467576002",
         "60.0275120878"
        ],
        [
         "1776",
         "64.2952177764",
         "84.1258572133"
        ],
        [
         "1205",
         "51.4734585149",
         "79.1598669963"
        ],
        [
         "1629",
         "48.8632418189",
         "83.1583574877"
        ],
        [
         "450",
         "69.5057889042",
         "59.2849248279"
        ],
        [
         "398",
         "50.7451622429",
         "10.5249055723"
        ],
        [
         "425",
         "43.588468468",
         "89.7455365536"
        ],
        [
         "651",
         "85.4461864009",
         "83.0782938448"
        ],
        [
         "1259",
         "49.8384929905",
         "16.6763302777"
        ],
        [
         "602",
         "47.1427889348",
         "32.0250641734"
        ],
        [
         "1650",
         "77.4490021363",
         "72.4473094857"
        ],
        [
         "809",
         "56.1713975295",
         "32.1179887719"
        ],
        [
         "733",
         "43.23308466",
         "63.1652187223"
        ],
        [
         "1424",
         "49.1774185559",
         "96.6105324538"
        ],
        [
         "557",
         "69.5275296829",
         "9.99229666551"
        ],
        [
         "182",
         "68.5077081898",
         "15.4569189652"
        ],
        [
         "170",
         "74.2477082092",
         "20.314187812"
        ],
        [
         "292",
         "32.6560991775",
         "70.0510704992"
        ],
        [
         "873",
         "50.157414434",
         "71.1617258246"
        ],
        [
         "865",
         "23.6730818572",
         "64.8708391385"
        ],
        [
         "300",
         "32.0371080007",
         "50.5000661229"
        ],
        [
         "1732",
         "64.0515417112",
         "48.8200939835"
        ],
        [
         "1018",
         "51.9275902141",
         "52.2577906065"
        ],
        [
         "1185",
         "45.0410771273",
         "17.7345177303"
        ],
        [
         "906",
         "61.0029597643",
         "30.0153144324"
        ],
        [
         "1780",
         "34.1051509268",
         "64.1291972267"
        ],
        [
         "940",
         "76.7457612243",
         "71.9733600919"
        ],
        [
         "1729",
         "67.6295142176",
         "61.4291060701"
        ],
        [
         "1675",
         "56.3803054046",
         "14.7884597101"
        ],
        [
         "371",
         "73.1051481627",
         "70.300511881"
        ],
        [
         "903",
         "51.4536583539",
         "26.0229417521"
        ],
        [
         "1315",
         "41.389522551",
         "37.2960562328"
        ],
        [
         "849",
         "56.6639740815",
         "87.9401250067"
        ],
        [
         "904",
         "49.3677068167",
         "22.005580703"
        ],
        [
         "598",
         "52.9451780881",
         "40.3846256942"
        ],
        [
         "175",
         "28.2367819396",
         "56.1395964513"
        ],
        [
         "1420",
         "47.6952008891",
         "95.2411869282"
        ],
        [
         "674",
         "75.1077300904",
         "30.0169834157"
        ],
        [
         "1703",
         "37.6270534612",
         "93.060672952"
        ],
        [
         "670",
         "76.7911300701",
         "28.0720081685"
        ],
        [
         "334",
         "58.6693732631",
         "30.5068378948"
        ],
        [
         "1662",
         "65.2563927704",
         "32.8541041237"
        ],
        [
         "694",
         "36.7924815919",
         "13.3921347304"
        ],
        [
         "494",
         "50.4382906648",
         "92.3547602661"
        ]
       ],
       "shape": {
        "columns": 2,
        "rows": 1476
       }
      },
      "text/html": [
       "<div>\n",
       "<style scoped>\n",
       "    .dataframe tbody tr th:only-of-type {\n",
       "        vertical-align: middle;\n",
       "    }\n",
       "\n",
       "    .dataframe tbody tr th {\n",
       "        vertical-align: top;\n",
       "    }\n",
       "\n",
       "    .dataframe thead th {\n",
       "        text-align: right;\n",
       "    }\n",
       "</style>\n",
       "<table border=\"1\" class=\"dataframe\">\n",
       "  <thead>\n",
       "    <tr style=\"text-align: right;\">\n",
       "      <th></th>\n",
       "      <th>x</th>\n",
       "      <th>y</th>\n",
       "    </tr>\n",
       "  </thead>\n",
       "  <tbody>\n",
       "    <tr>\n",
       "      <th>1578</th>\n",
       "      <td>35.435533</td>\n",
       "      <td>34.961038</td>\n",
       "    </tr>\n",
       "    <tr>\n",
       "      <th>590</th>\n",
       "      <td>57.134855</td>\n",
       "      <td>53.877966</td>\n",
       "    </tr>\n",
       "    <tr>\n",
       "      <th>952</th>\n",
       "      <td>64.067096</td>\n",
       "      <td>27.776501</td>\n",
       "    </tr>\n",
       "    <tr>\n",
       "      <th>1138</th>\n",
       "      <td>51.288459</td>\n",
       "      <td>82.435940</td>\n",
       "    </tr>\n",
       "    <tr>\n",
       "      <th>1461</th>\n",
       "      <td>47.225025</td>\n",
       "      <td>44.575647</td>\n",
       "    </tr>\n",
       "    <tr>\n",
       "      <th>...</th>\n",
       "      <td>...</td>\n",
       "      <td>...</td>\n",
       "    </tr>\n",
       "    <tr>\n",
       "      <th>1130</th>\n",
       "      <td>50.378262</td>\n",
       "      <td>16.946280</td>\n",
       "    </tr>\n",
       "    <tr>\n",
       "      <th>1294</th>\n",
       "      <td>36.894328</td>\n",
       "      <td>47.706556</td>\n",
       "    </tr>\n",
       "    <tr>\n",
       "      <th>860</th>\n",
       "      <td>25.985500</td>\n",
       "      <td>74.349388</td>\n",
       "    </tr>\n",
       "    <tr>\n",
       "      <th>1459</th>\n",
       "      <td>33.167757</td>\n",
       "      <td>31.247741</td>\n",
       "    </tr>\n",
       "    <tr>\n",
       "      <th>1126</th>\n",
       "      <td>75.152459</td>\n",
       "      <td>17.004942</td>\n",
       "    </tr>\n",
       "  </tbody>\n",
       "</table>\n",
       "<p>1476 rows × 2 columns</p>\n",
       "</div>"
      ],
      "text/plain": [
       "              x          y\n",
       "1578  35.435533  34.961038\n",
       "590   57.134855  53.877966\n",
       "952   64.067096  27.776501\n",
       "1138  51.288459  82.435940\n",
       "1461  47.225025  44.575647\n",
       "...         ...        ...\n",
       "1130  50.378262  16.946280\n",
       "1294  36.894328  47.706556\n",
       "860   25.985500  74.349388\n",
       "1459  33.167757  31.247741\n",
       "1126  75.152459  17.004942\n",
       "\n",
       "[1476 rows x 2 columns]"
      ]
     },
     "execution_count": 46,
     "metadata": {},
     "output_type": "execute_result"
    }
   ],
   "source": [
    "from sklearn.model_selection import train_test_split\n",
    "\n",
    "X = df.drop(['dataset'], axis=1) # X — признаки (features)\n",
    "y = df[['dataset']]              # y — целевая переменная (label)\n",
    "\n",
    "# Разделение на обучающую и тестовую выборки\n",
    "X_train, X_test, y_train, y_test = train_test_split(X, y, test_size=0.2, random_state=42)\n",
    "X_train"
   ]
  },
  {
   "cell_type": "markdown",
   "id": "86f58714",
   "metadata": {},
   "source": [
    "## Оценка параметров логистической регрессии"
   ]
  },
  {
   "cell_type": "markdown",
   "id": "560471c6",
   "metadata": {},
   "source": [
    "Так как объясняющие переменные это координаты и они в одном масштабе, то нет смысла использовать стандартизацию переменных."
   ]
  },
  {
   "cell_type": "code",
   "execution_count": 47,
   "id": "dbe52a69",
   "metadata": {},
   "outputs": [
    {
     "name": "stderr",
     "output_type": "stream",
     "text": [
      "f:\\Staff\\Иннополис\\Innopolis\\.venv\\Lib\\site-packages\\sklearn\\utils\\validation.py:1408: DataConversionWarning: A column-vector y was passed when a 1d array was expected. Please change the shape of y to (n_samples, ), for example using ravel().\n",
      "  y = column_or_1d(y, warn=True)\n"
     ]
    },
    {
     "data": {
      "text/html": [
       "<style>#sk-container-id-3 {\n",
       "  /* Definition of color scheme common for light and dark mode */\n",
       "  --sklearn-color-text: #000;\n",
       "  --sklearn-color-text-muted: #666;\n",
       "  --sklearn-color-line: gray;\n",
       "  /* Definition of color scheme for unfitted estimators */\n",
       "  --sklearn-color-unfitted-level-0: #fff5e6;\n",
       "  --sklearn-color-unfitted-level-1: #f6e4d2;\n",
       "  --sklearn-color-unfitted-level-2: #ffe0b3;\n",
       "  --sklearn-color-unfitted-level-3: chocolate;\n",
       "  /* Definition of color scheme for fitted estimators */\n",
       "  --sklearn-color-fitted-level-0: #f0f8ff;\n",
       "  --sklearn-color-fitted-level-1: #d4ebff;\n",
       "  --sklearn-color-fitted-level-2: #b3dbfd;\n",
       "  --sklearn-color-fitted-level-3: cornflowerblue;\n",
       "\n",
       "  /* Specific color for light theme */\n",
       "  --sklearn-color-text-on-default-background: var(--sg-text-color, var(--theme-code-foreground, var(--jp-content-font-color1, black)));\n",
       "  --sklearn-color-background: var(--sg-background-color, var(--theme-background, var(--jp-layout-color0, white)));\n",
       "  --sklearn-color-border-box: var(--sg-text-color, var(--theme-code-foreground, var(--jp-content-font-color1, black)));\n",
       "  --sklearn-color-icon: #696969;\n",
       "\n",
       "  @media (prefers-color-scheme: dark) {\n",
       "    /* Redefinition of color scheme for dark theme */\n",
       "    --sklearn-color-text-on-default-background: var(--sg-text-color, var(--theme-code-foreground, var(--jp-content-font-color1, white)));\n",
       "    --sklearn-color-background: var(--sg-background-color, var(--theme-background, var(--jp-layout-color0, #111)));\n",
       "    --sklearn-color-border-box: var(--sg-text-color, var(--theme-code-foreground, var(--jp-content-font-color1, white)));\n",
       "    --sklearn-color-icon: #878787;\n",
       "  }\n",
       "}\n",
       "\n",
       "#sk-container-id-3 {\n",
       "  color: var(--sklearn-color-text);\n",
       "}\n",
       "\n",
       "#sk-container-id-3 pre {\n",
       "  padding: 0;\n",
       "}\n",
       "\n",
       "#sk-container-id-3 input.sk-hidden--visually {\n",
       "  border: 0;\n",
       "  clip: rect(1px 1px 1px 1px);\n",
       "  clip: rect(1px, 1px, 1px, 1px);\n",
       "  height: 1px;\n",
       "  margin: -1px;\n",
       "  overflow: hidden;\n",
       "  padding: 0;\n",
       "  position: absolute;\n",
       "  width: 1px;\n",
       "}\n",
       "\n",
       "#sk-container-id-3 div.sk-dashed-wrapped {\n",
       "  border: 1px dashed var(--sklearn-color-line);\n",
       "  margin: 0 0.4em 0.5em 0.4em;\n",
       "  box-sizing: border-box;\n",
       "  padding-bottom: 0.4em;\n",
       "  background-color: var(--sklearn-color-background);\n",
       "}\n",
       "\n",
       "#sk-container-id-3 div.sk-container {\n",
       "  /* jupyter's `normalize.less` sets `[hidden] { display: none; }`\n",
       "     but bootstrap.min.css set `[hidden] { display: none !important; }`\n",
       "     so we also need the `!important` here to be able to override the\n",
       "     default hidden behavior on the sphinx rendered scikit-learn.org.\n",
       "     See: https://github.com/scikit-learn/scikit-learn/issues/21755 */\n",
       "  display: inline-block !important;\n",
       "  position: relative;\n",
       "}\n",
       "\n",
       "#sk-container-id-3 div.sk-text-repr-fallback {\n",
       "  display: none;\n",
       "}\n",
       "\n",
       "div.sk-parallel-item,\n",
       "div.sk-serial,\n",
       "div.sk-item {\n",
       "  /* draw centered vertical line to link estimators */\n",
       "  background-image: linear-gradient(var(--sklearn-color-text-on-default-background), var(--sklearn-color-text-on-default-background));\n",
       "  background-size: 2px 100%;\n",
       "  background-repeat: no-repeat;\n",
       "  background-position: center center;\n",
       "}\n",
       "\n",
       "/* Parallel-specific style estimator block */\n",
       "\n",
       "#sk-container-id-3 div.sk-parallel-item::after {\n",
       "  content: \"\";\n",
       "  width: 100%;\n",
       "  border-bottom: 2px solid var(--sklearn-color-text-on-default-background);\n",
       "  flex-grow: 1;\n",
       "}\n",
       "\n",
       "#sk-container-id-3 div.sk-parallel {\n",
       "  display: flex;\n",
       "  align-items: stretch;\n",
       "  justify-content: center;\n",
       "  background-color: var(--sklearn-color-background);\n",
       "  position: relative;\n",
       "}\n",
       "\n",
       "#sk-container-id-3 div.sk-parallel-item {\n",
       "  display: flex;\n",
       "  flex-direction: column;\n",
       "}\n",
       "\n",
       "#sk-container-id-3 div.sk-parallel-item:first-child::after {\n",
       "  align-self: flex-end;\n",
       "  width: 50%;\n",
       "}\n",
       "\n",
       "#sk-container-id-3 div.sk-parallel-item:last-child::after {\n",
       "  align-self: flex-start;\n",
       "  width: 50%;\n",
       "}\n",
       "\n",
       "#sk-container-id-3 div.sk-parallel-item:only-child::after {\n",
       "  width: 0;\n",
       "}\n",
       "\n",
       "/* Serial-specific style estimator block */\n",
       "\n",
       "#sk-container-id-3 div.sk-serial {\n",
       "  display: flex;\n",
       "  flex-direction: column;\n",
       "  align-items: center;\n",
       "  background-color: var(--sklearn-color-background);\n",
       "  padding-right: 1em;\n",
       "  padding-left: 1em;\n",
       "}\n",
       "\n",
       "\n",
       "/* Toggleable style: style used for estimator/Pipeline/ColumnTransformer box that is\n",
       "clickable and can be expanded/collapsed.\n",
       "- Pipeline and ColumnTransformer use this feature and define the default style\n",
       "- Estimators will overwrite some part of the style using the `sk-estimator` class\n",
       "*/\n",
       "\n",
       "/* Pipeline and ColumnTransformer style (default) */\n",
       "\n",
       "#sk-container-id-3 div.sk-toggleable {\n",
       "  /* Default theme specific background. It is overwritten whether we have a\n",
       "  specific estimator or a Pipeline/ColumnTransformer */\n",
       "  background-color: var(--sklearn-color-background);\n",
       "}\n",
       "\n",
       "/* Toggleable label */\n",
       "#sk-container-id-3 label.sk-toggleable__label {\n",
       "  cursor: pointer;\n",
       "  display: flex;\n",
       "  width: 100%;\n",
       "  margin-bottom: 0;\n",
       "  padding: 0.5em;\n",
       "  box-sizing: border-box;\n",
       "  text-align: center;\n",
       "  align-items: start;\n",
       "  justify-content: space-between;\n",
       "  gap: 0.5em;\n",
       "}\n",
       "\n",
       "#sk-container-id-3 label.sk-toggleable__label .caption {\n",
       "  font-size: 0.6rem;\n",
       "  font-weight: lighter;\n",
       "  color: var(--sklearn-color-text-muted);\n",
       "}\n",
       "\n",
       "#sk-container-id-3 label.sk-toggleable__label-arrow:before {\n",
       "  /* Arrow on the left of the label */\n",
       "  content: \"▸\";\n",
       "  float: left;\n",
       "  margin-right: 0.25em;\n",
       "  color: var(--sklearn-color-icon);\n",
       "}\n",
       "\n",
       "#sk-container-id-3 label.sk-toggleable__label-arrow:hover:before {\n",
       "  color: var(--sklearn-color-text);\n",
       "}\n",
       "\n",
       "/* Toggleable content - dropdown */\n",
       "\n",
       "#sk-container-id-3 div.sk-toggleable__content {\n",
       "  max-height: 0;\n",
       "  max-width: 0;\n",
       "  overflow: hidden;\n",
       "  text-align: left;\n",
       "  /* unfitted */\n",
       "  background-color: var(--sklearn-color-unfitted-level-0);\n",
       "}\n",
       "\n",
       "#sk-container-id-3 div.sk-toggleable__content.fitted {\n",
       "  /* fitted */\n",
       "  background-color: var(--sklearn-color-fitted-level-0);\n",
       "}\n",
       "\n",
       "#sk-container-id-3 div.sk-toggleable__content pre {\n",
       "  margin: 0.2em;\n",
       "  border-radius: 0.25em;\n",
       "  color: var(--sklearn-color-text);\n",
       "  /* unfitted */\n",
       "  background-color: var(--sklearn-color-unfitted-level-0);\n",
       "}\n",
       "\n",
       "#sk-container-id-3 div.sk-toggleable__content.fitted pre {\n",
       "  /* unfitted */\n",
       "  background-color: var(--sklearn-color-fitted-level-0);\n",
       "}\n",
       "\n",
       "#sk-container-id-3 input.sk-toggleable__control:checked~div.sk-toggleable__content {\n",
       "  /* Expand drop-down */\n",
       "  max-height: 200px;\n",
       "  max-width: 100%;\n",
       "  overflow: auto;\n",
       "}\n",
       "\n",
       "#sk-container-id-3 input.sk-toggleable__control:checked~label.sk-toggleable__label-arrow:before {\n",
       "  content: \"▾\";\n",
       "}\n",
       "\n",
       "/* Pipeline/ColumnTransformer-specific style */\n",
       "\n",
       "#sk-container-id-3 div.sk-label input.sk-toggleable__control:checked~label.sk-toggleable__label {\n",
       "  color: var(--sklearn-color-text);\n",
       "  background-color: var(--sklearn-color-unfitted-level-2);\n",
       "}\n",
       "\n",
       "#sk-container-id-3 div.sk-label.fitted input.sk-toggleable__control:checked~label.sk-toggleable__label {\n",
       "  background-color: var(--sklearn-color-fitted-level-2);\n",
       "}\n",
       "\n",
       "/* Estimator-specific style */\n",
       "\n",
       "/* Colorize estimator box */\n",
       "#sk-container-id-3 div.sk-estimator input.sk-toggleable__control:checked~label.sk-toggleable__label {\n",
       "  /* unfitted */\n",
       "  background-color: var(--sklearn-color-unfitted-level-2);\n",
       "}\n",
       "\n",
       "#sk-container-id-3 div.sk-estimator.fitted input.sk-toggleable__control:checked~label.sk-toggleable__label {\n",
       "  /* fitted */\n",
       "  background-color: var(--sklearn-color-fitted-level-2);\n",
       "}\n",
       "\n",
       "#sk-container-id-3 div.sk-label label.sk-toggleable__label,\n",
       "#sk-container-id-3 div.sk-label label {\n",
       "  /* The background is the default theme color */\n",
       "  color: var(--sklearn-color-text-on-default-background);\n",
       "}\n",
       "\n",
       "/* On hover, darken the color of the background */\n",
       "#sk-container-id-3 div.sk-label:hover label.sk-toggleable__label {\n",
       "  color: var(--sklearn-color-text);\n",
       "  background-color: var(--sklearn-color-unfitted-level-2);\n",
       "}\n",
       "\n",
       "/* Label box, darken color on hover, fitted */\n",
       "#sk-container-id-3 div.sk-label.fitted:hover label.sk-toggleable__label.fitted {\n",
       "  color: var(--sklearn-color-text);\n",
       "  background-color: var(--sklearn-color-fitted-level-2);\n",
       "}\n",
       "\n",
       "/* Estimator label */\n",
       "\n",
       "#sk-container-id-3 div.sk-label label {\n",
       "  font-family: monospace;\n",
       "  font-weight: bold;\n",
       "  display: inline-block;\n",
       "  line-height: 1.2em;\n",
       "}\n",
       "\n",
       "#sk-container-id-3 div.sk-label-container {\n",
       "  text-align: center;\n",
       "}\n",
       "\n",
       "/* Estimator-specific */\n",
       "#sk-container-id-3 div.sk-estimator {\n",
       "  font-family: monospace;\n",
       "  border: 1px dotted var(--sklearn-color-border-box);\n",
       "  border-radius: 0.25em;\n",
       "  box-sizing: border-box;\n",
       "  margin-bottom: 0.5em;\n",
       "  /* unfitted */\n",
       "  background-color: var(--sklearn-color-unfitted-level-0);\n",
       "}\n",
       "\n",
       "#sk-container-id-3 div.sk-estimator.fitted {\n",
       "  /* fitted */\n",
       "  background-color: var(--sklearn-color-fitted-level-0);\n",
       "}\n",
       "\n",
       "/* on hover */\n",
       "#sk-container-id-3 div.sk-estimator:hover {\n",
       "  /* unfitted */\n",
       "  background-color: var(--sklearn-color-unfitted-level-2);\n",
       "}\n",
       "\n",
       "#sk-container-id-3 div.sk-estimator.fitted:hover {\n",
       "  /* fitted */\n",
       "  background-color: var(--sklearn-color-fitted-level-2);\n",
       "}\n",
       "\n",
       "/* Specification for estimator info (e.g. \"i\" and \"?\") */\n",
       "\n",
       "/* Common style for \"i\" and \"?\" */\n",
       "\n",
       ".sk-estimator-doc-link,\n",
       "a:link.sk-estimator-doc-link,\n",
       "a:visited.sk-estimator-doc-link {\n",
       "  float: right;\n",
       "  font-size: smaller;\n",
       "  line-height: 1em;\n",
       "  font-family: monospace;\n",
       "  background-color: var(--sklearn-color-background);\n",
       "  border-radius: 1em;\n",
       "  height: 1em;\n",
       "  width: 1em;\n",
       "  text-decoration: none !important;\n",
       "  margin-left: 0.5em;\n",
       "  text-align: center;\n",
       "  /* unfitted */\n",
       "  border: var(--sklearn-color-unfitted-level-1) 1pt solid;\n",
       "  color: var(--sklearn-color-unfitted-level-1);\n",
       "}\n",
       "\n",
       ".sk-estimator-doc-link.fitted,\n",
       "a:link.sk-estimator-doc-link.fitted,\n",
       "a:visited.sk-estimator-doc-link.fitted {\n",
       "  /* fitted */\n",
       "  border: var(--sklearn-color-fitted-level-1) 1pt solid;\n",
       "  color: var(--sklearn-color-fitted-level-1);\n",
       "}\n",
       "\n",
       "/* On hover */\n",
       "div.sk-estimator:hover .sk-estimator-doc-link:hover,\n",
       ".sk-estimator-doc-link:hover,\n",
       "div.sk-label-container:hover .sk-estimator-doc-link:hover,\n",
       ".sk-estimator-doc-link:hover {\n",
       "  /* unfitted */\n",
       "  background-color: var(--sklearn-color-unfitted-level-3);\n",
       "  color: var(--sklearn-color-background);\n",
       "  text-decoration: none;\n",
       "}\n",
       "\n",
       "div.sk-estimator.fitted:hover .sk-estimator-doc-link.fitted:hover,\n",
       ".sk-estimator-doc-link.fitted:hover,\n",
       "div.sk-label-container:hover .sk-estimator-doc-link.fitted:hover,\n",
       ".sk-estimator-doc-link.fitted:hover {\n",
       "  /* fitted */\n",
       "  background-color: var(--sklearn-color-fitted-level-3);\n",
       "  color: var(--sklearn-color-background);\n",
       "  text-decoration: none;\n",
       "}\n",
       "\n",
       "/* Span, style for the box shown on hovering the info icon */\n",
       ".sk-estimator-doc-link span {\n",
       "  display: none;\n",
       "  z-index: 9999;\n",
       "  position: relative;\n",
       "  font-weight: normal;\n",
       "  right: .2ex;\n",
       "  padding: .5ex;\n",
       "  margin: .5ex;\n",
       "  width: min-content;\n",
       "  min-width: 20ex;\n",
       "  max-width: 50ex;\n",
       "  color: var(--sklearn-color-text);\n",
       "  box-shadow: 2pt 2pt 4pt #999;\n",
       "  /* unfitted */\n",
       "  background: var(--sklearn-color-unfitted-level-0);\n",
       "  border: .5pt solid var(--sklearn-color-unfitted-level-3);\n",
       "}\n",
       "\n",
       ".sk-estimator-doc-link.fitted span {\n",
       "  /* fitted */\n",
       "  background: var(--sklearn-color-fitted-level-0);\n",
       "  border: var(--sklearn-color-fitted-level-3);\n",
       "}\n",
       "\n",
       ".sk-estimator-doc-link:hover span {\n",
       "  display: block;\n",
       "}\n",
       "\n",
       "/* \"?\"-specific style due to the `<a>` HTML tag */\n",
       "\n",
       "#sk-container-id-3 a.estimator_doc_link {\n",
       "  float: right;\n",
       "  font-size: 1rem;\n",
       "  line-height: 1em;\n",
       "  font-family: monospace;\n",
       "  background-color: var(--sklearn-color-background);\n",
       "  border-radius: 1rem;\n",
       "  height: 1rem;\n",
       "  width: 1rem;\n",
       "  text-decoration: none;\n",
       "  /* unfitted */\n",
       "  color: var(--sklearn-color-unfitted-level-1);\n",
       "  border: var(--sklearn-color-unfitted-level-1) 1pt solid;\n",
       "}\n",
       "\n",
       "#sk-container-id-3 a.estimator_doc_link.fitted {\n",
       "  /* fitted */\n",
       "  border: var(--sklearn-color-fitted-level-1) 1pt solid;\n",
       "  color: var(--sklearn-color-fitted-level-1);\n",
       "}\n",
       "\n",
       "/* On hover */\n",
       "#sk-container-id-3 a.estimator_doc_link:hover {\n",
       "  /* unfitted */\n",
       "  background-color: var(--sklearn-color-unfitted-level-3);\n",
       "  color: var(--sklearn-color-background);\n",
       "  text-decoration: none;\n",
       "}\n",
       "\n",
       "#sk-container-id-3 a.estimator_doc_link.fitted:hover {\n",
       "  /* fitted */\n",
       "  background-color: var(--sklearn-color-fitted-level-3);\n",
       "}\n",
       "</style><div id=\"sk-container-id-3\" class=\"sk-top-container\"><div class=\"sk-text-repr-fallback\"><pre>LogisticRegression(max_iter=1000)</pre><b>In a Jupyter environment, please rerun this cell to show the HTML representation or trust the notebook. <br />On GitHub, the HTML representation is unable to render, please try loading this page with nbviewer.org.</b></div><div class=\"sk-container\" hidden><div class=\"sk-item\"><div class=\"sk-estimator fitted sk-toggleable\"><input class=\"sk-toggleable__control sk-hidden--visually\" id=\"sk-estimator-id-3\" type=\"checkbox\" checked><label for=\"sk-estimator-id-3\" class=\"sk-toggleable__label fitted sk-toggleable__label-arrow\"><div><div>LogisticRegression</div></div><div><a class=\"sk-estimator-doc-link fitted\" rel=\"noreferrer\" target=\"_blank\" href=\"https://scikit-learn.org/1.6/modules/generated/sklearn.linear_model.LogisticRegression.html\">?<span>Documentation for LogisticRegression</span></a><span class=\"sk-estimator-doc-link fitted\">i<span>Fitted</span></span></div></label><div class=\"sk-toggleable__content fitted\"><pre>LogisticRegression(max_iter=1000)</pre></div> </div></div></div></div>"
      ],
      "text/plain": [
       "LogisticRegression(max_iter=1000)"
      ]
     },
     "execution_count": 47,
     "metadata": {},
     "output_type": "execute_result"
    }
   ],
   "source": [
    "from sklearn.linear_model import LogisticRegression\n",
    "\n",
    "# Создание объекта логистической регрессии\n",
    "log_reg = LogisticRegression(max_iter=1000)\n",
    "\n",
    "# Обучение модели на подготовленных тренировочных данных\n",
    "log_reg.fit(X_train, y_train)"
   ]
  },
  {
   "cell_type": "markdown",
   "id": "ca342a63",
   "metadata": {},
   "source": [
    "## Предсказание"
   ]
  },
  {
   "cell_type": "code",
   "execution_count": 49,
   "id": "6b8d26bf",
   "metadata": {},
   "outputs": [],
   "source": [
    "# Прогнозирование классов на тестовом наборе\n",
    "probs = log_reg.predict_proba(X_test)[:, 1]\n",
    "predictions = log_reg.predict(X_test)"
   ]
  },
  {
   "cell_type": "markdown",
   "id": "01d5ffb3",
   "metadata": {},
   "source": [
    "## График Recall-Precision\n",
    "\n",
    "Этот график особенно полезен, когда в данных наблюдается значительный дисбаланс классов (мало положительных примеров по сравнению с отрицательными). В нашем случае таких примерно 8% (то 8% точек относятся к фигуре \"wide_lines\")."
   ]
  },
  {
   "cell_type": "code",
   "execution_count": 51,
   "id": "dcfd4c4a",
   "metadata": {},
   "outputs": [
    {
     "data": {
      "text/plain": [
       "<matplotlib.legend.Legend at 0x1d8956467e0>"
      ]
     },
     "execution_count": 51,
     "metadata": {},
     "output_type": "execute_result"
    },
    {
     "data": {
      "image/png": "[encoded data removed]",
      "text/plain": [
       "<Figure size 1000x500 with 1 Axes>"
      ]
     },
     "metadata": {},
     "output_type": "display_data"
    }
   ],
   "source": [
    "from sklearn.metrics import precision_recall_curve, roc_curve, auc\n",
    "import matplotlib.pyplot as plt\n",
    "\n",
    "# Строим график Precision-Recall\n",
    "precisions, recalls, thresholds = precision_recall_curve(y_test, probs)\n",
    "\n",
    "plt.figure(figsize=(10, 5))\n",
    "plt.subplot(1, 2, 1)\n",
    "plt.plot(recalls, precisions, color=corp_col, label=\"Precision-Recall Curve\")\n",
    "plt.axhline( y = y_test.loc[y_test[\"dataset\"] > 0].count().values[0]  / y_test.loc[y_test[\"dataset\"] == 0].count().values[0], color='steelblue')\n",
    "plt.xlabel('Recall')\n",
    "plt.ylabel('Precision')\n",
    "plt.title('Precision-Recall Curve')\n",
    "plt.legend(loc=\"best\")\n"
   ]
  },
  {
   "cell_type": "markdown",
   "id": "8cc214a4",
   "metadata": {},
   "source": [
    "### Базовая линия -- горизонтальная прямую на уровне доли положительных примеров во всей выборке (8% точек относятся к фигуре \"wide_lines\"). Эта линия служит ориентиром, показывая, какой бы была точность модели, если бы она случайно назначала выбирала класс с вероятностью равной доле положительных примеров в наборе данных. Поэтому результаты точности на уровне или ниже базовой линии является показателем случайности выбора класса, то есть неработоспособности модели для данной задачи, что мы и наблюдаем на графике."
   ]
  },
  {
   "cell_type": "code",
   "execution_count": 52,
   "id": "65db0861",
   "metadata": {},
   "outputs": [
    {
     "data": {
      "text/plain": [
       "(np.float64(0.05859499854347358), np.float64(0.09362667783089636))"
      ]
     },
     "execution_count": 52,
     "metadata": {},
     "output_type": "execute_result"
    }
   ],
   "source": [
    "min(thresholds), max(thresholds)"
   ]
  },
  {
   "cell_type": "markdown",
   "id": "2a9904ee",
   "metadata": {},
   "source": [
    "#### Уровень вероятности отсечки классов для модели по результатам построяения графика тоже в районе 8%."
   ]
  },
  {
   "cell_type": "code",
   "execution_count": 53,
   "id": "230eae5a",
   "metadata": {},
   "outputs": [
    {
     "data": {
      "text/plain": [
       "np.int64(1476)"
      ]
     },
     "execution_count": 53,
     "metadata": {},
     "output_type": "execute_result"
    }
   ],
   "source": [
    "y_train[\"dataset\"].count()"
   ]
  },
  {
   "cell_type": "markdown",
   "id": "2145c5ab",
   "metadata": {},
   "source": [
    "## График ROC"
   ]
  },
  {
   "cell_type": "code",
   "execution_count": 54,
   "id": "71f668ce",
   "metadata": {},
   "outputs": [
    {
     "data": {
      "image/png": "[encoded data removed]",
      "text/plain": [
       "<Figure size 640x480 with 1 Axes>"
      ]
     },
     "metadata": {},
     "output_type": "display_data"
    }
   ],
   "source": [
    "fpr, tpr, thresholds = roc_curve(y_test, probs)\n",
    "roc_auc = auc(fpr, tpr)\n",
    "plt.subplot(1, 2, 2)\n",
    "plt.plot(fpr, tpr, color=corp_col, lw=2, label=f'ROC curve (AUC = {roc_auc:.2f})')\n",
    "plt.plot([0, 1], [0, 1], color='steelblue', lw=2)  # Диагональная линия\n",
    "plt.xlim([0.0, 1.0])\n",
    "plt.ylim([0.0, 1.05])\n",
    "plt.xlabel('False Positive Rate')\n",
    "plt.ylabel('True Positive Rate')\n",
    "plt.title('ROC Curve')\n",
    "plt.legend(loc=\"lower right\")\n",
    "\n",
    "plt.tight_layout()\n",
    "plt.show()"
   ]
  },
  {
   "cell_type": "markdown",
   "id": "7db4abdc",
   "metadata": {},
   "source": [
    "Интерпретация метрики AUC-ROC (Area Under Curve):\n",
    "\n",
    "    1. AUC = 0.5 → случайное угадывание.\n",
    "    2. AUC > 0.85 → хорошая модель.\n",
    "    3. AUC = 1.0 → идеальное разделение.\n",
    "\n",
    "#### В нашем случае показатель AUC-ROC также показывает на случайное угадывание. "
   ]
  },
  {
   "cell_type": "markdown",
   "id": "4500374c",
   "metadata": {},
   "source": [
    "## Матрица ошибок"
   ]
  },
  {
   "cell_type": "code",
   "execution_count": 55,
   "id": "0fdeb063",
   "metadata": {},
   "outputs": [
    {
     "data": {
      "image/png": "[encoded data removed]",
      "text/plain": [
       "<Figure size 600x500 with 2 Axes>"
      ]
     },
     "metadata": {},
     "output_type": "display_data"
    }
   ],
   "source": [
    "# Рассчитываем матрицу ошибок\n",
    "from sklearn.metrics import confusion_matrix\n",
    "import numpy as np\n",
    "import seaborn as sns\n",
    "import matplotlib.pyplot as plt\n",
    "from matplotlib.colors import LinearSegmentedColormap\n",
    "\n",
    "# Матрица ошибок\n",
    "cm = confusion_matrix(y_test, predictions)\n",
    "\n",
    "# Исходный зеленый цвет в HEX\n",
    "hex_green_color = corp_col\n",
    "\n",
    "# Преобразуем hex-код в tuple (R,G,B)\n",
    "rgb_green_color = tuple(int(hex_green_color[i:i+2], 16)/255 for i in (1, 3, 5))  # конвертируем каждый байт из HEX в float\n",
    "\n",
    "# Создаем градиент от белого (1,1,1) до нашего зеленого цвета\n",
    "colors = [(1, 1, 1), rgb_green_color]\n",
    "\n",
    "# Создаем линейную сегментированную цветовую карту\n",
    "c_map = LinearSegmentedColormap.from_list(\"\", colors)\n",
    "\n",
    "# Строим матрицу ошибок с градиентом цветов\n",
    "plt.figure(figsize=(6, 5))\n",
    "sns.heatmap(cm, annot=True, fmt=\"d\", cmap=c_map, linewidths=.5, square=True)\n",
    "plt.xlabel(\"Predicted Labels\")\n",
    "plt.ylabel(\"True Labels\")\n",
    "plt.title(\"Confusion Matrix with White to Green Gradient\")\n",
    "plt.show()"
   ]
  },
  {
   "cell_type": "markdown",
   "id": "d2c35c81",
   "metadata": {},
   "source": [
    "### При стандартном пороге вероятности 0.5, модель ни разу не спрогнозировала 1, с учетом дисбаланса в выборке понизим порог!"
   ]
  },
  {
   "cell_type": "markdown",
   "id": "c7c165d7",
   "metadata": {},
   "source": [
    "## Применяем новую классификацию с другим порогом"
   ]
  },
  {
   "cell_type": "markdown",
   "id": "e4927472",
   "metadata": {},
   "source": [
    "### Попробуем циклом пройтись по значениям порога и выбрать такой, при котором будет максимальный f1-score."
   ]
  },
  {
   "cell_type": "code",
   "execution_count": 61,
   "id": "43353edc",
   "metadata": {},
   "outputs": [
    {
     "name": "stdout",
     "output_type": "stream",
     "text": [
      "0.0600000000000000050.50: 0.0000\n"
     ]
    }
   ],
   "source": [
    "from sklearn.metrics import f1_score\n",
    "\n",
    "best_threshold = 0\n",
    "best_f1 = 0\n",
    "for threshold in np.linspace(0.01, 0.5, 50):\n",
    "    y_pred = (probs >= threshold).astype(int)\n",
    "    score = f1_score(y_test, y_pred)\n",
    "    print(\"F1-score при пороге {:.2f}: {:.4f}\".format(threshold, score), end=\"\\r\")\n",
    "    if score > best_f1:\n",
    "        best_f1 = score\n",
    "        best_threshold = threshold\n",
    "        \n",
    "print(best_threshold)"
   ]
  },
  {
   "cell_type": "markdown",
   "id": "f55e3f19",
   "metadata": {},
   "source": [
    "### Оптимальное значение порога 0.06"
   ]
  },
  {
   "cell_type": "code",
   "execution_count": 62,
   "id": "e2c1fd72",
   "metadata": {},
   "outputs": [],
   "source": [
    "# Применяем новую классификацию с другим порогом\n",
    "predictions2 = (probs >= 0.06).astype(int)"
   ]
  },
  {
   "cell_type": "code",
   "execution_count": 63,
   "id": "91f51771",
   "metadata": {},
   "outputs": [
    {
     "data": {
      "image/png": "[encoded data removed]",
      "text/plain": [
       "<Figure size 600x500 with 2 Axes>"
      ]
     },
     "metadata": {},
     "output_type": "display_data"
    }
   ],
   "source": [
    "# Матрица ошибок\n",
    "cm = confusion_matrix(y_test, predictions2)\n",
    "\n",
    "# Исходный зеленый цвет в HEX\n",
    "hex_green_color = corp_col\n",
    "\n",
    "# Преобразуем hex-код в tuple (R,G,B)\n",
    "rgb_green_color = tuple(int(hex_green_color[i:i+2], 16)/255 for i in (1, 3, 5))  # конвертируем каждый байт из HEX в float\n",
    "\n",
    "# Создаем градиент от белого (1,1,1) до нашего зеленого цвета\n",
    "colors = [(1, 1, 1), rgb_green_color]\n",
    "\n",
    "# Создаем линейную сегментированную цветовую карту\n",
    "c_map = LinearSegmentedColormap.from_list(\"\", colors)\n",
    "\n",
    "# Строим матрицу ошибок с градиентом цветов\n",
    "plt.figure(figsize=(6, 5))\n",
    "sns.heatmap(cm, annot=True, fmt=\"d\", cmap=c_map, linewidths=.5, square=True)\n",
    "plt.xlabel(\"Predicted Labels\")\n",
    "plt.ylabel(\"True Labels\")\n",
    "plt.title(\"Confusion Matrix with White to Green Gradient\")\n",
    "plt.show()"
   ]
  },
  {
   "cell_type": "markdown",
   "id": "d3d5b5e8",
   "metadata": {},
   "source": [
    "### Снижения порога вероятности (threshold) разделения классов, приводит лишь к перетеканию предсказаний из True Negative в False Negative. Модель попрежнему не способна выделить координаты интересующенй нас фигуры (True Positive)."
   ]
  },
  {
   "cell_type": "markdown",
   "id": "439fff04",
   "metadata": {},
   "source": [
    "## Метрики качества"
   ]
  },
  {
   "cell_type": "code",
   "execution_count": 64,
   "id": "5ac5b8b8",
   "metadata": {},
   "outputs": [],
   "source": [
    "import numpy as np\n",
    "from sklearn.metrics import mean_squared_error, r2_score, mean_absolute_error"
   ]
  },
  {
   "cell_type": "code",
   "execution_count": 65,
   "id": "73ad2612",
   "metadata": {},
   "outputs": [
    {
     "name": "stdout",
     "output_type": "stream",
     "text": [
      "\n",
      "Метрики:\n",
      "Прецизионность (Precision): 0.082\n",
      "Полнота (Recall): 1.000\n",
      "Специфичность (Specificity): 0.009\n",
      "F1-Score: 0.151\n",
      "Общая точность (Accuracy): 0.089\n"
     ]
    }
   ],
   "source": [
    "TP = cm[1, 1]\n",
    "FP = cm[0, 1]\n",
    "FN = cm[1, 0]\n",
    "TN = cm[0, 0]\n",
    "\n",
    "# Ручной расчет метрик\n",
    "precision_manual = TP / (TP + FP)\n",
    "recall_manual = TP / (TP + FN)\n",
    "specificity_manual = TN / (TN + FP)\n",
    "f1_manual = 2 * ((precision_manual * recall_manual) / (precision_manual + recall_manual))\n",
    "accuracy_manual = (TP + TN) / (TP + TN + FP + FN)\n",
    "\n",
    "print(\"\\nМетрики:\")\n",
    "print(f\"Прецизионность (Precision): {precision_manual:.3f}\")\n",
    "print(f\"Полнота (Recall): {recall_manual:.3f}\")\n",
    "print(f\"Специфичность (Specificity): {specificity_manual:.3f}\")\n",
    "print(f\"F1-Score: {f1_manual:.3f}\")\n",
    "print(f\"Общая точность (Accuracy): {accuracy_manual:.3f}\")"
   ]
  },
  {
   "cell_type": "markdown",
   "id": "480c8aea",
   "metadata": {},
   "source": [
    "### Точность по-прежнему на уровне случайности!"
   ]
  },
  {
   "cell_type": "markdown",
   "id": "a8742d8d",
   "metadata": {},
   "source": [
    "# Общие выводы\n",
    "\n",
    "### Логистическая регрессия на основе координат оказалась неспобна выделить интересующую нас фигуру как на стандартнои пороге 0.5, так и на оптимальной пороге 0.06. Точность оказалась на уровне случайного гадания."
   ]
  },
  {
   "cell_type": "code",
   "execution_count": 69,
   "id": "4946926b",
   "metadata": {},
   "outputs": [
    {
     "data": {
      "application/vnd.plotly.v1+json": {
       "config": {
        "plotlyServerURL": "https://plot.ly"
       },
       "data": [
        {
         "hovertemplate": "x=%{x}<br>y=%{y}<extra></extra>",
         "legendgroup": "",
         "marker": {
          "color": "#40ba21",
          "symbol": "circle"
         },
         "mode": "markers",
         "name": "",
         "orientation": "v",
         "showlegend": false,
         "type": "scatter",
         "x": {
          "bdata": "j7gUzzF0UED0CnVkBmtQQGQaPgNZgENAxcpze8zlQkAGfZB+x8FBQBGSZwgXnENA3TC1XZSWP0AEBeATMlRAQJ7EgNk/pD9AMwLKYLX8PkAbdni8i3A7QLdVfg0QlD5Abj4Y8jTPPEBIEiFKhPA7QLTamCfL7EBAhxkpenFQQEDsHKivJThAQHUirSdN60FArZVfdi6SQkAc0zqCgFJBQEJxPKlz1kFAhK7QSac/UEAQi6r9Q4hQQH/tWQqaclBAa4JvLB3gUEBhPQD2SehQQItEp/p89E9AQ1dTriijUED4/pp1TANQQJW7RdteDFFAZzzqINFRUECAnU1es39BQL/uRvg99kBAgBT6+kiAUECd24gP+oJCQMXaBepgWUFA1UGvVoVuQUAdY0iBDhc/QCBpHFztdUFAbLO7hOZXPkDJtWm43b1BQCPxfIsRnkBAXyCOElC4QUDbXvgoz+9AQKLVqlVrkDxAELUR8c1RP0DWt4cV0ss+QLAwRJfeHUFAdBHNpr1QQkCQGJYmOUZBQC7rWWuDwkJA6BUAQH02T0B/WQcrgRRQQJnDy5qDXFBAtQDgJdcUUED0pr/q6lBQQGXceYfgmFBABAt/RUAMUUCI1642miJRQPCuzeNU6lBAqlGvpzsrUUD8rH28OkVRQH4NyCseQ1FAaY6L7rnTUEAXpeTSgVtDQF5HF/knxkFAS+G6VPdaQkCnl7gPaTpQQEn7x8wahFBAnF++ROY7UEChz7sBs8FQQGLRnhoZVFBAfrUZ2eQSUEClfgpDJWZDQL6wNjd/VkFAaCf5jCG4PkAD4OeVdQ1BQMBCfwwxtkBAY9srdRWUUEAPrW0A0VNQQJ7xG2yzbVBAOTgUI/vlUECZIplG1ZhQQAN6B5aY81BAqSxJaJu9UUAw0FzAl/9RQCEADpu1HlJAzfgG/ASFUkBgmvuKUgJSQCIRrEjiP1JASGpI9fmzUkCkmJJdv0FSQOJs2o9LRFNAV/NAxRjBUkC/UuJmlCpTQH5j9a6delNA9kvbrn1vUkDk+K6zG9VSQJYWoyaJtE9AKTR2rdA2UUA+vzFFnpVQQJpGU7kJDVBAN9AUoukfUECbUXr9BTlRQEqa0gnHF1JAOtoDufxwUUCetkOVwydRQNa0NSAOE1BAL2ldwsCsUEDXhaGK2eJQQOA4/Lg1+U9ATNeNI9gYUECHBOyge2RQQKaEoiiQM0NA0HfkxYrqQkDp86KNu3NCQKgo5VWgJEJAIRp6YLBkT0DKxzzbVLRQQHcUVEVSsFBAc4lfBJhaUECXo4BjIXlCQFm1dNin6UJAGL8m9IVcQkC8cNZNscRQQCntFzCEJlBAPDNmbvxbUEBuxxTnQcBQQAVisilZrlBAHuWbBrATUUBXr/SzJzFRQNbCjZS0ilJAdtoId585UEDIgWAY3DBRQPiJTlFItFBAC63gVczTUEBQ2TKVrF1BQLIA0B5U1kBARydB8iToUkA/DACXGE5EQAnHW4+jjkNAiTAI6LpKQUA=",
          "dtype": "f8"
         },
         "xaxis": "x",
         "y": {
          "bdata": "KnKq66flV0DPCPTavPtWQN6C1/TBEFdAVDKmvxNiV0Ditn0hWWZWQLdTCmjI4lRAN3phnMtBU0ChHuaASQdUQHLMFOQXZ1NA22gd6dX4T0CTtPRHpW9QQGhx9Y1nYVBAxFsJE33PTUAUOxOEFn5JQPIhnqhpJEdAlos8/icIS0BJCYgklvNIQPHA5ZH9rEpA4LcRdvneSEDGxAuG2DhLQJNgyRQV0EhAR421eii7SEBdmwBZZdJOQKK4hgEC+UtAyRnsQNRsTkAbzJzy7LZOQMKgk3h1fE9AnSdrC3DuUECyY/PW+GhIQP6iyL6SRUdAwAslUwFpRkAj0vnjC6I8QNPSAhuDx0pAbZsRPaNXSkBdGV1oKg9AQPq0f2fYPEJA2BiJS3TwPkAPL+nfHjFAQMBNzGCPtUFA/u/W4iRDQEDZmrXk7T5GQNM79mJRQENAE6RODxXmR0Dno7rwK4dCQIaVrd0tUEFAXhOSSPupP0Atj5Jv34Q3QEUmDhD0fjZADm4UnRF6P0Ad4BxBcBw6QJY64dGBRD1AoncTjagFQUBeIY8DH8k/QEj/hQUCo0VAWM5dUNjORECrvtuB2NtBQNCWGZUgbENAg3+ju7GVRkBLAY6hIThIQEm7N2HHiElAVhp10Iw7SUDyvZ3FrbxLQIfNJEttl1BABENPa8flUUAih6UVaBlTQBp4Y7mEU1ZAVqRjQsyEVUDmvvu4VOlVQLJPd9NaTVZAy8Ex6Z3EVUAP4fKwPQ5TQLJe2mEUfFNAtcVpCw4IVUA6l6eRFKdSQKXlFmvO6FNA3kmzlfFnTUBE2nHERAhQQO1lw6ggxlBAUgJt8pW7WEC8Mv7tkYpYQG5MRzAp0lhAelkvF+y8VkDxixqu/1FWQMIhAxkL7FZASzp15iihVUDhjcVpirRTQMJsJWQ+M1RAYNWo4eU8UkAiYLy8021RQH1iiNgz1U1AW3qnT4HLTEB1rJSWGCNHQGsU0lVTvklAn1RiM6xPR0BPgMYkWjhDQPhj0M2i9kZAWAFzcnyPQ0Dxjbr4SGpAQA5V/qNZMENA+hb+VcWKRUBGrEG4O6dAQKesvqzkpDpAgoRHbA7dNkCMg3Ui1Es7QO0vwQUu9jVAHdIIM/b/M0Aqi3fFaeoyQCPZIYrCbTRAvCluXlGXMkAX4dUSrHIwQN6fulFesTJAYvcfDa6LL0DItRq7CMQ3QAuiEO7+CzNA71mz62DwLEB1uuvl6SorQASfU8oTGzFAex2QQ4bWK0CZT9LTMtMmQCIIuY7WFTJAbgHTeFHtJEAXKdV8XAcrQPiEZMS6MyNAnk3hkqaqIkBJLapOZTIYQMPzpUL7AChAz7MV2DwXL0AYwnMwELEuQDK7CALN/xRAGs5bStSPKkDdG2ta/AorQJI45CtHZhVA7X6hQMk+MECtmDR/sWYhQIt2NzztiyhAfVheiNzGyz8a2uo9D5ozQOSOzF0qFzpAKSCh8XqQQkBvaG4nuEhWQBZEfQPVHlhAI272kbBlVkA=",
          "dtype": "f8"
         },
         "yaxis": "y"
        }
       ],
       "layout": {
        "legend": {
         "tracegroupgap": 0
        },
        "margin": {
         "t": 60
        },
        "plot_bgcolor": "white",
        "template": {
         "data": {
          "bar": [
           {
            "error_x": {
             "color": "#2a3f5f"
            },
            "error_y": {
             "color": "#2a3f5f"
            },
            "marker": {
             "line": {
              "color": "#E5ECF6",
              "width": 0.5
             },
             "pattern": {
              "fillmode": "overlay",
              "size": 10,
              "solidity": 0.2
             }
            },
            "type": "bar"
           }
          ],
          "barpolar": [
           {
            "marker": {
             "line": {
              "color": "#E5ECF6",
              "width": 0.5
             },
             "pattern": {
              "fillmode": "overlay",
              "size": 10,
              "solidity": 0.2
             }
            },
            "type": "barpolar"
           }
          ],
          "carpet": [
           {
            "aaxis": {
             "endlinecolor": "#2a3f5f",
             "gridcolor": "white",
             "linecolor": "white",
             "minorgridcolor": "white",
             "startlinecolor": "#2a3f5f"
            },
            "baxis": {
             "endlinecolor": "#2a3f5f",
             "gridcolor": "white",
             "linecolor": "white",
             "minorgridcolor": "white",
             "startlinecolor": "#2a3f5f"
            },
            "type": "carpet"
           }
          ],
          "choropleth": [
           {
            "colorbar": {
             "outlinewidth": 0,
             "ticks": ""
            },
            "type": "choropleth"
           }
          ],
          "contour": [
           {
            "colorbar": {
             "outlinewidth": 0,
             "ticks": ""
            },
            "colorscale": [
             [
              0,
              "#0d0887"
             ],
             [
              0.1111111111111111,
              "#46039f"
             ],
             [
              0.2222222222222222,
              "#7201a8"
             ],
             [
              0.3333333333333333,
              "#9c179e"
             ],
             [
              0.4444444444444444,
              "#bd3786"
             ],
             [
              0.5555555555555556,
              "#d8576b"
             ],
             [
              0.6666666666666666,
              "#ed7953"
             ],
             [
              0.7777777777777778,
              "#fb9f3a"
             ],
             [
              0.8888888888888888,
              "#fdca26"
             ],
             [
              1,
              "#f0f921"
             ]
            ],
            "type": "contour"
           }
          ],
          "contourcarpet": [
           {
            "colorbar": {
             "outlinewidth": 0,
             "ticks": ""
            },
            "type": "contourcarpet"
           }
          ],
          "heatmap": [
           {
            "colorbar": {
             "outlinewidth": 0,
             "ticks": ""
            },
            "colorscale": [
             [
              0,
              "#0d0887"
             ],
             [
              0.1111111111111111,
              "#46039f"
             ],
             [
              0.2222222222222222,
              "#7201a8"
             ],
             [
              0.3333333333333333,
              "#9c179e"
             ],
             [
              0.4444444444444444,
              "#bd3786"
             ],
             [
              0.5555555555555556,
              "#d8576b"
             ],
             [
              0.6666666666666666,
              "#ed7953"
             ],
             [
              0.7777777777777778,
              "#fb9f3a"
             ],
             [
              0.8888888888888888,
              "#fdca26"
             ],
             [
              1,
              "#f0f921"
             ]
            ],
            "type": "heatmap"
           }
          ],
          "histogram": [
           {
            "marker": {
             "pattern": {
              "fillmode": "overlay",
              "size": 10,
              "solidity": 0.2
             }
            },
            "type": "histogram"
           }
          ],
          "histogram2d": [
           {
            "colorbar": {
             "outlinewidth": 0,
             "ticks": ""
            },
            "colorscale": [
             [
              0,
              "#0d0887"
             ],
             [
              0.1111111111111111,
              "#46039f"
             ],
             [
              0.2222222222222222,
              "#7201a8"
             ],
             [
              0.3333333333333333,
              "#9c179e"
             ],
             [
              0.4444444444444444,
              "#bd3786"
             ],
             [
              0.5555555555555556,
              "#d8576b"
             ],
             [
              0.6666666666666666,
              "#ed7953"
             ],
             [
              0.7777777777777778,
              "#fb9f3a"
             ],
             [
              0.8888888888888888,
              "#fdca26"
             ],
             [
              1,
              "#f0f921"
             ]
            ],
            "type": "histogram2d"
           }
          ],
          "histogram2dcontour": [
           {
            "colorbar": {
             "outlinewidth": 0,
             "ticks": ""
            },
            "colorscale": [
             [
              0,
              "#0d0887"
             ],
             [
              0.1111111111111111,
              "#46039f"
             ],
             [
              0.2222222222222222,
              "#7201a8"
             ],
             [
              0.3333333333333333,
              "#9c179e"
             ],
             [
              0.4444444444444444,
              "#bd3786"
             ],
             [
              0.5555555555555556,
              "#d8576b"
             ],
             [
              0.6666666666666666,
              "#ed7953"
             ],
             [
              0.7777777777777778,
              "#fb9f3a"
             ],
             [
              0.8888888888888888,
              "#fdca26"
             ],
             [
              1,
              "#f0f921"
             ]
            ],
            "type": "histogram2dcontour"
           }
          ],
          "mesh3d": [
           {
            "colorbar": {
             "outlinewidth": 0,
             "ticks": ""
            },
            "type": "mesh3d"
           }
          ],
          "parcoords": [
           {
            "line": {
             "colorbar": {
              "outlinewidth": 0,
              "ticks": ""
             }
            },
            "type": "parcoords"
           }
          ],
          "pie": [
           {
            "automargin": true,
            "type": "pie"
           }
          ],
          "scatter": [
           {
            "fillpattern": {
             "fillmode": "overlay",
             "size": 10,
             "solidity": 0.2
            },
            "type": "scatter"
           }
          ],
          "scatter3d": [
           {
            "line": {
             "colorbar": {
              "outlinewidth": 0,
              "ticks": ""
             }
            },
            "marker": {
             "colorbar": {
              "outlinewidth": 0,
              "ticks": ""
             }
            },
            "type": "scatter3d"
           }
          ],
          "scattercarpet": [
           {
            "marker": {
             "colorbar": {
              "outlinewidth": 0,
              "ticks": ""
             }
            },
            "type": "scattercarpet"
           }
          ],
          "scattergeo": [
           {
            "marker": {
             "colorbar": {
              "outlinewidth": 0,
              "ticks": ""
             }
            },
            "type": "scattergeo"
           }
          ],
          "scattergl": [
           {
            "marker": {
             "colorbar": {
              "outlinewidth": 0,
              "ticks": ""
             }
            },
            "type": "scattergl"
           }
          ],
          "scattermap": [
           {
            "marker": {
             "colorbar": {
              "outlinewidth": 0,
              "ticks": ""
             }
            },
            "type": "scattermap"
           }
          ],
          "scattermapbox": [
           {
            "marker": {
             "colorbar": {
              "outlinewidth": 0,
              "ticks": ""
             }
            },
            "type": "scattermapbox"
           }
          ],
          "scatterpolar": [
           {
            "marker": {
             "colorbar": {
              "outlinewidth": 0,
              "ticks": ""
             }
            },
            "type": "scatterpolar"
           }
          ],
          "scatterpolargl": [
           {
            "marker": {
             "colorbar": {
              "outlinewidth": 0,
              "ticks": ""
             }
            },
            "type": "scatterpolargl"
           }
          ],
          "scatterternary": [
           {
            "marker": {
             "colorbar": {
              "outlinewidth": 0,
              "ticks": ""
             }
            },
            "type": "scatterternary"
           }
          ],
          "surface": [
           {
            "colorbar": {
             "outlinewidth": 0,
             "ticks": ""
            },
            "colorscale": [
             [
              0,
              "#0d0887"
             ],
             [
              0.1111111111111111,
              "#46039f"
             ],
             [
              0.2222222222222222,
              "#7201a8"
             ],
             [
              0.3333333333333333,
              "#9c179e"
             ],
             [
              0.4444444444444444,
              "#bd3786"
             ],
             [
              0.5555555555555556,
              "#d8576b"
             ],
             [
              0.6666666666666666,
              "#ed7953"
             ],
             [
              0.7777777777777778,
              "#fb9f3a"
             ],
             [
              0.8888888888888888,
              "#fdca26"
             ],
             [
              1,
              "#f0f921"
             ]
            ],
            "type": "surface"
           }
          ],
          "table": [
           {
            "cells": {
             "fill": {
              "color": "#EBF0F8"
             },
             "line": {
              "color": "white"
             }
            },
            "header": {
             "fill": {
              "color": "#C8D4E3"
             },
             "line": {
              "color": "white"
             }
            },
            "type": "table"
           }
          ]
         },
         "layout": {
          "annotationdefaults": {
           "arrowcolor": "#2a3f5f",
           "arrowhead": 0,
           "arrowwidth": 1
          },
          "autotypenumbers": "strict",
          "coloraxis": {
           "colorbar": {
            "outlinewidth": 0,
            "ticks": ""
           }
          },
          "colorscale": {
           "diverging": [
            [
             0,
             "#8e0152"
            ],
            [
             0.1,
             "#c51b7d"
            ],
            [
             0.2,
             "#de77ae"
            ],
            [
             0.3,
             "#f1b6da"
            ],
            [
             0.4,
             "#fde0ef"
            ],
            [
             0.5,
             "#f7f7f7"
            ],
            [
             0.6,
             "#e6f5d0"
            ],
            [
             0.7,
             "#b8e186"
            ],
            [
             0.8,
             "#7fbc41"
            ],
            [
             0.9,
             "#4d9221"
            ],
            [
             1,
             "#276419"
            ]
           ],
           "sequential": [
            [
             0,
             "#0d0887"
            ],
            [
             0.1111111111111111,
             "#46039f"
            ],
            [
             0.2222222222222222,
             "#7201a8"
            ],
            [
             0.3333333333333333,
             "#9c179e"
            ],
            [
             0.4444444444444444,
             "#bd3786"
            ],
            [
             0.5555555555555556,
             "#d8576b"
            ],
            [
             0.6666666666666666,
             "#ed7953"
            ],
            [
             0.7777777777777778,
             "#fb9f3a"
            ],
            [
             0.8888888888888888,
             "#fdca26"
            ],
            [
             1,
             "#f0f921"
            ]
           ],
           "sequentialminus": [
            [
             0,
             "#0d0887"
            ],
            [
             0.1111111111111111,
             "#46039f"
            ],
            [
             0.2222222222222222,
             "#7201a8"
            ],
            [
             0.3333333333333333,
             "#9c179e"
            ],
            [
             0.4444444444444444,
             "#bd3786"
            ],
            [
             0.5555555555555556,
             "#d8576b"
            ],
            [
             0.6666666666666666,
             "#ed7953"
            ],
            [
             0.7777777777777778,
             "#fb9f3a"
            ],
            [
             0.8888888888888888,
             "#fdca26"
            ],
            [
             1,
             "#f0f921"
            ]
           ]
          },
          "colorway": [
           "#636efa",
           "#EF553B",
           "#00cc96",
           "#ab63fa",
           "#FFA15A",
           "#19d3f3",
           "#FF6692",
           "#B6E880",
           "#FF97FF",
           "#FECB52"
          ],
          "font": {
           "color": "#2a3f5f"
          },
          "geo": {
           "bgcolor": "white",
           "lakecolor": "white",
           "landcolor": "#E5ECF6",
           "showlakes": true,
           "showland": true,
           "subunitcolor": "white"
          },
          "hoverlabel": {
           "align": "left"
          },
          "hovermode": "closest",
          "mapbox": {
           "style": "light"
          },
          "paper_bgcolor": "white",
          "plot_bgcolor": "#E5ECF6",
          "polar": {
           "angularaxis": {
            "gridcolor": "white",
            "linecolor": "white",
            "ticks": ""
           },
           "bgcolor": "#E5ECF6",
           "radialaxis": {
            "gridcolor": "white",
            "linecolor": "white",
            "ticks": ""
           }
          },
          "scene": {
           "xaxis": {
            "backgroundcolor": "#E5ECF6",
            "gridcolor": "white",
            "gridwidth": 2,
            "linecolor": "white",
            "showbackground": true,
            "ticks": "",
            "zerolinecolor": "white"
           },
           "yaxis": {
            "backgroundcolor": "#E5ECF6",
            "gridcolor": "white",
            "gridwidth": 2,
            "linecolor": "white",
            "showbackground": true,
            "ticks": "",
            "zerolinecolor": "white"
           },
           "zaxis": {
            "backgroundcolor": "#E5ECF6",
            "gridcolor": "white",
            "gridwidth": 2,
            "linecolor": "white",
            "showbackground": true,
            "ticks": "",
            "zerolinecolor": "white"
           }
          },
          "shapedefaults": {
           "line": {
            "color": "#2a3f5f"
           }
          },
          "ternary": {
           "aaxis": {
            "gridcolor": "white",
            "linecolor": "white",
            "ticks": ""
           },
           "baxis": {
            "gridcolor": "white",
            "linecolor": "white",
            "ticks": ""
           },
           "bgcolor": "#E5ECF6",
           "caxis": {
            "gridcolor": "white",
            "linecolor": "white",
            "ticks": ""
           }
          },
          "title": {
           "x": 0.05
          },
          "xaxis": {
           "automargin": true,
           "gridcolor": "white",
           "linecolor": "white",
           "ticks": "",
           "title": {
            "standoff": 15
           },
           "zerolinecolor": "white",
           "zerolinewidth": 2
          },
          "yaxis": {
           "automargin": true,
           "gridcolor": "white",
           "linecolor": "white",
           "ticks": "",
           "title": {
            "standoff": 15
           },
           "zerolinecolor": "white",
           "zerolinewidth": 2
          }
         }
        },
        "xaxis": {
         "anchor": "y",
         "domain": [
          0,
          1
         ],
         "title": {
          "text": "Вещественная переменная X"
         }
        },
        "yaxis": {
         "anchor": "x",
         "domain": [
          0,
          1
         ],
         "title": {
          "text": "Вещественная переменная Y"
         }
        }
       }
      }
     },
     "metadata": {},
     "output_type": "display_data"
    }
   ],
   "source": [
    "# График разброса\n",
    "fig = px.scatter(df.loc[ df[\"dataset\"] == 1, :], x='x', y='y', color_discrete_sequence=[corp_col], size_max=10)\n",
    "\n",
    "# Фон и подписи\n",
    "fig.update_layout(\n",
    "    plot_bgcolor='white',\n",
    "    xaxis_title='Вещественная переменная X',\n",
    "    yaxis_title='Вещественная переменная Y'\n",
    ")\n",
    "\n",
    "fig.show()"
   ]
  }
 ],
 "metadata": {
  "kernelspec": {
   "display_name": ".venv",
   "language": "python",
   "name": "python3"
  },
  "language_info": {
   "codemirror_mode": {
    "name": "ipython",
    "version": 3
   },
   "file_extension": ".py",
   "mimetype": "text/x-python",
   "name": "python",
   "nbconvert_exporter": "python",
   "pygments_lexer": "ipython3",
   "version": "3.12.4"
  }
 },
 "nbformat": 4,
 "nbformat_minor": 5
}
