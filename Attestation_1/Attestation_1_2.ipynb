{
  "cells": [
    {
      "cell_type": "code",
      "execution_count": 1,
      "id": "af66e22a",
      "metadata": {
        "id": "af66e22a"
      },
      "outputs": [],
      "source": [
        "import pandas as pd\n",
        "import statsmodels.api as sm\n",
        "\n",
        "import pandas as pd\n",
        "import statsmodels.api as sm\n",
        "import matplotlib.pyplot as plt\n",
        "import seaborn as sns\n",
        "import numpy as np\n",
        "\n",
        "\n",
        "corp_col = '#40ba21'"
      ]
    },
    {
      "cell_type": "markdown",
      "id": "7267d662",
      "metadata": {
        "id": "7267d662"
      },
      "source": [
        "### Загружаем данные (датасет Fertility)\n",
        "\n",
        "\"Fertility2 is a random subset of Fertility with 30,000 observations.\" (https://search.r-project.org/CRAN/refmans/AER/html/Fertility.html)"
      ]
    },
    {
      "cell_type": "code",
      "execution_count": 2,
      "id": "6b59ffa7",
      "metadata": {
        "colab": {
          "base_uri": "https://localhost:8080/",
          "height": 206
        },
        "id": "6b59ffa7",
        "outputId": "da3949fe-f57e-47db-f047-4bd21164d456"
      },
      "outputs": [
        {
          "data": {
            "application/vnd.microsoft.datawrangler.viewer.v0+json": {
              "columns": [
                {
                  "name": "index",
                  "rawType": "int64",
                  "type": "integer"
                },
                {
                  "name": "morekids",
                  "rawType": "object",
                  "type": "string"
                },
                {
                  "name": "gender1",
                  "rawType": "object",
                  "type": "string"
                },
                {
                  "name": "gender2",
                  "rawType": "object",
                  "type": "string"
                },
                {
                  "name": "age",
                  "rawType": "int64",
                  "type": "integer"
                },
                {
                  "name": "afam",
                  "rawType": "object",
                  "type": "string"
                },
                {
                  "name": "hispanic",
                  "rawType": "object",
                  "type": "string"
                },
                {
                  "name": "other",
                  "rawType": "object",
                  "type": "string"
                },
                {
                  "name": "work",
                  "rawType": "int64",
                  "type": "integer"
                }
              ],
              "ref": "22cda69a-5c00-4cb2-bfb8-3477af54a2e8",
              "rows": [
                [
                  "0",
                  "no",
                  "female",
                  "female",
                  "35",
                  "no",
                  "no",
                  "no",
                  "40"
                ],
                [
                  "1",
                  "no",
                  "female",
                  "male",
                  "33",
                  "no",
                  "no",
                  "no",
                  "52"
                ],
                [
                  "2",
                  "no",
                  "female",
                  "female",
                  "28",
                  "no",
                  "no",
                  "no",
                  "12"
                ],
                [
                  "3",
                  "no",
                  "male",
                  "male",
                  "28",
                  "no",
                  "no",
                  "no",
                  "0"
                ],
                [
                  "4",
                  "no",
                  "female",
                  "male",
                  "31",
                  "no",
                  "no",
                  "no",
                  "0"
                ],
                [
                  "5",
                  "no",
                  "female",
                  "male",
                  "33",
                  "no",
                  "no",
                  "no",
                  "0"
                ],
                [
                  "6",
                  "yes",
                  "female",
                  "female",
                  "28",
                  "no",
                  "no",
                  "no",
                  "0"
                ],
                [
                  "7",
                  "no",
                  "female",
                  "female",
                  "25",
                  "no",
                  "no",
                  "no",
                  "20"
                ],
                [
                  "8",
                  "yes",
                  "female",
                  "female",
                  "31",
                  "no",
                  "no",
                  "no",
                  "0"
                ],
                [
                  "9",
                  "no",
                  "male",
                  "female",
                  "35",
                  "no",
                  "no",
                  "no",
                  "37"
                ],
                [
                  "10",
                  "no",
                  "male",
                  "male",
                  "34",
                  "no",
                  "no",
                  "no",
                  "0"
                ],
                [
                  "11",
                  "yes",
                  "female",
                  "female",
                  "21",
                  "no",
                  "no",
                  "no",
                  "12"
                ],
                [
                  "12",
                  "no",
                  "female",
                  "male",
                  "33",
                  "no",
                  "no",
                  "no",
                  "12"
                ],
                [
                  "13",
                  "no",
                  "male",
                  "female",
                  "30",
                  "no",
                  "no",
                  "no",
                  "0"
                ],
                [
                  "14",
                  "no",
                  "female",
                  "female",
                  "32",
                  "no",
                  "no",
                  "no",
                  "52"
                ]
              ],
              "shape": {
                "columns": 8,
                "rows": 15
              }
            },
            "text/html": [
              "<div>\n",
              "<style scoped>\n",
              "    .dataframe tbody tr th:only-of-type {\n",
              "        vertical-align: middle;\n",
              "    }\n",
              "\n",
              "    .dataframe tbody tr th {\n",
              "        vertical-align: top;\n",
              "    }\n",
              "\n",
              "    .dataframe thead th {\n",
              "        text-align: right;\n",
              "    }\n",
              "</style>\n",
              "<table border=\"1\" class=\"dataframe\">\n",
              "  <thead>\n",
              "    <tr style=\"text-align: right;\">\n",
              "      <th></th>\n",
              "      <th>morekids</th>\n",
              "      <th>gender1</th>\n",
              "      <th>gender2</th>\n",
              "      <th>age</th>\n",
              "      <th>afam</th>\n",
              "      <th>hispanic</th>\n",
              "      <th>other</th>\n",
              "      <th>work</th>\n",
              "    </tr>\n",
              "  </thead>\n",
              "  <tbody>\n",
              "    <tr>\n",
              "      <th>0</th>\n",
              "      <td>no</td>\n",
              "      <td>female</td>\n",
              "      <td>female</td>\n",
              "      <td>35</td>\n",
              "      <td>no</td>\n",
              "      <td>no</td>\n",
              "      <td>no</td>\n",
              "      <td>40</td>\n",
              "    </tr>\n",
              "    <tr>\n",
              "      <th>1</th>\n",
              "      <td>no</td>\n",
              "      <td>female</td>\n",
              "      <td>male</td>\n",
              "      <td>33</td>\n",
              "      <td>no</td>\n",
              "      <td>no</td>\n",
              "      <td>no</td>\n",
              "      <td>52</td>\n",
              "    </tr>\n",
              "    <tr>\n",
              "      <th>2</th>\n",
              "      <td>no</td>\n",
              "      <td>female</td>\n",
              "      <td>female</td>\n",
              "      <td>28</td>\n",
              "      <td>no</td>\n",
              "      <td>no</td>\n",
              "      <td>no</td>\n",
              "      <td>12</td>\n",
              "    </tr>\n",
              "    <tr>\n",
              "      <th>3</th>\n",
              "      <td>no</td>\n",
              "      <td>male</td>\n",
              "      <td>male</td>\n",
              "      <td>28</td>\n",
              "      <td>no</td>\n",
              "      <td>no</td>\n",
              "      <td>no</td>\n",
              "      <td>0</td>\n",
              "    </tr>\n",
              "    <tr>\n",
              "      <th>4</th>\n",
              "      <td>no</td>\n",
              "      <td>female</td>\n",
              "      <td>male</td>\n",
              "      <td>31</td>\n",
              "      <td>no</td>\n",
              "      <td>no</td>\n",
              "      <td>no</td>\n",
              "      <td>0</td>\n",
              "    </tr>\n",
              "    <tr>\n",
              "      <th>5</th>\n",
              "      <td>no</td>\n",
              "      <td>female</td>\n",
              "      <td>male</td>\n",
              "      <td>33</td>\n",
              "      <td>no</td>\n",
              "      <td>no</td>\n",
              "      <td>no</td>\n",
              "      <td>0</td>\n",
              "    </tr>\n",
              "    <tr>\n",
              "      <th>6</th>\n",
              "      <td>yes</td>\n",
              "      <td>female</td>\n",
              "      <td>female</td>\n",
              "      <td>28</td>\n",
              "      <td>no</td>\n",
              "      <td>no</td>\n",
              "      <td>no</td>\n",
              "      <td>0</td>\n",
              "    </tr>\n",
              "    <tr>\n",
              "      <th>7</th>\n",
              "      <td>no</td>\n",
              "      <td>female</td>\n",
              "      <td>female</td>\n",
              "      <td>25</td>\n",
              "      <td>no</td>\n",
              "      <td>no</td>\n",
              "      <td>no</td>\n",
              "      <td>20</td>\n",
              "    </tr>\n",
              "    <tr>\n",
              "      <th>8</th>\n",
              "      <td>yes</td>\n",
              "      <td>female</td>\n",
              "      <td>female</td>\n",
              "      <td>31</td>\n",
              "      <td>no</td>\n",
              "      <td>no</td>\n",
              "      <td>no</td>\n",
              "      <td>0</td>\n",
              "    </tr>\n",
              "    <tr>\n",
              "      <th>9</th>\n",
              "      <td>no</td>\n",
              "      <td>male</td>\n",
              "      <td>female</td>\n",
              "      <td>35</td>\n",
              "      <td>no</td>\n",
              "      <td>no</td>\n",
              "      <td>no</td>\n",
              "      <td>37</td>\n",
              "    </tr>\n",
              "    <tr>\n",
              "      <th>10</th>\n",
              "      <td>no</td>\n",
              "      <td>male</td>\n",
              "      <td>male</td>\n",
              "      <td>34</td>\n",
              "      <td>no</td>\n",
              "      <td>no</td>\n",
              "      <td>no</td>\n",
              "      <td>0</td>\n",
              "    </tr>\n",
              "    <tr>\n",
              "      <th>11</th>\n",
              "      <td>yes</td>\n",
              "      <td>female</td>\n",
              "      <td>female</td>\n",
              "      <td>21</td>\n",
              "      <td>no</td>\n",
              "      <td>no</td>\n",
              "      <td>no</td>\n",
              "      <td>12</td>\n",
              "    </tr>\n",
              "    <tr>\n",
              "      <th>12</th>\n",
              "      <td>no</td>\n",
              "      <td>female</td>\n",
              "      <td>male</td>\n",
              "      <td>33</td>\n",
              "      <td>no</td>\n",
              "      <td>no</td>\n",
              "      <td>no</td>\n",
              "      <td>12</td>\n",
              "    </tr>\n",
              "    <tr>\n",
              "      <th>13</th>\n",
              "      <td>no</td>\n",
              "      <td>male</td>\n",
              "      <td>female</td>\n",
              "      <td>30</td>\n",
              "      <td>no</td>\n",
              "      <td>no</td>\n",
              "      <td>no</td>\n",
              "      <td>0</td>\n",
              "    </tr>\n",
              "    <tr>\n",
              "      <th>14</th>\n",
              "      <td>no</td>\n",
              "      <td>female</td>\n",
              "      <td>female</td>\n",
              "      <td>32</td>\n",
              "      <td>no</td>\n",
              "      <td>no</td>\n",
              "      <td>no</td>\n",
              "      <td>52</td>\n",
              "    </tr>\n",
              "  </tbody>\n",
              "</table>\n",
              "</div>"
            ],
            "text/plain": [
              "   morekids gender1 gender2  age afam hispanic other  work\n",
              "0        no  female  female   35   no       no    no    40\n",
              "1        no  female    male   33   no       no    no    52\n",
              "2        no  female  female   28   no       no    no    12\n",
              "3        no    male    male   28   no       no    no     0\n",
              "4        no  female    male   31   no       no    no     0\n",
              "5        no  female    male   33   no       no    no     0\n",
              "6       yes  female  female   28   no       no    no     0\n",
              "7        no  female  female   25   no       no    no    20\n",
              "8       yes  female  female   31   no       no    no     0\n",
              "9        no    male  female   35   no       no    no    37\n",
              "10       no    male    male   34   no       no    no     0\n",
              "11      yes  female  female   21   no       no    no    12\n",
              "12       no  female    male   33   no       no    no    12\n",
              "13       no    male  female   30   no       no    no     0\n",
              "14       no  female  female   32   no       no    no    52"
            ]
          },
          "execution_count": 2,
          "metadata": {},
          "output_type": "execute_result"
        }
      ],
      "source": [
        "item = 'Fertility2' # Выбрать из поля Item для вашего датасета\n",
        "package = 'AER' # Выбрать из поля Package для вашего датасета\n",
        "\n",
        "df = sm.datasets.get_rdataset(item, package , cache=True).data\n",
        "df.head(15)"
      ]
    },
    {
      "cell_type": "code",
      "execution_count": 3,
      "id": "959121aa",
      "metadata": {},
      "outputs": [
        {
          "data": {
            "text/plain": [
              "Index(['morekids', 'gender1', 'gender2', 'age', 'afam', 'hispanic', 'other',\n",
              "       'work'],\n",
              "      dtype='object')"
            ]
          },
          "execution_count": 3,
          "metadata": {},
          "output_type": "execute_result"
        }
      ],
      "source": [
        "df.columns"
      ]
    },
    {
      "cell_type": "markdown",
      "id": "dbac74b6",
      "metadata": {},
      "source": [
        "В массиве представлены только женщины с двумя или более детьми, по ним есть данные о количестве рабочих недель, расе, возрасте и поле первых двух детей."
      ]
    },
    {
      "cell_type": "markdown",
      "id": "4b64630d",
      "metadata": {
        "id": "4b64630d"
      },
      "source": [
        "### Далее идет ваше решение"
      ]
    },
    {
      "cell_type": "markdown",
      "id": "95cd0e77",
      "metadata": {
        "id": "95cd0e77"
      },
      "source": [
        "Задание\n",
        "\n",
        "1) Изучите внимательно ваш датасет и смысл переменных, которые в нем содержатся\n",
        "\n",
        "2) Исходя из смысла представленного датасета приведите наиболее подходящие описательные представления как самих переменных по отдельности, так и их возможной взаимосвязи\n",
        "\n",
        "3) Проведите разведочный анализ данных для выбранных переменных\n",
        "\n",
        "4) Постройте графики, которые бы давали представление о связи выбранных переменных\n",
        "\n",
        "5) Проведите очистку данных от пропусков, выбросов и некорректных значений любым выбранным способом. Постарайтесь обосновать этот способ\n",
        "\n",
        "6) На основе проведенных наблюдений о взаимосвязи между переменными сформулируйте задачу классификации или регрессии, которая может иметь практическую ценность\n",
        "\n",
        "7) Разделите датасет на обучающую (60%) и тестовую (40%) выборки. Далее тестовую выборку разделите пополам (20% и 20%)\n",
        "\n",
        "Первые 20% будут использоваться для оценки качества модели. Предполагается, что здесь вы знаете наблюдаемые значения таргета и можете сравнивать их с предсказаниями\n",
        "\n",
        "Вторые 20% будут использоваться для построения прогнозов. Предполагается, что здесь значения таргета вам неизвестны (можете даже удалить колонку таргета) – как в практической ситуации использования моделей прогнозирования\n",
        "\n",
        "8) Обучите 3 различные модели, проведите оценку их качества на первой половине тестовой выборки\n",
        "Для повышения качества можете пользоваться следующими приемами:\n",
        "\tНормализация и стандартизация показателей\n",
        "\tПодбор гиперпараметров\n",
        "\tВключение / исключение дополнительных переменных\n",
        "\tТрансформация переменных (квадраты, логарифмы и т.п.)\n",
        "\n",
        "9) Выберите ту модель и набор переменных, которые по вашему мнению дают наиболее удовлетворительное качество.\n",
        "\n",
        "10) На основе второй половины тестовой выборки сделайте предсказание целевой переменной. На основе предсказаний сделайте рекомендации для потенциальных пользователей вашего анализа\n",
        "\n",
        "11) Результат сохранить на Google Colab и отправить в виде ссылки на файл + блокнота в формате ipynb через учебный портал\n",
        "\n",
        "Помните, что просто посчитать - это половина задания. К каждому шагу нужны пояснения и описания. Старайтесь структурировать ваш код, чтобы он был понятен стороннему пользователю!"
      ]
    },
    {
      "cell_type": "markdown",
      "id": "8014b80b",
      "metadata": {},
      "source": [
        "# Разведочный анализ данных"
      ]
    },
    {
      "cell_type": "code",
      "execution_count": 4,
      "id": "f2dbc494",
      "metadata": {},
      "outputs": [
        {
          "name": "stderr",
          "output_type": "stream",
          "text": [
            "C:\\Users\\stepa\\AppData\\Local\\Temp\\ipykernel_17400\\2180879389.py:17: FutureWarning: \n",
            "\n",
            "Passing `palette` without assigning `hue` is deprecated and will be removed in v0.14.0. Assign the `x` variable to `hue` and set `legend=False` for the same effect.\n",
            "\n",
            "  sns.countplot(x='ethnicity', data=df, order=ethnicity_order, palette='viridis')\n"
          ]
        },
        {
          "data": {
            "text/plain": [
              "Text(0, 0.5, 'Количество женщин')"
            ]
          },
          "execution_count": 4,
          "metadata": {},
          "output_type": "execute_result"
        },
        {
          "data": {
            "image/png": "[encoded data removed]",
            "text/plain": [
              "<Figure size 1500x1200 with 1 Axes>"
            ]
          },
          "metadata": {},
          "output_type": "display_data"
        }
      ],
      "source": [
        "# Создадим колонку расы\n",
        "df['ethnicity'] = np.select(\n",
        "    [\n",
        "        df['afam'] == 'yes',\n",
        "        df['hispanic'] == 'yes',\n",
        "        df['other'] == 'yes'\n",
        "    ],\n",
        "    ['African-American', 'Hispanic', 'Other'],\n",
        "    default='Caucasian'\n",
        ")\n",
        "\n",
        "sns.set_style(\"whitegrid\")\n",
        "plt.figure(figsize=(15, 12))\n",
        "\n",
        "plt.subplot(2, 2, 1)\n",
        "ethnicity_order = ['Caucasian', 'African-American', 'Hispanic', 'Other']\n",
        "sns.countplot(x='ethnicity', data=df, order=ethnicity_order, palette='viridis')\n",
        "plt.title('Расовое распределение')\n",
        "plt.xlabel('Раса')\n",
        "plt.ylabel('Количество женщин')"
      ]
    },
    {
      "cell_type": "markdown",
      "id": "8ada639d",
      "metadata": {},
      "source": [
        "В массиве преобладают белые женщины."
      ]
    },
    {
      "cell_type": "code",
      "execution_count": 5,
      "id": "05d457e2",
      "metadata": {},
      "outputs": [
        {
          "name": "stderr",
          "output_type": "stream",
          "text": [
            "C:\\Users\\stepa\\AppData\\Local\\Temp\\ipykernel_17400\\2989564876.py:8: FutureWarning: The default of observed=False is deprecated and will be changed to True in a future version of pandas. Pass observed=False to retain current behavior or observed=True to adopt the future default and silence this warning.\n",
            "  prop_data = (df.groupby([age_bins, 'ethnicity'])\n"
          ]
        },
        {
          "data": {
            "text/plain": [
              "<Figure size 1200x800 with 0 Axes>"
            ]
          },
          "metadata": {},
          "output_type": "display_data"
        },
        {
          "data": {
            "image/png": "[encoded data removed]",
            "text/plain": [
              "<Figure size 640x480 with 1 Axes>"
            ]
          },
          "metadata": {},
          "output_type": "display_data"
        }
      ],
      "source": [
        "plt.figure(figsize=(12, 8))\n",
        "\n",
        "# Создадим возрастные страты\n",
        "age_bins = pd.cut(df['age'], bins=range(20, 40, 5))\n",
        "age_groups = age_bins.unique().sort_values()\n",
        "\n",
        "# Пропорции страт\n",
        "prop_data = (df.groupby([age_bins, 'ethnicity'])\n",
        "             .size()\n",
        "             .unstack()\n",
        "             .apply(lambda x: x/x.sum(), axis=1))\n",
        "\n",
        "# График\n",
        "ax = prop_data.plot(kind='bar', width=0.85, color=sns.color_palette('viridis', 4),\n",
        "                    edgecolor='white', linewidth=1.2)\n",
        "\n",
        "plt.title('Возрастное распределение по расе (Пропорции)')\n",
        "plt.xlabel('Возрастная группа')\n",
        "plt.ylabel('Пропорция группы')\n",
        "plt.xticks(rotation=0)\n",
        "\n",
        "# Легенда\n",
        "handles, labels = ax.get_legend_handles_labels()\n",
        "ax.legend(handles, labels, title='Раса', \n",
        "          bbox_to_anchor=(1.05, 1), loc='upper left')\n",
        "\n",
        "# Значения над столбиками\n",
        "for i, rect in enumerate(ax.patches):\n",
        "    if rect.get_height() > 0.01:  # Only label significant bars\n",
        "        ax.text(rect.get_x() + rect.get_width()/2, \n",
        "                rect.get_height() + 0.01, \n",
        "                f'{rect.get_height():.2f}', \n",
        "                ha='center', va='bottom', \n",
        "                fontsize=9, rotation=0)\n",
        "\n",
        "plt.tight_layout()\n",
        "plt.show()"
      ]
    },
    {
      "cell_type": "markdown",
      "id": "9c8d3d68",
      "metadata": {},
      "source": [
        "Белые женщины позже рожают детей по сравнению с латиносами и афро-американками."
      ]
    },
    {
      "cell_type": "code",
      "execution_count": 6,
      "id": "9cad954a",
      "metadata": {},
      "outputs": [
        {
          "data": {
            "text/plain": [
              "(array([0, 1, 2, 3]),\n",
              " [Text(0, 0, 'African-American'),\n",
              "  Text(1, 0, 'Caucasian'),\n",
              "  Text(2, 0, 'Hispanic'),\n",
              "  Text(3, 0, 'Other')])"
            ]
          },
          "execution_count": 6,
          "metadata": {},
          "output_type": "execute_result"
        },
        {
          "data": {
            "image/png": "[encoded data removed]",
            "text/plain": [
              "<Figure size 640x480 with 1 Axes>"
            ]
          },
          "metadata": {},
          "output_type": "display_data"
        }
      ],
      "source": [
        "work_by_ethnicity = df.groupby(['ethnicity', 'morekids'])['work'].mean().unstack()\n",
        "work_by_ethnicity.plot(kind='bar', stacked=False, color=['#1f77b4', '#ff7f0e'])\n",
        "\n",
        "plt.title('Среднее число рабочих недель по расе и многодетности')\n",
        "plt.xlabel('Раса')\n",
        "plt.ylabel('Среднее количество рабочих недель')\n",
        "plt.legend(title='Больше двух детей?', labels=['Нет', 'Да'])\n",
        "plt.xticks(rotation=0)"
      ]
    },
    {
      "cell_type": "markdown",
      "id": "277549af",
      "metadata": {},
      "source": [
        "Афро-американки и представительницы других рас с детьми в среднем работают значительно больше чем белые и латино-американки женщины с детьми."
      ]
    },
    {
      "cell_type": "code",
      "execution_count": 8,
      "id": "aaa6627d",
      "metadata": {},
      "outputs": [
        {
          "name": "stderr",
          "output_type": "stream",
          "text": [
            "C:\\Users\\stepa\\AppData\\Local\\Temp\\ipykernel_17400\\2150571919.py:12: FutureWarning: \n",
            "\n",
            "Passing `palette` without assigning `hue` is deprecated and will be removed in v0.14.0. Assign the `x` variable to `hue` and set `legend=False` for the same effect.\n",
            "\n",
            "  age_dist = sns.countplot(x='age_group', data=df, palette='viridis', order=age_labels)\n"
          ]
        },
        {
          "data": {
            "image/png": "[encoded data removed]",
            "text/plain": [
              "<Figure size 1200x600 with 1 Axes>"
            ]
          },
          "metadata": {},
          "output_type": "display_data"
        }
      ],
      "source": [
        "# Список упорядоченных возрастных групп\n",
        "age_labels = ['20-24', '25-29', '30-34', '35-39', '40-44', '45-49']\n",
        "\n",
        "# Создадим отдельную переменную с возрастными группами\n",
        "df['age_group'] = pd.cut(df['age'], \n",
        "                         bins=[20, 25, 30, 35, 40, 45, 50],\n",
        "                         labels=['20-24', '25-29', '30-34', '35-39', '40-44', '45-49'])\n",
        "\n",
        "\n",
        "# Строим распределение\n",
        "plt.figure(figsize=(12, 6))\n",
        "age_dist = sns.countplot(x='age_group', data=df, palette='viridis', order=age_labels)\n",
        "\n",
        "# Добавляем аннотации\n",
        "for p in age_dist.patches:\n",
        "    height = p.get_height()\n",
        "    age_dist.text(p.get_x() + p.get_width()/2., height + 10,\n",
        "            f'{height}\\n({height/len(df)*100:.1f}%)',\n",
        "            ha=\"center\", fontsize=10)\n",
        "\n",
        "plt.title('Распределение женщин по возрастным группам', fontsize=14, pad=20)\n",
        "plt.xlabel('Возрастная группа', fontsize=12)\n",
        "plt.ylabel('Количество женщин', fontsize=12)\n",
        "plt.xticks(fontsize=11)\n",
        "plt.yticks(fontsize=11)\n",
        "plt.grid(axis='y', linestyle='--', alpha=0.4)\n",
        "plt.tight_layout()\n",
        "plt.show()"
      ]
    },
    {
      "cell_type": "markdown",
      "id": "56c00180",
      "metadata": {},
      "source": [
        "Представлен только возрастной диапазон от 20 до 34 лет. Более половины женщин старше 30."
      ]
    },
    {
      "cell_type": "code",
      "execution_count": null,
      "id": "24a642ec",
      "metadata": {},
      "outputs": [
        {
          "data": {
            "image/png": "[encoded data removed]",
            "text/plain": [
              "<Figure size 1400x800 with 1 Axes>"
            ]
          },
          "metadata": {},
          "output_type": "display_data"
        }
      ],
      "source": [
        "plt.figure(figsize=(14, 8))\n",
        "\n",
        "# График\n",
        "ax = sns.boxplot(x='age_group', y='work', hue='morekids', data=df,\n",
        "                 palette=['#1f77b4', '#ff7f0e'],  # Blue and orange\n",
        "                 hue_order=['no', 'yes'],\n",
        "                 order=['20-24', '25-29', '30-34'], #, '35-39', '40-44', '45-49'],\n",
        "                 dodge=True,  # This ensures side-by-side positioning\n",
        "                 width=0.8,   # Adjust width for better spacing\n",
        "                 showfliers=False)\n",
        "\n",
        "# Customize the plot\n",
        "plt.title('Рабочих недель по возрастной группе и количеству детей', fontsize=14, pad=20)\n",
        "plt.xlabel('Возрастная группа', fontsize=12)\n",
        "plt.ylabel('Отработано недель', fontsize=12)\n",
        "plt.xticks(fontsize=11)\n",
        "plt.yticks(fontsize=11)\n",
        "\n",
        "# Легенда\n",
        "handles, labels = ax.get_legend_handles_labels()\n",
        "ax.legend(handles, ['≤2 детей', '>2 детей'], \n",
        "          title='Число детей',\n",
        "          fontsize=11,\n",
        "          title_fontsize=12,\n",
        "          frameon=True,\n",
        "          framealpha=1,\n",
        "          edgecolor='black',\n",
        "          bbox_to_anchor=(1.02, 1),\n",
        "          loc='upper left')\n",
        "\n",
        "# Аннотации\n",
        "for i, age_group in enumerate(['20-24', '25-29', '30-34']): #, '35-39', '40-44', '45-49']):\n",
        "    for j, kid_status in enumerate(['no', 'yes']):\n",
        "        subset = df[(df['age_group'] == age_group) & (df['morekids'] == kid_status)]\n",
        "        n = len(subset)\n",
        "        if n > 0:\n",
        "            # Position text slightly above the median\n",
        "            median_work = subset['work'].median()\n",
        "            x_pos = i + (-0.18 if j == 0 else 0.18)  # Adjust x-position based on child status\n",
        "            ax.text(x_pos, median_work + 1, f'n={n}',\n",
        "                    ha='center', va='bottom', fontsize=9, color='black')\n",
        "\n",
        "# Add grid lines for better readability\n",
        "ax.yaxis.grid(True, linestyle='--', alpha=0.4)\n",
        "\n",
        "plt.tight_layout()\n",
        "plt.show()"
      ]
    },
    {
      "cell_type": "markdown",
      "id": "461a9770",
      "metadata": {},
      "source": [
        "Большинство женщин с двумя детьми работает на полную ставку после 30-ти (когда дети уже достаточно взрослые). Женщины с более чем с друмя детьми чаще работают неполную ставку или не работают даже после 30-ти."
      ]
    },
    {
      "cell_type": "code",
      "execution_count": null,
      "id": "be6cc39d",
      "metadata": {},
      "outputs": [
        {
          "name": "stderr",
          "output_type": "stream",
          "text": [
            "C:\\Users\\stepa\\AppData\\Local\\Temp\\ipykernel_11036\\3264271759.py:9: FutureWarning: \n",
            "\n",
            "Passing `palette` without assigning `hue` is deprecated and will be removed in v0.14.0. Assign the `x` variable to `hue` and set `legend=False` for the same effect.\n",
            "\n",
            "  ax = sns.countplot(x='work_group', data=df, palette='viridis', order=labels)\n"
          ]
        },
        {
          "data": {
            "image/png": "[encoded data removed]",
            "text/plain": [
              "<Figure size 1500x800 with 1 Axes>"
            ]
          },
          "metadata": {},
          "output_type": "display_data"
        }
      ],
      "source": [
        "plt.figure(figsize=(15, 8))\n",
        "\n",
        "# Создаем категории для группировки\n",
        "bins = [0, 1, 10, 20, 30, 40, 50, 52]  # Границы групп\n",
        "labels = ['0 недель', '1-10 недель', '11-20', '21-30', '31-40', '41-50', '51-52']\n",
        "df['work_group'] = pd.cut(df['work'], bins=bins, labels=labels, right=False)\n",
        "\n",
        "# Основная гистограмма с группировкой\n",
        "ax = sns.countplot(x='work_group', data=df, palette='viridis', order=labels)\n",
        "plt.title('Распределение по группам занятости', pad=20, fontsize=14)\n",
        "plt.xlabel('Диапазон отработанных недель', fontsize=12)\n",
        "plt.ylabel('Количество женщин', fontsize=12)\n",
        "plt.xticks(rotation=45, ha='right')\n",
        "\n",
        "# Добавляем процентные аннотации\n",
        "total = len(df)\n",
        "for p in ax.patches:\n",
        "    height = p.get_height()\n",
        "    ax.text(p.get_x() + p.get_width()/2., height + 5,\n",
        "            f'{height}\\n({height/total*100:.1f}%)',\n",
        "            ha=\"center\", fontsize=9)\n"
      ]
    },
    {
      "cell_type": "markdown",
      "id": "177793ab",
      "metadata": {},
      "source": [
        "Основные выводы из набора данных.\n",
        "\n",
        "Статус работы: \n",
        "* Около 54% женщин работают, количество рабочих недель остальных женщин выглядит довольно случайным.\n",
        "\n",
        "Отношения:\n",
        "* Положительная корреляция между возрастом и количеством детей, что естественно\n",
        "* Работающие женщины, как правило, имеют меньше детей в одинаковом возрасте.\n",
        "\n",
        "\n",
        "Демографическое распределение:\n",
        "\n",
        "* Большинство матерей - европеоиды (≈80%)\n",
        "* Афроамериканки и испаноязычные матери составляют по 7-8% от общей выборки\n",
        "\n",
        "Возрастные характеристики:\n",
        "\n",
        "* В массиве представлены женщины не старше 34 лет и не младше 20-ти. Больше половины массива это женщины старше 30-ти лет.\n",
        "* Европеиойдные женщины, как правило, немного старше, чем другие группы женщин\n",
        "\n",
        "Структура занятости:\n",
        "\n",
        "* Матери, у которых более 2-х детей, работают значительно больше, чем те, у кого 2-е детей. С возрастом уровень занятости возрастает\n",
        "* В среднем афроамериканские матери работают больше всего недель\n",
        "\n",
        "Основные корреляции:\n",
        "\n",
        "* Умеренная отрицательная корреляция между возрастом и рабочими неделями\n",
        "* Сильная отрицательная корреляция между наличием более 2 детей и трудовой активностью\n",
        "* Этническая принадлежность демонстрирует четкие закономерности в трудовой активности"
      ]
    },
    {
      "cell_type": "markdown",
      "id": "bd644740",
      "metadata": {},
      "source": [
        "## Пропуски, выбросы, анамалии"
      ]
    },
    {
      "cell_type": "markdown",
      "id": "76a44986",
      "metadata": {},
      "source": [
        "### Пропуски"
      ]
    },
    {
      "cell_type": "code",
      "execution_count": null,
      "id": "666e2ce4",
      "metadata": {},
      "outputs": [
        {
          "name": "stdout",
          "output_type": "stream",
          "text": [
            "Пропуски в данных:\n",
            "morekids         0\n",
            "gender1          0\n",
            "gender2          0\n",
            "age              0\n",
            "afam             0\n",
            "hispanic         0\n",
            "other            0\n",
            "work             0\n",
            "ethnicity        0\n",
            "age_group        0\n",
            "work_group    5722\n",
            "dtype: int64\n"
          ]
        }
      ],
      "source": [
        "print(\"Пропуски в данных:\")\n",
        "print(df.isnull().sum())"
      ]
    },
    {
      "cell_type": "markdown",
      "id": "4a708ac2",
      "metadata": {},
      "source": [
        "Пропуски отствуют."
      ]
    },
    {
      "cell_type": "code",
      "execution_count": null,
      "id": "4c250c73",
      "metadata": {},
      "outputs": [],
      "source": [
        "# Проверка категориальных значений\n",
        "valid_genders = ['male', 'female']\n",
        "df = df[df['gender1'].isin(valid_genders) & df['gender2'].isin(valid_genders)]"
      ]
    },
    {
      "cell_type": "markdown",
      "id": "127ff4c6",
      "metadata": {},
      "source": [
        "### Выбросы и аномалии"
      ]
    },
    {
      "cell_type": "code",
      "execution_count": null,
      "id": "ed685f72",
      "metadata": {},
      "outputs": [
        {
          "data": {
            "image/png": "[encoded data removed]",
            "text/plain": [
              "<Figure size 1500x500 with 2 Axes>"
            ]
          },
          "metadata": {},
          "output_type": "display_data"
        }
      ],
      "source": [
        "import matplotlib.pyplot as plt\n",
        "import seaborn as sns\n",
        "\n",
        "# Настройка стиля графиков\n",
        "sns.set(style=\"whitegrid\")\n",
        "\n",
        "# Boxplot для числовых переменных\n",
        "num_cols = ['age', 'work']\n",
        "plt.figure(figsize=(15, 5))\n",
        "\n",
        "for i, col in enumerate(num_cols, 1):\n",
        "    plt.subplot(1, 3, i)\n",
        "    sns.boxplot(y=df[col], color='skyblue')\n",
        "    plt.title(f'Распределение {col}')\n",
        "    plt.ylabel('Значения')\n",
        "\n",
        "plt.tight_layout()\n",
        "plt.show()"
      ]
    },
    {
      "cell_type": "markdown",
      "id": "724e6c12",
      "metadata": {},
      "source": [
        "Выборсы по возрасту и продолжительности работы не наблюдаются."
      ]
    },
    {
      "cell_type": "code",
      "execution_count": null,
      "id": "2367ed7d",
      "metadata": {},
      "outputs": [
        {
          "name": "stdout",
          "output_type": "stream",
          "text": [
            "\n",
            "Выбросы в age:\n",
            "- Границы: [20.50, 40.50]\n",
            "- Количество выбросов: 0\n",
            "- Примеры:\n",
            "Series([], Name: age, dtype: int64)\n",
            "\n",
            "Выбросы в work:\n",
            "- Границы: [-67.50, 112.50]\n",
            "- Количество выбросов: 0\n",
            "- Примеры:\n",
            "Series([], Name: work, dtype: int64)\n"
          ]
        }
      ],
      "source": [
        "for col in num_cols:\n",
        "    Q1 = df[col].quantile(0.25)\n",
        "    Q3 = df[col].quantile(0.75)\n",
        "    IQR = Q3 - Q1\n",
        "    lower_bound = Q1 - 1.5 * IQR\n",
        "    upper_bound = Q3 + 1.5 * IQR\n",
        "    \n",
        "    outliers = df[(df[col] < lower_bound) | (df[col] > upper_bound)]\n",
        "    print(f'\\nВыбросы в {col}:')\n",
        "    print(f'- Границы: [{lower_bound:.2f}, {upper_bound:.2f}]')\n",
        "    print(f'- Количество выбросов: {len(outliers)}')\n",
        "    print(f'- Примеры:\\n{outliers[col].head()}')"
      ]
    },
    {
      "cell_type": "code",
      "execution_count": null,
      "id": "c7c49387",
      "metadata": {},
      "outputs": [
        {
          "name": "stdout",
          "output_type": "stream",
          "text": [
            "\n",
            "Уникальные значения в gender1:\n",
            "gender1\n",
            "male      15451\n",
            "female    14549\n",
            "Name: count, dtype: int64\n",
            "\n",
            "Уникальные значения в gender2:\n",
            "gender2\n",
            "male      15182\n",
            "female    14818\n",
            "Name: count, dtype: int64\n",
            "\n",
            "Уникальные значения в afam:\n",
            "afam\n",
            "no     28402\n",
            "yes     1598\n",
            "Name: count, dtype: int64\n",
            "\n",
            "Уникальные значения в hispanic:\n",
            "hispanic\n",
            "no     27768\n",
            "yes     2232\n",
            "Name: count, dtype: int64\n",
            "\n",
            "Уникальные значения в other:\n",
            "other\n",
            "no     28295\n",
            "yes     1705\n",
            "Name: count, dtype: int64\n",
            "\n",
            "Уникальные значения в morekids:\n",
            "morekids\n",
            "no     18672\n",
            "yes    11328\n",
            "Name: count, dtype: int64\n"
          ]
        }
      ],
      "source": [
        "cat_cols = ['gender1', 'gender2', 'afam', 'hispanic', 'other', 'morekids']\n",
        "for col in cat_cols:\n",
        "    print(f'\\nУникальные значения в {col}:')\n",
        "    print(df[col].value_counts())"
      ]
    },
    {
      "cell_type": "markdown",
      "id": "59063b1b",
      "metadata": {},
      "source": [
        "Аномалий по категориальным переменным нет."
      ]
    },
    {
      "cell_type": "markdown",
      "id": "59ffe8dd",
      "metadata": {},
      "source": [
        "# Задача классификации\n",
        "\n",
        "Задача: Прогнозирование выйдет ли женщина в дектрет (work = 0) на основе имеющихся данных.\n",
        "\n",
        "### Целевая переменная:\n",
        "work_less_1 - бинарная переменная\n",
        "\n",
        "### Признаки:\n",
        "\n",
        "* age - возраст\n",
        "* morekids - наличие более 2 детей (категориальный: да/нет)\n",
        "* ethnicity - расовая принадлежность\n",
        "* gender1, gender2 - пол первого и второго ребенка\n",
        "* Комбинации признаков (например, same_gender = gender1 == gender2)\n",
        "\n",
        "\n",
        "### Практическая ценность задачи\n",
        "\n",
        "#### Социальное планирование\n",
        "\n",
        "* Прогнозирование трудового потенциала женщин репродуктивного возраста\n",
        "* Планирование инфраструктуры (детские сады, гибкий график)\n",
        "\n",
        "#### Экономический анализ\n",
        "\n",
        "* Прогнозирование налоговых поступлений и социальных расходов\n",
        "\n",
        "#### Корпоративное применение\n",
        "\n",
        "* Разработка HR-стратегий для удержания сотрудниц с детьми для частичной занятости\n",
        "* Расчет экономической эффективности социальных программ"
      ]
    },
    {
      "cell_type": "markdown",
      "id": "e4f8d612",
      "metadata": {},
      "source": [
        "## Разделение датасета"
      ]
    },
    {
      "cell_type": "code",
      "execution_count": null,
      "id": "c40b19c8",
      "metadata": {},
      "outputs": [],
      "source": [
        "from sklearn.model_selection import train_test_split\n",
        "import numpy as np\n",
        "import pandas as pd\n",
        "import numpy as np\n",
        "from sklearn.model_selection import train_test_split, GridSearchCV\n",
        "from sklearn.preprocessing import StandardScaler, OneHotEncoder\n",
        "from sklearn.linear_model import LogisticRegression\n",
        "from sklearn.ensemble import RandomForestClassifier, GradientBoostingClassifier\n",
        "from sklearn.metrics import (accuracy_score, precision_score, recall_score, \n",
        "                            f1_score, roc_auc_score, confusion_matrix)\n"
      ]
    },
    {
      "cell_type": "code",
      "execution_count": null,
      "id": "26c2bae9",
      "metadata": {},
      "outputs": [
        {
          "data": {
            "text/plain": [
              "Index(['morekids', 'gender1', 'gender2', 'age', 'afam', 'hispanic', 'other',\n",
              "       'work', 'ethnicity', 'age_group', 'work_group'],\n",
              "      dtype='object')"
            ]
          },
          "execution_count": 161,
          "metadata": {},
          "output_type": "execute_result"
        }
      ],
      "source": [
        "df.columns"
      ]
    },
    {
      "cell_type": "markdown",
      "id": "01ce086d",
      "metadata": {},
      "source": [
        "Создадим бинарную переменную \"work_less_1\" в качестве целевой переменной."
      ]
    },
    {
      "cell_type": "code",
      "execution_count": null,
      "id": "c85d3ac9",
      "metadata": {},
      "outputs": [
        {
          "name": "stdout",
          "output_type": "stream",
          "text": [
            "Обучающая выборка: 18000 записей (60%)\n",
            "Валидационная выборка: 6000 записей (20%)\n",
            "Прогнозная выборка: 6000 записей (20%)\n"
          ]
        }
      ],
      "source": [
        "# Создаем новую бинарную целевую переменную\n",
        "df['work_less_1'] = (df['work'] < 1).astype(int)\n",
        "df['same_gender'] = (df['gender1'] == df['gender2']).astype(int)\n",
        "df['first_male'] = (df['gender1'] == 'male').astype(int)\n",
        "\n",
        "\n",
        "# Определение признаков и целевой переменной\n",
        "features = ['age', 'morekids', 'same_gender', 'first_male', 'ethnicity']\n",
        "target = 'work_less_1'\n",
        "\n",
        "# Разделение данных\n",
        "X = df[features]\n",
        "y = df[target]\n",
        "X_train, X_temp, y_train, y_temp = train_test_split(X, y, test_size=0.4, random_state=42)\n",
        "X_val, X_forecast, y_val, y_forecast = train_test_split(X_temp, y_temp, test_size=0.5, random_state=42)\n",
        "\n",
        "\n",
        "# Проверка размеров\n",
        "print(f\"Обучающая выборка: {X_train.shape[0]} записей ({X_train.shape[0]/len(X):.0%})\")\n",
        "print(f\"Валидационная выборка: {X_val.shape[0]} записей ({X_val.shape[0]/len(X):.0%})\")\n",
        "print(f\"Прогнозная выборка: {X_forecast.shape[0]} записей ({X_forecast.shape[0]/len(X):.0%})\")"
      ]
    },
    {
      "cell_type": "code",
      "execution_count": null,
      "id": "9eced846",
      "metadata": {},
      "outputs": [
        {
          "data": {
            "text/plain": [
              "Index(['morekids', 'gender1', 'gender2', 'age', 'afam', 'hispanic', 'other',\n",
              "       'work', 'ethnicity', 'age_group', 'work_group', 'work_less_1',\n",
              "       'same_gender', 'first_male'],\n",
              "      dtype='object')"
            ]
          },
          "execution_count": 163,
          "metadata": {},
          "output_type": "execute_result"
        }
      ],
      "source": [
        "df.columns"
      ]
    },
    {
      "cell_type": "markdown",
      "id": "aa8fcbde",
      "metadata": {},
      "source": [
        "## Предобработка данных"
      ]
    },
    {
      "cell_type": "code",
      "execution_count": null,
      "id": "c27940e2",
      "metadata": {},
      "outputs": [],
      "source": [
        "# Предобработка данных\n",
        "def preprocess_data(X_train, X_val, X_forecast):\n",
        "    \"\"\"One-hot кодирование категориальных признаков\"\"\"\n",
        "    # One-Hot Encoding\n",
        "    encoder = OneHotEncoder(drop='first', sparse_output=False)\n",
        "    encoded_train = encoder.fit_transform(X_train[['morekids', 'ethnicity']])\n",
        "    encoded_val = encoder.transform(X_val[['morekids', 'ethnicity']])\n",
        "    encoded_forecast = encoder.transform(X_forecast[['morekids', 'ethnicity']])\n",
        "    \n",
        "    # Имена новых признаков\n",
        "    encoded_cols = encoder.get_feature_names_out(['morekids', 'ethnicity'])\n",
        "    \n",
        "    # Числовые и бинарные признаки\n",
        "    num_bin_train = X_train[['age', 'same_gender', 'first_male']].values\n",
        "    num_bin_val = X_val[['age', 'same_gender', 'first_male']].values\n",
        "    num_bin_forecast = X_forecast[['age', 'same_gender', 'first_male']].values\n",
        "    \n",
        "    # Объединение\n",
        "    X_train_processed = np.hstack([num_bin_train, encoded_train])\n",
        "    X_val_processed = np.hstack([num_bin_val, encoded_val])\n",
        "    X_forecast_processed = np.hstack([num_bin_forecast, encoded_forecast])\n",
        "    \n",
        "    return X_train_processed, X_val_processed, X_forecast_processed, encoded_cols\n",
        "\n",
        "# Преобразование данных\n",
        "X_train_processed, X_val_processed, X_forecast_processed, feature_names = preprocess_data(\n",
        "    X_train, X_val, X_forecast\n",
        ")"
      ]
    },
    {
      "cell_type": "code",
      "execution_count": null,
      "id": "29833de2",
      "metadata": {},
      "outputs": [
        {
          "data": {
            "application/vnd.microsoft.datawrangler.viewer.v0+json": {
              "columns": [
                {
                  "name": "index",
                  "rawType": "int64",
                  "type": "integer"
                },
                {
                  "name": "0",
                  "rawType": "float64",
                  "type": "float"
                },
                {
                  "name": "1",
                  "rawType": "float64",
                  "type": "float"
                },
                {
                  "name": "2",
                  "rawType": "float64",
                  "type": "float"
                },
                {
                  "name": "3",
                  "rawType": "float64",
                  "type": "float"
                },
                {
                  "name": "4",
                  "rawType": "float64",
                  "type": "float"
                },
                {
                  "name": "5",
                  "rawType": "float64",
                  "type": "float"
                },
                {
                  "name": "6",
                  "rawType": "float64",
                  "type": "float"
                }
              ],
              "ref": "ff2a0b67-5d43-405d-880d-826e2906ec6e",
              "rows": [
                [
                  "0",
                  "31.0",
                  "0.0",
                  "1.0",
                  "1.0",
                  "0.0",
                  "1.0",
                  "0.0"
                ],
                [
                  "1",
                  "27.0",
                  "0.0",
                  "0.0",
                  "1.0",
                  "1.0",
                  "0.0",
                  "0.0"
                ],
                [
                  "2",
                  "31.0",
                  "1.0",
                  "1.0",
                  "1.0",
                  "1.0",
                  "0.0",
                  "0.0"
                ],
                [
                  "3",
                  "32.0",
                  "1.0",
                  "0.0",
                  "0.0",
                  "1.0",
                  "0.0",
                  "0.0"
                ],
                [
                  "4",
                  "32.0",
                  "1.0",
                  "0.0",
                  "0.0",
                  "1.0",
                  "0.0",
                  "0.0"
                ],
                [
                  "5",
                  "33.0",
                  "0.0",
                  "0.0",
                  "1.0",
                  "1.0",
                  "0.0",
                  "0.0"
                ],
                [
                  "6",
                  "32.0",
                  "1.0",
                  "1.0",
                  "0.0",
                  "1.0",
                  "0.0",
                  "0.0"
                ],
                [
                  "7",
                  "22.0",
                  "1.0",
                  "0.0",
                  "0.0",
                  "1.0",
                  "0.0",
                  "0.0"
                ],
                [
                  "8",
                  "27.0",
                  "0.0",
                  "1.0",
                  "0.0",
                  "1.0",
                  "0.0",
                  "0.0"
                ],
                [
                  "9",
                  "24.0",
                  "0.0",
                  "0.0",
                  "0.0",
                  "1.0",
                  "0.0",
                  "0.0"
                ],
                [
                  "10",
                  "32.0",
                  "0.0",
                  "1.0",
                  "0.0",
                  "1.0",
                  "0.0",
                  "0.0"
                ],
                [
                  "11",
                  "33.0",
                  "0.0",
                  "0.0",
                  "1.0",
                  "0.0",
                  "0.0",
                  "0.0"
                ],
                [
                  "12",
                  "29.0",
                  "1.0",
                  "0.0",
                  "0.0",
                  "1.0",
                  "0.0",
                  "0.0"
                ],
                [
                  "13",
                  "27.0",
                  "0.0",
                  "0.0",
                  "1.0",
                  "1.0",
                  "0.0",
                  "0.0"
                ],
                [
                  "14",
                  "34.0",
                  "1.0",
                  "1.0",
                  "0.0",
                  "1.0",
                  "0.0",
                  "0.0"
                ],
                [
                  "15",
                  "33.0",
                  "0.0",
                  "1.0",
                  "0.0",
                  "1.0",
                  "0.0",
                  "0.0"
                ],
                [
                  "16",
                  "34.0",
                  "1.0",
                  "0.0",
                  "1.0",
                  "1.0",
                  "0.0",
                  "0.0"
                ],
                [
                  "17",
                  "26.0",
                  "1.0",
                  "0.0",
                  "0.0",
                  "0.0",
                  "1.0",
                  "0.0"
                ],
                [
                  "18",
                  "33.0",
                  "0.0",
                  "0.0",
                  "1.0",
                  "1.0",
                  "0.0",
                  "0.0"
                ],
                [
                  "19",
                  "35.0",
                  "1.0",
                  "1.0",
                  "1.0",
                  "1.0",
                  "0.0",
                  "0.0"
                ],
                [
                  "20",
                  "27.0",
                  "1.0",
                  "1.0",
                  "0.0",
                  "0.0",
                  "1.0",
                  "0.0"
                ],
                [
                  "21",
                  "32.0",
                  "1.0",
                  "0.0",
                  "0.0",
                  "1.0",
                  "0.0",
                  "0.0"
                ],
                [
                  "22",
                  "32.0",
                  "0.0",
                  "1.0",
                  "0.0",
                  "1.0",
                  "0.0",
                  "0.0"
                ],
                [
                  "23",
                  "33.0",
                  "0.0",
                  "1.0",
                  "0.0",
                  "1.0",
                  "0.0",
                  "0.0"
                ],
                [
                  "24",
                  "22.0",
                  "1.0",
                  "1.0",
                  "0.0",
                  "0.0",
                  "1.0",
                  "0.0"
                ],
                [
                  "25",
                  "32.0",
                  "0.0",
                  "1.0",
                  "1.0",
                  "1.0",
                  "0.0",
                  "0.0"
                ],
                [
                  "26",
                  "35.0",
                  "0.0",
                  "1.0",
                  "0.0",
                  "1.0",
                  "0.0",
                  "0.0"
                ],
                [
                  "27",
                  "35.0",
                  "1.0",
                  "1.0",
                  "1.0",
                  "1.0",
                  "0.0",
                  "0.0"
                ],
                [
                  "28",
                  "31.0",
                  "1.0",
                  "0.0",
                  "0.0",
                  "1.0",
                  "0.0",
                  "0.0"
                ],
                [
                  "29",
                  "32.0",
                  "1.0",
                  "0.0",
                  "0.0",
                  "0.0",
                  "0.0",
                  "0.0"
                ],
                [
                  "30",
                  "24.0",
                  "1.0",
                  "0.0",
                  "0.0",
                  "1.0",
                  "0.0",
                  "0.0"
                ],
                [
                  "31",
                  "31.0",
                  "1.0",
                  "1.0",
                  "1.0",
                  "1.0",
                  "0.0",
                  "0.0"
                ],
                [
                  "32",
                  "34.0",
                  "0.0",
                  "1.0",
                  "1.0",
                  "1.0",
                  "0.0",
                  "0.0"
                ],
                [
                  "33",
                  "28.0",
                  "0.0",
                  "1.0",
                  "1.0",
                  "0.0",
                  "1.0",
                  "0.0"
                ],
                [
                  "34",
                  "27.0",
                  "1.0",
                  "0.0",
                  "1.0",
                  "1.0",
                  "0.0",
                  "0.0"
                ],
                [
                  "35",
                  "30.0",
                  "1.0",
                  "1.0",
                  "1.0",
                  "1.0",
                  "0.0",
                  "0.0"
                ],
                [
                  "36",
                  "30.0",
                  "0.0",
                  "1.0",
                  "1.0",
                  "1.0",
                  "0.0",
                  "0.0"
                ],
                [
                  "37",
                  "35.0",
                  "1.0",
                  "1.0",
                  "1.0",
                  "1.0",
                  "0.0",
                  "0.0"
                ],
                [
                  "38",
                  "26.0",
                  "1.0",
                  "1.0",
                  "1.0",
                  "1.0",
                  "0.0",
                  "0.0"
                ],
                [
                  "39",
                  "26.0",
                  "0.0",
                  "0.0",
                  "1.0",
                  "1.0",
                  "0.0",
                  "0.0"
                ],
                [
                  "40",
                  "30.0",
                  "0.0",
                  "1.0",
                  "0.0",
                  "1.0",
                  "0.0",
                  "0.0"
                ],
                [
                  "41",
                  "35.0",
                  "1.0",
                  "1.0",
                  "0.0",
                  "1.0",
                  "0.0",
                  "0.0"
                ],
                [
                  "42",
                  "31.0",
                  "1.0",
                  "0.0",
                  "0.0",
                  "1.0",
                  "0.0",
                  "0.0"
                ],
                [
                  "43",
                  "34.0",
                  "0.0",
                  "0.0",
                  "1.0",
                  "1.0",
                  "0.0",
                  "0.0"
                ],
                [
                  "44",
                  "32.0",
                  "1.0",
                  "1.0",
                  "0.0",
                  "1.0",
                  "0.0",
                  "0.0"
                ],
                [
                  "45",
                  "29.0",
                  "0.0",
                  "0.0",
                  "1.0",
                  "1.0",
                  "0.0",
                  "0.0"
                ],
                [
                  "46",
                  "31.0",
                  "0.0",
                  "1.0",
                  "0.0",
                  "1.0",
                  "0.0",
                  "0.0"
                ],
                [
                  "47",
                  "29.0",
                  "1.0",
                  "0.0",
                  "1.0",
                  "0.0",
                  "0.0",
                  "0.0"
                ],
                [
                  "48",
                  "30.0",
                  "0.0",
                  "0.0",
                  "0.0",
                  "1.0",
                  "0.0",
                  "0.0"
                ],
                [
                  "49",
                  "27.0",
                  "0.0",
                  "1.0",
                  "0.0",
                  "1.0",
                  "0.0",
                  "0.0"
                ]
              ],
              "shape": {
                "columns": 7,
                "rows": 18000
              }
            },
            "text/html": [
              "<div>\n",
              "<style scoped>\n",
              "    .dataframe tbody tr th:only-of-type {\n",
              "        vertical-align: middle;\n",
              "    }\n",
              "\n",
              "    .dataframe tbody tr th {\n",
              "        vertical-align: top;\n",
              "    }\n",
              "\n",
              "    .dataframe thead th {\n",
              "        text-align: right;\n",
              "    }\n",
              "</style>\n",
              "<table border=\"1\" class=\"dataframe\">\n",
              "  <thead>\n",
              "    <tr style=\"text-align: right;\">\n",
              "      <th></th>\n",
              "      <th>0</th>\n",
              "      <th>1</th>\n",
              "      <th>2</th>\n",
              "      <th>3</th>\n",
              "      <th>4</th>\n",
              "      <th>5</th>\n",
              "      <th>6</th>\n",
              "    </tr>\n",
              "  </thead>\n",
              "  <tbody>\n",
              "    <tr>\n",
              "      <th>0</th>\n",
              "      <td>31.0</td>\n",
              "      <td>0.0</td>\n",
              "      <td>1.0</td>\n",
              "      <td>1.0</td>\n",
              "      <td>0.0</td>\n",
              "      <td>1.0</td>\n",
              "      <td>0.0</td>\n",
              "    </tr>\n",
              "    <tr>\n",
              "      <th>1</th>\n",
              "      <td>27.0</td>\n",
              "      <td>0.0</td>\n",
              "      <td>0.0</td>\n",
              "      <td>1.0</td>\n",
              "      <td>1.0</td>\n",
              "      <td>0.0</td>\n",
              "      <td>0.0</td>\n",
              "    </tr>\n",
              "    <tr>\n",
              "      <th>2</th>\n",
              "      <td>31.0</td>\n",
              "      <td>1.0</td>\n",
              "      <td>1.0</td>\n",
              "      <td>1.0</td>\n",
              "      <td>1.0</td>\n",
              "      <td>0.0</td>\n",
              "      <td>0.0</td>\n",
              "    </tr>\n",
              "    <tr>\n",
              "      <th>3</th>\n",
              "      <td>32.0</td>\n",
              "      <td>1.0</td>\n",
              "      <td>0.0</td>\n",
              "      <td>0.0</td>\n",
              "      <td>1.0</td>\n",
              "      <td>0.0</td>\n",
              "      <td>0.0</td>\n",
              "    </tr>\n",
              "    <tr>\n",
              "      <th>4</th>\n",
              "      <td>32.0</td>\n",
              "      <td>1.0</td>\n",
              "      <td>0.0</td>\n",
              "      <td>0.0</td>\n",
              "      <td>1.0</td>\n",
              "      <td>0.0</td>\n",
              "      <td>0.0</td>\n",
              "    </tr>\n",
              "    <tr>\n",
              "      <th>...</th>\n",
              "      <td>...</td>\n",
              "      <td>...</td>\n",
              "      <td>...</td>\n",
              "      <td>...</td>\n",
              "      <td>...</td>\n",
              "      <td>...</td>\n",
              "      <td>...</td>\n",
              "    </tr>\n",
              "    <tr>\n",
              "      <th>17995</th>\n",
              "      <td>34.0</td>\n",
              "      <td>1.0</td>\n",
              "      <td>0.0</td>\n",
              "      <td>1.0</td>\n",
              "      <td>1.0</td>\n",
              "      <td>0.0</td>\n",
              "      <td>0.0</td>\n",
              "    </tr>\n",
              "    <tr>\n",
              "      <th>17996</th>\n",
              "      <td>28.0</td>\n",
              "      <td>1.0</td>\n",
              "      <td>1.0</td>\n",
              "      <td>1.0</td>\n",
              "      <td>1.0</td>\n",
              "      <td>0.0</td>\n",
              "      <td>0.0</td>\n",
              "    </tr>\n",
              "    <tr>\n",
              "      <th>17997</th>\n",
              "      <td>33.0</td>\n",
              "      <td>1.0</td>\n",
              "      <td>1.0</td>\n",
              "      <td>0.0</td>\n",
              "      <td>0.0</td>\n",
              "      <td>0.0</td>\n",
              "      <td>1.0</td>\n",
              "    </tr>\n",
              "    <tr>\n",
              "      <th>17998</th>\n",
              "      <td>28.0</td>\n",
              "      <td>0.0</td>\n",
              "      <td>0.0</td>\n",
              "      <td>0.0</td>\n",
              "      <td>1.0</td>\n",
              "      <td>0.0</td>\n",
              "      <td>0.0</td>\n",
              "    </tr>\n",
              "    <tr>\n",
              "      <th>17999</th>\n",
              "      <td>33.0</td>\n",
              "      <td>0.0</td>\n",
              "      <td>1.0</td>\n",
              "      <td>0.0</td>\n",
              "      <td>1.0</td>\n",
              "      <td>0.0</td>\n",
              "      <td>0.0</td>\n",
              "    </tr>\n",
              "  </tbody>\n",
              "</table>\n",
              "<p>18000 rows × 7 columns</p>\n",
              "</div>"
            ],
            "text/plain": [
              "          0    1    2    3    4    5    6\n",
              "0      31.0  0.0  1.0  1.0  0.0  1.0  0.0\n",
              "1      27.0  0.0  0.0  1.0  1.0  0.0  0.0\n",
              "2      31.0  1.0  1.0  1.0  1.0  0.0  0.0\n",
              "3      32.0  1.0  0.0  0.0  1.0  0.0  0.0\n",
              "4      32.0  1.0  0.0  0.0  1.0  0.0  0.0\n",
              "...     ...  ...  ...  ...  ...  ...  ...\n",
              "17995  34.0  1.0  0.0  1.0  1.0  0.0  0.0\n",
              "17996  28.0  1.0  1.0  1.0  1.0  0.0  0.0\n",
              "17997  33.0  1.0  1.0  0.0  0.0  0.0  1.0\n",
              "17998  28.0  0.0  0.0  0.0  1.0  0.0  0.0\n",
              "17999  33.0  0.0  1.0  0.0  1.0  0.0  0.0\n",
              "\n",
              "[18000 rows x 7 columns]"
            ]
          },
          "execution_count": 165,
          "metadata": {},
          "output_type": "execute_result"
        }
      ],
      "source": [
        "pd.DataFrame(X_train_processed)"
      ]
    },
    {
      "cell_type": "markdown",
      "id": "5a39cc66",
      "metadata": {},
      "source": [
        "Функция визуализации матрицы ошибок"
      ]
    },
    {
      "cell_type": "code",
      "execution_count": null,
      "id": "d8f622e3",
      "metadata": {},
      "outputs": [],
      "source": [
        "def plot_error_matrix(cm, model_name, config):\n",
        "\n",
        "    # Исходный зеленый цвет в HEX\n",
        "    hex_green_color = corp_col\n",
        "\n",
        "    # Преобразуем hex-код в tuple (R,G,B)\n",
        "    rgb_green_color = tuple(int(hex_green_color[i:i+2], 16)/255 for i in (1, 3, 5))  # конвертируем каждый байт из HEX в float\n",
        "\n",
        "    # Создаем градиент от белого (1,1,1) до нашего зеленого цвета\n",
        "    colors = [(1, 1, 1), rgb_green_color]\n",
        "\n",
        "    # Создаем линейную сегментированную цветовую карту\n",
        "    from matplotlib.colors import LinearSegmentedColormap\n",
        "    c_map = LinearSegmentedColormap.from_list(\"\", colors)\n",
        "\n",
        "    plt.figure(figsize=(6, 5))\n",
        "    sns.heatmap(cm, annot=True, fmt=\"d\", cmap=c_map, linewidths=.5, square=True)\n",
        "    plt.xlabel(\"Predicted Labels\")\n",
        "    plt.ylabel(\"True Labels\")\n",
        "    plt.title(\"Confusion Matrix for \" + model_name + \" (\" + config + \")\")\n",
        "    plt.show()\n"
      ]
    },
    {
      "cell_type": "markdown",
      "id": "83a91fb7",
      "metadata": {},
      "source": [
        "Функция расчёта метрик и сохранения их в список results для последующего сравнения."
      ]
    },
    {
      "cell_type": "code",
      "execution_count": null,
      "id": "400141b2",
      "metadata": {},
      "outputs": [],
      "source": [
        "# Создание таблицы для результатов\n",
        "results = []\n",
        "\n",
        "# Функция для оценки модели\n",
        "def evaluate_classifier(model, X_val, y_val, model_name, config):\n",
        "    y_pred = model.predict(X_val)\n",
        "    y_proba = model.predict_proba(X_val)[:, 1]\n",
        "    \n",
        "    metrics = {\n",
        "        'Model': model_name,\n",
        "        'Config': config,\n",
        "        'Accuracy': accuracy_score(y_val, y_pred),\n",
        "        'Precision': precision_score(y_val, y_pred),\n",
        "        'Recall': recall_score(y_val, y_pred),\n",
        "        'F1': f1_score(y_val, y_pred),\n",
        "        'AUC': roc_auc_score(y_val, y_proba)\n",
        "    }\n",
        "    \n",
        "    results.append(metrics)\n",
        "    \n",
        "    # Вывод матрицы ошибок\n",
        "    cm = confusion_matrix(y_val, y_pred)\n",
        "    print(f\"\\nМатрица ошибок ({model_name} - {config}):\")\n",
        "    print(cm)\n",
        "    \n",
        "    plot_error_matrix(cm, model_name, config)\n",
        "    \n",
        "    return metrics\n"
      ]
    },
    {
      "cell_type": "markdown",
      "id": "18dd1c59",
      "metadata": {},
      "source": [
        "Обучим три модели классификации со стандартными и оптимизированными настройками: логистическую регрессию, случайный лес и бустинг."
      ]
    },
    {
      "cell_type": "markdown",
      "id": "38df9d0a",
      "metadata": {},
      "source": [
        "### Логистическая регрессия"
      ]
    },
    {
      "cell_type": "code",
      "execution_count": null,
      "id": "455a3560",
      "metadata": {},
      "outputs": [
        {
          "name": "stdout",
          "output_type": "stream",
          "text": [
            "\n",
            "Матрица ошибок (LogisticRegression - Default):\n",
            "[[2112 1062]\n",
            " [1487 1339]]\n"
          ]
        },
        {
          "data": {
            "image/png": "[encoded data removed]",
            "text/plain": [
              "<Figure size 600x500 with 2 Axes>"
            ]
          },
          "metadata": {},
          "output_type": "display_data"
        },
        {
          "name": "stdout",
          "output_type": "stream",
          "text": [
            "\n",
            "Матрица ошибок (LogisticRegression - Optimized):\n",
            "[[2152 1022]\n",
            " [1512 1314]]\n"
          ]
        },
        {
          "data": {
            "image/png": "[encoded data removed]",
            "text/plain": [
              "<Figure size 600x500 with 2 Axes>"
            ]
          },
          "metadata": {},
          "output_type": "display_data"
        },
        {
          "data": {
            "text/plain": [
              "{'Model': 'LogisticRegression',\n",
              " 'Config': 'Optimized',\n",
              " 'Accuracy': 0.5776666666666667,\n",
              " 'Precision': 0.5625,\n",
              " 'Recall': 0.46496815286624205,\n",
              " 'F1': 0.5091049980627663,\n",
              " 'AUC': np.float64(0.6005872087034116)}"
            ]
          },
          "execution_count": 168,
          "metadata": {},
          "output_type": "execute_result"
        }
      ],
      "source": [
        "## Дефолтная модель\n",
        "logreg_default = LogisticRegression(max_iter=1000, random_state=42)\n",
        "logreg_default.fit(X_train_processed, y_train)\n",
        "evaluate_classifier(logreg_default, X_val_processed, y_val, 'LogisticRegression', 'Default')\n",
        "\n",
        "## Оптимизация\n",
        "param_grid = {\n",
        "    'C': [0.001, 0.01, 0.1, 1, 10],\n",
        "    'penalty': ['l1', 'l2'],\n",
        "    'solver': ['liblinear']\n",
        "}\n",
        "\n",
        "logreg_gs = GridSearchCV(\n",
        "    LogisticRegression(max_iter=1000, random_state=42),\n",
        "    param_grid,\n",
        "    cv=5,\n",
        "    scoring='roc_auc',\n",
        "    n_jobs=-1\n",
        ")\n",
        "logreg_gs.fit(X_train_processed, y_train)\n",
        "logreg_best = logreg_gs.best_estimator_\n",
        "evaluate_classifier(logreg_best, X_val_processed, y_val, 'LogisticRegression', 'Optimized')"
      ]
    },
    {
      "cell_type": "markdown",
      "id": "f9aff990",
      "metadata": {},
      "source": [
        "### Случайный лес"
      ]
    },
    {
      "cell_type": "code",
      "execution_count": null,
      "id": "25c87f05",
      "metadata": {},
      "outputs": [
        {
          "name": "stdout",
          "output_type": "stream",
          "text": [
            "\n",
            "Матрица ошибок (RandomForest - Default):\n",
            "[[2152 1022]\n",
            " [1587 1239]]\n"
          ]
        },
        {
          "data": {
            "image/png": "[encoded data removed]",
            "text/plain": [
              "<Figure size 600x500 with 2 Axes>"
            ]
          },
          "metadata": {},
          "output_type": "display_data"
        },
        {
          "name": "stdout",
          "output_type": "stream",
          "text": [
            "\n",
            "Матрица ошибок (RandomForest - Optimized):\n",
            "[[2493  681]\n",
            " [1874  952]]\n"
          ]
        },
        {
          "data": {
            "image/png": "[encoded data removed]",
            "text/plain": [
              "<Figure size 600x500 with 2 Axes>"
            ]
          },
          "metadata": {},
          "output_type": "display_data"
        },
        {
          "data": {
            "text/plain": [
              "{'Model': 'RandomForest',\n",
              " 'Config': 'Optimized',\n",
              " 'Accuracy': 0.5741666666666667,\n",
              " 'Precision': 0.5829761175750153,\n",
              " 'Recall': 0.33687190375088466,\n",
              " 'F1': 0.42700156985871274,\n",
              " 'AUC': np.float64(0.5950542625391818)}"
            ]
          },
          "execution_count": 169,
          "metadata": {},
          "output_type": "execute_result"
        }
      ],
      "source": [
        "## Дефолтная модель\n",
        "rf_default = RandomForestClassifier(random_state=42)\n",
        "rf_default.fit(X_train_processed, y_train)\n",
        "evaluate_classifier(rf_default, X_val_processed, y_val, 'RandomForest', 'Default')\n",
        "\n",
        "## Оптимизация\n",
        "param_grid = {\n",
        "    'n_estimators': [100, 200],\n",
        "    'max_depth': [5, 10, None],\n",
        "    'min_samples_split': [2, 5, 10]\n",
        "}\n",
        "\n",
        "rf_gs = GridSearchCV(\n",
        "    RandomForestClassifier(random_state=42),\n",
        "    param_grid,\n",
        "    cv=3,\n",
        "    scoring='roc_auc',\n",
        "    n_jobs=-1\n",
        ")\n",
        "rf_gs.fit(X_train_processed, y_train)\n",
        "rf_best = rf_gs.best_estimator_\n",
        "evaluate_classifier(rf_best, X_val_processed, y_val, 'RandomForest', 'Optimized')"
      ]
    },
    {
      "cell_type": "markdown",
      "id": "810098b3",
      "metadata": {},
      "source": [
        "### Градиентный бустинг"
      ]
    },
    {
      "cell_type": "code",
      "execution_count": null,
      "id": "6056b937",
      "metadata": {},
      "outputs": [
        {
          "name": "stdout",
          "output_type": "stream",
          "text": [
            "\n",
            "Матрица ошибок (GradientBoosting - Default):\n",
            "[[2225  949]\n",
            " [1644 1182]]\n"
          ]
        },
        {
          "data": {
            "image/png": "[encoded data removed]",
            "text/plain": [
              "<Figure size 600x500 with 2 Axes>"
            ]
          },
          "metadata": {},
          "output_type": "display_data"
        },
        {
          "name": "stdout",
          "output_type": "stream",
          "text": [
            "\n",
            "Матрица ошибок (GradientBoosting - Optimized):\n",
            "[[2225  949]\n",
            " [1644 1182]]\n"
          ]
        },
        {
          "data": {
            "image/png": "[encoded data removed]",
            "text/plain": [
              "<Figure size 600x500 with 2 Axes>"
            ]
          },
          "metadata": {},
          "output_type": "display_data"
        },
        {
          "data": {
            "text/plain": [
              "{'Model': 'GradientBoosting',\n",
              " 'Config': 'Optimized',\n",
              " 'Accuracy': 0.5678333333333333,\n",
              " 'Precision': 0.5546691694040357,\n",
              " 'Recall': 0.4182590233545648,\n",
              " 'F1': 0.47690135162396613,\n",
              " 'AUC': np.float64(0.5929233720011897)}"
            ]
          },
          "execution_count": 170,
          "metadata": {},
          "output_type": "execute_result"
        }
      ],
      "source": [
        "## Дефолтная модель\n",
        "gb_default = GradientBoostingClassifier(random_state=42)\n",
        "gb_default.fit(X_train_processed, y_train)\n",
        "evaluate_classifier(gb_default, X_val_processed, y_val, 'GradientBoosting', 'Default')\n",
        "\n",
        "## Оптимизация\n",
        "param_grid = {\n",
        "    'n_estimators': [100, 200],\n",
        "    'learning_rate': [0.01, 0.1],\n",
        "    'max_depth': [3, 5]\n",
        "}\n",
        "\n",
        "gb_gs = GridSearchCV(\n",
        "    GradientBoostingClassifier(random_state=42),\n",
        "    param_grid,\n",
        "    cv=3,\n",
        "    scoring='roc_auc',\n",
        "    n_jobs=-1\n",
        ")\n",
        "gb_gs.fit(X_train_processed, y_train)\n",
        "gb_best = gb_gs.best_estimator_\n",
        "evaluate_classifier(gb_best, X_val_processed, y_val, 'GradientBoosting', 'Optimized')"
      ]
    },
    {
      "cell_type": "markdown",
      "id": "620c18b0",
      "metadata": {},
      "source": [
        "### Таблица результатов обучения моделей"
      ]
    },
    {
      "cell_type": "code",
      "execution_count": null,
      "id": "fcc2a127",
      "metadata": {},
      "outputs": [
        {
          "name": "stdout",
          "output_type": "stream",
          "text": [
            "\n",
            "Сравнительная таблица результатов классификации:\n"
          ]
        },
        {
          "data": {
            "application/vnd.microsoft.datawrangler.viewer.v0+json": {
              "columns": [
                {
                  "name": "index",
                  "rawType": "int64",
                  "type": "integer"
                },
                {
                  "name": "Model",
                  "rawType": "object",
                  "type": "string"
                },
                {
                  "name": "Config",
                  "rawType": "object",
                  "type": "string"
                },
                {
                  "name": "Accuracy",
                  "rawType": "float64",
                  "type": "float"
                },
                {
                  "name": "Precision",
                  "rawType": "float64",
                  "type": "float"
                },
                {
                  "name": "Recall",
                  "rawType": "float64",
                  "type": "float"
                },
                {
                  "name": "F1",
                  "rawType": "float64",
                  "type": "float"
                },
                {
                  "name": "AUC",
                  "rawType": "float64",
                  "type": "float"
                }
              ],
              "ref": "ba9956fe-f539-4973-92e0-abddcdf4aa0c",
              "rows": [
                [
                  "0",
                  "LogisticRegression",
                  "Default",
                  "0.575",
                  "0.558",
                  "0.474",
                  "0.512",
                  "0.601"
                ],
                [
                  "1",
                  "LogisticRegression",
                  "Optimized",
                  "0.578",
                  "0.562",
                  "0.465",
                  "0.509",
                  "0.601"
                ],
                [
                  "2",
                  "RandomForest",
                  "Default",
                  "0.565",
                  "0.548",
                  "0.438",
                  "0.487",
                  "0.578"
                ],
                [
                  "3",
                  "RandomForest",
                  "Optimized",
                  "0.574",
                  "0.583",
                  "0.337",
                  "0.427",
                  "0.595"
                ],
                [
                  "4",
                  "GradientBoosting",
                  "Default",
                  "0.568",
                  "0.555",
                  "0.418",
                  "0.477",
                  "0.593"
                ],
                [
                  "5",
                  "GradientBoosting",
                  "Optimized",
                  "0.568",
                  "0.555",
                  "0.418",
                  "0.477",
                  "0.593"
                ]
              ],
              "shape": {
                "columns": 7,
                "rows": 6
              }
            },
            "text/html": [
              "<div>\n",
              "<style scoped>\n",
              "    .dataframe tbody tr th:only-of-type {\n",
              "        vertical-align: middle;\n",
              "    }\n",
              "\n",
              "    .dataframe tbody tr th {\n",
              "        vertical-align: top;\n",
              "    }\n",
              "\n",
              "    .dataframe thead th {\n",
              "        text-align: right;\n",
              "    }\n",
              "</style>\n",
              "<table border=\"1\" class=\"dataframe\">\n",
              "  <thead>\n",
              "    <tr style=\"text-align: right;\">\n",
              "      <th></th>\n",
              "      <th>Model</th>\n",
              "      <th>Config</th>\n",
              "      <th>Accuracy</th>\n",
              "      <th>Precision</th>\n",
              "      <th>Recall</th>\n",
              "      <th>F1</th>\n",
              "      <th>AUC</th>\n",
              "    </tr>\n",
              "  </thead>\n",
              "  <tbody>\n",
              "    <tr>\n",
              "      <th>0</th>\n",
              "      <td>LogisticRegression</td>\n",
              "      <td>Default</td>\n",
              "      <td>0.575</td>\n",
              "      <td>0.558</td>\n",
              "      <td>0.474</td>\n",
              "      <td>0.512</td>\n",
              "      <td>0.601</td>\n",
              "    </tr>\n",
              "    <tr>\n",
              "      <th>1</th>\n",
              "      <td>LogisticRegression</td>\n",
              "      <td>Optimized</td>\n",
              "      <td>0.578</td>\n",
              "      <td>0.562</td>\n",
              "      <td>0.465</td>\n",
              "      <td>0.509</td>\n",
              "      <td>0.601</td>\n",
              "    </tr>\n",
              "    <tr>\n",
              "      <th>2</th>\n",
              "      <td>RandomForest</td>\n",
              "      <td>Default</td>\n",
              "      <td>0.565</td>\n",
              "      <td>0.548</td>\n",
              "      <td>0.438</td>\n",
              "      <td>0.487</td>\n",
              "      <td>0.578</td>\n",
              "    </tr>\n",
              "    <tr>\n",
              "      <th>3</th>\n",
              "      <td>RandomForest</td>\n",
              "      <td>Optimized</td>\n",
              "      <td>0.574</td>\n",
              "      <td>0.583</td>\n",
              "      <td>0.337</td>\n",
              "      <td>0.427</td>\n",
              "      <td>0.595</td>\n",
              "    </tr>\n",
              "    <tr>\n",
              "      <th>4</th>\n",
              "      <td>GradientBoosting</td>\n",
              "      <td>Default</td>\n",
              "      <td>0.568</td>\n",
              "      <td>0.555</td>\n",
              "      <td>0.418</td>\n",
              "      <td>0.477</td>\n",
              "      <td>0.593</td>\n",
              "    </tr>\n",
              "    <tr>\n",
              "      <th>5</th>\n",
              "      <td>GradientBoosting</td>\n",
              "      <td>Optimized</td>\n",
              "      <td>0.568</td>\n",
              "      <td>0.555</td>\n",
              "      <td>0.418</td>\n",
              "      <td>0.477</td>\n",
              "      <td>0.593</td>\n",
              "    </tr>\n",
              "  </tbody>\n",
              "</table>\n",
              "</div>"
            ],
            "text/plain": [
              "                Model     Config  Accuracy  Precision  Recall     F1    AUC\n",
              "0  LogisticRegression    Default     0.575      0.558   0.474  0.512  0.601\n",
              "1  LogisticRegression  Optimized     0.578      0.562   0.465  0.509  0.601\n",
              "2        RandomForest    Default     0.565      0.548   0.438  0.487  0.578\n",
              "3        RandomForest  Optimized     0.574      0.583   0.337  0.427  0.595\n",
              "4    GradientBoosting    Default     0.568      0.555   0.418  0.477  0.593\n",
              "5    GradientBoosting  Optimized     0.568      0.555   0.418  0.477  0.593"
            ]
          },
          "metadata": {},
          "output_type": "display_data"
        }
      ],
      "source": [
        "results_df = pd.DataFrame(results)\n",
        "print(\"\\nСравнительная таблица результатов классификации:\")\n",
        "display(results_df.round(3))\n",
        "\n",
        "# Выбираем лучшую модель\n",
        "best_model = gb_best  # В данном случае GradientBoosting показал лучшие результаты"
      ]
    },
    {
      "cell_type": "markdown",
      "id": "6dd2f087",
      "metadata": {},
      "source": [
        "#### Все три модели показали одинаково слабые результаты (критерий AUC около 0.6, но всё таки результат выше случайного гадания), даже после настройки гиперпараметров. Причина таких в результатов в том, что решение о рождении ребёнка и выходе в декрет зависит от многих факторов, начиная от финансовых и заканчивая религиозными. В данном же массиве очень мало факторов представлено, просто недостостаточно информации для качественного обучения модели. "
      ]
    },
    {
      "cell_type": "markdown",
      "id": "faff0ed7",
      "metadata": {},
      "source": [
        "# Использование лучшей модели для прогнозирования"
      ]
    },
    {
      "cell_type": "markdown",
      "id": "a1491984",
      "metadata": {},
      "source": [
        "Так как все модели показали примерно одинаковые резльтаты, для дальнешего анализа была выбрана простейшая и наиоблее интерпретируемая -- логистическая регрессия.\n",
        "\n",
        "Используем вероятности модели для прогнозирования ухода в декрет. Будем считать, что денщина уйдёт в декрет, если вероятность по модели для неё выше 50%."
      ]
    },
    {
      "cell_type": "code",
      "execution_count": null,
      "id": "ed9e05b2",
      "metadata": {},
      "outputs": [
        {
          "data": {
            "application/vnd.microsoft.datawrangler.viewer.v0+json": {
              "columns": [
                {
                  "name": "index",
                  "rawType": "int64",
                  "type": "integer"
                },
                {
                  "name": "age",
                  "rawType": "int64",
                  "type": "integer"
                },
                {
                  "name": "morekids",
                  "rawType": "object",
                  "type": "string"
                },
                {
                  "name": "same_gender",
                  "rawType": "int64",
                  "type": "integer"
                },
                {
                  "name": "first_male",
                  "rawType": "int64",
                  "type": "integer"
                },
                {
                  "name": "ethnicity",
                  "rawType": "object",
                  "type": "string"
                },
                {
                  "name": "Risk_Probability",
                  "rawType": "float64",
                  "type": "float"
                },
                {
                  "name": "Risk_Prediction",
                  "rawType": "int64",
                  "type": "integer"
                }
              ],
              "ref": "c472a24d-6583-4219-b5ae-6cae270527aa",
              "rows": [
                [
                  "4421",
                  "32",
                  "yes",
                  "0",
                  "1",
                  "Caucasian",
                  "0.541182697689419",
                  "1"
                ],
                [
                  "19417",
                  "31",
                  "yes",
                  "1",
                  "0",
                  "Caucasian",
                  "0.5721374343927537",
                  "1"
                ],
                [
                  "13501",
                  "30",
                  "yes",
                  "0",
                  "1",
                  "Caucasian",
                  "0.564939739911772",
                  "1"
                ],
                [
                  "351",
                  "23",
                  "no",
                  "0",
                  "0",
                  "Caucasian",
                  "0.5191321763718119",
                  "1"
                ],
                [
                  "2782",
                  "28",
                  "yes",
                  "1",
                  "0",
                  "Caucasian",
                  "0.6070125368150627",
                  "1"
                ],
                [
                  "26459",
                  "32",
                  "yes",
                  "1",
                  "0",
                  "Caucasian",
                  "0.5603326855446268",
                  "1"
                ],
                [
                  "14023",
                  "29",
                  "yes",
                  "1",
                  "1",
                  "Caucasian",
                  "0.5822600444838912",
                  "1"
                ],
                [
                  "4230",
                  "34",
                  "yes",
                  "1",
                  "0",
                  "Caucasian",
                  "0.5365304574499195",
                  "1"
                ],
                [
                  "10733",
                  "30",
                  "yes",
                  "1",
                  "0",
                  "Caucasian",
                  "0.5838606211280785",
                  "1"
                ],
                [
                  "4110",
                  "31",
                  "yes",
                  "0",
                  "1",
                  "Caucasian",
                  "0.5530915250035022",
                  "1"
                ],
                [
                  "29863",
                  "34",
                  "yes",
                  "0",
                  "1",
                  "Caucasian",
                  "0.5172369511446341",
                  "1"
                ],
                [
                  "8870",
                  "32",
                  "yes",
                  "1",
                  "0",
                  "Caucasian",
                  "0.5603326855446268",
                  "1"
                ],
                [
                  "6024",
                  "31",
                  "yes",
                  "1",
                  "0",
                  "Caucasian",
                  "0.5721374343927537",
                  "1"
                ],
                [
                  "8135",
                  "34",
                  "yes",
                  "0",
                  "0",
                  "Caucasian",
                  "0.5308666961959201",
                  "1"
                ],
                [
                  "3755",
                  "25",
                  "yes",
                  "0",
                  "0",
                  "Caucasian",
                  "0.6355745985866632",
                  "1"
                ],
                [
                  "19062",
                  "24",
                  "no",
                  "0",
                  "0",
                  "Caucasian",
                  "0.5071248284216938",
                  "1"
                ],
                [
                  "24866",
                  "29",
                  "yes",
                  "0",
                  "1",
                  "Caucasian",
                  "0.5767142350085587",
                  "1"
                ],
                [
                  "14480",
                  "32",
                  "yes",
                  "1",
                  "1",
                  "Caucasian",
                  "0.5468282314371806",
                  "1"
                ],
                [
                  "10624",
                  "31",
                  "yes",
                  "1",
                  "1",
                  "Caucasian",
                  "0.5587100114395082",
                  "1"
                ],
                [
                  "19204",
                  "34",
                  "yes",
                  "1",
                  "1",
                  "Caucasian",
                  "0.5229173835143824",
                  "1"
                ],
                [
                  "3068",
                  "35",
                  "yes",
                  "0",
                  "1",
                  "Caucasian",
                  "0.505227382577418",
                  "1"
                ],
                [
                  "11224",
                  "27",
                  "yes",
                  "1",
                  "0",
                  "Caucasian",
                  "0.618417467517759",
                  "1"
                ],
                [
                  "18072",
                  "22",
                  "no",
                  "0",
                  "0",
                  "Caucasian",
                  "0.5311174652971069",
                  "1"
                ],
                [
                  "6700",
                  "35",
                  "yes",
                  "0",
                  "1",
                  "Caucasian",
                  "0.505227382577418",
                  "1"
                ],
                [
                  "12078",
                  "25",
                  "yes",
                  "0",
                  "1",
                  "Hispanic",
                  "0.6017889232485703",
                  "1"
                ],
                [
                  "6463",
                  "23",
                  "yes",
                  "0",
                  "1",
                  "Caucasian",
                  "0.6451272796037141",
                  "1"
                ],
                [
                  "27385",
                  "35",
                  "yes",
                  "1",
                  "0",
                  "Caucasian",
                  "0.524559673205332",
                  "1"
                ],
                [
                  "10519",
                  "35",
                  "yes",
                  "1",
                  "1",
                  "Caucasian",
                  "0.5109155062789396",
                  "1"
                ],
                [
                  "5170",
                  "31",
                  "yes",
                  "0",
                  "0",
                  "Hispanic",
                  "0.5446766096937723",
                  "1"
                ],
                [
                  "14850",
                  "35",
                  "yes",
                  "0",
                  "1",
                  "Caucasian",
                  "0.505227382577418",
                  "1"
                ],
                [
                  "19524",
                  "24",
                  "yes",
                  "1",
                  "0",
                  "Caucasian",
                  "0.6518159722971274",
                  "1"
                ],
                [
                  "24459",
                  "33",
                  "yes",
                  "1",
                  "1",
                  "Caucasian",
                  "0.534892854293019",
                  "1"
                ],
                [
                  "29198",
                  "23",
                  "no",
                  "0",
                  "1",
                  "Caucasian",
                  "0.505479090002422",
                  "1"
                ],
                [
                  "23463",
                  "30",
                  "yes",
                  "0",
                  "1",
                  "Caucasian",
                  "0.564939739911772",
                  "1"
                ],
                [
                  "3958",
                  "35",
                  "yes",
                  "0",
                  "1",
                  "Caucasian",
                  "0.505227382577418",
                  "1"
                ],
                [
                  "4672",
                  "22",
                  "no",
                  "1",
                  "1",
                  "Hispanic",
                  "0.5010266375618937",
                  "1"
                ],
                [
                  "16895",
                  "29",
                  "yes",
                  "0",
                  "0",
                  "Caucasian",
                  "0.5899958488643302",
                  "1"
                ],
                [
                  "21663",
                  "34",
                  "yes",
                  "1",
                  "1",
                  "Caucasian",
                  "0.5229173835143824",
                  "1"
                ],
                [
                  "27912",
                  "27",
                  "yes",
                  "0",
                  "0",
                  "Caucasian",
                  "0.6130326578753994",
                  "1"
                ],
                [
                  "19207",
                  "29",
                  "yes",
                  "0",
                  "1",
                  "Caucasian",
                  "0.5767142350085587",
                  "1"
                ],
                [
                  "5107",
                  "27",
                  "yes",
                  "0",
                  "1",
                  "Caucasian",
                  "0.5999913476299795",
                  "1"
                ],
                [
                  "2361",
                  "29",
                  "yes",
                  "1",
                  "0",
                  "Caucasian",
                  "0.5954896988916465",
                  "1"
                ],
                [
                  "26222",
                  "33",
                  "yes",
                  "0",
                  "0",
                  "Caucasian",
                  "0.542817083444875",
                  "1"
                ],
                [
                  "5749",
                  "35",
                  "yes",
                  "0",
                  "0",
                  "Caucasian",
                  "0.5188808038462323",
                  "1"
                ],
                [
                  "11359",
                  "26",
                  "yes",
                  "1",
                  "1",
                  "Hispanic",
                  "0.5957092404293002",
                  "1"
                ],
                [
                  "7839",
                  "29",
                  "yes",
                  "1",
                  "1",
                  "Caucasian",
                  "0.5822600444838912",
                  "1"
                ],
                [
                  "18067",
                  "34",
                  "yes",
                  "1",
                  "1",
                  "Caucasian",
                  "0.5229173835143824",
                  "1"
                ],
                [
                  "8965",
                  "35",
                  "yes",
                  "0",
                  "1",
                  "Caucasian",
                  "0.505227382577418",
                  "1"
                ],
                [
                  "14012",
                  "29",
                  "yes",
                  "0",
                  "1",
                  "Caucasian",
                  "0.5767142350085587",
                  "1"
                ],
                [
                  "2240",
                  "27",
                  "yes",
                  "1",
                  "0",
                  "Caucasian",
                  "0.618417467517759",
                  "1"
                ]
              ],
              "shape": {
                "columns": 7,
                "rows": 2222
              }
            },
            "text/html": [
              "<div>\n",
              "<style scoped>\n",
              "    .dataframe tbody tr th:only-of-type {\n",
              "        vertical-align: middle;\n",
              "    }\n",
              "\n",
              "    .dataframe tbody tr th {\n",
              "        vertical-align: top;\n",
              "    }\n",
              "\n",
              "    .dataframe thead th {\n",
              "        text-align: right;\n",
              "    }\n",
              "</style>\n",
              "<table border=\"1\" class=\"dataframe\">\n",
              "  <thead>\n",
              "    <tr style=\"text-align: right;\">\n",
              "      <th></th>\n",
              "      <th>age</th>\n",
              "      <th>morekids</th>\n",
              "      <th>same_gender</th>\n",
              "      <th>first_male</th>\n",
              "      <th>ethnicity</th>\n",
              "      <th>Risk_Probability</th>\n",
              "      <th>Risk_Prediction</th>\n",
              "    </tr>\n",
              "  </thead>\n",
              "  <tbody>\n",
              "    <tr>\n",
              "      <th>4421</th>\n",
              "      <td>32</td>\n",
              "      <td>yes</td>\n",
              "      <td>0</td>\n",
              "      <td>1</td>\n",
              "      <td>Caucasian</td>\n",
              "      <td>0.541183</td>\n",
              "      <td>1</td>\n",
              "    </tr>\n",
              "    <tr>\n",
              "      <th>19417</th>\n",
              "      <td>31</td>\n",
              "      <td>yes</td>\n",
              "      <td>1</td>\n",
              "      <td>0</td>\n",
              "      <td>Caucasian</td>\n",
              "      <td>0.572137</td>\n",
              "      <td>1</td>\n",
              "    </tr>\n",
              "    <tr>\n",
              "      <th>13501</th>\n",
              "      <td>30</td>\n",
              "      <td>yes</td>\n",
              "      <td>0</td>\n",
              "      <td>1</td>\n",
              "      <td>Caucasian</td>\n",
              "      <td>0.564940</td>\n",
              "      <td>1</td>\n",
              "    </tr>\n",
              "    <tr>\n",
              "      <th>351</th>\n",
              "      <td>23</td>\n",
              "      <td>no</td>\n",
              "      <td>0</td>\n",
              "      <td>0</td>\n",
              "      <td>Caucasian</td>\n",
              "      <td>0.519132</td>\n",
              "      <td>1</td>\n",
              "    </tr>\n",
              "    <tr>\n",
              "      <th>2782</th>\n",
              "      <td>28</td>\n",
              "      <td>yes</td>\n",
              "      <td>1</td>\n",
              "      <td>0</td>\n",
              "      <td>Caucasian</td>\n",
              "      <td>0.607013</td>\n",
              "      <td>1</td>\n",
              "    </tr>\n",
              "    <tr>\n",
              "      <th>...</th>\n",
              "      <td>...</td>\n",
              "      <td>...</td>\n",
              "      <td>...</td>\n",
              "      <td>...</td>\n",
              "      <td>...</td>\n",
              "      <td>...</td>\n",
              "      <td>...</td>\n",
              "    </tr>\n",
              "    <tr>\n",
              "      <th>8478</th>\n",
              "      <td>33</td>\n",
              "      <td>yes</td>\n",
              "      <td>0</td>\n",
              "      <td>0</td>\n",
              "      <td>Caucasian</td>\n",
              "      <td>0.542817</td>\n",
              "      <td>1</td>\n",
              "    </tr>\n",
              "    <tr>\n",
              "      <th>5743</th>\n",
              "      <td>31</td>\n",
              "      <td>yes</td>\n",
              "      <td>1</td>\n",
              "      <td>1</td>\n",
              "      <td>Caucasian</td>\n",
              "      <td>0.558710</td>\n",
              "      <td>1</td>\n",
              "    </tr>\n",
              "    <tr>\n",
              "      <th>25046</th>\n",
              "      <td>34</td>\n",
              "      <td>yes</td>\n",
              "      <td>1</td>\n",
              "      <td>0</td>\n",
              "      <td>Caucasian</td>\n",
              "      <td>0.536530</td>\n",
              "      <td>1</td>\n",
              "    </tr>\n",
              "    <tr>\n",
              "      <th>3403</th>\n",
              "      <td>34</td>\n",
              "      <td>yes</td>\n",
              "      <td>0</td>\n",
              "      <td>1</td>\n",
              "      <td>Caucasian</td>\n",
              "      <td>0.517237</td>\n",
              "      <td>1</td>\n",
              "    </tr>\n",
              "    <tr>\n",
              "      <th>22806</th>\n",
              "      <td>22</td>\n",
              "      <td>no</td>\n",
              "      <td>0</td>\n",
              "      <td>0</td>\n",
              "      <td>Caucasian</td>\n",
              "      <td>0.531117</td>\n",
              "      <td>1</td>\n",
              "    </tr>\n",
              "  </tbody>\n",
              "</table>\n",
              "<p>2222 rows × 7 columns</p>\n",
              "</div>"
            ],
            "text/plain": [
              "       age morekids  same_gender  first_male  ethnicity  Risk_Probability  \\\n",
              "4421    32      yes            0           1  Caucasian          0.541183   \n",
              "19417   31      yes            1           0  Caucasian          0.572137   \n",
              "13501   30      yes            0           1  Caucasian          0.564940   \n",
              "351     23       no            0           0  Caucasian          0.519132   \n",
              "2782    28      yes            1           0  Caucasian          0.607013   \n",
              "...    ...      ...          ...         ...        ...               ...   \n",
              "8478    33      yes            0           0  Caucasian          0.542817   \n",
              "5743    31      yes            1           1  Caucasian          0.558710   \n",
              "25046   34      yes            1           0  Caucasian          0.536530   \n",
              "3403    34      yes            0           1  Caucasian          0.517237   \n",
              "22806   22       no            0           0  Caucasian          0.531117   \n",
              "\n",
              "       Risk_Prediction  \n",
              "4421                 1  \n",
              "19417                1  \n",
              "13501                1  \n",
              "351                  1  \n",
              "2782                 1  \n",
              "...                ...  \n",
              "8478                 1  \n",
              "5743                 1  \n",
              "25046                1  \n",
              "3403                 1  \n",
              "22806                1  \n",
              "\n",
              "[2222 rows x 7 columns]"
            ]
          },
          "execution_count": 187,
          "metadata": {},
          "output_type": "execute_result"
        }
      ],
      "source": [
        "# Прогнозирование на финальной выборке\n",
        "forecast_results = X_forecast.copy()\n",
        "forecast_results['Risk_Probability'] = logreg_best.predict_proba(X_forecast_processed)[:, 1]\n",
        "forecast_results['Risk_Prediction'] = logreg_best.predict(X_forecast_processed)\n",
        "\n",
        "# Анализ групп высокого риска ухода в декрет (вероятность ухода > 50%)\n",
        "high_risk_group = forecast_results[forecast_results['Risk_Probability'] > 0.5]\n",
        "high_risk_group\n"
      ]
    },
    {
      "cell_type": "code",
      "execution_count": null,
      "id": "1e4a6f9a",
      "metadata": {},
      "outputs": [
        {
          "name": "stderr",
          "output_type": "stream",
          "text": [
            "C:\\Users\\stepa\\AppData\\Local\\Temp\\ipykernel_11036\\9408758.py:2: FutureWarning: The default of observed=False is deprecated and will be changed to True in a future version of pandas. Pass observed=False to retain current behavior or observed=True to adopt the future default and silence this warning.\n",
            "  risk_by_age = high_risk_group.groupby(\n",
            "C:\\Users\\stepa\\AppData\\Local\\Temp\\ipykernel_11036\\9408758.py:13: FutureWarning: \n",
            "\n",
            "Passing `palette` without assigning `hue` is deprecated and will be removed in v0.14.0. Assign the `x` variable to `hue` and set `legend=False` for the same effect.\n",
            "\n",
            "  sns.boxplot(x=pd.cut(forecast_results['age'], bins=[20, 25, 30, 35]),\n"
          ]
        },
        {
          "data": {
            "image/png": "[encoded data removed]",
            "text/plain": [
              "<Figure size 1500x500 with 2 Axes>"
            ]
          },
          "metadata": {},
          "output_type": "display_data"
        },
        {
          "data": {
            "application/vnd.microsoft.datawrangler.viewer.v0+json": {
              "columns": [
                {
                  "name": "age",
                  "rawType": "category",
                  "type": "unknown"
                },
                {
                  "name": "0",
                  "rawType": "float64",
                  "type": "float"
                }
              ],
              "ref": "9a9e58ff-db9c-4765-be24-f2c3d270c58c",
              "rows": [
                [
                  "(20, 25]",
                  "17.1"
                ],
                [
                  "(25, 30]",
                  "28.2"
                ],
                [
                  "(30, 35]",
                  "54.7"
                ]
              ],
              "shape": {
                "columns": 1,
                "rows": 3
              }
            },
            "text/plain": [
              "age\n",
              "(20, 25]    17.1\n",
              "(25, 30]    28.2\n",
              "(30, 35]    54.7\n",
              "dtype: float64"
            ]
          },
          "execution_count": 218,
          "metadata": {},
          "output_type": "execute_result"
        }
      ],
      "source": [
        "# Группировка результатов\n",
        "risk_by_age = high_risk_group.groupby(\n",
        "    pd.cut(\n",
        "        high_risk_group['age'], \n",
        "        bins=[20, 25, 30, 35])\n",
        ").size() / len(high_risk_group) * 100\n",
        "\n",
        "# Визуализация результатов\n",
        "plt.figure(figsize=(15, 5))\n",
        "\n",
        "plt.subplot(1, 2, 1)\n",
        "\n",
        "sns.boxplot(x=pd.cut(forecast_results['age'], bins=[20, 25, 30, 35]), \n",
        "            y='Risk_Probability', data=forecast_results, palette='coolwarm')\n",
        "plt.title('Вероятность декрета по возрастным группам')\n",
        "plt.xlabel('Возрастная группа')\n",
        "plt.ylabel('Вероятность декрета')\n",
        "\n",
        "# График 4: Взаимосвязь возраста и количества детей\n",
        "plt.subplot(1, 2, 2)\n",
        "sns.scatterplot(x='age', y='Risk_Probability', hue='morekids', \n",
        "                style='ethnicity', data=forecast_results, \n",
        "                palette='viridis', alpha=0.5)\n",
        "plt.title('Взаимосвязь: Возраст, Дети и Декрет')\n",
        "plt.xlabel('Возраст')\n",
        "plt.ylabel('Вероятность декрета')\n",
        "plt.axhline(y=0.5, color='red', linestyle='--', alpha=0.5)\n",
        "plt.legend(title='>2 детей', bbox_to_anchor=(1.05, 1), loc='upper left')\n",
        "\n",
        "plt.tight_layout()\n",
        "plt.show()\n",
        "\n",
        "risk_by_age.round(1)\n"
      ]
    },
    {
      "cell_type": "markdown",
      "id": "0d41e8b9",
      "metadata": {},
      "source": [
        "Среди тех у кого высок риск уйти в декрет более половины относятся к возрастной группе 30-35 лет (таблица), скорее всего из-за их количественного преобладания в выборке.\n",
        "\n",
        "В тоже время, молодых мам меньше в выборке, но они намного чаще уходят в декрет (правый график), наблюдается обратная корреляция вероятности декрета от возраста."
      ]
    },
    {
      "cell_type": "code",
      "execution_count": null,
      "id": "e4bd05f9",
      "metadata": {},
      "outputs": [
        {
          "data": {
            "application/vnd.microsoft.datawrangler.viewer.v0+json": {
              "columns": [
                {
                  "name": "morekids",
                  "rawType": "object",
                  "type": "string"
                },
                {
                  "name": "proportion",
                  "rawType": "float64",
                  "type": "float"
                }
              ],
              "ref": "8b2eabc7-d000-44a8-9f87-dbf491f8b834",
              "rows": [
                [
                  "yes",
                  "0.9"
                ],
                [
                  "no",
                  "0.1"
                ]
              ],
              "shape": {
                "columns": 1,
                "rows": 2
              }
            },
            "text/plain": [
              "morekids\n",
              "yes    0.9\n",
              "no     0.1\n",
              "Name: proportion, dtype: float64"
            ]
          },
          "execution_count": 209,
          "metadata": {},
          "output_type": "execute_result"
        },
        {
          "data": {
            "image/png": "[encoded data removed]",
            "text/plain": [
              "<Figure size 500x500 with 1 Axes>"
            ]
          },
          "metadata": {},
          "output_type": "display_data"
        }
      ],
      "source": [
        "risk_by_children = high_risk_group['morekids'].value_counts(normalize=True).round(2)\n",
        "\n",
        "plt.figure(figsize=(5, 5))\n",
        "risk_by_children.plot(kind='pie', autopct='%1.1f%%', colors=['#66c2a5', '#fc8d62'])\n",
        "plt.title('Наличие >2 детей в группе и риск ухода в декрет')\n",
        "plt.ylabel('')\n",
        "\n",
        "risk_by_children"
      ]
    },
    {
      "cell_type": "markdown",
      "id": "7a4a3bcf",
      "metadata": {},
      "source": [
        "Те женщины у кого более двух детей ухрдят в декрет с вероятностью 90%."
      ]
    }
  ],
  "metadata": {
    "colab": {
      "provenance": []
    },
    "kernelspec": {
      "display_name": ".venv",
      "language": "python",
      "name": "python3"
    },
    "language_info": {
      "codemirror_mode": {
        "name": "ipython",
        "version": 3
      },
      "file_extension": ".py",
      "mimetype": "text/x-python",
      "name": "python",
      "nbconvert_exporter": "python",
      "pygments_lexer": "ipython3",
      "version": "3.12.4"
    }
  },
  "nbformat": 4,
  "nbformat_minor": 5
}
