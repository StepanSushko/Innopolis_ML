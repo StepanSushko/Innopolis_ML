{
 "cells": [
  {
   "cell_type": "markdown",
   "id": "bd05a314",
   "metadata": {},
   "source": [
    "# Данные"
   ]
  },
  {
   "cell_type": "code",
   "execution_count": 1,
   "id": "77cd0a34",
   "metadata": {},
   "outputs": [
    {
     "data": {
      "application/vnd.microsoft.datawrangler.viewer.v0+json": {
       "columns": [
        {
         "name": "index",
         "rawType": "int64",
         "type": "integer"
        },
        {
         "name": "dataset",
         "rawType": "object",
         "type": "string"
        },
        {
         "name": "x",
         "rawType": "float64",
         "type": "float"
        },
        {
         "name": "y",
         "rawType": "float64",
         "type": "float"
        }
       ],
       "conversionMethod": "pd.DataFrame",
       "ref": "6b0bebc6-8db5-475c-b37a-f158648d7968",
       "rows": [
        [
         "0",
         "dino",
         "55.3846",
         "97.1795"
        ],
        [
         "1",
         "dino",
         "51.5385",
         "96.0256"
        ],
        [
         "2",
         "dino",
         "46.1538",
         "94.4872"
        ],
        [
         "3",
         "dino",
         "42.8205",
         "91.4103"
        ],
        [
         "4",
         "dino",
         "40.7692",
         "88.3333"
        ],
        [
         "5",
         "dino",
         "38.7179",
         "84.8718"
        ],
        [
         "6",
         "dino",
         "35.641",
         "79.8718"
        ],
        [
         "7",
         "dino",
         "33.0769",
         "77.5641"
        ],
        [
         "8",
         "dino",
         "28.9744",
         "74.4872"
        ],
        [
         "9",
         "dino",
         "26.1538",
         "71.4103"
        ],
        [
         "10",
         "dino",
         "23.0769",
         "66.4103"
        ],
        [
         "11",
         "dino",
         "22.3077",
         "61.7949"
        ],
        [
         "12",
         "dino",
         "22.3077",
         "57.1795"
        ],
        [
         "13",
         "dino",
         "23.3333",
         "52.9487"
        ],
        [
         "14",
         "dino",
         "25.8974",
         "51.0256"
        ],
        [
         "15",
         "dino",
         "29.4872",
         "51.0256"
        ],
        [
         "16",
         "dino",
         "32.8205",
         "51.0256"
        ],
        [
         "17",
         "dino",
         "35.3846",
         "51.4103"
        ],
        [
         "18",
         "dino",
         "40.2564",
         "51.4103"
        ],
        [
         "19",
         "dino",
         "44.1026",
         "52.9487"
        ],
        [
         "20",
         "dino",
         "46.6667",
         "54.1026"
        ],
        [
         "21",
         "dino",
         "50.0",
         "55.2564"
        ],
        [
         "22",
         "dino",
         "53.0769",
         "55.641"
        ],
        [
         "23",
         "dino",
         "56.6667",
         "56.0256"
        ],
        [
         "24",
         "dino",
         "59.2308",
         "57.9487"
        ],
        [
         "25",
         "dino",
         "61.2821",
         "62.1795"
        ],
        [
         "26",
         "dino",
         "61.5385",
         "66.4103"
        ],
        [
         "27",
         "dino",
         "61.7949",
         "69.1026"
        ],
        [
         "28",
         "dino",
         "57.4359",
         "55.2564"
        ],
        [
         "29",
         "dino",
         "54.8718",
         "49.8718"
        ],
        [
         "30",
         "dino",
         "52.5641",
         "46.0256"
        ],
        [
         "31",
         "dino",
         "48.2051",
         "38.3333"
        ],
        [
         "32",
         "dino",
         "49.4872",
         "42.1795"
        ],
        [
         "33",
         "dino",
         "51.0256",
         "44.1026"
        ],
        [
         "34",
         "dino",
         "45.3846",
         "36.4103"
        ],
        [
         "35",
         "dino",
         "42.8205",
         "32.5641"
        ],
        [
         "36",
         "dino",
         "38.7179",
         "31.4103"
        ],
        [
         "37",
         "dino",
         "35.1282",
         "30.2564"
        ],
        [
         "38",
         "dino",
         "32.5641",
         "32.1795"
        ],
        [
         "39",
         "dino",
         "30.0",
         "36.7949"
        ],
        [
         "40",
         "dino",
         "33.5897",
         "41.4103"
        ],
        [
         "41",
         "dino",
         "36.6667",
         "45.641"
        ],
        [
         "42",
         "dino",
         "38.2051",
         "49.1026"
        ],
        [
         "43",
         "dino",
         "29.7436",
         "36.0256"
        ],
        [
         "44",
         "dino",
         "29.7436",
         "32.1795"
        ],
        [
         "45",
         "dino",
         "30.0",
         "29.1026"
        ],
        [
         "46",
         "dino",
         "32.0513",
         "26.7949"
        ],
        [
         "47",
         "dino",
         "35.8974",
         "25.2564"
        ],
        [
         "48",
         "dino",
         "41.0256",
         "25.2564"
        ],
        [
         "49",
         "dino",
         "44.1026",
         "25.641"
        ]
       ],
       "shape": {
        "columns": 3,
        "rows": 1846
       }
      },
      "text/html": [
       "<div>\n",
       "<style scoped>\n",
       "    .dataframe tbody tr th:only-of-type {\n",
       "        vertical-align: middle;\n",
       "    }\n",
       "\n",
       "    .dataframe tbody tr th {\n",
       "        vertical-align: top;\n",
       "    }\n",
       "\n",
       "    .dataframe thead th {\n",
       "        text-align: right;\n",
       "    }\n",
       "</style>\n",
       "<table border=\"1\" class=\"dataframe\">\n",
       "  <thead>\n",
       "    <tr style=\"text-align: right;\">\n",
       "      <th></th>\n",
       "      <th>dataset</th>\n",
       "      <th>x</th>\n",
       "      <th>y</th>\n",
       "    </tr>\n",
       "  </thead>\n",
       "  <tbody>\n",
       "    <tr>\n",
       "      <th>0</th>\n",
       "      <td>dino</td>\n",
       "      <td>55.384600</td>\n",
       "      <td>97.179500</td>\n",
       "    </tr>\n",
       "    <tr>\n",
       "      <th>1</th>\n",
       "      <td>dino</td>\n",
       "      <td>51.538500</td>\n",
       "      <td>96.025600</td>\n",
       "    </tr>\n",
       "    <tr>\n",
       "      <th>2</th>\n",
       "      <td>dino</td>\n",
       "      <td>46.153800</td>\n",
       "      <td>94.487200</td>\n",
       "    </tr>\n",
       "    <tr>\n",
       "      <th>3</th>\n",
       "      <td>dino</td>\n",
       "      <td>42.820500</td>\n",
       "      <td>91.410300</td>\n",
       "    </tr>\n",
       "    <tr>\n",
       "      <th>4</th>\n",
       "      <td>dino</td>\n",
       "      <td>40.769200</td>\n",
       "      <td>88.333300</td>\n",
       "    </tr>\n",
       "    <tr>\n",
       "      <th>...</th>\n",
       "      <td>...</td>\n",
       "      <td>...</td>\n",
       "      <td>...</td>\n",
       "    </tr>\n",
       "    <tr>\n",
       "      <th>1841</th>\n",
       "      <td>wide_lines</td>\n",
       "      <td>33.674442</td>\n",
       "      <td>26.090490</td>\n",
       "    </tr>\n",
       "    <tr>\n",
       "      <th>1842</th>\n",
       "      <td>wide_lines</td>\n",
       "      <td>75.627255</td>\n",
       "      <td>37.128752</td>\n",
       "    </tr>\n",
       "    <tr>\n",
       "      <th>1843</th>\n",
       "      <td>wide_lines</td>\n",
       "      <td>40.610125</td>\n",
       "      <td>89.136240</td>\n",
       "    </tr>\n",
       "    <tr>\n",
       "      <th>1844</th>\n",
       "      <td>wide_lines</td>\n",
       "      <td>39.114366</td>\n",
       "      <td>96.481751</td>\n",
       "    </tr>\n",
       "    <tr>\n",
       "      <th>1845</th>\n",
       "      <td>wide_lines</td>\n",
       "      <td>34.583829</td>\n",
       "      <td>89.588902</td>\n",
       "    </tr>\n",
       "  </tbody>\n",
       "</table>\n",
       "<p>1846 rows × 3 columns</p>\n",
       "</div>"
      ],
      "text/plain": [
       "         dataset          x          y\n",
       "0           dino  55.384600  97.179500\n",
       "1           dino  51.538500  96.025600\n",
       "2           dino  46.153800  94.487200\n",
       "3           dino  42.820500  91.410300\n",
       "4           dino  40.769200  88.333300\n",
       "...          ...        ...        ...\n",
       "1841  wide_lines  33.674442  26.090490\n",
       "1842  wide_lines  75.627255  37.128752\n",
       "1843  wide_lines  40.610125  89.136240\n",
       "1844  wide_lines  39.114366  96.481751\n",
       "1845  wide_lines  34.583829  89.588902\n",
       "\n",
       "[1846 rows x 3 columns]"
      ]
     },
     "execution_count": 1,
     "metadata": {},
     "output_type": "execute_result"
    }
   ],
   "source": [
    "import pandas as pd\n",
    "import plotly.express as px\n",
    "from plotly.subplots import make_subplots\n",
    "import plotly.graph_objects as go\n",
    "\n",
    "\n",
    "corp_col = '#40ba21'\n",
    "\n",
    "df = pd.read_csv(\"Never Trust Summary Statistics.tsv\", delimiter=\"\\t\")\n",
    "df"
   ]
  },
  {
   "cell_type": "markdown",
   "id": "9986b666",
   "metadata": {},
   "source": [
    "# Домашнее задание 2"
   ]
  },
  {
   "cell_type": "markdown",
   "id": "4fcf4ca6",
   "metadata": {},
   "source": [
    "## Столбичная диаграма"
   ]
  },
  {
   "cell_type": "code",
   "execution_count": 2,
   "id": "8c41f7b7",
   "metadata": {},
   "outputs": [
    {
     "data": {
      "application/vnd.plotly.v1+json": {
       "config": {
        "plotlyServerURL": "https://plot.ly"
       },
       "data": [
        {
         "hovertemplate": "dataset=%{x}<br>Количество=%{y}<extra></extra>",
         "legendgroup": "",
         "marker": {
          "color": "#40ba21",
          "pattern": {
           "shape": ""
          }
         },
         "name": "",
         "orientation": "v",
         "showlegend": false,
         "textposition": "auto",
         "type": "bar",
         "x": [
          "dino",
          "away",
          "h_lines",
          "v_lines",
          "x_shape",
          "star",
          "high_lines",
          "dots",
          "circle",
          "bullseye",
          "slant_up",
          "slant_down",
          "wide_lines"
         ],
         "xaxis": "x",
         "y": {
          "bdata": "jgCOAI4AjgCOAI4AjgCOAI4AjgCOAI4AjgA=",
          "dtype": "i2"
         },
         "yaxis": "y"
        }
       ],
       "layout": {
        "barmode": "relative",
        "legend": {
         "tracegroupgap": 0
        },
        "margin": {
         "t": 60
        },
        "plot_bgcolor": "white",
        "template": {
         "data": {
          "bar": [
           {
            "error_x": {
             "color": "#2a3f5f"
            },
            "error_y": {
             "color": "#2a3f5f"
            },
            "marker": {
             "line": {
              "color": "#E5ECF6",
              "width": 0.5
             },
             "pattern": {
              "fillmode": "overlay",
              "size": 10,
              "solidity": 0.2
             }
            },
            "type": "bar"
           }
          ],
          "barpolar": [
           {
            "marker": {
             "line": {
              "color": "#E5ECF6",
              "width": 0.5
             },
             "pattern": {
              "fillmode": "overlay",
              "size": 10,
              "solidity": 0.2
             }
            },
            "type": "barpolar"
           }
          ],
          "carpet": [
           {
            "aaxis": {
             "endlinecolor": "#2a3f5f",
             "gridcolor": "white",
             "linecolor": "white",
             "minorgridcolor": "white",
             "startlinecolor": "#2a3f5f"
            },
            "baxis": {
             "endlinecolor": "#2a3f5f",
             "gridcolor": "white",
             "linecolor": "white",
             "minorgridcolor": "white",
             "startlinecolor": "#2a3f5f"
            },
            "type": "carpet"
           }
          ],
          "choropleth": [
           {
            "colorbar": {
             "outlinewidth": 0,
             "ticks": ""
            },
            "type": "choropleth"
           }
          ],
          "contour": [
           {
            "colorbar": {
             "outlinewidth": 0,
             "ticks": ""
            },
            "colorscale": [
             [
              0,
              "#0d0887"
             ],
             [
              0.1111111111111111,
              "#46039f"
             ],
             [
              0.2222222222222222,
              "#7201a8"
             ],
             [
              0.3333333333333333,
              "#9c179e"
             ],
             [
              0.4444444444444444,
              "#bd3786"
             ],
             [
              0.5555555555555556,
              "#d8576b"
             ],
             [
              0.6666666666666666,
              "#ed7953"
             ],
             [
              0.7777777777777778,
              "#fb9f3a"
             ],
             [
              0.8888888888888888,
              "#fdca26"
             ],
             [
              1,
              "#f0f921"
             ]
            ],
            "type": "contour"
           }
          ],
          "contourcarpet": [
           {
            "colorbar": {
             "outlinewidth": 0,
             "ticks": ""
            },
            "type": "contourcarpet"
           }
          ],
          "heatmap": [
           {
            "colorbar": {
             "outlinewidth": 0,
             "ticks": ""
            },
            "colorscale": [
             [
              0,
              "#0d0887"
             ],
             [
              0.1111111111111111,
              "#46039f"
             ],
             [
              0.2222222222222222,
              "#7201a8"
             ],
             [
              0.3333333333333333,
              "#9c179e"
             ],
             [
              0.4444444444444444,
              "#bd3786"
             ],
             [
              0.5555555555555556,
              "#d8576b"
             ],
             [
              0.6666666666666666,
              "#ed7953"
             ],
             [
              0.7777777777777778,
              "#fb9f3a"
             ],
             [
              0.8888888888888888,
              "#fdca26"
             ],
             [
              1,
              "#f0f921"
             ]
            ],
            "type": "heatmap"
           }
          ],
          "histogram": [
           {
            "marker": {
             "pattern": {
              "fillmode": "overlay",
              "size": 10,
              "solidity": 0.2
             }
            },
            "type": "histogram"
           }
          ],
          "histogram2d": [
           {
            "colorbar": {
             "outlinewidth": 0,
             "ticks": ""
            },
            "colorscale": [
             [
              0,
              "#0d0887"
             ],
             [
              0.1111111111111111,
              "#46039f"
             ],
             [
              0.2222222222222222,
              "#7201a8"
             ],
             [
              0.3333333333333333,
              "#9c179e"
             ],
             [
              0.4444444444444444,
              "#bd3786"
             ],
             [
              0.5555555555555556,
              "#d8576b"
             ],
             [
              0.6666666666666666,
              "#ed7953"
             ],
             [
              0.7777777777777778,
              "#fb9f3a"
             ],
             [
              0.8888888888888888,
              "#fdca26"
             ],
             [
              1,
              "#f0f921"
             ]
            ],
            "type": "histogram2d"
           }
          ],
          "histogram2dcontour": [
           {
            "colorbar": {
             "outlinewidth": 0,
             "ticks": ""
            },
            "colorscale": [
             [
              0,
              "#0d0887"
             ],
             [
              0.1111111111111111,
              "#46039f"
             ],
             [
              0.2222222222222222,
              "#7201a8"
             ],
             [
              0.3333333333333333,
              "#9c179e"
             ],
             [
              0.4444444444444444,
              "#bd3786"
             ],
             [
              0.5555555555555556,
              "#d8576b"
             ],
             [
              0.6666666666666666,
              "#ed7953"
             ],
             [
              0.7777777777777778,
              "#fb9f3a"
             ],
             [
              0.8888888888888888,
              "#fdca26"
             ],
             [
              1,
              "#f0f921"
             ]
            ],
            "type": "histogram2dcontour"
           }
          ],
          "mesh3d": [
           {
            "colorbar": {
             "outlinewidth": 0,
             "ticks": ""
            },
            "type": "mesh3d"
           }
          ],
          "parcoords": [
           {
            "line": {
             "colorbar": {
              "outlinewidth": 0,
              "ticks": ""
             }
            },
            "type": "parcoords"
           }
          ],
          "pie": [
           {
            "automargin": true,
            "type": "pie"
           }
          ],
          "scatter": [
           {
            "fillpattern": {
             "fillmode": "overlay",
             "size": 10,
             "solidity": 0.2
            },
            "type": "scatter"
           }
          ],
          "scatter3d": [
           {
            "line": {
             "colorbar": {
              "outlinewidth": 0,
              "ticks": ""
             }
            },
            "marker": {
             "colorbar": {
              "outlinewidth": 0,
              "ticks": ""
             }
            },
            "type": "scatter3d"
           }
          ],
          "scattercarpet": [
           {
            "marker": {
             "colorbar": {
              "outlinewidth": 0,
              "ticks": ""
             }
            },
            "type": "scattercarpet"
           }
          ],
          "scattergeo": [
           {
            "marker": {
             "colorbar": {
              "outlinewidth": 0,
              "ticks": ""
             }
            },
            "type": "scattergeo"
           }
          ],
          "scattergl": [
           {
            "marker": {
             "colorbar": {
              "outlinewidth": 0,
              "ticks": ""
             }
            },
            "type": "scattergl"
           }
          ],
          "scattermap": [
           {
            "marker": {
             "colorbar": {
              "outlinewidth": 0,
              "ticks": ""
             }
            },
            "type": "scattermap"
           }
          ],
          "scattermapbox": [
           {
            "marker": {
             "colorbar": {
              "outlinewidth": 0,
              "ticks": ""
             }
            },
            "type": "scattermapbox"
           }
          ],
          "scatterpolar": [
           {
            "marker": {
             "colorbar": {
              "outlinewidth": 0,
              "ticks": ""
             }
            },
            "type": "scatterpolar"
           }
          ],
          "scatterpolargl": [
           {
            "marker": {
             "colorbar": {
              "outlinewidth": 0,
              "ticks": ""
             }
            },
            "type": "scatterpolargl"
           }
          ],
          "scatterternary": [
           {
            "marker": {
             "colorbar": {
              "outlinewidth": 0,
              "ticks": ""
             }
            },
            "type": "scatterternary"
           }
          ],
          "surface": [
           {
            "colorbar": {
             "outlinewidth": 0,
             "ticks": ""
            },
            "colorscale": [
             [
              0,
              "#0d0887"
             ],
             [
              0.1111111111111111,
              "#46039f"
             ],
             [
              0.2222222222222222,
              "#7201a8"
             ],
             [
              0.3333333333333333,
              "#9c179e"
             ],
             [
              0.4444444444444444,
              "#bd3786"
             ],
             [
              0.5555555555555556,
              "#d8576b"
             ],
             [
              0.6666666666666666,
              "#ed7953"
             ],
             [
              0.7777777777777778,
              "#fb9f3a"
             ],
             [
              0.8888888888888888,
              "#fdca26"
             ],
             [
              1,
              "#f0f921"
             ]
            ],
            "type": "surface"
           }
          ],
          "table": [
           {
            "cells": {
             "fill": {
              "color": "#EBF0F8"
             },
             "line": {
              "color": "white"
             }
            },
            "header": {
             "fill": {
              "color": "#C8D4E3"
             },
             "line": {
              "color": "white"
             }
            },
            "type": "table"
           }
          ]
         },
         "layout": {
          "annotationdefaults": {
           "arrowcolor": "#2a3f5f",
           "arrowhead": 0,
           "arrowwidth": 1
          },
          "autotypenumbers": "strict",
          "coloraxis": {
           "colorbar": {
            "outlinewidth": 0,
            "ticks": ""
           }
          },
          "colorscale": {
           "diverging": [
            [
             0,
             "#8e0152"
            ],
            [
             0.1,
             "#c51b7d"
            ],
            [
             0.2,
             "#de77ae"
            ],
            [
             0.3,
             "#f1b6da"
            ],
            [
             0.4,
             "#fde0ef"
            ],
            [
             0.5,
             "#f7f7f7"
            ],
            [
             0.6,
             "#e6f5d0"
            ],
            [
             0.7,
             "#b8e186"
            ],
            [
             0.8,
             "#7fbc41"
            ],
            [
             0.9,
             "#4d9221"
            ],
            [
             1,
             "#276419"
            ]
           ],
           "sequential": [
            [
             0,
             "#0d0887"
            ],
            [
             0.1111111111111111,
             "#46039f"
            ],
            [
             0.2222222222222222,
             "#7201a8"
            ],
            [
             0.3333333333333333,
             "#9c179e"
            ],
            [
             0.4444444444444444,
             "#bd3786"
            ],
            [
             0.5555555555555556,
             "#d8576b"
            ],
            [
             0.6666666666666666,
             "#ed7953"
            ],
            [
             0.7777777777777778,
             "#fb9f3a"
            ],
            [
             0.8888888888888888,
             "#fdca26"
            ],
            [
             1,
             "#f0f921"
            ]
           ],
           "sequentialminus": [
            [
             0,
             "#0d0887"
            ],
            [
             0.1111111111111111,
             "#46039f"
            ],
            [
             0.2222222222222222,
             "#7201a8"
            ],
            [
             0.3333333333333333,
             "#9c179e"
            ],
            [
             0.4444444444444444,
             "#bd3786"
            ],
            [
             0.5555555555555556,
             "#d8576b"
            ],
            [
             0.6666666666666666,
             "#ed7953"
            ],
            [
             0.7777777777777778,
             "#fb9f3a"
            ],
            [
             0.8888888888888888,
             "#fdca26"
            ],
            [
             1,
             "#f0f921"
            ]
           ]
          },
          "colorway": [
           "#636efa",
           "#EF553B",
           "#00cc96",
           "#ab63fa",
           "#FFA15A",
           "#19d3f3",
           "#FF6692",
           "#B6E880",
           "#FF97FF",
           "#FECB52"
          ],
          "font": {
           "color": "#2a3f5f"
          },
          "geo": {
           "bgcolor": "white",
           "lakecolor": "white",
           "landcolor": "#E5ECF6",
           "showlakes": true,
           "showland": true,
           "subunitcolor": "white"
          },
          "hoverlabel": {
           "align": "left"
          },
          "hovermode": "closest",
          "mapbox": {
           "style": "light"
          },
          "paper_bgcolor": "white",
          "plot_bgcolor": "#E5ECF6",
          "polar": {
           "angularaxis": {
            "gridcolor": "white",
            "linecolor": "white",
            "ticks": ""
           },
           "bgcolor": "#E5ECF6",
           "radialaxis": {
            "gridcolor": "white",
            "linecolor": "white",
            "ticks": ""
           }
          },
          "scene": {
           "xaxis": {
            "backgroundcolor": "#E5ECF6",
            "gridcolor": "white",
            "gridwidth": 2,
            "linecolor": "white",
            "showbackground": true,
            "ticks": "",
            "zerolinecolor": "white"
           },
           "yaxis": {
            "backgroundcolor": "#E5ECF6",
            "gridcolor": "white",
            "gridwidth": 2,
            "linecolor": "white",
            "showbackground": true,
            "ticks": "",
            "zerolinecolor": "white"
           },
           "zaxis": {
            "backgroundcolor": "#E5ECF6",
            "gridcolor": "white",
            "gridwidth": 2,
            "linecolor": "white",
            "showbackground": true,
            "ticks": "",
            "zerolinecolor": "white"
           }
          },
          "shapedefaults": {
           "line": {
            "color": "#2a3f5f"
           }
          },
          "ternary": {
           "aaxis": {
            "gridcolor": "white",
            "linecolor": "white",
            "ticks": ""
           },
           "baxis": {
            "gridcolor": "white",
            "linecolor": "white",
            "ticks": ""
           },
           "bgcolor": "#E5ECF6",
           "caxis": {
            "gridcolor": "white",
            "linecolor": "white",
            "ticks": ""
           }
          },
          "title": {
           "x": 0.05
          },
          "xaxis": {
           "automargin": true,
           "gridcolor": "white",
           "linecolor": "white",
           "ticks": "",
           "title": {
            "standoff": 15
           },
           "zerolinecolor": "white",
           "zerolinewidth": 2
          },
          "yaxis": {
           "automargin": true,
           "gridcolor": "white",
           "linecolor": "white",
           "ticks": "",
           "title": {
            "standoff": 15
           },
           "zerolinecolor": "white",
           "zerolinewidth": 2
          }
         }
        },
        "xaxis": {
         "anchor": "y",
         "domain": [
          0,
          1
         ],
         "title": {
          "text": "dataset"
         }
        },
        "yaxis": {
         "anchor": "x",
         "domain": [
          0,
          1
         ],
         "title": {
          "text": "Количество"
         }
        }
       }
      }
     },
     "metadata": {},
     "output_type": "display_data"
    }
   ],
   "source": [
    "# Подсчитайте количество вхождений каждого значения\n",
    "df_counts = df['dataset'].value_counts().reset_index()\n",
    "df_counts.columns = ['dataset', 'Количество']\n",
    "\n",
    "# Создайте столбчатую диаграмму\n",
    "fig = px.bar(df_counts, x='dataset', y='Количество', color_discrete_sequence=[ corp_col ])\n",
    "\n",
    "# Настройте фон\n",
    "fig.update_layout(plot_bgcolor='white')\n",
    "\n",
    "# Покажите диаграмму\n",
    "fig.show()\n"
   ]
  },
  {
   "cell_type": "markdown",
   "id": "2757d61a",
   "metadata": {},
   "source": [
    "**Выводы**: Массив данных состоит из подгрупп равного размера по 140 значений. Всего 13 групп."
   ]
  },
  {
   "cell_type": "markdown",
   "id": "51ed514f",
   "metadata": {},
   "source": [
    "## Гистограмма распределений по переменной X"
   ]
  },
  {
   "cell_type": "code",
   "execution_count": 3,
   "id": "f1f02fb3",
   "metadata": {},
   "outputs": [
    {
     "data": {
      "application/vnd.plotly.v1+json": {
       "config": {
        "plotlyServerURL": "https://plot.ly"
       },
       "data": [
        {
         "bingroup": "x",
         "hovertemplate": "x=%{x}<br>count=%{y}<extra></extra>",
         "legendgroup": "",
         "marker": {
          "color": "#40ba21",
          "pattern": {
           "shape": ""
          }
         },
         "name": "",
         "orientation": "v",
         "showlegend": false,
         "type": "histogram",
         "x": {
          "bdata": "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",
          "dtype": "f8"
         },
         "xaxis": "x",
         "yaxis": "y"
        }
       ],
       "layout": {
        "barmode": "relative",
        "legend": {
         "tracegroupgap": 0
        },
        "margin": {
         "t": 60
        },
        "plot_bgcolor": "white",
        "template": {
         "data": {
          "bar": [
           {
            "error_x": {
             "color": "#2a3f5f"
            },
            "error_y": {
             "color": "#2a3f5f"
            },
            "marker": {
             "line": {
              "color": "#E5ECF6",
              "width": 0.5
             },
             "pattern": {
              "fillmode": "overlay",
              "size": 10,
              "solidity": 0.2
             }
            },
            "type": "bar"
           }
          ],
          "barpolar": [
           {
            "marker": {
             "line": {
              "color": "#E5ECF6",
              "width": 0.5
             },
             "pattern": {
              "fillmode": "overlay",
              "size": 10,
              "solidity": 0.2
             }
            },
            "type": "barpolar"
           }
          ],
          "carpet": [
           {
            "aaxis": {
             "endlinecolor": "#2a3f5f",
             "gridcolor": "white",
             "linecolor": "white",
             "minorgridcolor": "white",
             "startlinecolor": "#2a3f5f"
            },
            "baxis": {
             "endlinecolor": "#2a3f5f",
             "gridcolor": "white",
             "linecolor": "white",
             "minorgridcolor": "white",
             "startlinecolor": "#2a3f5f"
            },
            "type": "carpet"
           }
          ],
          "choropleth": [
           {
            "colorbar": {
             "outlinewidth": 0,
             "ticks": ""
            },
            "type": "choropleth"
           }
          ],
          "contour": [
           {
            "colorbar": {
             "outlinewidth": 0,
             "ticks": ""
            },
            "colorscale": [
             [
              0,
              "#0d0887"
             ],
             [
              0.1111111111111111,
              "#46039f"
             ],
             [
              0.2222222222222222,
              "#7201a8"
             ],
             [
              0.3333333333333333,
              "#9c179e"
             ],
             [
              0.4444444444444444,
              "#bd3786"
             ],
             [
              0.5555555555555556,
              "#d8576b"
             ],
             [
              0.6666666666666666,
              "#ed7953"
             ],
             [
              0.7777777777777778,
              "#fb9f3a"
             ],
             [
              0.8888888888888888,
              "#fdca26"
             ],
             [
              1,
              "#f0f921"
             ]
            ],
            "type": "contour"
           }
          ],
          "contourcarpet": [
           {
            "colorbar": {
             "outlinewidth": 0,
             "ticks": ""
            },
            "type": "contourcarpet"
           }
          ],
          "heatmap": [
           {
            "colorbar": {
             "outlinewidth": 0,
             "ticks": ""
            },
            "colorscale": [
             [
              0,
              "#0d0887"
             ],
             [
              0.1111111111111111,
              "#46039f"
             ],
             [
              0.2222222222222222,
              "#7201a8"
             ],
             [
              0.3333333333333333,
              "#9c179e"
             ],
             [
              0.4444444444444444,
              "#bd3786"
             ],
             [
              0.5555555555555556,
              "#d8576b"
             ],
             [
              0.6666666666666666,
              "#ed7953"
             ],
             [
              0.7777777777777778,
              "#fb9f3a"
             ],
             [
              0.8888888888888888,
              "#fdca26"
             ],
             [
              1,
              "#f0f921"
             ]
            ],
            "type": "heatmap"
           }
          ],
          "histogram": [
           {
            "marker": {
             "pattern": {
              "fillmode": "overlay",
              "size": 10,
              "solidity": 0.2
             }
            },
            "type": "histogram"
           }
          ],
          "histogram2d": [
           {
            "colorbar": {
             "outlinewidth": 0,
             "ticks": ""
            },
            "colorscale": [
             [
              0,
              "#0d0887"
             ],
             [
              0.1111111111111111,
              "#46039f"
             ],
             [
              0.2222222222222222,
              "#7201a8"
             ],
             [
              0.3333333333333333,
              "#9c179e"
             ],
             [
              0.4444444444444444,
              "#bd3786"
             ],
             [
              0.5555555555555556,
              "#d8576b"
             ],
             [
              0.6666666666666666,
              "#ed7953"
             ],
             [
              0.7777777777777778,
              "#fb9f3a"
             ],
             [
              0.8888888888888888,
              "#fdca26"
             ],
             [
              1,
              "#f0f921"
             ]
            ],
            "type": "histogram2d"
           }
          ],
          "histogram2dcontour": [
           {
            "colorbar": {
             "outlinewidth": 0,
             "ticks": ""
            },
            "colorscale": [
             [
              0,
              "#0d0887"
             ],
             [
              0.1111111111111111,
              "#46039f"
             ],
             [
              0.2222222222222222,
              "#7201a8"
             ],
             [
              0.3333333333333333,
              "#9c179e"
             ],
             [
              0.4444444444444444,
              "#bd3786"
             ],
             [
              0.5555555555555556,
              "#d8576b"
             ],
             [
              0.6666666666666666,
              "#ed7953"
             ],
             [
              0.7777777777777778,
              "#fb9f3a"
             ],
             [
              0.8888888888888888,
              "#fdca26"
             ],
             [
              1,
              "#f0f921"
             ]
            ],
            "type": "histogram2dcontour"
           }
          ],
          "mesh3d": [
           {
            "colorbar": {
             "outlinewidth": 0,
             "ticks": ""
            },
            "type": "mesh3d"
           }
          ],
          "parcoords": [
           {
            "line": {
             "colorbar": {
              "outlinewidth": 0,
              "ticks": ""
             }
            },
            "type": "parcoords"
           }
          ],
          "pie": [
           {
            "automargin": true,
            "type": "pie"
           }
          ],
          "scatter": [
           {
            "fillpattern": {
             "fillmode": "overlay",
             "size": 10,
             "solidity": 0.2
            },
            "type": "scatter"
           }
          ],
          "scatter3d": [
           {
            "line": {
             "colorbar": {
              "outlinewidth": 0,
              "ticks": ""
             }
            },
            "marker": {
             "colorbar": {
              "outlinewidth": 0,
              "ticks": ""
             }
            },
            "type": "scatter3d"
           }
          ],
          "scattercarpet": [
           {
            "marker": {
             "colorbar": {
              "outlinewidth": 0,
              "ticks": ""
             }
            },
            "type": "scattercarpet"
           }
          ],
          "scattergeo": [
           {
            "marker": {
             "colorbar": {
              "outlinewidth": 0,
              "ticks": ""
             }
            },
            "type": "scattergeo"
           }
          ],
          "scattergl": [
           {
            "marker": {
             "colorbar": {
              "outlinewidth": 0,
              "ticks": ""
             }
            },
            "type": "scattergl"
           }
          ],
          "scattermap": [
           {
            "marker": {
             "colorbar": {
              "outlinewidth": 0,
              "ticks": ""
             }
            },
            "type": "scattermap"
           }
          ],
          "scattermapbox": [
           {
            "marker": {
             "colorbar": {
              "outlinewidth": 0,
              "ticks": ""
             }
            },
            "type": "scattermapbox"
           }
          ],
          "scatterpolar": [
           {
            "marker": {
             "colorbar": {
              "outlinewidth": 0,
              "ticks": ""
             }
            },
            "type": "scatterpolar"
           }
          ],
          "scatterpolargl": [
           {
            "marker": {
             "colorbar": {
              "outlinewidth": 0,
              "ticks": ""
             }
            },
            "type": "scatterpolargl"
           }
          ],
          "scatterternary": [
           {
            "marker": {
             "colorbar": {
              "outlinewidth": 0,
              "ticks": ""
             }
            },
            "type": "scatterternary"
           }
          ],
          "surface": [
           {
            "colorbar": {
             "outlinewidth": 0,
             "ticks": ""
            },
            "colorscale": [
             [
              0,
              "#0d0887"
             ],
             [
              0.1111111111111111,
              "#46039f"
             ],
             [
              0.2222222222222222,
              "#7201a8"
             ],
             [
              0.3333333333333333,
              "#9c179e"
             ],
             [
              0.4444444444444444,
              "#bd3786"
             ],
             [
              0.5555555555555556,
              "#d8576b"
             ],
             [
              0.6666666666666666,
              "#ed7953"
             ],
             [
              0.7777777777777778,
              "#fb9f3a"
             ],
             [
              0.8888888888888888,
              "#fdca26"
             ],
             [
              1,
              "#f0f921"
             ]
            ],
            "type": "surface"
           }
          ],
          "table": [
           {
            "cells": {
             "fill": {
              "color": "#EBF0F8"
             },
             "line": {
              "color": "white"
             }
            },
            "header": {
             "fill": {
              "color": "#C8D4E3"
             },
             "line": {
              "color": "white"
             }
            },
            "type": "table"
           }
          ]
         },
         "layout": {
          "annotationdefaults": {
           "arrowcolor": "#2a3f5f",
           "arrowhead": 0,
           "arrowwidth": 1
          },
          "autotypenumbers": "strict",
          "coloraxis": {
           "colorbar": {
            "outlinewidth": 0,
            "ticks": ""
           }
          },
          "colorscale": {
           "diverging": [
            [
             0,
             "#8e0152"
            ],
            [
             0.1,
             "#c51b7d"
            ],
            [
             0.2,
             "#de77ae"
            ],
            [
             0.3,
             "#f1b6da"
            ],
            [
             0.4,
             "#fde0ef"
            ],
            [
             0.5,
             "#f7f7f7"
            ],
            [
             0.6,
             "#e6f5d0"
            ],
            [
             0.7,
             "#b8e186"
            ],
            [
             0.8,
             "#7fbc41"
            ],
            [
             0.9,
             "#4d9221"
            ],
            [
             1,
             "#276419"
            ]
           ],
           "sequential": [
            [
             0,
             "#0d0887"
            ],
            [
             0.1111111111111111,
             "#46039f"
            ],
            [
             0.2222222222222222,
             "#7201a8"
            ],
            [
             0.3333333333333333,
             "#9c179e"
            ],
            [
             0.4444444444444444,
             "#bd3786"
            ],
            [
             0.5555555555555556,
             "#d8576b"
            ],
            [
             0.6666666666666666,
             "#ed7953"
            ],
            [
             0.7777777777777778,
             "#fb9f3a"
            ],
            [
             0.8888888888888888,
             "#fdca26"
            ],
            [
             1,
             "#f0f921"
            ]
           ],
           "sequentialminus": [
            [
             0,
             "#0d0887"
            ],
            [
             0.1111111111111111,
             "#46039f"
            ],
            [
             0.2222222222222222,
             "#7201a8"
            ],
            [
             0.3333333333333333,
             "#9c179e"
            ],
            [
             0.4444444444444444,
             "#bd3786"
            ],
            [
             0.5555555555555556,
             "#d8576b"
            ],
            [
             0.6666666666666666,
             "#ed7953"
            ],
            [
             0.7777777777777778,
             "#fb9f3a"
            ],
            [
             0.8888888888888888,
             "#fdca26"
            ],
            [
             1,
             "#f0f921"
            ]
           ]
          },
          "colorway": [
           "#636efa",
           "#EF553B",
           "#00cc96",
           "#ab63fa",
           "#FFA15A",
           "#19d3f3",
           "#FF6692",
           "#B6E880",
           "#FF97FF",
           "#FECB52"
          ],
          "font": {
           "color": "#2a3f5f"
          },
          "geo": {
           "bgcolor": "white",
           "lakecolor": "white",
           "landcolor": "#E5ECF6",
           "showlakes": true,
           "showland": true,
           "subunitcolor": "white"
          },
          "hoverlabel": {
           "align": "left"
          },
          "hovermode": "closest",
          "mapbox": {
           "style": "light"
          },
          "paper_bgcolor": "white",
          "plot_bgcolor": "#E5ECF6",
          "polar": {
           "angularaxis": {
            "gridcolor": "white",
            "linecolor": "white",
            "ticks": ""
           },
           "bgcolor": "#E5ECF6",
           "radialaxis": {
            "gridcolor": "white",
            "linecolor": "white",
            "ticks": ""
           }
          },
          "scene": {
           "xaxis": {
            "backgroundcolor": "#E5ECF6",
            "gridcolor": "white",
            "gridwidth": 2,
            "linecolor": "white",
            "showbackground": true,
            "ticks": "",
            "zerolinecolor": "white"
           },
           "yaxis": {
            "backgroundcolor": "#E5ECF6",
            "gridcolor": "white",
            "gridwidth": 2,
            "linecolor": "white",
            "showbackground": true,
            "ticks": "",
            "zerolinecolor": "white"
           },
           "zaxis": {
            "backgroundcolor": "#E5ECF6",
            "gridcolor": "white",
            "gridwidth": 2,
            "linecolor": "white",
            "showbackground": true,
            "ticks": "",
            "zerolinecolor": "white"
           }
          },
          "shapedefaults": {
           "line": {
            "color": "#2a3f5f"
           }
          },
          "ternary": {
           "aaxis": {
            "gridcolor": "white",
            "linecolor": "white",
            "ticks": ""
           },
           "baxis": {
            "gridcolor": "white",
            "linecolor": "white",
            "ticks": ""
           },
           "bgcolor": "#E5ECF6",
           "caxis": {
            "gridcolor": "white",
            "linecolor": "white",
            "ticks": ""
           }
          },
          "title": {
           "x": 0.05
          },
          "xaxis": {
           "automargin": true,
           "gridcolor": "white",
           "linecolor": "white",
           "ticks": "",
           "title": {
            "standoff": 15
           },
           "zerolinecolor": "white",
           "zerolinewidth": 2
          },
          "yaxis": {
           "automargin": true,
           "gridcolor": "white",
           "linecolor": "white",
           "ticks": "",
           "title": {
            "standoff": 15
           },
           "zerolinecolor": "white",
           "zerolinewidth": 2
          }
         }
        },
        "xaxis": {
         "anchor": "y",
         "domain": [
          0,
          1
         ],
         "title": {
          "text": "Вещественная переменная X"
         }
        },
        "yaxis": {
         "anchor": "x",
         "domain": [
          0,
          1
         ],
         "title": {
          "text": "Количество"
         }
        }
       }
      }
     },
     "metadata": {},
     "output_type": "display_data"
    }
   ],
   "source": [
    "# Гистограмма\n",
    "fig = px.histogram(df, x='x', color_discrete_sequence=[corp_col])\n",
    "\n",
    "# Фон и подписи\n",
    "fig.update_layout(\n",
    "    plot_bgcolor='white',\n",
    "    xaxis_title='Вещественная переменная X',\n",
    "    yaxis_title='Количество'\n",
    ")\n",
    "\n",
    "fig.show()\n"
   ]
  },
  {
   "cell_type": "markdown",
   "id": "6a9045d3",
   "metadata": {},
   "source": [
    "**Выводы**: переменная X меняется в пределах от 0 до 100. Распределение неравномерное, мультимодальное, но есть одна ярковыраженная мода в диапазоне 50-52."
   ]
  },
  {
   "cell_type": "code",
   "execution_count": 4,
   "id": "2c70217f",
   "metadata": {},
   "outputs": [
    {
     "data": {
      "application/vnd.plotly.v1+json": {
       "config": {
        "plotlyServerURL": "https://plot.ly"
       },
       "data": [
        {
         "marker": {
          "color": "#40ba21"
         },
         "name": "dino",
         "type": "histogram",
         "x": {
          "bdata": "UwWjkjqxS0CwcmiR7cRJQPkP6bevE0dAGy/dJAZpRUCmCkYldWJEQDLmriXkW0NANV66SQzSQUD9h/Tb14lAQO84RUdy+TxA8x/Sb18nOkD5D+m3rxM3QK36XG3FTjZArfpcbcVONkC+wRcmU1U3QC9uowG85TlAeJyiI7l8PUAbL90kBmlAQFMFo5I6sUFA4lgXt9EgREDpSC7/IQ1GQCEf9GxWVUdAAAAAAAAASUD9h/Tb14lKQCEf9GxWVUxAWvW52oqdTUDOGVHaG6ROQLByaJHtxE5Akst/SL/lTkDHKTqSy7dMQI9TdCSXb0tAOdbFbTRISkBuNIC3QBpIQDxO0ZFcvkhAiGNd3EaDSUBTBaOSOrFGQBsv3SQGaUVAMuauJeRbQ0BxrIvbaJBBQDnWxW00SEBAAAAAAAAAPkDBOSNKe8tAQCEf9GxWVUJAbjSAt0AaQ0A8TtGRXL49QDxO0ZFcvj1AAAAAAAAAPkB0JJf/kAZAQBe30QDe8kFAiGNd3EaDREDpSC7/IQ1GQOXQItv5lkdAPE7RkVy+SECwcmiR7cRJQME5I0p7y0pAcayL22iQS0AhH/RsVlVMQFr1udqKnU1AVn2utmInT0DHKTqSyzdQQMZtNIC3/FBA4lgXt9GgUUBYObTIduJRQFg5tMh24lFAHqfoSC5fUUADeAskKHZHQG40gLdAGkhAAAAAAAAASUD9h/Tb14lKQFMFo5I6sUtAIR/0bFZVTED5D+m3rxNMQAfwFkhQ7EpAzhlR2hukSUAAAAAAAABJQIzbaABv+UdAPE7RkVy+PUA8TtGRXL49QJwzorQ3SD9AjNtoAG/5TECSy39Iv+VOQMcpOpLLN1BAqMZLN4kdUUBTBaOSOrFRQDqSy39IA1JAA3gLJCh2UkA51sVtNMhSQJEPejarKlNAVcGopE5sU0CPU3Qkl+9TQMnlP6TfclRAb/CFyVTVVEA51sVtNEhVQCBj7lpCmlVAxm00gLf8VUAep+hILl9WQG/whclUVVdAqoJRSZ3YV0A3GsBbII1YQCEf9GxWVUxAWvW52oqdTUCmCkYldWJOQP2H9NvXiU9AdCSX/5AGUEDl0CLb+RZQQOXQItv5llJA54wo7Q3SUUDGbTSAt/xQQIzbaABveVBA/Yf029eJT0DOGVHaG6ROQDLmriXkW01AcayL22iQS0BWfa62YidKQB6n6Egu30hAxyk6ksu3R0CPU3Qkl29GQDLmriXkW0hAzhlR2hukSUDpSC7/IQ1LQPkP6bevE0xAdCSX/5AGSkAy5q4l5FtIQOXQItv5lkdA+Q/pt68TR0DEsS5uo0FJQAfwFkhQ7EpAxyk6ksu3TEAAAAAAAABOQHQkl/+QBlBAArwFEhS7UEDnjCjtDdJRQOXQItv5llJANxrAWyCNU0DGbTSAt/xQQKjGSzeJHVFANxrAWyANUUCqglFJndhCQDxO0ZFcvkNA54wo7Q3SVkAAAAAAAABJQIzbaABv+UdA6Ugu/yENRkA=",
          "dtype": "f8"
         },
         "xaxis": "x",
         "yaxis": "y"
        },
        {
         "marker": {
          "color": "#40ba21"
         },
         "name": "away",
         "type": "histogram",
         "x": {
          "bdata": "IE/l0WEqQEDPiuR+8rVKQOEzCjDJ9U9Ak3T+QoeSUUDCDUTUNQ9BQN4CfATt6lBA9wYBJyuhSkBPIZ/k6sFPQELl3SXB/lBAdGE3e9bXUEDKNLyPGh8vQKFUGvCb8lFAYs984YWPUUCVU6fx/jtQQHd6tcVUG09Ac8Z/2z3RUECban03/EhEQF+X1YNvr1JASwshIyzxUUBE3nHQrgpTQGCB6ADqZ1BA3AwnkOFsSUA04QC6FINAQGGlVuVo2kNAK2x1nlnMRkC3lA726HtFQC6Xr7hIP0pAatVKA4gKR0C+XYhz2o9SQGHpv3BeJFBAv/vVbmOBUkBUmWU0EjJPQK3OUC0ZjFJAjt2+vZ08PECMHflxZ/FSQAkXYhS89lJAS9B4hSJ+UEByiyepLcc1QLtxcICg8FBAvineIICnU0CNxn1KfiBRQPpmyi+kuFJAeoY9JB2dUEAX6pzeVlRTQEcl73/LdE1ANICyhwjPTEBd3899pQVTQEafXounu0xAJ5OZomrbU0A5NUdC0RZTQDX3y8DsGVBArtbMDElRREDkmqkplflFQDHW1k8I/z5AMv9M68QOUUDqroAL+AJSQIfEHtLfS0dAuEHSh+ygSEDmY7XAEGRFQAH/MQB2XlBAb6UJ6sP9UUCrLR9HvxJAQK6D88in1j9APbXqmlgBP0AN4+whIx5UQMex+em0/VFA+ayrPRWFU0A+VlZ1u9ZEQK1MGbQHfVBA3HNfXZx3T0DCk2FO7BdQQIgs+tWYIFJA5SuD3mINPkDEU2rb2QA8QMiIbrOt2VJAcxo1JXF9Q0BiC0YQE05QQJjYT5J0Q1JApOCdg/0yQUC/EOoRx75FQEB9ayrCkUtAcs86NJrXRUAxzNh7qfNBQE+CNOxisEZAg7cIj4TjQ0CGLC0QDVVDQHK/gv6ihUNAuuHWIPXoVkBwIK4he75HQJi88RWMS0ZA/gVQfXiLQ0Bi8kVFXB1FQJ4gm68MgEJAIpQOxaqGQ0DRdtJfhL5CQNCOrQUDV1FA8Zx5rnnFRUBdA5lk1udDQE33WEhphFFAIB4cRJiCUUBPfVCyvcBDQE1nvnopQk9AAjOxifQIUkBtQAGlM6BGQPY9KV0aCEVAUKw2a4ctQkB1pkfRTmQ+QIz/UvV4OUJAAn7Kh9k7REBvvyQfYG5UQPKXGoleaUhAUyBjkW7PQUByEahNv0pJQKHcCqag7U5AujRk1nCpQ0AEJ4tVxBdFQGeN067P2D5A+4xcl6BYPUAQR8VhE4dUQL//VyCoJkNAyz62hsVKTEB3z9qdcKtAQPLF5yGNsVNATmbIaTLsO0AL7HTSqexRQGRK4mvaiFJAUJlbVB1KQEDUjUUNhepNQIIN3aLrg0FA/PbLKTWTUkAAJBV1BqBPQEnO90cnFkFAh8bacfh0REDVLg9ZqWpPQGwvYIgHPUVAYm6bS0gESkAbFd77GXRIQJ5iSwoJ7U1ApH0hXPB6SEB+tNA2JGxHQLXchkpE+0NAGShtzR2tUEA=",
          "dtype": "f8"
         },
         "xaxis": "x2",
         "yaxis": "y2"
        },
        {
         "marker": {
          "color": "#40ba21"
         },
         "name": "h_lines",
         "type": "histogram",
         "x": {
          "bdata": "NKK+qeuuSkDDSH1Cp2ZKQGAuXrrthkdAYjI1R2Y5RUBQmr3cHVpFQJ4apQ+BMEBAOPA3Ee5DQEDdsR/8wK5AQMMlzw77U0BAwP0V/oD0NkBJGPomXCY7QL/6AZG6KjpA7XoEX9pUOkBRcBEV8wA2QJv4VT7lSDdAQFYPV1CiO0CWtnj0vwRAQBiI6I8lVj1AxEyW65FoREChC3EDml5FQOVXnSQX70lAWk5x/XyvRUBgsypqeoVKQPm93XM4T0xATtBC3F6kUUAXaQ2evPdQQJUpSnAoaU1AbWtpQO0XTkCnPXUJv7dNQICDTOv8ykhANYUslM7jREA676UGWBBHQG+3zgZTBENA4kws5f5FRkCr7i6jeh5HQJWCm/mv3khAw6rquxyOQ0AZIj2CSJJDQE7o4mgPUEFAF4fS3olgQUAf49k/eWBCQAYSaRp6gkJAqwmJCGS1RECHC6n0LdE2QOG4smJ9ZkFAG3O+41LkO0DinZwacW9AQE2ZN2mj5UJANFDjnmrVQUAfWiVFnThIQGjq6AWuVU1A1/m3y171R0DLfV0LdPJJQG46Wyfi30lANqh6DI8fTUDwOTrqxKdMQBFAEoD0/VBA8HyapcF8UEBgcbm8oN9LQC5Oo+rKGVFAFMOR5JIsU0B6sCzkv81QQBts1g9UE1JANNiKNdmwUECdAL8VFNdJQGJ30f1bjEpASVB8dAMfRUB0kzaj7x1MQBhtfpEqV0tApaobPIvzTEDnGvZc/uhJQKiRvtsIakxAiKNUBtoiTUAQi4oUAOpJQNpFx0jMbEZAf33OxzdFOEC5Jt1NCV9BQMmwlvNP5kJA/c8cfLrkSEBMFDgRMeBNQHfqkU+WMVBA1rnybQu2UUC43q7Px6ZRQG+HoIceqVNAPIPDYeKzUUCMiTHORrFQQELxUg6HVVJA/AFcv7pGUkDp2hCEaKtSQC9YhkVgD1RAnpbaLJm8UUCCi3YVaSpWQCZKliH7GVVAwVs4uSz/UkAmWVJoLMdWQOCempxwklhAWlWFdi3EV0COYPty889XQLq3OvL700hAvYDkg2GCT0D1We7gcaJRQNLHNEaPhVFA1qRUtMRXT0C5/rOfUk9RQIGfuG2dGVRALrE+1napUkAjG1mMsn9QQJ0OYvOqxVBAR+96PiHtTUDOSSHo3t9KQHTHj66aHk1Ak/o27bdnS0DFXMroBH1KQKiWOjIZGkpAGbzzeWFfSUCpga3tSVtFQCIGc9iaqEZAtMByEveOSkB5iPjnX4ZMQPuu/otkbUtAIry6PWF2S0DQ4mp3n6dPQJvnYZDv30hACkLF9quVREAp2pqKG1hHQMI1yDufNUpAJiamTnJwSUATs0680oZMQAS0PjdVslFAsu8FzNViTEBPiT3Oit5SQAHAZLQEMVNA6pDYRL9nU0Cdj7P0hlpQQF0Ltva+fVFAiZASMRA+UECiSjJKbgZDQCBGqfivHEVAOwGWo7PsVUD25xhUHy5KQGNR65YRtElAxGRM71LLRUA=",
          "dtype": "f8"
         },
         "xaxis": "x3",
         "yaxis": "y3"
        },
        {
         "marker": {
          "color": "#40ba21"
         },
         "name": "v_lines",
         "type": "histogram",
         "x": {
          "bdata": "ABlKD6I9SUDBonPeJSRJQJRQH+XlF0lAa24UN9gpSUB1fngAZTpJQJZuXTUAdz5Al1RioGiAPkDPF6toVH0+QLptfHlDcz5AWfmBhbWEPkAV57M6/II+QL+AZwWCfz5Aa3v2PseePkBNyCfd/30+QDXLuaKBeT5A8Kn8aEGAPkCzhf1lkn4+QAgB0ibifz5A3EkZeHsSSUA4XmXc2fRIQCNb6NIwK0lAVyJDHKE1SUDSrwztRRpJQMfpQmi4N0lA/41s2F5gUUAHwQ84LmJRQAGriZelYFFANlgxRq9hUUCT6bgoP/lIQBBdzcsTCElARyL3HrU+SUC6lrOwLNhIQGb/TYKvKklA0U+IJi85SUDaWEBa4DVJQAiYBvDgL0lAxyhQhhF6PkAcVuqx44A+QFDtotw8gT5AbH4F81N2PkDW7TUCxn0+QBu7kIMccz5AB3ruHWp8PkC9KdAaiIA+QF8ZPBFiej5AFg1QFEyAPkDhovHNOIE+QPgPy2FVgj5ATUX4CM0OSUD6TjPwYTlJQK8gk60qFklAUzw/aBz2SEAMlmyo2CdJQOZVqdofM0lAbyf7si4rSUCh7TOP5RlJQB9Y4v0wI0lAGp9L7aNfUUAjdNDcPGFRQLiiuiDeYVFAd4hCdbpfUUBbUohcvUxRQO4wCBVFY1FAC7AMhG1gUUAZRgnY2DhJQCpLJyzOO0lAdY9BLv4aSUBIDG3GShpJQKO6k+gZOElAMG8ud88vSUBO5AW1eCBJQLlu2m0PIElAVnR2uiQLSUBSCnLDkx1JQJVu0kKXGklAJVX3ot9/PkCZ6e5kNoU+QH8TMf13dD5Aqng3IE81SUDoIp28mmFRQMfYVuJLYVFAsaUlIO9fUUCr78rW1GFRQA8YbC78X1FAqKIZSD5gUUAIvyeqNF9RQNfBLDE5YVFATqeCs0dgUUAtqAf/zWBRQBYUZfugX1ZAudpOCAJgVkCo+tIxYF9WQGyUN7jbX1ZApNEde09gVkCyWx4/EWBWQMqu1CxJX1ZAjnyRmRpgVkAexaaG119WQG9a2Co0OElAgPg4VAUXSUDFou8TU2BRQGHKqoocZVFA8olSCWpgUUAD7jt2919RQL44clYEYFFAzL+wGURgUUBcJ2TeEGJRQFX8o9MBYFFAonha5U5gUUDSFzXtOGBRQFQWUrVOMElAaM5OS3IrSUDN0f25/AtJQOe7qXqR90hAA/AeAvgkSUCrDVoA3SRJQNwY8VMLHklA0CFjQ80jSUAywjaGYiBJQEzi9aewPElAu7trXOENSUB6SWGzo/VIQPXrw4S1CklAKxEQ4hYtSUACdntysD9JQKUrQU8WAklAlhQ+rO47SUDy7hBTPmNRQLL1Le8xYVFARoFtpThgUUAa8ZqX919RQGLu2wvDYVFApSBV2zhhUUDRbwMp9mNRQOZ8CB0RYFFAZ87FopNhUUB1UJhf5X8+QB5/+rPFfD5AIjr09AJgVkB3q+PHgzRJQL7O9+O3KUlAfe6B51ANSUA=",
          "dtype": "f8"
         },
         "xaxis": "x4",
         "yaxis": "y4"
        },
        {
         "marker": {
          "color": "#40ba21"
         },
         "name": "x_shape",
         "type": "histogram",
         "x": {
          "bdata": "d2udoDsrQ0DxAVRNPeBBQIOetTI0YkBANNs7wWPdQEAn4TX0fp5CQFvwPTt7A0JAcHWjwKCeQ0BbKi5Qa+RDQOBAd3NAlUFAQsWMfqFPREDtozy7SJdDQMGT3V4nN0VADk6Sl2aKRUDL4+4NLC5GQPKhZ1qSKUZAE998L63GR0Dn0v8/HFVIQEbpfL/rI0dAICYxZRhISUBtQ5pvw1BKQN2HeDZvUUtASMQGnkqsSUBtj7PwQpFMQOhgbz7rFUtAaanC+594SUCr9RjB06BQQFrJall3GVBAgtj/JPErUUAJQUBfx0FQQIjqvPX5pkpAhaR4mPt4SkDbFEP95JxGQJAp4mfxa0lALfJqvmPUSEAtmWboRpJHQOxnVTaRokRA1ZiyAaiQR0CYboKOPnVEQPuEykCAVENAWdXCEGhORUAMwW3OwZpEQJRYu60ZU0lA9pOsKeIQSkA/ayj8DOZDQCskMIRixkVAUz+WFnpbQkAtoFAGwJxCQAFGKuSXQURAFeuujWwcREAH4JG6/g9GQDVO3ExSLEVAqGKq6jMYRkCD5rgwOehGQCAbcrtRUkdAKUqNQk4YSkA3a/8y14xJQHXfRESnWVBAOaQN0oc2UED6TVfqr7NPQGZY6nTHV1BA/lwhpTr0TkDPIvnh5/RRQBwbjFjlKVJAj7jxdt44U0BZOqSyT99FQKzX65zxhkNA6udFHUH3Q0DNDC9JpOFDQHbeoJ9kqURAMb/sAcfkREDC7cobueBDQDZAUgz8X0RAUhiZ2a7tRUDlqrrOFC9FQIpZlkRCu0NAV3a0/zdCRkBdKcx+a9FEQOlpSKQitkZAgiMqmF0ARUAlaEGgwgZTQLZ9csn2zFNAYXSPoUk2VUCPcxhdIGRUQEXyZ1GOXFVAo6DW2/8TVEDEFDDzCTFUQGiWcB/jqlRAxFoE13hKU0CrImxZhoRSQKdQ/Y5Ph1JAWp7c9ko8UUBcMVj3fE9SQNMtxyR991FAeW8Vl23kUUDDBA/+595RQAGujbQ5iFNACN84f4yyU0A/ftrcBHJTQLEkw6nrQ0hA91HaUvhhUEDRkRPfjYdRQKOC8Iw5nlFAjH0E4KEyU0Ax45vdMhpSQH815vlcEVNAogKeMgI9U0AKxL8M5cZSQL8Ny8QI/lJAg0FvNCvSUkBMeB7pV0NTQGZy0ybTaUVA5IDeFlMKRUBqaGlJbPBDQMnLKSjdPEJAIoVghDGNQkCNG+ZjERNBQEbPR38qykJATzUPLDuIREDCsCl7/hhFQHpVdJaDTUJAibJfSjC3Q0DXswwe8sdCQAjG0mN6HkFAw7kfWwoSQUBBZEfiYlRCQOugsmRlUkRAPvJrCXBlQkAHyy31sPxSQHn8y+fNNVNA1U4qoNR8VEA4p1R5MmlUQL4bP9cNJ1VAja+ek5UGVUCnDHeJhQtUQLSMNoGwJFRAV88v5EbAU0Bw2135KgZEQGI7tT21ZUFAsGB7YzHOU0DU2Ere8wNCQIRg1obxP0FA0TBHm1sbP0A=",
          "dtype": "f8"
         },
         "xaxis": "x5",
         "yaxis": "y5"
        },
        {
         "marker": {
          "color": "#40ba21"
         },
         "name": "star",
         "type": "histogram",
         "x": {
          "bdata": "hjb1g1cbTUAiWJJJGBlNQFV48/vuW01AMF/iuKGjTEB3qsWlfwpNQNjuhDmmvkxAruhGwLcWPEBxQq4+4RU8QAN13IZXFjxA9NrtdfmTO0DOuW/HqMc7QHZYHrHIljxAT02MYDi9PECfLuJlTAY7QHWx12YkzTxAvhgWGLwvO0CybBpe/0g9QDZfMLaTs0NAj2V6OLPPPECBv7oX6CZBQJzVKItOmj1A5xheOt6OSECy3tu9C89DQBzz17fVnUVAx4AJcCM5UEBf5nc2vT5PQG59ecY8P1FAPSNK6YQNT0BEaErLHTtAQJQBBbbhqURA1bL6SeoARkBaKBbSeglGQABjBRkrAEZAvHj3c86ARkAyb+PEzzhGQAkspRTgFkVAy9mBU7QFRkCmBLFl+tFEQNg+mjIb+ERA7ou+GOcGRkBWnm7HdZpDQB786shWtDxAqKuJ7mq1P0AfGF0p5mdFQI/Eeox6pkVAWR8xZwYzRED0rNe9xDdEQPlk2sLgd0RA3i0kcq7UQ0BgoLXsGnNEQK7z36L7+0RAkSgpcRMxREB7F+BT4URMQLMRqZw/fEpArvzZX3tPS0C/YEy+VkZQQPeBxrUqh09AuVs933K9UUBRKTkaVXlRQKBuyhsjplFAJYSPzGhpUUBa6AugJllTQNo3U3+mGVBAVndbEzrvT0AHfWf/FUxMQCTBM9wCRExAS9bq7HnTTUAsIvodeVFMQIYdhIgNVk1A+CFKzl0cTUCgVb+5E/VMQM0Qz5liqEtAmsVvebFJS0CeU7NA4DRLQPW70miJiUtAGPYWgNZuPUCmF3AnNWw9QF5J7+1vAT1A8nnnhh07TUBA5tAQuP9MQLZsoSpVxkxAiygXstTDTUDv9t0L7B9NQJM0cUYjA01AZKKOdOkwTUB21GuPi0hPQB11l7RAC1JAv7y9uUHeU0BIoDyS5BZUQFx6j452sFNAEmoWSZOiVEBc1VS95ZtVQOr8AptG31NAUJgQaPJhVECXGAhY9MtTQO0sViqKeVNAcpUfn13IUkBvd1J/tgNTQCU3fKatzkxAquivWvAVTEBkO63MbJJQQPC0HRhu+FBAEgCEFcwBUEAH92ckyV9TQO4abCKeaFNAPzQ3S0d3U0Cd2iVipFVTQKUdyfGLC1NARQt/bytQU0AV+Ji9dFpTQHG3257WLlNAJ1OgLk28SEAVbcdC/zxFQGu9rsEszEVAQtVAIIQrSUBMpsSV3l9EQFw6k6t5MUNADMw1xbYzQ0ANlAXk02FDQDVkrp8tvERAiSwSTuSTR0B8Zg+MkcpDQHjlM0/A3kRAAq8Fa+unQ0A3xso/BddEQI08AAkyi0NAzELG4qG9REAC1zwfymZTQHNlJe3j/lJAC4RiSYc8U0AFU0hPzGJTQOVpq2BsZVNAZu8HoqA0U0C5DIf/TlZTQG0/m4iuZFNAEwLbQD9+U0CWsoSks8NEQJgmc4t83EVAm3/+dt7UU0CSt0oa/VRMQJSbuWMw6UxAafi8QSAfTUA=",
          "dtype": "f8"
         },
         "xaxis": "x6",
         "yaxis": "y6"
        },
        {
         "marker": {
          "color": "#40ba21"
         },
         "name": "high_lines",
         "type": "histogram",
         "x": {
          "bdata": "PRfYb37OTEAwq2tFH6NJQBS8Pr5/YElAkoJeKLaCQkDpq8xZ3XBFQNquKFLuk0JAp3Tuhq1dQ0D2M+5uIgA/QI9JCbRJ/DlAUT0C0e22N0Bo6BE2yxM3QAIEMkZr8DhAGe7pVLzkMUB3NLQXT6w3QIfnKC3DvzdA6I42+YobQEC9kf3T1G89QEwx+4RpBkRAKtMX4pLJQkA/MppvvadIQMl6Nt+LrEdAZPn6JyYUSUAiIA2N4RpNQOSdoq/wTUxAmi+SobpqSkDFr4Rox+hOQJryehcj3U5AslBZt5sYT0C6fzu4Mw9NQD6Afd+cIk1AKqZQqh3iTUC2o9dmjERKQEl4rCU+cklAzkiMt9j7SECvaAtwh6xJQNrc7wwOx0JAvw9RTYyZQ0AbkHgK/TBCQE84s43jjERAtTIIhMI3PEDDQ+t0BuZAQHO9tHuu9UVAT0yroUw1RkBL981VoAk8QPi7rA+IsD9Adys4tZRHO0DMuiMFzTg/QOSLDvHcxUBADfvQFEDeQ0DFbgKAwWtFQBiYSVf/i0dAY8cYehG6SUATH1gEEa9IQJfihRByIEhAqm9N/GCATkD2o2tiPWdOQPJn4XKhiE1Anz24txK1TkATJpq1zDtRQLHDKOlZiE9A5ijEA3ERUkDsBl9OCNdSQFwnUyBaNVJAqKMz1t2zUUB2g1vMpeZGQAD54vDh6kZAed9pVBYKREAMHAF60P1JQLJga4FAq0xABi3XrAkrT0D7tG6pwUBNQLL5rVa8H0xAM+zh3wi0S0B4YU0XWaRKQHSOUB+gVkZAi1a1NuICPkBaMQD2yL49QEzfP2Osp0JAyLdUtWaRTkCXdug/PdxOQFsbuygAzk9AiTjjXVGuUUDU3a68aMBSQFsX61XsxVJA2YavyvyUUUBVsvbPQLdRQLNv5/Xp8VJABTOggv6FU0CUP0mNui9TQDsTFRC8nVNABnfxTLkvU0CwYD4AWUpVQAP7aQy881ZAUE8u9cv4VkDy2hXQ5Q9XQDupNAQV8lZAZDS0OicFWECJhwuT3Q9XQFbB8XrF1ExAMwTvCGjsTUC54epNSwRQQNKeedahfU5AE622jcj7TUD/AznbjVpPQJOwybt+TFFAqCoFRellUECYztmKfidQQMkiBud3mE1AqZNyCnnrS0CbNMzbGIBNQDGaUqzMOkxAe9dzZdYtSkDAW0OZ5OdJQDsgjzSGHEtA5fOxk2aCSEDMf3yMqNNBQPmgIN6ee0dAubQXWsjKSEC4sb08m+1JQJCENUH4+UtAzZ688vbUSUD5FeikCe5GQI/xkMHE3kNA1fZeHNZnSkBrCi5fAWVMQMsDNvqoDktAKIWNcxrJS0ChDeEUnVNQQPxiJG9ov1BAS4bfrgcKUkCOh03Uwb5RQCFYSpg2DlJAGcf1ZM/sU0DInH4/8g9QQDNDCONevFBAZy0ybkS8UED7i8dm+tJDQIZkBoOS+UJAehVZ70egVUCN+vrSYWhJQK927NV7l0lAOinjzpJuREA=",
          "dtype": "f8"
         },
         "xaxis": "x7",
         "yaxis": "y7"
        },
        {
         "marker": {
          "color": "#40ba21"
         },
         "name": "dots",
         "type": "histogram",
         "x": {
          "bdata": "JrdQ7+6SSUA9N7MtMUJJQNFHD7aOGklAkfOSyOQISUDtekxZC0hJQBKknnruJElAdRR8n16VOUCIOPsezHs5QBl7jeaKcTlAdVL5RauQOUCZCgC9yO05QBdP6K0tjTtAeMXbpMyHO0B+0JRMdxg7QHbno6lycDtAYV4v7dXgO0DT3ggdwFY7QMVEO9GrrTtAx5cXO11RSkCcQj83OgNKQM2TAgLKcEpA50ZUCe95SkB/7s92oUJKQIAo3JfhK0pAF9OwRrv2SUCXWGT2XFtKQILin4fOOElAgByvqbwbSUCeW7k2kxdKQMfxIXJjZUpAEry08HtLSkAl3ShQsQNKQLIOtPNXXUpAzkCCLTFxSkDDBn3FMEFKQBCSsHBsbklAnyz8ahxySUBbmWmk6do5QDRNL6SQBjpA9H6g96bkO0AaCEnw1KM7QC2CGEuF5DtA/ufrHBxmSkBRjae+pJQ7QKSyXEvMfTpA53TTyT38OUCRMrA2kDM6QHV0T6yJ2zlAPFTiGDNaSUAZMOPO7mdJQGLO9ttMSElAkgZRHDt4SUDY/F/BuzpJQIty3+Vfc0pAqDPwjaxXSkBboxvqAkBKQF5ZXyn26klAE0j11LQ/U0DQj9Dg4FNTQCCVdU9Ee1NAQb0L5kdQU0DEsr7ljw9TQPY2HjFoRVNAcf9tbJjOUkAOKhr4RFRJQDOLEuQHGklAZEhEa/t2SUB7txS43hZJQKuYT/gaNklAqzkouGs7SUC8frCwgTlJQCQeNCrV9khAxKEnO3c+SUD76fsEgvtIQDASVRVFYElAIUssUiRsO0A46cm6kKw7QMxgR72SiTtADZDoXbUhSkBW0NE+X95JQJJAgN6991JA8jhhCqPPUkCwMbnesMxSQHdgTd3d7FJAOFc/gK3eUkBFEp7Ic8xSQG3kcQp/tFJAcwj9jYTKUkBn0znR2tBSQFfv9CppcFNA5bzEdhV9U0BANfNnVUVTQBy/EjURBFNALXvMJ6ZrU0B5VMR+MjhTQKjSwUS0PFNAne0irEx3U0CFoDZwX/FSQEMSddtwKkpAmFHweOFLSkCzzlTmDz1JQKDfqHL50lJAY10ZqrvkUkC7g6k8otlSQCKBWFC+91JA0xTd0MbmUkB/jGMiUflSQKKRBrHH71JAFIxxHxzJUkAlvEcxtVRJQG+5q7SUWUlA7Oyx2p91SUDNS5hF1VxJQOoESojGoUlABneOIh6gSUDBRgMIgGRJQAZwYcMtQElASpcXDOldSUA1wrVzDltJQDZPWwYIaElADiCuYtKBSUCO4nwwQC1JQBqF2m6/N0lApF5YBMRQSUCzTHEjjYhJQA8lMuFrZUlA2vmCR5BGSUCZhugmpkdJQH6/H9Xc1FJA1piEydzCUkCJji+lX9JSQJOPCatbz1JAk/Y95MHJUkABcrjJjv1SQFHjXA6t3FJAIZGUvpnwUkAjnCPmajBJQNSv6CZORElAdayP3Q5gU0CHU+XBdlhJQIyMAkPF/khAQ7srgEcQSUA=",
          "dtype": "f8"
         },
         "xaxis": "x8",
         "yaxis": "y8"
        },
        {
         "marker": {
          "color": "#40ba21"
         },
         "name": "circle",
         "type": "histogram",
         "x": {
          "bdata": "QeOrnBv/S0BNfXDkIARJQIP4nTbspElAitsYJ9SVSUCSudaAXzBGQAbmm4dQgUZA9O0BE6hHSEDeIO/YNRJFQFUN9c1zg0RASb7GuaNJQUCm8cFqKSs/QCp92+p2UkBAY4UhSqmqOkDFd0Q3knU6QCa3ft66iTlARK/2IBpSOkBx5MnC0yk6QAufvvi6NjlA/twXIQrcOkDwGP82u8I/QPOiqIuK5UNA7EdKPwjPRkBVLEE5v+JKQH6RH5TIOUxAAlABg/+FUEDX1fXngXZMQIHcHxp/fk1AdZs7dH3zTEAf3SADBjRQQC4TsQjGLE5AbKQju/1xSEBdzVg5VsZHQI9vFL2x4z5A4vUSwwv5PEBE/hh4p5RBQL0TxUFo70ZAZW6P/WtqQED4MJFQJ75DQL4ytYUcuUBA1SOYqRPdNUCUNP6Cdio5QIP6B2qg9TZAUuRftweWOUB1beOfdlA6QIySkknGhEBAmwEFkgQ8QkD5H003eIM6QCbZj7l3A0JAdlQOVSxXRUD+LusDQoVGQOHmf/sbrUdASC8HFlDsSkD7M/gFmJBLQPacnVAUGEpAtpPu0hlWTUDKlLxmPIlUQBBYEsjw61JAnqr+5RNWVUDgX5vNDvZUQIOXS3CLalVAdfy3lZV7U0Cy7F2NCUJSQPA8U1mUhlFAfl0GW4WSTECwXWL0MXtHQLcwTcBPSElAkhChXB7cSkCmlXY2oRlLQGVZ0n8G8EdADsHiSZq8SUDHTbEMKGBKQGgfZez2R0hAZIeyIGaKSkAyMsZc2TxMQLex+p8TyUhA55zqlFjQQkAxTqfswCFAQIeOBrhsRUBAe8jRKZppSkAMEN79nkNNQOLebNsGIkxAM3TB17aJTECGExDL0SBLQPboTxPEV09Av/oBkXoFUUCIOGxPj0dQQMr6VGy4L1FAkV1Xf4yLT0CmDs79F01TQJGndI4rglRAIn3gEP1kVEDela53h0tVQP/LN1dbElVA8DOC0tZnVUDWnaMcsGZVQCpW5bAvG1VA5iD/BItkVUAUTNI/HChVQIj4L5paWVJAbEYPBnpgUkCXcgpnoa1PQIfbIQZhPVJAI/UzeFUBUEAY01Zp7o9OQD3yfzYm61JAzjPki95gUUDNmye8O0lNQKbnAR/YvlFAtppJIUZOUEDXz+2tKVRQQFoPhMinAFBAXM1DMAqSTEBUjoRXvS5MQPHbGlXphUVAHF5U93YKSkAA0b5EhHBFQJtMI0mTyElAE0O1c2hrTUAM582yvWBOQOUxTZBtYUtAxA6lpfLISkCf/+U1EnVIQDbulKC0UkpAtg8CvVPrSEA3FOJ8j1dKQDSUBnqpc1BA8tRyCkNWTkDlY4HzhbJPQDYqbh9UM1BA/IFx/6hBUEB4Hdn0WnBQQNj8G1vvfVFApnmaXyM5UUCkZhFHzOlOQJmhHzTcZE5AldZTsjL1TkAiKvAwtoNGQBPqbDfv9UNAal/ectUyVUCr+AfV29RLQJxdbfcBP0lAUoxf+Mm7SUA=",
          "dtype": "f8"
         },
         "xaxis": "x9",
         "yaxis": "y9"
        },
        {
         "marker": {
          "color": "#40ba21"
         },
         "name": "bullseye",
         "type": "histogram",
         "x": {
          "bdata": "6VLTGhmaSUBrlQNuu3xNQG7VxROg70lA0cfV+AcXSEAFdlwcc9dEQKBlmSL58UJA54wgxUTGQ0CLz548JdNDQF4ZZZATYEFAo0nR5pKPO0DGpHG/sqI4QKtZZ3yf9TRA7iOIEmywNECsiR/Jx0kzQOWjbqtFBjRA2KFeVBm8QUAf1RVUeXJCQGWtSUEch0NAcqkymoF6R0CiUUzqvKdCQHbsoe48AURAbO1BbNcBSEC3qF5UFdpKQMqGItajiE9AuKTg7SUGT0BKvnsHhOtNQFRc0b2ZlEtACcPvC9CjTkBWaemT3mpOQEIo27aiwk5AnncuT1F1QkDLXC4USEBDQHFVqBkKVUhAe5KZJoMkSUCspGneXiNFQMw2OTkRBEtAxOwgUCiqQkC8zPzf27FEQEhjUa2OCURAsdWnVcKsQUD6jnHvwGFBQNNq/pdog0JAEAA6GlA6QkA+v1Eu0sRBQNrhEc+waDRAT1OP4eZ+N0Ck528pu449QAWYD88NgUBAhBJsuH39SkDc8f/S/R1KQHi4cdBkwE1AkVAvx/aUREADuUvwG39IQHM8Fsd3ok1ArQj3/Q28RkAYWQhse1hPQAbp7FdvW1JA6wJo2Cu2UUDUXxxNf+JRQFJ4R0S851BA0VU4FiQeUkBYc0Gz+zNQQP4/z2FFbU5A+8PjGofyUEBr6fv4Bc5EQNOoOSJjgEpAx0oP9WlbS0BSmYVmVSVGQBpmVFiKmEhA2tUGFPqMSkC72QPTx8xJQMf5krqaMEtAvVIrz4k9R0D7jPciW5ZKQGIBDP7QokZA3O6KhUYEQkBb1Bb7bEU8QIdohcUHDjlA1xfJmpEwUEBj5ljgf5JPQOP/Dd9bNklAp8xnnkepUUDUWVUKFJNPQPQ8qKJ5aU9AChbB3iiPUUDazpssvIJRQK2CMxiFJFJAClHMpl3IUkAzcv9Zz9JUQA517UWD6lNAK8dZkacbVkCKPpxRZUdWQAnx45DmRVZACp3q4HbuVkACkikRE+9WQCUXZz2B4FZAJ1ekzksPVkCb4NEG9CFWQDNR65K9rktA+K4IkLZHT0Dc8aeI2gBNQJCphVKXiEtASdyL+rDOTkCg+BzdwiJRQJ4jhuYwbVNA3UmmtP4cUUCxPgASdhBRQNVWcrJZkFFAYKKwOdZCUEB/1aG8zgtOQKFUIM76fkpAWsfLM4MSSUCoCRdFGkFHQCMXxNJM50VA7LJddq/oTEAdVz8QYnhJQNWWZUiov09AhmYKHRwCSUCj2aaEgVFNQGEk3xx6XUtApT2m+Qh4UEBkMRNIzodMQHjmWr7yaEdAad6zpgAuQ0CtElCLX6hHQAzafzOlhktArdtY/ApCSUAQzPaFtdZIQKejV1P20VBA0rguuxKLUEBZMQ9qVYtOQDvW3sFlg1BAl/+nGuEqUkD+aHfJccBOQINBkoyuP1FAk7ZfoP6PU0CUgxCKsT1CQBb+yS3fe0lA5UfnODrMVkDOTkz3j+5LQA/sxYfqo0hAiYEBDyuvRUA=",
          "dtype": "f8"
         },
         "xaxis": "x10",
         "yaxis": "y10"
        },
        {
         "marker": {
          "color": "#40ba21"
         },
         "name": "slant_up",
         "type": "histogram",
         "x": {
          "bdata": "1Wq9V/zYR0DOMM+wE05GQHl5jeid7UVAFWnIWxrKRECjpbemtZZIQNS7zPV8U0VA8sGcrJIfPkBStI6EX+o/QCQPaJNB4ztAHHXUF1mMO0CmgZAFtDU0QJG75h+GcThA7/5mFX6hOEBhc2JUuAk1QARfnrwyGztAX6jCLvEWPECXtf2FvyI/QJpAPAu12UJA/DERnUOyRUCDM5E9lqFJQLsDTAKzpEVAEosqEPXzS0DMmaF8dxlJQK/k67F74UtAHXjbo1wpTUBv2v4o+YpRQGzAAdzVTE5AHNsasVDhT0Bb5xH72jFLQAdu5tHinktAhVfR6fmISECQml65UQJHQGAtPSk6YUZAJKRoQOHMSUBT+58FojtCQHG5zsOIskBAcsQNyT/KQkDkAWwNU09CQKZy2XfsFEJA40gBEHmVQECUR/vMjlJFQFejxqDNnEdAwnNt8zgySECPoUf7xD47QCpz/iSBZz5AwQ4VQ68UPkAu4fFphf1AQIIe2wsUIEFAn/KiTRKSSUAEmzPVJfNIQDQhyxmBy0tAJ2/SBbS9S0DgWuITVslPQCqM1bk1g01ADaB+YD42T0BygI7GyexHQOulrTpgIkpAFxAzI3c2UUC7vI0SSmtQQNp7OffMb1NAVWT4eJYWVECSCrIINitOQJrdxwtR1E5AlsMy6+HiUUAs9zMRPoVIQBRI9YuF8UlAyuBqlQf8TEDrdEtrhm1LQCshg4wMEUtAQREFloenSUBez0sVaY9OQIl2tLosyEtABz6U1aWFS0COeZEQ2zhJQOO4Ul7y6UVAK/r+p03lQkDukH7V80o9QEktBqKWGEBAtZIAM4u3SUD3HHh3tN1QQNadvSelSVBAnrAe4VZlUEAE9i+JflJRQDXMlIM+UVRA/HjeANmkU0AkPtYY9ItSQCwZb0fSJ1JAjqEwqA7JUkAWGTF0y8pSQMOie72/VFVAxVxh4MoFVUA8YJj4ZZBVQIZe/20fI1dAOI1Kue2VVkCq6D4qbXRVQM1He79GnFZA/vIgsB8BV0BCefJ8rNBXQLiaQIsopURAn+dN0ZqbUEDggmCdQP5PQNiBV/GEok5AGXIp/OtfTkAhSSxM7ylQQBHcWZfZKFFAhBnG4bRxUECBNqeGlchRQOwg7UaR3E9A6o2VehhAUkDESkky8htSQBkAy8ZqGlFATCQ/RN1tSkAjVzx91cNKQDGa3zE/YUlAX7ZbmnRERUDnYqgT5MNEQLTyVlN1W0dAPijR1q05SEA9Wlpe+dBNQK8/jD4tz05AgerdJ8BqSEAKGUgP3KtGQLFdcR8fNUVAOCqzYaZ3TUAPwN8OgVdOQLhlSQLpZ0tAz0gQpx3LTkA9dHIkpttNQCjFPxJMNU1ASpuOJjWfTUDQIPYjFExMQMc7MFaFH1FAgQV4X2FAUEBQNeWH5PVPQFe3zgSpwUpA1AJgZZnqTEDdHv5GbQg/QBLhIXxPVT9AGLcg/rKZVUCvnDMdl7hHQEi6SwvjIUdAduEO6vcUREA=",
          "dtype": "f8"
         },
         "xaxis": "x11",
         "yaxis": "y11"
        },
        {
         "marker": {
          "color": "#40ba21"
         },
         "name": "slant_down",
         "type": "histogram",
         "x": {
          "bdata": "uuhyZp5vSkDipZ58z4FNQDdBr5IDMExA4Kcv5WrrQkB9q4jqU/FDQJ+HUGnoCUZApqz7Dz1/P0BzogFe3fM5QHRtggilN0JAyyuQBlv/OEBBwJHxhR9AQOBpVmAGHDJAVFStKM3LNUDxsSuVhiY4QJeI5QZrmjxAarvgh5fuNEAM05+Hv7dBQJK3khROMEZABGOgEicoR0DGxszeajFHQEivrpRqP0VAi+rORncmRkA8spQRgH5HQOFKknj0NUpABHAR6tIFUEBtxIzaKIJPQMCDym9d01BAuqTjE3bOUEDshtC1rSdJQEXAL1rRtEZAeE2RQaMCS0D4eZFix+tIQFx3cWZNW0lAgJlJvtSFS0BOmrwAmMVCQA8ntfrf5UNAz1w49PyFPECVIUkzT2Y/QBC355vrnkNAQ8xUacy2O0BZkT5V+HpAQD6CqGXOs0FA3qG0eTTSSUCUU91RkxpBQL5s27EBQ0JAZZqm1FBrPECjtdtTFik6QHuV4s64N0RAqbSBGMFFRkDjh/xK1g9EQG4Q3rynF0VAghK8I1cARECUBzKSB5BMQCmZPmkYME5A6UAVAY6NS0AJQp3lXt5OQFVAEhjh3ktAYg8CtvAlTUBFflk4coVMQO9wMJ2jMVNAZWWz38X4UUCRM060dHJSQGpkPZjwyFJAcZnFFiomUECqFgzDa3RHQMh28Gvac0dAalbGX0vnSECHWzq1fm5IQFmA5lfir1BA2zRU0gwuT0BjkL2b/K9HQFwPRdIluUdA9Gc14FCxSkD3ewxU8rlIQEo9JU2+ZktA2hDWnUuLQkCRoTOFHzBAQCBDfcoOvUJA9yMwEg00SkDnaIODBSZJQAAWbgMbyE5AcysyaRSLTkBuRUVRRZ5NQOBEJjjbiVBApxZhMM7OUEC+rTkdb21SQORzcx0mJVNAXs/h5xm4U0CHz3RzvFxTQACTJCSjtlVAtD92NZ7zU0DWHmPfPz9TQDM5Fsut3lNAJiOqWXeTVEBXnRkg2KxWQMKPrxpi3FdAghwb2Na/V0AyecZoJOFWQGT0nUx1JU9AkXEbfQuaTUAg8zi9aFBQQJnPeVLtOE9AWwGOEJgdUkC8Sjjh13pRQNgU4q7ScFNAZqUDedExUkASwWM4sUxQQJkM/VNuXVFAY3xCvVOoTUASxiZkbb5JQL7QbK5kjkxAH4kVubkcSUCyh3TDiDdJQOGf9ditMExADkKYUYduS0AQM+BV+79GQN5UKkXn90hAVe1s6qnnSkDsKdiPJO1NQGE0/et7FkhA6CV/pvBeSUBRXUx12TpNQFHMqiGrDklAbgxxFM+1RkDf+mjkN61JQED9dvi8i0pAjnBrrrl4TUACt72IzqdNQB/xuYA4DlFAdt6TvoFBT0DZCOvXUlhRQPID2EI3s1RA8+3k4UJKVUDDAGFeIsZQQB0u615kJ09A8aBqjzb8TUBT5Bx2sPRDQE7q4CRazENALPjDiPrlV0BYNj5W2mJKQA4wotbclkpAS1muSUPQQkA=",
          "dtype": "f8"
         },
         "xaxis": "x12",
         "yaxis": "y12"
        },
        {
         "marker": {
          "color": "#40ba21"
         },
         "name": "wide_lines",
         "type": "histogram",
         "x": {
          "bdata": "j7gUzzF0UED0CnVkBmtQQGQaPgNZgENAxcpze8zlQkAGfZB+x8FBQBGSZwgXnENA3TC1XZSWP0AEBeATMlRAQJ7EgNk/pD9AMwLKYLX8PkAbdni8i3A7QLdVfg0QlD5Abj4Y8jTPPEBIEiFKhPA7QLTamCfL7EBAhxkpenFQQEDsHKivJThAQHUirSdN60FArZVfdi6SQkAc0zqCgFJBQEJxPKlz1kFAhK7QSac/UEAQi6r9Q4hQQH/tWQqaclBAa4JvLB3gUEBhPQD2SehQQItEp/p89E9AQ1dTriijUED4/pp1TANQQJW7RdteDFFAZzzqINFRUECAnU1es39BQL/uRvg99kBAgBT6+kiAUECd24gP+oJCQMXaBepgWUFA1UGvVoVuQUAdY0iBDhc/QCBpHFztdUFAbLO7hOZXPkDJtWm43b1BQCPxfIsRnkBAXyCOElC4QUDbXvgoz+9AQKLVqlVrkDxAELUR8c1RP0DWt4cV0ss+QLAwRJfeHUFAdBHNpr1QQkCQGJYmOUZBQC7rWWuDwkJA6BUAQH02T0B/WQcrgRRQQJnDy5qDXFBAtQDgJdcUUED0pr/q6lBQQGXceYfgmFBABAt/RUAMUUCI1642miJRQPCuzeNU6lBAqlGvpzsrUUD8rH28OkVRQH4NyCseQ1FAaY6L7rnTUEAXpeTSgVtDQF5HF/knxkFAS+G6VPdaQkCnl7gPaTpQQEn7x8wahFBAnF++ROY7UEChz7sBs8FQQGLRnhoZVFBAfrUZ2eQSUEClfgpDJWZDQL6wNjd/VkFAaCf5jCG4PkAD4OeVdQ1BQMBCfwwxtkBAY9srdRWUUEAPrW0A0VNQQJ7xG2yzbVBAOTgUI/vlUECZIplG1ZhQQAN6B5aY81BAqSxJaJu9UUAw0FzAl/9RQCEADpu1HlJAzfgG/ASFUkBgmvuKUgJSQCIRrEjiP1JASGpI9fmzUkCkmJJdv0FSQOJs2o9LRFNAV/NAxRjBUkC/UuJmlCpTQH5j9a6delNA9kvbrn1vUkDk+K6zG9VSQJYWoyaJtE9AKTR2rdA2UUA+vzFFnpVQQJpGU7kJDVBAN9AUoukfUECbUXr9BTlRQEqa0gnHF1JAOtoDufxwUUCetkOVwydRQNa0NSAOE1BAL2ldwsCsUEDXhaGK2eJQQOA4/Lg1+U9ATNeNI9gYUECHBOyge2RQQKaEoiiQM0NA0HfkxYrqQkDp86KNu3NCQKgo5VWgJEJAIRp6YLBkT0DKxzzbVLRQQHcUVEVSsFBAc4lfBJhaUECXo4BjIXlCQFm1dNin6UJAGL8m9IVcQkC8cNZNscRQQCntFzCEJlBAPDNmbvxbUEBuxxTnQcBQQAVisilZrlBAHuWbBrATUUBXr/SzJzFRQNbCjZS0ilJAdtoId585UEDIgWAY3DBRQPiJTlFItFBAC63gVczTUEBQ2TKVrF1BQLIA0B5U1kBARydB8iToUkA/DACXGE5EQAnHW4+jjkNAiTAI6LpKQUA=",
          "dtype": "f8"
         },
         "xaxis": "x13",
         "yaxis": "y13"
        }
       ],
       "layout": {
        "annotations": [
         {
          "font": {
           "size": 16
          },
          "showarrow": false,
          "text": "dino",
          "x": 0.03136094674556213,
          "xanchor": "center",
          "xref": "paper",
          "y": 1,
          "yanchor": "bottom",
          "yref": "paper"
         },
         {
          "font": {
           "size": 16
          },
          "showarrow": false,
          "text": "away",
          "x": 0.10946745562130177,
          "xanchor": "center",
          "xref": "paper",
          "y": 1,
          "yanchor": "bottom",
          "yref": "paper"
         },
         {
          "font": {
           "size": 16
          },
          "showarrow": false,
          "text": "h_lines",
          "x": 0.1875739644970414,
          "xanchor": "center",
          "xref": "paper",
          "y": 1,
          "yanchor": "bottom",
          "yref": "paper"
         },
         {
          "font": {
           "size": 16
          },
          "showarrow": false,
          "text": "v_lines",
          "x": 0.26568047337278106,
          "xanchor": "center",
          "xref": "paper",
          "y": 1,
          "yanchor": "bottom",
          "yref": "paper"
         },
         {
          "font": {
           "size": 16
          },
          "showarrow": false,
          "text": "x_shape",
          "x": 0.34378698224852067,
          "xanchor": "center",
          "xref": "paper",
          "y": 1,
          "yanchor": "bottom",
          "yref": "paper"
         },
         {
          "font": {
           "size": 16
          },
          "showarrow": false,
          "text": "star",
          "x": 0.42189349112426033,
          "xanchor": "center",
          "xref": "paper",
          "y": 1,
          "yanchor": "bottom",
          "yref": "paper"
         },
         {
          "font": {
           "size": 16
          },
          "showarrow": false,
          "text": "high_lines",
          "x": 0.5,
          "xanchor": "center",
          "xref": "paper",
          "y": 1,
          "yanchor": "bottom",
          "yref": "paper"
         },
         {
          "font": {
           "size": 16
          },
          "showarrow": false,
          "text": "dots",
          "x": 0.5781065088757397,
          "xanchor": "center",
          "xref": "paper",
          "y": 1,
          "yanchor": "bottom",
          "yref": "paper"
         },
         {
          "font": {
           "size": 16
          },
          "showarrow": false,
          "text": "circle",
          "x": 0.6562130177514792,
          "xanchor": "center",
          "xref": "paper",
          "y": 1,
          "yanchor": "bottom",
          "yref": "paper"
         },
         {
          "font": {
           "size": 16
          },
          "showarrow": false,
          "text": "bullseye",
          "x": 0.7343195266272188,
          "xanchor": "center",
          "xref": "paper",
          "y": 1,
          "yanchor": "bottom",
          "yref": "paper"
         },
         {
          "font": {
           "size": 16
          },
          "showarrow": false,
          "text": "slant_up",
          "x": 0.8124260355029584,
          "xanchor": "center",
          "xref": "paper",
          "y": 1,
          "yanchor": "bottom",
          "yref": "paper"
         },
         {
          "font": {
           "size": 16
          },
          "showarrow": false,
          "text": "slant_down",
          "x": 0.8905325443786981,
          "xanchor": "center",
          "xref": "paper",
          "y": 1,
          "yanchor": "bottom",
          "yref": "paper"
         },
         {
          "font": {
           "size": 16
          },
          "showarrow": false,
          "text": "wide_lines",
          "x": 0.9686390532544378,
          "xanchor": "center",
          "xref": "paper",
          "y": 1,
          "yanchor": "bottom",
          "yref": "paper"
         }
        ],
        "showlegend": false,
        "template": {
         "data": {
          "bar": [
           {
            "error_x": {
             "color": "#2a3f5f"
            },
            "error_y": {
             "color": "#2a3f5f"
            },
            "marker": {
             "line": {
              "color": "#E5ECF6",
              "width": 0.5
             },
             "pattern": {
              "fillmode": "overlay",
              "size": 10,
              "solidity": 0.2
             }
            },
            "type": "bar"
           }
          ],
          "barpolar": [
           {
            "marker": {
             "line": {
              "color": "#E5ECF6",
              "width": 0.5
             },
             "pattern": {
              "fillmode": "overlay",
              "size": 10,
              "solidity": 0.2
             }
            },
            "type": "barpolar"
           }
          ],
          "carpet": [
           {
            "aaxis": {
             "endlinecolor": "#2a3f5f",
             "gridcolor": "white",
             "linecolor": "white",
             "minorgridcolor": "white",
             "startlinecolor": "#2a3f5f"
            },
            "baxis": {
             "endlinecolor": "#2a3f5f",
             "gridcolor": "white",
             "linecolor": "white",
             "minorgridcolor": "white",
             "startlinecolor": "#2a3f5f"
            },
            "type": "carpet"
           }
          ],
          "choropleth": [
           {
            "colorbar": {
             "outlinewidth": 0,
             "ticks": ""
            },
            "type": "choropleth"
           }
          ],
          "contour": [
           {
            "colorbar": {
             "outlinewidth": 0,
             "ticks": ""
            },
            "colorscale": [
             [
              0,
              "#0d0887"
             ],
             [
              0.1111111111111111,
              "#46039f"
             ],
             [
              0.2222222222222222,
              "#7201a8"
             ],
             [
              0.3333333333333333,
              "#9c179e"
             ],
             [
              0.4444444444444444,
              "#bd3786"
             ],
             [
              0.5555555555555556,
              "#d8576b"
             ],
             [
              0.6666666666666666,
              "#ed7953"
             ],
             [
              0.7777777777777778,
              "#fb9f3a"
             ],
             [
              0.8888888888888888,
              "#fdca26"
             ],
             [
              1,
              "#f0f921"
             ]
            ],
            "type": "contour"
           }
          ],
          "contourcarpet": [
           {
            "colorbar": {
             "outlinewidth": 0,
             "ticks": ""
            },
            "type": "contourcarpet"
           }
          ],
          "heatmap": [
           {
            "colorbar": {
             "outlinewidth": 0,
             "ticks": ""
            },
            "colorscale": [
             [
              0,
              "#0d0887"
             ],
             [
              0.1111111111111111,
              "#46039f"
             ],
             [
              0.2222222222222222,
              "#7201a8"
             ],
             [
              0.3333333333333333,
              "#9c179e"
             ],
             [
              0.4444444444444444,
              "#bd3786"
             ],
             [
              0.5555555555555556,
              "#d8576b"
             ],
             [
              0.6666666666666666,
              "#ed7953"
             ],
             [
              0.7777777777777778,
              "#fb9f3a"
             ],
             [
              0.8888888888888888,
              "#fdca26"
             ],
             [
              1,
              "#f0f921"
             ]
            ],
            "type": "heatmap"
           }
          ],
          "histogram": [
           {
            "marker": {
             "pattern": {
              "fillmode": "overlay",
              "size": 10,
              "solidity": 0.2
             }
            },
            "type": "histogram"
           }
          ],
          "histogram2d": [
           {
            "colorbar": {
             "outlinewidth": 0,
             "ticks": ""
            },
            "colorscale": [
             [
              0,
              "#0d0887"
             ],
             [
              0.1111111111111111,
              "#46039f"
             ],
             [
              0.2222222222222222,
              "#7201a8"
             ],
             [
              0.3333333333333333,
              "#9c179e"
             ],
             [
              0.4444444444444444,
              "#bd3786"
             ],
             [
              0.5555555555555556,
              "#d8576b"
             ],
             [
              0.6666666666666666,
              "#ed7953"
             ],
             [
              0.7777777777777778,
              "#fb9f3a"
             ],
             [
              0.8888888888888888,
              "#fdca26"
             ],
             [
              1,
              "#f0f921"
             ]
            ],
            "type": "histogram2d"
           }
          ],
          "histogram2dcontour": [
           {
            "colorbar": {
             "outlinewidth": 0,
             "ticks": ""
            },
            "colorscale": [
             [
              0,
              "#0d0887"
             ],
             [
              0.1111111111111111,
              "#46039f"
             ],
             [
              0.2222222222222222,
              "#7201a8"
             ],
             [
              0.3333333333333333,
              "#9c179e"
             ],
             [
              0.4444444444444444,
              "#bd3786"
             ],
             [
              0.5555555555555556,
              "#d8576b"
             ],
             [
              0.6666666666666666,
              "#ed7953"
             ],
             [
              0.7777777777777778,
              "#fb9f3a"
             ],
             [
              0.8888888888888888,
              "#fdca26"
             ],
             [
              1,
              "#f0f921"
             ]
            ],
            "type": "histogram2dcontour"
           }
          ],
          "mesh3d": [
           {
            "colorbar": {
             "outlinewidth": 0,
             "ticks": ""
            },
            "type": "mesh3d"
           }
          ],
          "parcoords": [
           {
            "line": {
             "colorbar": {
              "outlinewidth": 0,
              "ticks": ""
             }
            },
            "type": "parcoords"
           }
          ],
          "pie": [
           {
            "automargin": true,
            "type": "pie"
           }
          ],
          "scatter": [
           {
            "fillpattern": {
             "fillmode": "overlay",
             "size": 10,
             "solidity": 0.2
            },
            "type": "scatter"
           }
          ],
          "scatter3d": [
           {
            "line": {
             "colorbar": {
              "outlinewidth": 0,
              "ticks": ""
             }
            },
            "marker": {
             "colorbar": {
              "outlinewidth": 0,
              "ticks": ""
             }
            },
            "type": "scatter3d"
           }
          ],
          "scattercarpet": [
           {
            "marker": {
             "colorbar": {
              "outlinewidth": 0,
              "ticks": ""
             }
            },
            "type": "scattercarpet"
           }
          ],
          "scattergeo": [
           {
            "marker": {
             "colorbar": {
              "outlinewidth": 0,
              "ticks": ""
             }
            },
            "type": "scattergeo"
           }
          ],
          "scattergl": [
           {
            "marker": {
             "colorbar": {
              "outlinewidth": 0,
              "ticks": ""
             }
            },
            "type": "scattergl"
           }
          ],
          "scattermap": [
           {
            "marker": {
             "colorbar": {
              "outlinewidth": 0,
              "ticks": ""
             }
            },
            "type": "scattermap"
           }
          ],
          "scattermapbox": [
           {
            "marker": {
             "colorbar": {
              "outlinewidth": 0,
              "ticks": ""
             }
            },
            "type": "scattermapbox"
           }
          ],
          "scatterpolar": [
           {
            "marker": {
             "colorbar": {
              "outlinewidth": 0,
              "ticks": ""
             }
            },
            "type": "scatterpolar"
           }
          ],
          "scatterpolargl": [
           {
            "marker": {
             "colorbar": {
              "outlinewidth": 0,
              "ticks": ""
             }
            },
            "type": "scatterpolargl"
           }
          ],
          "scatterternary": [
           {
            "marker": {
             "colorbar": {
              "outlinewidth": 0,
              "ticks": ""
             }
            },
            "type": "scatterternary"
           }
          ],
          "surface": [
           {
            "colorbar": {
             "outlinewidth": 0,
             "ticks": ""
            },
            "colorscale": [
             [
              0,
              "#0d0887"
             ],
             [
              0.1111111111111111,
              "#46039f"
             ],
             [
              0.2222222222222222,
              "#7201a8"
             ],
             [
              0.3333333333333333,
              "#9c179e"
             ],
             [
              0.4444444444444444,
              "#bd3786"
             ],
             [
              0.5555555555555556,
              "#d8576b"
             ],
             [
              0.6666666666666666,
              "#ed7953"
             ],
             [
              0.7777777777777778,
              "#fb9f3a"
             ],
             [
              0.8888888888888888,
              "#fdca26"
             ],
             [
              1,
              "#f0f921"
             ]
            ],
            "type": "surface"
           }
          ],
          "table": [
           {
            "cells": {
             "fill": {
              "color": "#EBF0F8"
             },
             "line": {
              "color": "white"
             }
            },
            "header": {
             "fill": {
              "color": "#C8D4E3"
             },
             "line": {
              "color": "white"
             }
            },
            "type": "table"
           }
          ]
         },
         "layout": {
          "annotationdefaults": {
           "arrowcolor": "#2a3f5f",
           "arrowhead": 0,
           "arrowwidth": 1
          },
          "autotypenumbers": "strict",
          "coloraxis": {
           "colorbar": {
            "outlinewidth": 0,
            "ticks": ""
           }
          },
          "colorscale": {
           "diverging": [
            [
             0,
             "#8e0152"
            ],
            [
             0.1,
             "#c51b7d"
            ],
            [
             0.2,
             "#de77ae"
            ],
            [
             0.3,
             "#f1b6da"
            ],
            [
             0.4,
             "#fde0ef"
            ],
            [
             0.5,
             "#f7f7f7"
            ],
            [
             0.6,
             "#e6f5d0"
            ],
            [
             0.7,
             "#b8e186"
            ],
            [
             0.8,
             "#7fbc41"
            ],
            [
             0.9,
             "#4d9221"
            ],
            [
             1,
             "#276419"
            ]
           ],
           "sequential": [
            [
             0,
             "#0d0887"
            ],
            [
             0.1111111111111111,
             "#46039f"
            ],
            [
             0.2222222222222222,
             "#7201a8"
            ],
            [
             0.3333333333333333,
             "#9c179e"
            ],
            [
             0.4444444444444444,
             "#bd3786"
            ],
            [
             0.5555555555555556,
             "#d8576b"
            ],
            [
             0.6666666666666666,
             "#ed7953"
            ],
            [
             0.7777777777777778,
             "#fb9f3a"
            ],
            [
             0.8888888888888888,
             "#fdca26"
            ],
            [
             1,
             "#f0f921"
            ]
           ],
           "sequentialminus": [
            [
             0,
             "#0d0887"
            ],
            [
             0.1111111111111111,
             "#46039f"
            ],
            [
             0.2222222222222222,
             "#7201a8"
            ],
            [
             0.3333333333333333,
             "#9c179e"
            ],
            [
             0.4444444444444444,
             "#bd3786"
            ],
            [
             0.5555555555555556,
             "#d8576b"
            ],
            [
             0.6666666666666666,
             "#ed7953"
            ],
            [
             0.7777777777777778,
             "#fb9f3a"
            ],
            [
             0.8888888888888888,
             "#fdca26"
            ],
            [
             1,
             "#f0f921"
            ]
           ]
          },
          "colorway": [
           "#636efa",
           "#EF553B",
           "#00cc96",
           "#ab63fa",
           "#FFA15A",
           "#19d3f3",
           "#FF6692",
           "#B6E880",
           "#FF97FF",
           "#FECB52"
          ],
          "font": {
           "color": "#2a3f5f"
          },
          "geo": {
           "bgcolor": "white",
           "lakecolor": "white",
           "landcolor": "#E5ECF6",
           "showlakes": true,
           "showland": true,
           "subunitcolor": "white"
          },
          "hoverlabel": {
           "align": "left"
          },
          "hovermode": "closest",
          "mapbox": {
           "style": "light"
          },
          "paper_bgcolor": "white",
          "plot_bgcolor": "#E5ECF6",
          "polar": {
           "angularaxis": {
            "gridcolor": "white",
            "linecolor": "white",
            "ticks": ""
           },
           "bgcolor": "#E5ECF6",
           "radialaxis": {
            "gridcolor": "white",
            "linecolor": "white",
            "ticks": ""
           }
          },
          "scene": {
           "xaxis": {
            "backgroundcolor": "#E5ECF6",
            "gridcolor": "white",
            "gridwidth": 2,
            "linecolor": "white",
            "showbackground": true,
            "ticks": "",
            "zerolinecolor": "white"
           },
           "yaxis": {
            "backgroundcolor": "#E5ECF6",
            "gridcolor": "white",
            "gridwidth": 2,
            "linecolor": "white",
            "showbackground": true,
            "ticks": "",
            "zerolinecolor": "white"
           },
           "zaxis": {
            "backgroundcolor": "#E5ECF6",
            "gridcolor": "white",
            "gridwidth": 2,
            "linecolor": "white",
            "showbackground": true,
            "ticks": "",
            "zerolinecolor": "white"
           }
          },
          "shapedefaults": {
           "line": {
            "color": "#2a3f5f"
           }
          },
          "ternary": {
           "aaxis": {
            "gridcolor": "white",
            "linecolor": "white",
            "ticks": ""
           },
           "baxis": {
            "gridcolor": "white",
            "linecolor": "white",
            "ticks": ""
           },
           "bgcolor": "#E5ECF6",
           "caxis": {
            "gridcolor": "white",
            "linecolor": "white",
            "ticks": ""
           }
          },
          "title": {
           "x": 0.05
          },
          "xaxis": {
           "automargin": true,
           "gridcolor": "white",
           "linecolor": "white",
           "ticks": "",
           "title": {
            "standoff": 15
           },
           "zerolinecolor": "white",
           "zerolinewidth": 2
          },
          "yaxis": {
           "automargin": true,
           "gridcolor": "white",
           "linecolor": "white",
           "ticks": "",
           "title": {
            "standoff": 15
           },
           "zerolinecolor": "white",
           "zerolinewidth": 2
          }
         }
        },
        "xaxis": {
         "anchor": "y",
         "domain": [
          0,
          0.06272189349112425
         ]
        },
        "xaxis10": {
         "anchor": "y10",
         "domain": [
          0.7029585798816567,
          0.7656804733727809
         ]
        },
        "xaxis11": {
         "anchor": "y11",
         "domain": [
          0.7810650887573963,
          0.8437869822485206
         ]
        },
        "xaxis12": {
         "anchor": "y12",
         "domain": [
          0.859171597633136,
          0.9218934911242602
         ]
        },
        "xaxis13": {
         "anchor": "y13",
         "domain": [
          0.9372781065088757,
          0.9999999999999999
         ]
        },
        "xaxis2": {
         "anchor": "y2",
         "domain": [
          0.07810650887573964,
          0.1408284023668639
         ]
        },
        "xaxis3": {
         "anchor": "y3",
         "domain": [
          0.15621301775147928,
          0.21893491124260353
         ]
        },
        "xaxis4": {
         "anchor": "y4",
         "domain": [
          0.23431952662721892,
          0.29704142011834317
         ]
        },
        "xaxis5": {
         "anchor": "y5",
         "domain": [
          0.31242603550295855,
          0.3751479289940828
         ]
        },
        "xaxis6": {
         "anchor": "y6",
         "domain": [
          0.39053254437869817,
          0.45325443786982245
         ]
        },
        "xaxis7": {
         "anchor": "y7",
         "domain": [
          0.46863905325443783,
          0.5313609467455621
         ]
        },
        "xaxis8": {
         "anchor": "y8",
         "domain": [
          0.5467455621301776,
          0.6094674556213018
         ]
        },
        "xaxis9": {
         "anchor": "y9",
         "domain": [
          0.6248520710059171,
          0.6875739644970413
         ]
        },
        "yaxis": {
         "anchor": "x",
         "domain": [
          0,
          1
         ]
        },
        "yaxis10": {
         "anchor": "x10",
         "domain": [
          0,
          1
         ]
        },
        "yaxis11": {
         "anchor": "x11",
         "domain": [
          0,
          1
         ]
        },
        "yaxis12": {
         "anchor": "x12",
         "domain": [
          0,
          1
         ]
        },
        "yaxis13": {
         "anchor": "x13",
         "domain": [
          0,
          1
         ]
        },
        "yaxis2": {
         "anchor": "x2",
         "domain": [
          0,
          1
         ]
        },
        "yaxis3": {
         "anchor": "x3",
         "domain": [
          0,
          1
         ]
        },
        "yaxis4": {
         "anchor": "x4",
         "domain": [
          0,
          1
         ]
        },
        "yaxis5": {
         "anchor": "x5",
         "domain": [
          0,
          1
         ]
        },
        "yaxis6": {
         "anchor": "x6",
         "domain": [
          0,
          1
         ]
        },
        "yaxis7": {
         "anchor": "x7",
         "domain": [
          0,
          1
         ]
        },
        "yaxis8": {
         "anchor": "x8",
         "domain": [
          0,
          1
         ]
        },
        "yaxis9": {
         "anchor": "x9",
         "domain": [
          0,
          1
         ]
        }
       }
      }
     },
     "metadata": {},
     "output_type": "display_data"
    }
   ],
   "source": [
    "# Найти все категории\n",
    "unique_datasets = df['dataset'].unique()\n",
    "\n",
    "# Создать сетку для графиков\n",
    "fig = make_subplots(rows=1, cols=len(unique_datasets), subplot_titles=unique_datasets)\n",
    "\n",
    "# Добавить гистограму для каждой категории\n",
    "for i, dataset in enumerate(unique_datasets):\n",
    "    df_group = df[df['dataset'] == dataset]\n",
    "    fig.add_trace(go.Histogram(x=df_group['x'], name=dataset, marker_color = corp_col), row=1, col=i+1)\n",
    "\n",
    "fig.update_layout(showlegend=False)\n",
    "\n",
    "fig.show()"
   ]
  },
  {
   "cell_type": "markdown",
   "id": "f0d24438",
   "metadata": {},
   "source": [
    "**Выводы**: форма распределения переменной X сильно варьируется от категории к категории. В одних случаях распределения близки к нормальным (dino, h_lines, slant_down), в ряде случаев выглядят дискретными (v_lines, dots) или имеют сложную форму."
   ]
  },
  {
   "cell_type": "markdown",
   "id": "da90c976",
   "metadata": {},
   "source": [
    "## Гистограмма распределений по переменной Y"
   ]
  },
  {
   "cell_type": "code",
   "execution_count": 5,
   "id": "ef1799e3",
   "metadata": {},
   "outputs": [
    {
     "data": {
      "application/vnd.plotly.v1+json": {
       "config": {
        "plotlyServerURL": "https://plot.ly"
       },
       "data": [
        {
         "bingroup": "x",
         "hovertemplate": "y=%{x}<br>count=%{y}<extra></extra>",
         "legendgroup": "",
         "marker": {
          "color": "#40ba21",
          "pattern": {
           "shape": ""
          }
         },
         "name": "",
         "orientation": "v",
         "showlegend": false,
         "type": "histogram",
         "x": {
          "bdata": "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",
          "dtype": "f8"
         },
         "xaxis": "x",
         "yaxis": "y"
        }
       ],
       "layout": {
        "barmode": "relative",
        "legend": {
         "tracegroupgap": 0
        },
        "margin": {
         "t": 60
        },
        "plot_bgcolor": "white",
        "template": {
         "data": {
          "bar": [
           {
            "error_x": {
             "color": "#2a3f5f"
            },
            "error_y": {
             "color": "#2a3f5f"
            },
            "marker": {
             "line": {
              "color": "#E5ECF6",
              "width": 0.5
             },
             "pattern": {
              "fillmode": "overlay",
              "size": 10,
              "solidity": 0.2
             }
            },
            "type": "bar"
           }
          ],
          "barpolar": [
           {
            "marker": {
             "line": {
              "color": "#E5ECF6",
              "width": 0.5
             },
             "pattern": {
              "fillmode": "overlay",
              "size": 10,
              "solidity": 0.2
             }
            },
            "type": "barpolar"
           }
          ],
          "carpet": [
           {
            "aaxis": {
             "endlinecolor": "#2a3f5f",
             "gridcolor": "white",
             "linecolor": "white",
             "minorgridcolor": "white",
             "startlinecolor": "#2a3f5f"
            },
            "baxis": {
             "endlinecolor": "#2a3f5f",
             "gridcolor": "white",
             "linecolor": "white",
             "minorgridcolor": "white",
             "startlinecolor": "#2a3f5f"
            },
            "type": "carpet"
           }
          ],
          "choropleth": [
           {
            "colorbar": {
             "outlinewidth": 0,
             "ticks": ""
            },
            "type": "choropleth"
           }
          ],
          "contour": [
           {
            "colorbar": {
             "outlinewidth": 0,
             "ticks": ""
            },
            "colorscale": [
             [
              0,
              "#0d0887"
             ],
             [
              0.1111111111111111,
              "#46039f"
             ],
             [
              0.2222222222222222,
              "#7201a8"
             ],
             [
              0.3333333333333333,
              "#9c179e"
             ],
             [
              0.4444444444444444,
              "#bd3786"
             ],
             [
              0.5555555555555556,
              "#d8576b"
             ],
             [
              0.6666666666666666,
              "#ed7953"
             ],
             [
              0.7777777777777778,
              "#fb9f3a"
             ],
             [
              0.8888888888888888,
              "#fdca26"
             ],
             [
              1,
              "#f0f921"
             ]
            ],
            "type": "contour"
           }
          ],
          "contourcarpet": [
           {
            "colorbar": {
             "outlinewidth": 0,
             "ticks": ""
            },
            "type": "contourcarpet"
           }
          ],
          "heatmap": [
           {
            "colorbar": {
             "outlinewidth": 0,
             "ticks": ""
            },
            "colorscale": [
             [
              0,
              "#0d0887"
             ],
             [
              0.1111111111111111,
              "#46039f"
             ],
             [
              0.2222222222222222,
              "#7201a8"
             ],
             [
              0.3333333333333333,
              "#9c179e"
             ],
             [
              0.4444444444444444,
              "#bd3786"
             ],
             [
              0.5555555555555556,
              "#d8576b"
             ],
             [
              0.6666666666666666,
              "#ed7953"
             ],
             [
              0.7777777777777778,
              "#fb9f3a"
             ],
             [
              0.8888888888888888,
              "#fdca26"
             ],
             [
              1,
              "#f0f921"
             ]
            ],
            "type": "heatmap"
           }
          ],
          "histogram": [
           {
            "marker": {
             "pattern": {
              "fillmode": "overlay",
              "size": 10,
              "solidity": 0.2
             }
            },
            "type": "histogram"
           }
          ],
          "histogram2d": [
           {
            "colorbar": {
             "outlinewidth": 0,
             "ticks": ""
            },
            "colorscale": [
             [
              0,
              "#0d0887"
             ],
             [
              0.1111111111111111,
              "#46039f"
             ],
             [
              0.2222222222222222,
              "#7201a8"
             ],
             [
              0.3333333333333333,
              "#9c179e"
             ],
             [
              0.4444444444444444,
              "#bd3786"
             ],
             [
              0.5555555555555556,
              "#d8576b"
             ],
             [
              0.6666666666666666,
              "#ed7953"
             ],
             [
              0.7777777777777778,
              "#fb9f3a"
             ],
             [
              0.8888888888888888,
              "#fdca26"
             ],
             [
              1,
              "#f0f921"
             ]
            ],
            "type": "histogram2d"
           }
          ],
          "histogram2dcontour": [
           {
            "colorbar": {
             "outlinewidth": 0,
             "ticks": ""
            },
            "colorscale": [
             [
              0,
              "#0d0887"
             ],
             [
              0.1111111111111111,
              "#46039f"
             ],
             [
              0.2222222222222222,
              "#7201a8"
             ],
             [
              0.3333333333333333,
              "#9c179e"
             ],
             [
              0.4444444444444444,
              "#bd3786"
             ],
             [
              0.5555555555555556,
              "#d8576b"
             ],
             [
              0.6666666666666666,
              "#ed7953"
             ],
             [
              0.7777777777777778,
              "#fb9f3a"
             ],
             [
              0.8888888888888888,
              "#fdca26"
             ],
             [
              1,
              "#f0f921"
             ]
            ],
            "type": "histogram2dcontour"
           }
          ],
          "mesh3d": [
           {
            "colorbar": {
             "outlinewidth": 0,
             "ticks": ""
            },
            "type": "mesh3d"
           }
          ],
          "parcoords": [
           {
            "line": {
             "colorbar": {
              "outlinewidth": 0,
              "ticks": ""
             }
            },
            "type": "parcoords"
           }
          ],
          "pie": [
           {
            "automargin": true,
            "type": "pie"
           }
          ],
          "scatter": [
           {
            "fillpattern": {
             "fillmode": "overlay",
             "size": 10,
             "solidity": 0.2
            },
            "type": "scatter"
           }
          ],
          "scatter3d": [
           {
            "line": {
             "colorbar": {
              "outlinewidth": 0,
              "ticks": ""
             }
            },
            "marker": {
             "colorbar": {
              "outlinewidth": 0,
              "ticks": ""
             }
            },
            "type": "scatter3d"
           }
          ],
          "scattercarpet": [
           {
            "marker": {
             "colorbar": {
              "outlinewidth": 0,
              "ticks": ""
             }
            },
            "type": "scattercarpet"
           }
          ],
          "scattergeo": [
           {
            "marker": {
             "colorbar": {
              "outlinewidth": 0,
              "ticks": ""
             }
            },
            "type": "scattergeo"
           }
          ],
          "scattergl": [
           {
            "marker": {
             "colorbar": {
              "outlinewidth": 0,
              "ticks": ""
             }
            },
            "type": "scattergl"
           }
          ],
          "scattermap": [
           {
            "marker": {
             "colorbar": {
              "outlinewidth": 0,
              "ticks": ""
             }
            },
            "type": "scattermap"
           }
          ],
          "scattermapbox": [
           {
            "marker": {
             "colorbar": {
              "outlinewidth": 0,
              "ticks": ""
             }
            },
            "type": "scattermapbox"
           }
          ],
          "scatterpolar": [
           {
            "marker": {
             "colorbar": {
              "outlinewidth": 0,
              "ticks": ""
             }
            },
            "type": "scatterpolar"
           }
          ],
          "scatterpolargl": [
           {
            "marker": {
             "colorbar": {
              "outlinewidth": 0,
              "ticks": ""
             }
            },
            "type": "scatterpolargl"
           }
          ],
          "scatterternary": [
           {
            "marker": {
             "colorbar": {
              "outlinewidth": 0,
              "ticks": ""
             }
            },
            "type": "scatterternary"
           }
          ],
          "surface": [
           {
            "colorbar": {
             "outlinewidth": 0,
             "ticks": ""
            },
            "colorscale": [
             [
              0,
              "#0d0887"
             ],
             [
              0.1111111111111111,
              "#46039f"
             ],
             [
              0.2222222222222222,
              "#7201a8"
             ],
             [
              0.3333333333333333,
              "#9c179e"
             ],
             [
              0.4444444444444444,
              "#bd3786"
             ],
             [
              0.5555555555555556,
              "#d8576b"
             ],
             [
              0.6666666666666666,
              "#ed7953"
             ],
             [
              0.7777777777777778,
              "#fb9f3a"
             ],
             [
              0.8888888888888888,
              "#fdca26"
             ],
             [
              1,
              "#f0f921"
             ]
            ],
            "type": "surface"
           }
          ],
          "table": [
           {
            "cells": {
             "fill": {
              "color": "#EBF0F8"
             },
             "line": {
              "color": "white"
             }
            },
            "header": {
             "fill": {
              "color": "#C8D4E3"
             },
             "line": {
              "color": "white"
             }
            },
            "type": "table"
           }
          ]
         },
         "layout": {
          "annotationdefaults": {
           "arrowcolor": "#2a3f5f",
           "arrowhead": 0,
           "arrowwidth": 1
          },
          "autotypenumbers": "strict",
          "coloraxis": {
           "colorbar": {
            "outlinewidth": 0,
            "ticks": ""
           }
          },
          "colorscale": {
           "diverging": [
            [
             0,
             "#8e0152"
            ],
            [
             0.1,
             "#c51b7d"
            ],
            [
             0.2,
             "#de77ae"
            ],
            [
             0.3,
             "#f1b6da"
            ],
            [
             0.4,
             "#fde0ef"
            ],
            [
             0.5,
             "#f7f7f7"
            ],
            [
             0.6,
             "#e6f5d0"
            ],
            [
             0.7,
             "#b8e186"
            ],
            [
             0.8,
             "#7fbc41"
            ],
            [
             0.9,
             "#4d9221"
            ],
            [
             1,
             "#276419"
            ]
           ],
           "sequential": [
            [
             0,
             "#0d0887"
            ],
            [
             0.1111111111111111,
             "#46039f"
            ],
            [
             0.2222222222222222,
             "#7201a8"
            ],
            [
             0.3333333333333333,
             "#9c179e"
            ],
            [
             0.4444444444444444,
             "#bd3786"
            ],
            [
             0.5555555555555556,
             "#d8576b"
            ],
            [
             0.6666666666666666,
             "#ed7953"
            ],
            [
             0.7777777777777778,
             "#fb9f3a"
            ],
            [
             0.8888888888888888,
             "#fdca26"
            ],
            [
             1,
             "#f0f921"
            ]
           ],
           "sequentialminus": [
            [
             0,
             "#0d0887"
            ],
            [
             0.1111111111111111,
             "#46039f"
            ],
            [
             0.2222222222222222,
             "#7201a8"
            ],
            [
             0.3333333333333333,
             "#9c179e"
            ],
            [
             0.4444444444444444,
             "#bd3786"
            ],
            [
             0.5555555555555556,
             "#d8576b"
            ],
            [
             0.6666666666666666,
             "#ed7953"
            ],
            [
             0.7777777777777778,
             "#fb9f3a"
            ],
            [
             0.8888888888888888,
             "#fdca26"
            ],
            [
             1,
             "#f0f921"
            ]
           ]
          },
          "colorway": [
           "#636efa",
           "#EF553B",
           "#00cc96",
           "#ab63fa",
           "#FFA15A",
           "#19d3f3",
           "#FF6692",
           "#B6E880",
           "#FF97FF",
           "#FECB52"
          ],
          "font": {
           "color": "#2a3f5f"
          },
          "geo": {
           "bgcolor": "white",
           "lakecolor": "white",
           "landcolor": "#E5ECF6",
           "showlakes": true,
           "showland": true,
           "subunitcolor": "white"
          },
          "hoverlabel": {
           "align": "left"
          },
          "hovermode": "closest",
          "mapbox": {
           "style": "light"
          },
          "paper_bgcolor": "white",
          "plot_bgcolor": "#E5ECF6",
          "polar": {
           "angularaxis": {
            "gridcolor": "white",
            "linecolor": "white",
            "ticks": ""
           },
           "bgcolor": "#E5ECF6",
           "radialaxis": {
            "gridcolor": "white",
            "linecolor": "white",
            "ticks": ""
           }
          },
          "scene": {
           "xaxis": {
            "backgroundcolor": "#E5ECF6",
            "gridcolor": "white",
            "gridwidth": 2,
            "linecolor": "white",
            "showbackground": true,
            "ticks": "",
            "zerolinecolor": "white"
           },
           "yaxis": {
            "backgroundcolor": "#E5ECF6",
            "gridcolor": "white",
            "gridwidth": 2,
            "linecolor": "white",
            "showbackground": true,
            "ticks": "",
            "zerolinecolor": "white"
           },
           "zaxis": {
            "backgroundcolor": "#E5ECF6",
            "gridcolor": "white",
            "gridwidth": 2,
            "linecolor": "white",
            "showbackground": true,
            "ticks": "",
            "zerolinecolor": "white"
           }
          },
          "shapedefaults": {
           "line": {
            "color": "#2a3f5f"
           }
          },
          "ternary": {
           "aaxis": {
            "gridcolor": "white",
            "linecolor": "white",
            "ticks": ""
           },
           "baxis": {
            "gridcolor": "white",
            "linecolor": "white",
            "ticks": ""
           },
           "bgcolor": "#E5ECF6",
           "caxis": {
            "gridcolor": "white",
            "linecolor": "white",
            "ticks": ""
           }
          },
          "title": {
           "x": 0.05
          },
          "xaxis": {
           "automargin": true,
           "gridcolor": "white",
           "linecolor": "white",
           "ticks": "",
           "title": {
            "standoff": 15
           },
           "zerolinecolor": "white",
           "zerolinewidth": 2
          },
          "yaxis": {
           "automargin": true,
           "gridcolor": "white",
           "linecolor": "white",
           "ticks": "",
           "title": {
            "standoff": 15
           },
           "zerolinecolor": "white",
           "zerolinewidth": 2
          }
         }
        },
        "xaxis": {
         "anchor": "y",
         "domain": [
          0,
          1
         ],
         "title": {
          "text": "Вещественная переменная Y"
         }
        },
        "yaxis": {
         "anchor": "x",
         "domain": [
          0,
          1
         ],
         "title": {
          "text": "Количество"
         }
        }
       }
      }
     },
     "metadata": {},
     "output_type": "display_data"
    }
   ],
   "source": [
    "# Гистограмма\n",
    "fig = px.histogram(df, x='y', color_discrete_sequence=[corp_col])\n",
    "\n",
    "# Фон и подписи\n",
    "fig.update_layout(\n",
    "    plot_bgcolor='white',\n",
    "    xaxis_title='Вещественная переменная Y',\n",
    "    yaxis_title='Количество'\n",
    ")\n",
    "\n",
    "fig.show()\n"
   ]
  },
  {
   "cell_type": "markdown",
   "id": "70d448a5",
   "metadata": {},
   "source": [
    "**Выводы**: переменная Y меняется в пределах от 0 до 100. Распределение неравномерное, мультимодальное, но есть две ярковыраженных моды: в диапазоне 12.5-17.5 и в диапазоне 47.5-52.5."
   ]
  },
  {
   "cell_type": "code",
   "execution_count": 6,
   "id": "2f334a50",
   "metadata": {},
   "outputs": [
    {
     "data": {
      "application/vnd.plotly.v1+json": {
       "config": {
        "plotlyServerURL": "https://plot.ly"
       },
       "data": [
        {
         "marker": {
          "color": "#40ba21"
         },
         "name": "dino",
         "type": "histogram",
         "x": {
          "bdata": "c2iR7XxLWEDEsS5uowFYQB6n6Egun1dAIGPuWkLaVkBv8IXJVBVWQMcpOpLLN1VAxyk6ksv3U0Ac6+I2GmRTQB6n6Egun1JAIGPuWkLaUUAgY+5aQppQQJLLf0i/5U5A5dAi2/mWTECM22gAb3lKQIhjXdxGg0lAiGNd3EaDSUCIY13cRoNJQD/G3LWEtElAP8bctYS0SUCM22gAb3lKQOlILv8hDUtA4lgXt9GgS0A1XrpJDNJLQIhjXdxGA0xAjNtoAG/5TEDl0CLb+RZPQCBj7lpCmlBAdCSX/5BGUUDiWBe30aBLQI9TdCSX70hAiGNd3EYDR0Df4AuTqSpDQOXQItv5FkVA6Ugu/yENRkA/xty1hDRCQDnWxW00SEBAfoy5awlpP0DEsS5uo0E+QOXQItv5FkBAkst/SL9lQkA/xty1hLREQDVeukkM0kZA6Ugu/yGNSECIY13cRgNCQOXQItv5FkBA0ZFc/kMaPUAkl/+Qfss6QMSxLm6jQTlAxLEubqNBOUBqvHSTGKQ5QCuHFtnOtzxAfoy5awlpP0CPU3Qkl29BQDnWxW00yEJANV66SQxSREDl0CLb+RZFQDxO0ZFcPkZAiGNd3EYDR0CSy39Iv2VHQIzbaABv+UdAlkOLbOfbSkA1XrpJDFJOQB6n6EguH1BAHqfoSC5fUUDHKTqSy/dTQHQkl/+QBlVAcayL22hQVUBxrIvbaFBVQMSxLm6jgVVAxLEubqOBVUDGbTSAt7xUQBsv3SQGKVRAy6FFtvOtU0DLoUW2861TQBzr4jYaZFNAj1N0JJfvTUDl0CLb+RZPQDnWxW00SE9AHqfoSC7fWEB0JJf/kMZYQBzr4jYaZFhAdCSX/5CGV0DEsS5uo8FWQCBj7lpCmlVAb/CFyVTVVEB0JJf/kMZTQHGsi9to0FJAIGPuWkLaUUDJ5T+k37JQQOJYF7fRIE5A4lgXt9GgS0A/xty1hLRJQDnWxW00yEdAiGNd3EYDR0A51sVtNEhFQI9TdCSX70NAkst/SL9lQkCWQ4ts59tAQDVeukkMUkRA3+ALk6kqQ0CWQ4ts59tAQNGRXP5DGj1AxLEubqNBOUDRkVz+Qxo4QBe30QDe8jZAF7fRAN7yNkDLoUW28y02QMSxLm6jQTRA0ZFc/kMaM0DRkVz+QxozQL7BFyZTVTJAvsEXJlNVMkC+wRcmU1UyQHGsi9tokDFAEce6uI0GMEBWDi2ynW8rQDxO0ZFcvi1APE7RkVy+LUA8TtGRXL4tQKMjufyHNCxA4lgXt9EgKUAijnVxGw0mQDxO0ZFcviNAQxzr4jYaGEDvOEVHcvkiQIhjXdxGgyRAiGNd3EaDJEDVeOkmMUglQNV46SYxSCVA1XjpJjFIJUDVeOkmMUglQNV46SYxSCVA1XjpJjFIJUBWDi2ynW8hQBHHuriNBhVAu7iNBvCWB0BNFYxK6sQ5QKYKRiV1YjlAsHJoke3EREBTBaOSOvFXQAAAAAAAwFdAVcGopE4sV0A=",
          "dtype": "f8"
         },
         "xaxis": "x",
         "yaxis": "y"
        },
        {
         "marker": {
          "color": "#40ba21"
         },
         "name": "away",
         "type": "histogram",
         "x": {
          "bdata": "ncA39560TkBXS6Jk1y86QExwFqkK1T5Ame5nTCeiVEAI9hTHBd5GQNE0BYszjkJA4tqcCHNeWEDm+e6/nhk5QLve6DFCPVRAserPJWy4PUDpM1BzMwRUQJbRFZswxFFAtgLXlQ4cOEASqjkYeGNUQNHYoZXQeTVALcmF8361MkCJJTKi3tdTQJiqU+UEGjVAeenq8tQCNEBXBkY36vtSQJUgezNlKi9ArBbA66b5K0BZGXW7w3c4QDj1zE2eEVVAb3sPqdWGI0Bm+rqPCfIxQFKm+tEVDTBACbug9kYcN0CAV8mcblA0QPfAAcPv6FRAXMNHpjUIU0B+t/FCBn4WQKnEpKCMCFFAT3zoS94RTEA+StcaEnVRQAXo1YEuQk9APh57uKsvUkA8neKfbHcaQLJ7Qff0GlJADKMbCKJJSkCO6VhI8ekuQHUFRbamajlAfK+kSy3WM0DC1BcE/TJIQETAkoS86lJAXuKX57xjIEAhQG/yB9dNQLrhycoYEvg/lNqkTvuaRkA0EH6zI9YkQKoqDSRjpVNA/hcOl0NZUkDeFvWYW/1SQAW5aCFx7FFAoNs2Edc3VEB2zo/6BNYpQBsI+YQ7PlVAAoEY6Wh4VEDhw8cMffspQFVMVX2WjCxAUTbZBdK1MUAf266nqL1FQAxbi4T681FASz4vQlxXRECSaKNlRsBIQM6ukn7o70RAuKIKQ4hIV0BkNwULhjM+QCzds2e8JT9ALmyzlJjqP0CURR9E0tw8QKU/9fwixUNA3e9c0IUnWEAjZM5iClZHQNxioKHmKFZAtvnfR57UVUAMHZyItStVQA3Iaqt8YT1Afgqmb7DFTUCsdaBWKmREQB4ySG7LuT5AzhstY1hpQEAyqsPDKMdWQCeWXMhRKz1AOfnjrL7gRUCguzpFm6hAQK5d78JDK1VARNPXyAXaU0DniSOr9FhVQCWjpvy0CDZADwOyH9adUUDxhBxjAOozQPOVA+fTIU5ABbVLm8KpUUDRlgxrPmhOQKDAqt9dYVBApPHneus6T0ATSZfmbVVQQK6m13K1Xx5AcZCbIDRJU0D4q3EPgbZSQEJ2YdoFn1BACyaieOH2jj+vhA0OOIBRQLo4tI97rgJAwb88MP0FGECmIpn+OmFFQLFtDiXsRUlAP6wehIUDTkCO0/wnciYYQKD8lUGpKFNA0cKSKJykTEAp/COZn/NRQHYX00288lFAct9AQoGmTUCVqBTEO4JQQEcO6dy6q0JAjEbq+AkTRUC6caZra17zP08QDM5GAk5AudfpCs2gUUBEbzs1mkrgP5hUUgf3vUFARCJ3DKT8OUC5wPZvfbwlQLGxI/pClkhACv2vngru/D8ZCYWxwklRQBIv17PDEilAgBWDbxE9RUB2EqqI9XxQQOIWuKOUsTlAVXjg841HQ0AXIGb7ZEFPQLOW4uiaXUxAEHjRMEQkUECSbAx6apJSQGnDEUdWPVJAmeZGJkooUkDICc/fVmVCQO1VQvjyeEVAqt6kpe4BQEA=",
          "dtype": "f8"
         },
         "xaxis": "x2",
         "yaxis": "y2"
        },
        {
         "marker": {
          "color": "#40ba21"
         },
         "name": "h_lines",
         "type": "histogram",
         "x": {
          "bdata": "V/sVXVCNVkDNn0/ZooVWQBSoNTVfnVZA5NifKH5gVkA5PgAIVJxWQK6GA6I5iVZAxiDOyBKKUUCAUHjAZZ1RQK72Mr1Eg1FAxHwLQFKbUUBuKMrXfY1RQOTPtikFoFFA/3LSoE0/SUD+A2un7T9JQDdR9pe3PElAWU7UJ3hASUC12K0qAkBJQI6JcVcfO0lAOWkU7W4+SUDTQDgO2D1JQPlaCJQjP0lAQU/6bxtASUCfOtuGZj5JQLYNUI9uQElALHtSqoQ/SUDavEmKWoRRQPvDNYcrnVFAq6nsgPKeUUAL/g1K1zVJQGoaTnitN0lATxOaAT48SUBGIreVDHM+QBmmocvVPklA1oNFpjw1SUDcNVx94H4+QLHPiH8EeT5A3SBqxIt6PkCQKVqb+Mo+QOcHMwfvfz5ADBc3AvF+PkAQlVA+wENJQLMmzLMPP0lAg6INiSE8SUAJdPJWoG8+QA+oZm54fz5AyxXMAid8PkDuggZ4mYA+QAaYx4sdfj5ArEvcFqSFPkBlkl/ncIA+QByK1iDAgT5AzLIdD5p8PkBFSvpOqH4+QKgYbhcWeT5A/emHHLA4SUDZJNf+wj1JQNbg2FfgOUlAH0pHSEM/SUDFctcLTz1JQO68YgTTP0lAWWr+1jU/SUCnu05OpJBRQHnEY6UbjlFADDcSwFOeUUAwgaJMz39WQDi6XFqTYlZAF4oHWlltVkCcTIvjqGhWQL9tXv+7fVZABuTY5JNnVkAFwXdkYnVWQIiISsNaZVZAWc53Ep55UUBU7vjNkZZRQOzlZwFLmVFAOiMGFSc+SUAyk0J+wZVRQHZANOAMnlFA8yYkcR1qVkCnyYD7125WQFh1neB3iFZAXn2SPSZ7VkBl36gksYJWQJZT6ulGY1ZAjKEXC+5lVkCuFFeUGJtRQLkg5ohIlFFAFj0vljuTUUAg8hYHgJxRQKZdfv+sllFATa7/fYE8SUBKLYAfSDpJQDFt78NXP0lA27jwxfg+SUDf+MZPpD5JQDq7v3Wamj5A1Nv0ZhqAPkB925jKnnU+QHrxSn01N0lAM6Ff2Rl+PkC/oEB5yns+QDzMEUySgj5AmzHUeuKLPkBKl0mPiYE+QC9CtWApfD5ALNG6RoKsPkAlTXcvm3k+QFTGIx+Zfj5AR5dNtRwWJUDp5pvjjgslQLGZy2dj/SRALK5h7ilzJUDPTAUcD7glQP58Xh/E/SRAiAhVbMAMJUB1Kc7Kn/kkQBzPFx7j/SRArRFyO4MDJUCqZ3KGKgQlQHvzxkqG7SRAZOJCXSX/JEDCXSbcRfokQCHtsii7+CRAXogyI57+JECqkIVA2wMlQIi4OHDn/SRAJLb8/pQBJUC5fFQVNAclQNaQUQkDByVAhlXf6awBJUBqcuK/gQklQJQLTKl2/iRALwUxOuP9JEBjzxwmGl0lQD3x8Qi0AyVA5mmMnN32JED12bsmb2g+QGqp+lx/fz5Att99PbY+SUA/jqOHE21WQKaCka2TbVZA0Ovy3rZvVkA=",
          "dtype": "f8"
         },
         "xaxis": "x3",
         "yaxis": "y3"
        },
        {
         "marker": {
          "color": "#40ba21"
         },
         "name": "v_lines",
         "type": "histogram",
         "x": {
          "bdata": "MJ06vUBOV0AMiIn4CWdYQPZNs6N17FhA0UsMU2mBVkDghEC6MX9WQJwrffq1hVRA0CpD9aeTVECcLC1btm5TQKIV7ehu9VNAHGuhUSoQUUAf3Yx6/4VQQGvPiDBHMU9At4IKLBduTkBMKkZZgPBLQFxe7IY8KUpA8PtD6+sISEB7rg4/AeNGQIFRBqXosEhAEfzeC9SBR0CSZDNOPstLQMrdBr1H+kxAY7LGTjBDTkAzn4a/TPZMQE7TA7g7OExAENOwanikTUBIC2iKJjlQQHWKHSIxqk5ABP5uTmV/TEDZQinFYh1IQNT5uILiCk1AIdB68EqaQ0A7USmuXgJFQEwyR5ZZy0VAtv8+8IOdTEBA3wHaiaxFQO1KleiIdUBAhyrceVm2Q0DT+s58nSxDQKEOtzyAxTxAcVandw9gQEAtHg8b28dFQHn3wzBgf0ZAdJyAgomsR0CNjjqqeThCQNEwT8NEBTxA2PA4sTUoQ0CgVN76p2o6QC/9Vw5X0zZAu3DCaaqxMEDAUuzY56M1QNIOV4WILT1AFMSYamE4Q0AMIqL1SNw6QLNO5xJfe0NAvoxQ1ul0REC5iVXhQZtHQGGQldPOz0hAx8dYeWNOSkAo44dmOLFHQCjEZ6Cu60xA8OABR31kTUDjVrpkoDVOQEMPJTBXM01AEGlk52cFUUAuuSvm2cBSQG79soMDklZAEfjX/EU8VEDikUqK/qhWQHc0Z2S0FldAiI5vdweOVEDsEMvjmm9UQDsky37j/FFA+kFcf+t8UkBo2iLKbilUQBrzjwZUR1JAsuqDTmfOSkD3digabUZQQEn4f0k6wE9ANfsSokJRWEDbJWJ0RmZXQCPN83ZoTFhAVFpkG7YHV0AReTJL0OdWQDa/iiGzHlVAZBEKmy90VEDt+PPRgHVUQA65xwFsx1FAft1jlZSfUUBQBOgssL9OQNg0E23+HU9A2n69uLCbSkCh9xKfBXJIQDV4K8igUEdAKE4PPTI2SECRdhnCdaxFQCBkN/0CUERA6pKtylfoRkABuv8tYPNAQJu+q9nb1UJAuiGzGl5nQkDiSjZRvd5AQKLw46xr7zVAShNxpom6NkBPgMhuZFYwQG+P7nfSIjtAicd1Nz6rN0CH/sSi1Nk1QFW29wBQlSdABe6KKo06L0CCg5N3SSsxQCOR+zOKgTBAehFtEDS5MkAJs8M2JjcnQHnvvl+SQTZASTROMXHfKkCpow3Gm74pQLXMiYmLZzRAPZVuc6w3L0AcSVHJqpomQO1nxNOK7ChAgo3qulBCMkA+3dHjHbwNQHINQYPFeCRAoUiHaOzvKEB92SHMdKMdQGBEiXzxQDBAAY1JtKG2KkAWZyS/4xAiQMG5ordoXC5A3ophI9ngMEBc9DFCaGokQDKX/E4O/CNAhW+jQmrYJkAh2yRI5v8vQENuAQfG0hdA1U2g8MngBUA2FO1c5xU6QECG0V6LxzNA0dBDVZr6P0A2MHU0N6hYQJcXKgiov1dAU9Vcm6rFV0A=",
          "dtype": "f8"
         },
         "xaxis": "x4",
         "yaxis": "y4"
        },
        {
         "marker": {
          "color": "#40ba21"
         },
         "name": "x_shape",
         "type": "histogram",
         "x": {
          "bdata": "bw9oB0EeV0Cr8JogeYdXQOUNB70rIVZALUvjM9MnVkCB8iU6Ze5UQEENciacglRAdcf02eDQU0ByqJQcrZBUQPI79PYDClVA9w/a1bGiU0CRef4aa/RTQFe/TniNyFJAmLYUXDDWUkCHwotoWZ5RQMo5BBnwwlFAIOorQXedUECVOuEagT1QQPObV6/RAVFAc+9DmNlPT0Db930/YvtNQHGAnTo2v0xA/mwB7N7MTkC7qvguYfBKQJv2/MinB01AqAqLZ3cMT0C7jHrDH4lNQMunL1FiFkxA1OexSWEeT0BXfjIpUoxMQPhZdNEhcURAKOUsajsxREBbdTtJI44+QNeCOPlP30JAsBPqKwAjQkDyhoZNNQNAQNjoLQLJuDVAqchDzFVPP0CURI/MpYo3QEV0M1OGsDVAmEpMC+8xOEAS4d0V8yA4QFO45trsvUJASwzwR6uuQ0AaDIKCYxUwQD0gSmClTjhA5fZxSr5hMUDfmIWB5foxQEOfuLFT9jZATs8X2VedNEA/00RAwl03QMmqu4PujjhAb5dyyMrFPEDdxkM4lg4/QCK9KII/aD9ALDqc9BOvQ0D9wKblPwxDQLSHE5qYTkVASe0mOR6RRUBiw1SsemxGQC9yjZYVWUVAQ2bkdF2YSkAu3L4y62tQQOxVTLM1uFBA2ocyGJcKUkD0iTVGJtFRQPwgBAmex1RABb7/pxv8U0Bl2OFe+xlTQAmvTUGPDVRAtf56qzz/VEAclwzfDepTQIWQ3xoZTVNATyynrQdnU0DKThZy2WhSQB07XDZwnVNAHAFzbaOXUUCDPbFE8w9TQKZOCrMcRlFAKAXJept1WECHUD/NhNNXQLlzIdIPGldArlBX/y/bV0ChUvP9vvJUQDm5L8QCxVRAwLkZDwohU0DNPN0jWflTQHGCwuKIbVRA6NeJnIRhUkDZ7mousR5RQI8KNopJ+1FAESA2nUxRT0BKNIL+m9ZQQC5Z+9UhKkFA6+jM/n9ZQUBty0kuG1dBQBfjkbKkIzdAKgnFqeGYOUB8RtalfHI3QFisWnuDE0FAmSxglfojRUCN4YQeXjlCQMdpkFJFC0JAmsCYIG8SPEACak1fBoVAQCRDJaXNkTlA02TYvkbFO0CBAW8GWQQ+QDrcyxTzCT1A5D3q0u/fOEDF85721+c7QPgdROSUjjlAycqfjk/yOEBJ8qKPLlMyQKS1VvYMuDFAJS27NSfkLkBAQ9qrOAwrQIW0ZcAiCC5ATsEy385tKED8br75W+s0QBat9ahsfy9As/hHOudSM0D1BEE8XdsnQNC9WRMjbStAqMb9dIZPEkBHjPg4la4xQEfkQRepPTRAN2Ml4sXIKkDDZu/xqr42QHdxHOkl6zRAs/T3C+PfM0BMghSVfZcwQBf+4aXafixAqeEFhBj2IUDKgCd9vhYzQNC4qQU1uyBAZqAzI6NBJUBrQIrf8EI4QA7LwVl68CtAvPjAJTcYNkAHXjR6ykdXQH9hvf4Jp1VAshOFbotdVkA=",
          "dtype": "f8"
         },
         "xaxis": "x5",
         "yaxis": "y5"
        },
        {
         "marker": {
          "color": "#40ba21"
         },
         "name": "star",
         "type": "histogram",
         "x": {
          "bdata": "Hr0Z6XD4VkDwQb9fwg1XQIOB+cHfk1ZAU1t7OhZ6VkBTAKZyhQBXQH7ek1F1BVZAA/g1tmHBT0DuJNeSi8tPQI/9LbvHj09ApWxxyxdpT0BiAmioUsJPQGI3bBIVg09AbGePREVcT0A1LX0ccHNPQD6kTxPMsU9ApU3+c4THT0D0UuX+GbFPQKwY40lPk0lAAxFpKc6tTkD+YL1hZEVMQLiP+O8jFE5Aant95nrUT0DQ1xmPbHZPQJJ7GOMllU9AkYzUeBt0UEBFlDwAZaVSQC5qvQC3nU9AUxUxbWr/UkATduEx4nBPQJDzZf79iEhA31wb6Y45R0DQEpViz0ZBQLD5CxG980BAgY/LRUYmQ0DgRlVScQJCQBrq2Ir7fTpAEaZNOcTUQUAO5P0Z1Rc7QHRTMXPU/ThA7aqI3jfHQEADNMTLUMRJQHKxy/OF405AmjQLiTtrTUDL3Y0bPAU+QPa8B97Dhj9Ao/yUitVYMEBoBDFOkDs0QIZtWa+66TBAT7NFdP03L0Bsjp5kbMw0QJVLWiZAfzpAa/IhWydkNUD74BkJ3ThAQBuRnlRKCj1AU1AtwTJYPkDJJVe31j07QEUATUuHtT1AvtKRVjehREAsyprIFLpFQP5RH7p8+0RA4frdX7AFRkCL8Wb4i69PQH/1k8233FBAKLqk5a2NUUClvOURVLtVQGJak+f831VAAlz+N87zVUBiFym6zGhVQFHHyDHwhFZAnWitIU6aVkDFhsMaC31WQCJmUXweEFRAgovijFJiU0Boo8paqY5TQJOQNK5S9FNA7nIinaBmTkAWpI90w4hPQCPpwiMEsk9AKWKKG/uQVkB3+FPxOwpXQCqzxRXur1ZA+oFBD/IUVkASg4qzTAhXQOMWfGVx7FZAShXkJmyjVkBMLImgnG9TQMsKWMKAkE9AWqan00+0T0CsA7fl0KVPQLfV4kqTqkpAEAGZM0FFTEAx8Qw4eeVNQCn68Q9q00pARYJmJT8DTEDNr8OoDZ5KQBESkFBG6UlAMPtuW1hfN0BRq2hrPWIwQPkj8PZF6UBAiE2OQRoPQEA8G37n+h06QMQR3LNrPDhANa4kHjWsO0A4nTfhpOUtQAT9Lx547CxAuZCmvao4LUBihn8+tccvQGbMst080y9AcuOyo5NNLkBksS+LoHEuQFcsmTqDNzBARyWDCCIQOUD7OBY0plYyQJ0ni/SD/jNAXLLGcq14OkBZYwLWoC4wQBzdrPURKS1AEgWFyWXnLEDjjbasLrssQF1SJzMtRzFArlK6L8BgNkBGDEwBAaYxQEKoFZlO1DFAnTglDgxIL0CNlmeM9L4xQMkLKp+ePi5ArilB3CQMMkB81IIHZFMuQF5/CneSTjBAirXheIq3L0CkmnOfBYIuQLBeHez6qC9Aie49grkwL0CB5bIYj4wvQJG0hs+wjy1AyaeWWFHpLUAHkFrXmuo4QJSIQ8HLEzNAsW6TBUBzSkBpexMCK/xVQDqNOtdcrFZAHUbITq0GV0A=",
          "dtype": "f8"
         },
         "xaxis": "x6",
         "yaxis": "y6"
        },
        {
         "marker": {
          "color": "#40ba21"
         },
         "name": "high_lines",
         "type": "histogram",
         "x": {
          "bdata": "2puBUe75VEDbvRvVWbRUQPnYFaZDMFNANYhTCRZ9VEDEAsRF0wtUQFbJUCkQPVVA7OTS0ITyVEAeVsg1FqVUQJDbll1cllJASCSlb0bGUkCmk3BSHe5RQE1aFmcjJVJAlNkPHgXHUUDM+xTUuzdQQD+jnWhRx09AbJOfGHZmUEBpsXxjfeNQQHToD+3l+FFAksPDlkd/UUC6dRb4zMpQQAXrpvbcJVJA1+RFt1nKUUAyjza22QJRQEdONywsmlFA7d/MGlIjUkBECECCOAdTQHEi7GZuRFNA4OdwUwkKU0DHEJAQnUdSQE1Xhw5nzEFAATomLIVPQECd8TRSkyw7QP0zA1QxJT1AI1S+4s91PEBdeX0oQF07QGEHW1akiThAsZ2n9jSuN0BI3THp7Tw5QKR8Sg94jTpA4BmPP8FHPEBA013dIrM8QA6c/Yo/zDtA71j/9pvyPED3gu9ux806QOhFPzSZqjpAOZdhKt1BM0Csgars23A6QAYJQEmpFDRAGOiIq6t+N0C4M8x/elU0QF2KXhdU/jpAgfu6gt8FOkCq36i8bQE2QOuayMlWRT1Al1CKpesDPkCqeenKSd47QC4pTfvMyTpANa3bexQKP0Co9jVQsZ4/QPHJsPEsHkFAW0clkT7pUED8C7i7+9pSQMs2tCRXB1JAVnx3923WU0BG1wkPIWpUQNnej6CGr1RA964d4tEPVEBbMGWeFI1UQK4q/h34P1VAuWW5xMfPVEChoMWvt29UQMUOaozk4FRAHSZMJxERVEADr0TP3hBVQLVDBxJAD1RARgbZdGQJUUAEWYXE45lSQM7qGZGDJVJAdxJWiWeiVEAwVNsUKm1VQCRGY7YK11RAqmSYxL3JVUDqchniQJtUQKblmTX+21RAXK+F8uCBVEBq9feIH9pTQBmNxX23+FNAG+ztmZxwU0BLfCCIS/5RQGoobov0b1FAomyJ1dGCUUAypx49y2BQQBbZnZmYe0FA4tgL6XZiQUA9H6qYRjBAQAtmMZEwMUFAukcyw7gNPEBIaQnFHBI8QBFBYQCEDzhADZ/LkH4tOkAjyJC9yMY7QJouAiou7zdAo8YDGHbNOkBpZ3Sm2f41QFDte/C0tTZAYmwSVLWxNECt7qn8cXE2QLSaezaVxDFAXw7nlFqeNUCFepIlxys1QCFk8igCJTlA0IIXD8RqM0D01Q8akwgxQCCanznwgDNA22TpD0F9N0C3FNnMtoMxQFwJIB4JyjBATECwyAbCMEBCJLXjFfg1QB9i7I0tyjBAudNEAdXsM0BdLc7U/yAxQI5cpou1vTJAhI9TgODaMUBbNDaWXU4xQDYQ8L9srDFA8dOScJxeMUDhrZLYhTIyQI7aDA0OOTFALQUPUHTQMECg4KRh3ycxQBYvxT6JXjNA15Jl8369NEDV9Dzj8tMtQK+23PxqMDRA9VSooVY+MkByRpjTOrs2QAd2mluRhTpACpeta29yQUCJzwCL2rxTQIqZkic/SFVAu+Lt9kW7VEA=",
          "dtype": "f8"
         },
         "xaxis": "x7",
         "yaxis": "y7"
        },
        {
         "marker": {
          "color": "#40ba21"
         },
         "name": "dots",
         "type": "histogram",
         "x": {
          "bdata": "KcUCr4O3VkABLwaijUZWQCEkoWpxXVVAT0CG27DDVEBWx6BFBbxUQES27o1qvlRAvUOJk426VEChANggdrtUQDqDpObyt1RAK4v5aiS7VEAht8pHjrRUQA24jK5ivklAu0EysRm1SUBeXGWQ1AlKQK/BCWgl20lAz5y7fr1aSUAXdDoJl9NJQF/BzGtLl0lAWr/SHpO1SUDGT3PTvg9KQOKOMRuPT0lAS7VFDJEJSUA+VdkFUMBJQDhaNHJU7klAFxFYSP8gSkBm1ks9VplJQPguYOxGvFRA7U0eYybwVEBTiJUD1fxJQF4kWAdliUlAiXUfikarSUBfCHicohZKQIM+5G/TmUlAvrzy9IA4SUBvjts1RrVJQALYRhRIJTFAzZ60yi0kMUCVy8L39xQxQDLe06/N7DBAmsOON7tUSUAfa1igFbNJQJfP48jLZUlASOk4ENBXSUAFdYJgK8NJQImQ7rPHZzFAUWk2Iic0MUALDw3YBBgxQHBL4cokHTFAbzhWHxQGMUAoNPK9ax0xQHmk7DbpEzFANSUIQCT7MEBOc7BP4AkxQI7G+1tkWElASdvYKrGlSUDtbOHcE8xJQLyccV36KkpAJLEG4tMFSkB0yZDZlN9JQBcpYd3JKElA9OFWEx27SUBd8aoR1Q9KQGJGqSLL+0lASE8nFhW/VEAL1SKhU8dUQDV6m9njvlRAhvOsiSW2VEC+1S/a0MtUQLnxXNM7ulRALlK0a9y7VEAYI+8sE/5UQNVjIjeYv1RAHt50hV7GVEC7kMQTVe1UQOhX5Yy5uVRAI8qsGC24SUCn+ZIl7aZJQEM1Vdv8y0lAmyq0/PSPV0CawpbcqT5XQMdOIHa7GFZA732r5tL5VEBZxrtglt1UQOsG9WnYulRAvgpHTJS4VEBQvPbIp7tUQBsMIseXvVRAJmbEZD3CVEBFtMF0f7xUQE1DxDVtk0lAAKGQxd88SUC21C/EMhRKQApfHj1lDUpARpunnjOVSUAS2gNIDO9JQJJQioAp9ElAAYnESs7USEBAH4L1ehwxQAyO7n5+8ElAm6y+qx+ySUCE2uSxXAwxQGD57dgBBDFAis/90usPMUBGch77hQoxQGQkOWiIIjFA3rJTTFYRMUCNXunSgSsxQCqKvzwQGzFAVEM4sULBMEDCtE0EARQxQCKxzaTOFTFAgXrkbMklMUCCwfzwT+gwQCkbJsCPKTFAGbTtg449MUBBflZbIS4xQNMeMsoTGzFA9fiu2TL+MEARyifemxYxQOcncaadkjBApKJzt5k4MUBTqqAAkxAxQID3CuKuEDFA/ufq95YTMUArwXXUdzUxQD0XEmRHNDFA3LVL9qsVMUBMrFzECBgxQLTARm01iy9AdvzKVBcBMUAYF8SIyCwwQCRoKSgnCDFAY86850MBMUBYASku4bEwQAEfcumOCzFAjoF81mPxMEAHZspkP/IwQDnl20gDBTFAubOny18VSUCpPEO65OBVQDrBIrLU/1RAQtWrcmi/VEA=",
          "dtype": "f8"
         },
         "xaxis": "x8",
         "yaxis": "y8"
        },
        {
         "marker": {
          "color": "#40ba21"
         },
         "name": "circle",
         "type": "histogram",
         "x": {
          "bdata": "VH88sL7RU0BeDpUo1sBTQOajOXDmm1RAlTO+LZTKU0Dw3eRDiYpTQNYdsA9geFNAQsr5qXSyU0AJuAhRXDhTQI+GhbI2GlNAK45HzGMuUkCeCJ/7tE9RQEm+gS7irlFAa1PmdpB9T0As1B36PFFPQNQZq5OrUE5AZDT2VrkyT0AxDayrbgNPQGbAsrn+Ik5Auld4oyeST0BcPzXJDHNRQKLfi6+181JAxR2bl62HU0BjcGc7Y9NTQKw895nQz1NAHKMz7yNBU0DbJwZTNM1TQP7Z5160ulNAYic38CzFU0A/5d8BKl9TQGAQuD2vrlNAonHFonnOMECRgyGRRxIxQN2hwsg7VDpAB2zyh+sMPUDLBX76bsk2QK6zM+JIfTFA9vO9dSvMOEAeKM/3dQg0QBdpoAHOMDhAZeL1YLsGR0AxVPJnIOJBQLk+gpPTpElANAzv11xsTkAfnruaCaZAQF5jJ52AkDhAlvC+CUngNUAXVBKYmXVAQM+Hl0IIMjZAhwT6puOKMkB8+J1aCbwxQG+sH61+IjFAA+ZbRydjMEDxyQ5jblowQGimv0wQazBA8l2VxtKpMEBY5rYH/ZhAQFMh/p/TvThAUn/HNHZxSkCOLscP205NQIPDOOx4xUZAJZBO+SksUUC9hBJ/t0dSQErMPam561JAV2RHLWzMU0CjfRDnqKpTQPQuoXXyxFNAYM6X16TTU0CqapjWzNRTQOIlvi5Bq1NAXjTIQjvKU0AvmQlTy9JTQKriW5ISslNApwYTKAbTU0AH3GTkvcpTQBvHJ59wwlNALdqwJq6jUkDnUs/PQ5RRQDJNTGf0rFFAYEo+JQBlVUAy9CoXo75TQD9qGCkw0FNAr+ETOmnMU0A+9ZhcFtRTQGuAZ/4ui1NArGy9NTAHU0AyCrtNjFlTQB0ZwUSQ8lJANbECdKaCU0Aq5AJD+lNRQBdJV4JHV09AgYA264zyT0Bi4Bb7DeRKQC+Orx3KoExAexH33ReDRkDTT9pJlGFJQGqcZON1YUNAC495PbFHRkD7mEiOWL5DQPDkCqD10DZAMCOcnWPbNkAcKV6TXLkxQDp/LKfxgjZA1CCFYTLiMUAzi3BVyR0xQBnFuPtRyDhApga1/4NHNEDqX5w8iKQwQD4gO+xYJTVAw2hclK5lMkAolUuHcFUyQLkRTZqq7DFAdztkij6ZMED+0A2LmFMwQBJd6yEOZzJAyP0LHzF0MEAsiXsKSn0yQMb+mrpXfDBAweu8DzyjMEBQLyncgQgxQBPljJG+XTBAJd7WZvdWMEDNI9d6c8wwQHffIaOEYjBAHwQo+yOtMECNQLk/cGgwQKAT7SsJJDJAF/R060INMUDvPUhFVrMxQGsVrluFNzJAt1jP3a5JMkDk0Hy4JoQyQNr4HCv7iTRAbQw/kU4INECEUqYjCEUxQJhQ4xTUCzFA7iQZrz1IMUCJOOpgdbkxQAznIWmsszNANYUSicnIS0DEA+qP0NZUQLr4upDXv1NAOJiEBevMU0A=",
          "dtype": "f8"
         },
         "xaxis": "x9",
         "yaxis": "y9"
        },
        {
         "marker": {
          "color": "#40ba21"
         },
         "name": "bullseye",
         "type": "histogram",
         "x": {
          "bdata": "Z+1f5r7VVEBPYAID/V9VQH1u4WsadVVArrFPMeNCVUCWm1bwJQFVQKSQJs5RpFRAGgDfqgE0VEBWFBO5h6pUQKyC+7a1AFRA71ZGxkI2UkCZyKLzFedRQKYG1einglBAFfafulNcT0B/ljxUEghPQG4qVRnbq05ANNNuUdWORUAYLg1tcNpHQKLEEDwDxktAJTOx1WJPUEDHcN6/HqFGQEew6lVIfk5Ad2YS1p5tUEBuEhBG7ZhQQJy4j3I9AlBA2Ic4P0XsT0CUZQNPgx5QQGKpmg4wT1BAKZAWvQxxUEDwt7EppCZQQArtxMCtMlBAXUNsETGMREDjPCaOmMhEQLxhzC5Arj5A/v8lEIJWPkBthpuUiUNBQCYE6AQfrD1AsovquA/NQ0CU064r5aVCQD5MrurUT0FAGbg2rw6SR0CpIqVx+c9HQDkJMGssO0ZAtADLHFtlREAGBICMXF1IQAASnOb8GUBAXUrgRY1SOUAJJzkOYl01QCAaRElb+C9APFjVQ9pZPUDTdmozMLY9QDnma8Bvqz5AQpoxxGooQUDNhmDM4gNAQOnh6AcFpD1AYfMAhmTqQEBEnnzwVUo+QG87Kyj3SUhAgeqM4CAkSkDdclGLysJGQLwPZujWAENAKpspHaKPSUCUovsUzGdPQOJVZQbyX1BAYkq0xY2uTkBOiWrhUPZUQJjieOYvK1VAuDJAnMICVUDiXuxINLpUQLEgUCMUeFVAoLAG1wwjVUDwz430dzRVQHIFPvxhD1VAC3hDYSrhVEAZSFolrRBVQKlTKE8sT1VAOwbgdpOvSkAWeVJZxjVSQK2EdToc41FA6LfGnyyUVEAqPlkIJk9VQFEPgxAvS1VAm9BDLJSbVEBp9ixHmfxUQB0Hmf3VPVVASpmVI/SKVECurJswpBhUQEd4XXEoPlRAnXPLYfv+U0Aqeo/T0bFRQCyrXvaqe1JASuCyqfMnUEDdF02vGABQQJbwViZU4kxAs/oeCspPSkCDctDeL3xIQO5DyPsEqEpAho4VLDl6P0AN+RIr3Xk+QE+iaT4jcj5AUcame3dyPkAUNwjh80A+QN52ifjzAj1A9oTaa5D+PUDqfTXYM9RBQK7o2P7jTTRAMR6vzTASKkCnGVhs78QoQMSraXUygCpAjEZVS24AJkDozQtthb4nQLaa+Nk20CNA1gBiYE9sKEDChhiIDWomQOV8gb5MoyZAWPpqtenjJUDgYUx3EmIjQG7g1N8A1CdAW8dU3CHeJ0A4g7OjDvMnQEf1lFtl0yZAOGUg5gF3J0BhmJfAU9cjQLtkuh1D/SRAtjWoUdbcKkBY/Nmh97QpQJyffOhk5idA5wsEoPuHI0CrXbLxKcQkQBmeF53eQSxAklMg3GkTKEASeEIYSCskQGLitPuswipAphRodux3LkCDwC7xJaglQOvSCkUW/StABTJ5ExziMUBwFYVKVVMuQGV5DbAFrj1AxdS93VBWR0D/iMD/iFVVQGkuy+kfA1VAi84sZEIVVUA=",
          "dtype": "f8"
         },
         "xaxis": "x10",
         "yaxis": "y10"
        },
        {
         "marker": {
          "color": "#40ba21"
         },
         "name": "slant_up",
         "type": "histogram",
         "x": {
          "bdata": "3jVMm2/PV0AxlS172kRXQIVYUOx+hVdAF/hYom2TVkDujbb2EidYQHcMd4Xho1ZAJUJ7IjxJVEBhI3MilvJTQEniK1GE3FJAi5ePaYvKUkBNhQWqEOFQQCIBJ7ugPEtAsTKAkqeySkAB7qJ9JupIQDjqTFEaXEtAJEdJLpBBTkA7hm3qSLdOQKvy8CbHGlFAsL9j9n3MRUC09joKUNVIQFYj8TJHh0VARH7XklcgS0ApJg/FzRxKQOoFKf3nA0tAWxkov/kDTkAGZqvpD5JRQGkf5mxs4E1AkRwAF8OXTkCKehxh7OdKQLm03ED6S0pApdJTFc9ySEDepVYU/SBHQFiC1ei//ERAg0j53ycESUAql1uUGMNBQFYnpIsmgkFAdyI39XBqQ0BnseNq3GdCQD3tpEnf6EBAM/8S92s/P0ATbbvPwBNEQFhB1MmuSUZA0Rsrh28qSUClbHs9y9E9QF+8fLpcFD1AWQQe14iWO0AmMto/O4RBQHxfmOiFOEFAMZGWd0qeNEAynVHHZ5AzQAJo61ObTDpA46vq09TTNkBPGyefJHhAQGuIYTh0UjxAzJgdwUi+QEAYNvN5P0dIQErWWRwSZ0pAY3hUS2bJQ0AknUoM/o1BQEeIvO6Xr0dAyXqhMXDmR0DQgReMeYRPQGma38hmBlBAK+w8BhgqUkDIUXOQNFdTQApsL1lFB1RAblkKdMlWVUDyYPYvI/JUQNnD8dTQ8lRAit73oboIVECDcuwzDy1WQKdZtS/dc1VAV/fHeKbiVEDq4yBviYxTQBxCSOcCw1FAq7tHcLK2UEDzcMgnYOVNQEVG3u2uGU5AQ+F+g3DQWEDzSZto//9XQAZbsSYrIFdAoBPBhhdhV0BFKWAFGOVYQK9SYFKzKFRAcTXAejQ0U0BXTtRwB5ZSQMBlI865oVJAOni4cnV0UkBOyIvjoHlSQHgTcfO8sUtAqxo746YmTEBWLDrtW+pLQK8p7Ldxc0VASbwVsePjQkDLUrIuI8lCQGujTdwJEURAstFwxH71Q0A2urBZIQFHQADDDPPgJ0VAIhdqPp9EQkBFqyK6UVtAQLtMrM++Yj1AZwO5lz4NPEDLizwnvpwwQAOOFyINgjJAi9Hx06PJMEASlN4czmIzQAjyDbj3Ci1AGeHgYOUSOECituRsDpQ0QMTgRKnC6TNA8pg69Sw8NED60QMu7j04QDAohZDiFjJAZH2r//hWJEDVrtye5soqQB0nVhz/OS9Aa9yW3Vc2MEAuzH4abjscQLH291pX0ipAg9JkPti5MUBgkKjbT9ErQEKqnEY3YydACnEz8Qe9IkC58xmY6UMlQJWrWv1RRxpAPHgLux8OJkBc6lgQxwknQCC5TLFGlRZAQ2wsgY0UJUDq4mIertUhQFVkhNnD/DFAxL4ITknTL0BmXsOa7j0vQJHlUrYcgBdA2Ku4ZdxxIkAw4fW0mu08QAFkPNjvREBAPvWZgZtfQ0BSJAaay4tYQHI1P7Fvh1dAhiM4DLfcVUA=",
          "dtype": "f8"
         },
         "xaxis": "x11",
         "yaxis": "y11"
        },
        {
         "marker": {
          "color": "#40ba21"
         },
         "name": "slant_down",
         "type": "histogram",
         "x": {
          "bdata": "W00qXPdVWEBnB/u/ymRXQFLT7ImHE1hAQolSHwGXV0BrOrVNnqhWQDdeAvsNCFVAfcEaa2f6UECr7n2gH0JSQGt+IUijJU9AMwLZi0LcUkB1d9HaE4dRQBDP/1uj2kpAgzNelfC/SEAoedndIZhHQLnvB/KiHEZAC6ks2LfSSUAOZ15MA3tBQGUannWl10xAMeybeMHXS0DbLHbtRoBJQFblH9arc0xA1JFDzwQRTUAFN6Zs17VLQM00LAn67kdAIskIvakpUUAeZlqkag5RQM46VCx2GlBA8B8vBfs8T0BH2t/zSaJHQN3qdkx270pAs+Hb/YuiR0AQuS53zElJQDv8FEvaYkhAz0lyLz7+RkDPhbS2J3FAQMx21s52cTxAUbXcKPnlQ0DylzEl9KFDQPpK5OZCrkBA0nwQsQEgRUBHZ/S1W+lBQAkGAu9s8D9AHS1Tv05rSUCwRQ3RAcxAQOeb4unk1UFA2luP4NRQNUDOrYmuzwo3QNBuzrPboztABCO37rtcO0CNeKy9uhI+QL406VjckjxAwhGedM18O0DOIdwtmF5FQNfSZWqgrURAH7HhGhQTR0A+zBkr3EpDQERQDWmoU0dAqZouOabKREDY+YTamTVFQBv8srCWoEtAXUdj0CyiTUAEc3zFdk9NQHONW3xNH0tAG3nF+PV8UECj9WJyi2ZVQB/pPHwzZFRAoj0uD3GFVEDjr3GHIspUQDEL+DNPAFVAy4HGH5iPVkC2OjL3Ld5UQOuLPeHQp1RAVkFIssC3U0AtUgz/jvtTQNFRsodL11JA5SBsobltTkCPTUdIsSBRQP9vHqbz5E9AYy3c/zkbWEAV2Eg7OulYQDdDFA1Od1ZA3ivK11tOVkBcpRJayt5WQISc6fkpB1VAt6t2no9DVUCGyF6wUZFTQKeeSuMOOVJAapoZdADkUUBqEfe3oBxSQBOdG9LFYlBAOPDBJ5FcSkCUyTba9BlLQKJTS8sMkkhATeoL7tV+R0BvgJLsvLtEQD7IeyRIGEJATw+g0zKMQUCIJWIk9HFCQNsZZb/HA0RA9x3XkKWiREDKVa9IU21AQH/707EetUFAOisKwc+fO0Dnjr7Fo089QIv/SajKfTdAzuRofInmOkA/6HVdeoNAQI+LH6hwMj5ATCXVmWi1KEBbXrne9tc0QDdPsQbBpC5AzzGYrsQrM0Czxs5L7YgyQLAvuv2wky1AZCdZ2usELEAb9iMuJ+IPQAAne5cQlzVA9hXLvDPEMUAlLutQdBQiQD3klF5uhTNARCb+v6HWMUAlRqWJHUwsQCIn6PQG3fs/rUKgyFh9FUB7yhpPpXLTP2dobW8/SjNAj3MwHss5J0BLgQ0P7yQlQMK/Db1fJPI/hEPhpQX3HUDn/mTZY8/3P+dVeDOFhzJA/JWcu2cJLkCdjpLuaT/jP0Z1c1/5/xZAaxtb3DqnH0C6lEFVbxJAQO+rwsNsEUBAQuy38/edQEDrMrweQ+dYQPbCYqmlplhA4CXOEOJDV0A=",
          "dtype": "f8"
         },
         "xaxis": "x12",
         "yaxis": "y12"
        },
        {
         "marker": {
          "color": "#40ba21"
         },
         "name": "wide_lines",
         "type": "histogram",
         "x": {
          "bdata": "KnKq66flV0DPCPTavPtWQN6C1/TBEFdAVDKmvxNiV0Ditn0hWWZWQLdTCmjI4lRAN3phnMtBU0ChHuaASQdUQHLMFOQXZ1NA22gd6dX4T0CTtPRHpW9QQGhx9Y1nYVBAxFsJE33PTUAUOxOEFn5JQPIhnqhpJEdAlos8/icIS0BJCYgklvNIQPHA5ZH9rEpA4LcRdvneSEDGxAuG2DhLQJNgyRQV0EhAR421eii7SEBdmwBZZdJOQKK4hgEC+UtAyRnsQNRsTkAbzJzy7LZOQMKgk3h1fE9AnSdrC3DuUECyY/PW+GhIQP6iyL6SRUdAwAslUwFpRkAj0vnjC6I8QNPSAhuDx0pAbZsRPaNXSkBdGV1oKg9AQPq0f2fYPEJA2BiJS3TwPkAPL+nfHjFAQMBNzGCPtUFA/u/W4iRDQEDZmrXk7T5GQNM79mJRQENAE6RODxXmR0Dno7rwK4dCQIaVrd0tUEFAXhOSSPupP0Atj5Jv34Q3QEUmDhD0fjZADm4UnRF6P0Ad4BxBcBw6QJY64dGBRD1AoncTjagFQUBeIY8DH8k/QEj/hQUCo0VAWM5dUNjORECrvtuB2NtBQNCWGZUgbENAg3+ju7GVRkBLAY6hIThIQEm7N2HHiElAVhp10Iw7SUDyvZ3FrbxLQIfNJEttl1BABENPa8flUUAih6UVaBlTQBp4Y7mEU1ZAVqRjQsyEVUDmvvu4VOlVQLJPd9NaTVZAy8Ex6Z3EVUAP4fKwPQ5TQLJe2mEUfFNAtcVpCw4IVUA6l6eRFKdSQKXlFmvO6FNA3kmzlfFnTUBE2nHERAhQQO1lw6ggxlBAUgJt8pW7WEC8Mv7tkYpYQG5MRzAp0lhAelkvF+y8VkDxixqu/1FWQMIhAxkL7FZASzp15iihVUDhjcVpirRTQMJsJWQ+M1RAYNWo4eU8UkAiYLy8021RQH1iiNgz1U1AW3qnT4HLTEB1rJSWGCNHQGsU0lVTvklAn1RiM6xPR0BPgMYkWjhDQPhj0M2i9kZAWAFzcnyPQ0Dxjbr4SGpAQA5V/qNZMENA+hb+VcWKRUBGrEG4O6dAQKesvqzkpDpAgoRHbA7dNkCMg3Ui1Es7QO0vwQUu9jVAHdIIM/b/M0Aqi3fFaeoyQCPZIYrCbTRAvCluXlGXMkAX4dUSrHIwQN6fulFesTJAYvcfDa6LL0DItRq7CMQ3QAuiEO7+CzNA71mz62DwLEB1uuvl6SorQASfU8oTGzFAex2QQ4bWK0CZT9LTMtMmQCIIuY7WFTJAbgHTeFHtJEAXKdV8XAcrQPiEZMS6MyNAnk3hkqaqIkBJLapOZTIYQMPzpUL7AChAz7MV2DwXL0AYwnMwELEuQDK7CALN/xRAGs5bStSPKkDdG2ta/AorQJI45CtHZhVA7X6hQMk+MECtmDR/sWYhQIt2NzztiyhAfVheiNzGyz8a2uo9D5ozQOSOzF0qFzpAKSCh8XqQQkBvaG4nuEhWQBZEfQPVHlhAI272kbBlVkA=",
          "dtype": "f8"
         },
         "xaxis": "x13",
         "yaxis": "y13"
        }
       ],
       "layout": {
        "annotations": [
         {
          "font": {
           "size": 16
          },
          "showarrow": false,
          "text": "dino",
          "x": 0.03136094674556213,
          "xanchor": "center",
          "xref": "paper",
          "y": 1,
          "yanchor": "bottom",
          "yref": "paper"
         },
         {
          "font": {
           "size": 16
          },
          "showarrow": false,
          "text": "away",
          "x": 0.10946745562130177,
          "xanchor": "center",
          "xref": "paper",
          "y": 1,
          "yanchor": "bottom",
          "yref": "paper"
         },
         {
          "font": {
           "size": 16
          },
          "showarrow": false,
          "text": "h_lines",
          "x": 0.1875739644970414,
          "xanchor": "center",
          "xref": "paper",
          "y": 1,
          "yanchor": "bottom",
          "yref": "paper"
         },
         {
          "font": {
           "size": 16
          },
          "showarrow": false,
          "text": "v_lines",
          "x": 0.26568047337278106,
          "xanchor": "center",
          "xref": "paper",
          "y": 1,
          "yanchor": "bottom",
          "yref": "paper"
         },
         {
          "font": {
           "size": 16
          },
          "showarrow": false,
          "text": "x_shape",
          "x": 0.34378698224852067,
          "xanchor": "center",
          "xref": "paper",
          "y": 1,
          "yanchor": "bottom",
          "yref": "paper"
         },
         {
          "font": {
           "size": 16
          },
          "showarrow": false,
          "text": "star",
          "x": 0.42189349112426033,
          "xanchor": "center",
          "xref": "paper",
          "y": 1,
          "yanchor": "bottom",
          "yref": "paper"
         },
         {
          "font": {
           "size": 16
          },
          "showarrow": false,
          "text": "high_lines",
          "x": 0.5,
          "xanchor": "center",
          "xref": "paper",
          "y": 1,
          "yanchor": "bottom",
          "yref": "paper"
         },
         {
          "font": {
           "size": 16
          },
          "showarrow": false,
          "text": "dots",
          "x": 0.5781065088757397,
          "xanchor": "center",
          "xref": "paper",
          "y": 1,
          "yanchor": "bottom",
          "yref": "paper"
         },
         {
          "font": {
           "size": 16
          },
          "showarrow": false,
          "text": "circle",
          "x": 0.6562130177514792,
          "xanchor": "center",
          "xref": "paper",
          "y": 1,
          "yanchor": "bottom",
          "yref": "paper"
         },
         {
          "font": {
           "size": 16
          },
          "showarrow": false,
          "text": "bullseye",
          "x": 0.7343195266272188,
          "xanchor": "center",
          "xref": "paper",
          "y": 1,
          "yanchor": "bottom",
          "yref": "paper"
         },
         {
          "font": {
           "size": 16
          },
          "showarrow": false,
          "text": "slant_up",
          "x": 0.8124260355029584,
          "xanchor": "center",
          "xref": "paper",
          "y": 1,
          "yanchor": "bottom",
          "yref": "paper"
         },
         {
          "font": {
           "size": 16
          },
          "showarrow": false,
          "text": "slant_down",
          "x": 0.8905325443786981,
          "xanchor": "center",
          "xref": "paper",
          "y": 1,
          "yanchor": "bottom",
          "yref": "paper"
         },
         {
          "font": {
           "size": 16
          },
          "showarrow": false,
          "text": "wide_lines",
          "x": 0.9686390532544378,
          "xanchor": "center",
          "xref": "paper",
          "y": 1,
          "yanchor": "bottom",
          "yref": "paper"
         }
        ],
        "showlegend": false,
        "template": {
         "data": {
          "bar": [
           {
            "error_x": {
             "color": "#2a3f5f"
            },
            "error_y": {
             "color": "#2a3f5f"
            },
            "marker": {
             "line": {
              "color": "#E5ECF6",
              "width": 0.5
             },
             "pattern": {
              "fillmode": "overlay",
              "size": 10,
              "solidity": 0.2
             }
            },
            "type": "bar"
           }
          ],
          "barpolar": [
           {
            "marker": {
             "line": {
              "color": "#E5ECF6",
              "width": 0.5
             },
             "pattern": {
              "fillmode": "overlay",
              "size": 10,
              "solidity": 0.2
             }
            },
            "type": "barpolar"
           }
          ],
          "carpet": [
           {
            "aaxis": {
             "endlinecolor": "#2a3f5f",
             "gridcolor": "white",
             "linecolor": "white",
             "minorgridcolor": "white",
             "startlinecolor": "#2a3f5f"
            },
            "baxis": {
             "endlinecolor": "#2a3f5f",
             "gridcolor": "white",
             "linecolor": "white",
             "minorgridcolor": "white",
             "startlinecolor": "#2a3f5f"
            },
            "type": "carpet"
           }
          ],
          "choropleth": [
           {
            "colorbar": {
             "outlinewidth": 0,
             "ticks": ""
            },
            "type": "choropleth"
           }
          ],
          "contour": [
           {
            "colorbar": {
             "outlinewidth": 0,
             "ticks": ""
            },
            "colorscale": [
             [
              0,
              "#0d0887"
             ],
             [
              0.1111111111111111,
              "#46039f"
             ],
             [
              0.2222222222222222,
              "#7201a8"
             ],
             [
              0.3333333333333333,
              "#9c179e"
             ],
             [
              0.4444444444444444,
              "#bd3786"
             ],
             [
              0.5555555555555556,
              "#d8576b"
             ],
             [
              0.6666666666666666,
              "#ed7953"
             ],
             [
              0.7777777777777778,
              "#fb9f3a"
             ],
             [
              0.8888888888888888,
              "#fdca26"
             ],
             [
              1,
              "#f0f921"
             ]
            ],
            "type": "contour"
           }
          ],
          "contourcarpet": [
           {
            "colorbar": {
             "outlinewidth": 0,
             "ticks": ""
            },
            "type": "contourcarpet"
           }
          ],
          "heatmap": [
           {
            "colorbar": {
             "outlinewidth": 0,
             "ticks": ""
            },
            "colorscale": [
             [
              0,
              "#0d0887"
             ],
             [
              0.1111111111111111,
              "#46039f"
             ],
             [
              0.2222222222222222,
              "#7201a8"
             ],
             [
              0.3333333333333333,
              "#9c179e"
             ],
             [
              0.4444444444444444,
              "#bd3786"
             ],
             [
              0.5555555555555556,
              "#d8576b"
             ],
             [
              0.6666666666666666,
              "#ed7953"
             ],
             [
              0.7777777777777778,
              "#fb9f3a"
             ],
             [
              0.8888888888888888,
              "#fdca26"
             ],
             [
              1,
              "#f0f921"
             ]
            ],
            "type": "heatmap"
           }
          ],
          "histogram": [
           {
            "marker": {
             "pattern": {
              "fillmode": "overlay",
              "size": 10,
              "solidity": 0.2
             }
            },
            "type": "histogram"
           }
          ],
          "histogram2d": [
           {
            "colorbar": {
             "outlinewidth": 0,
             "ticks": ""
            },
            "colorscale": [
             [
              0,
              "#0d0887"
             ],
             [
              0.1111111111111111,
              "#46039f"
             ],
             [
              0.2222222222222222,
              "#7201a8"
             ],
             [
              0.3333333333333333,
              "#9c179e"
             ],
             [
              0.4444444444444444,
              "#bd3786"
             ],
             [
              0.5555555555555556,
              "#d8576b"
             ],
             [
              0.6666666666666666,
              "#ed7953"
             ],
             [
              0.7777777777777778,
              "#fb9f3a"
             ],
             [
              0.8888888888888888,
              "#fdca26"
             ],
             [
              1,
              "#f0f921"
             ]
            ],
            "type": "histogram2d"
           }
          ],
          "histogram2dcontour": [
           {
            "colorbar": {
             "outlinewidth": 0,
             "ticks": ""
            },
            "colorscale": [
             [
              0,
              "#0d0887"
             ],
             [
              0.1111111111111111,
              "#46039f"
             ],
             [
              0.2222222222222222,
              "#7201a8"
             ],
             [
              0.3333333333333333,
              "#9c179e"
             ],
             [
              0.4444444444444444,
              "#bd3786"
             ],
             [
              0.5555555555555556,
              "#d8576b"
             ],
             [
              0.6666666666666666,
              "#ed7953"
             ],
             [
              0.7777777777777778,
              "#fb9f3a"
             ],
             [
              0.8888888888888888,
              "#fdca26"
             ],
             [
              1,
              "#f0f921"
             ]
            ],
            "type": "histogram2dcontour"
           }
          ],
          "mesh3d": [
           {
            "colorbar": {
             "outlinewidth": 0,
             "ticks": ""
            },
            "type": "mesh3d"
           }
          ],
          "parcoords": [
           {
            "line": {
             "colorbar": {
              "outlinewidth": 0,
              "ticks": ""
             }
            },
            "type": "parcoords"
           }
          ],
          "pie": [
           {
            "automargin": true,
            "type": "pie"
           }
          ],
          "scatter": [
           {
            "fillpattern": {
             "fillmode": "overlay",
             "size": 10,
             "solidity": 0.2
            },
            "type": "scatter"
           }
          ],
          "scatter3d": [
           {
            "line": {
             "colorbar": {
              "outlinewidth": 0,
              "ticks": ""
             }
            },
            "marker": {
             "colorbar": {
              "outlinewidth": 0,
              "ticks": ""
             }
            },
            "type": "scatter3d"
           }
          ],
          "scattercarpet": [
           {
            "marker": {
             "colorbar": {
              "outlinewidth": 0,
              "ticks": ""
             }
            },
            "type": "scattercarpet"
           }
          ],
          "scattergeo": [
           {
            "marker": {
             "colorbar": {
              "outlinewidth": 0,
              "ticks": ""
             }
            },
            "type": "scattergeo"
           }
          ],
          "scattergl": [
           {
            "marker": {
             "colorbar": {
              "outlinewidth": 0,
              "ticks": ""
             }
            },
            "type": "scattergl"
           }
          ],
          "scattermap": [
           {
            "marker": {
             "colorbar": {
              "outlinewidth": 0,
              "ticks": ""
             }
            },
            "type": "scattermap"
           }
          ],
          "scattermapbox": [
           {
            "marker": {
             "colorbar": {
              "outlinewidth": 0,
              "ticks": ""
             }
            },
            "type": "scattermapbox"
           }
          ],
          "scatterpolar": [
           {
            "marker": {
             "colorbar": {
              "outlinewidth": 0,
              "ticks": ""
             }
            },
            "type": "scatterpolar"
           }
          ],
          "scatterpolargl": [
           {
            "marker": {
             "colorbar": {
              "outlinewidth": 0,
              "ticks": ""
             }
            },
            "type": "scatterpolargl"
           }
          ],
          "scatterternary": [
           {
            "marker": {
             "colorbar": {
              "outlinewidth": 0,
              "ticks": ""
             }
            },
            "type": "scatterternary"
           }
          ],
          "surface": [
           {
            "colorbar": {
             "outlinewidth": 0,
             "ticks": ""
            },
            "colorscale": [
             [
              0,
              "#0d0887"
             ],
             [
              0.1111111111111111,
              "#46039f"
             ],
             [
              0.2222222222222222,
              "#7201a8"
             ],
             [
              0.3333333333333333,
              "#9c179e"
             ],
             [
              0.4444444444444444,
              "#bd3786"
             ],
             [
              0.5555555555555556,
              "#d8576b"
             ],
             [
              0.6666666666666666,
              "#ed7953"
             ],
             [
              0.7777777777777778,
              "#fb9f3a"
             ],
             [
              0.8888888888888888,
              "#fdca26"
             ],
             [
              1,
              "#f0f921"
             ]
            ],
            "type": "surface"
           }
          ],
          "table": [
           {
            "cells": {
             "fill": {
              "color": "#EBF0F8"
             },
             "line": {
              "color": "white"
             }
            },
            "header": {
             "fill": {
              "color": "#C8D4E3"
             },
             "line": {
              "color": "white"
             }
            },
            "type": "table"
           }
          ]
         },
         "layout": {
          "annotationdefaults": {
           "arrowcolor": "#2a3f5f",
           "arrowhead": 0,
           "arrowwidth": 1
          },
          "autotypenumbers": "strict",
          "coloraxis": {
           "colorbar": {
            "outlinewidth": 0,
            "ticks": ""
           }
          },
          "colorscale": {
           "diverging": [
            [
             0,
             "#8e0152"
            ],
            [
             0.1,
             "#c51b7d"
            ],
            [
             0.2,
             "#de77ae"
            ],
            [
             0.3,
             "#f1b6da"
            ],
            [
             0.4,
             "#fde0ef"
            ],
            [
             0.5,
             "#f7f7f7"
            ],
            [
             0.6,
             "#e6f5d0"
            ],
            [
             0.7,
             "#b8e186"
            ],
            [
             0.8,
             "#7fbc41"
            ],
            [
             0.9,
             "#4d9221"
            ],
            [
             1,
             "#276419"
            ]
           ],
           "sequential": [
            [
             0,
             "#0d0887"
            ],
            [
             0.1111111111111111,
             "#46039f"
            ],
            [
             0.2222222222222222,
             "#7201a8"
            ],
            [
             0.3333333333333333,
             "#9c179e"
            ],
            [
             0.4444444444444444,
             "#bd3786"
            ],
            [
             0.5555555555555556,
             "#d8576b"
            ],
            [
             0.6666666666666666,
             "#ed7953"
            ],
            [
             0.7777777777777778,
             "#fb9f3a"
            ],
            [
             0.8888888888888888,
             "#fdca26"
            ],
            [
             1,
             "#f0f921"
            ]
           ],
           "sequentialminus": [
            [
             0,
             "#0d0887"
            ],
            [
             0.1111111111111111,
             "#46039f"
            ],
            [
             0.2222222222222222,
             "#7201a8"
            ],
            [
             0.3333333333333333,
             "#9c179e"
            ],
            [
             0.4444444444444444,
             "#bd3786"
            ],
            [
             0.5555555555555556,
             "#d8576b"
            ],
            [
             0.6666666666666666,
             "#ed7953"
            ],
            [
             0.7777777777777778,
             "#fb9f3a"
            ],
            [
             0.8888888888888888,
             "#fdca26"
            ],
            [
             1,
             "#f0f921"
            ]
           ]
          },
          "colorway": [
           "#636efa",
           "#EF553B",
           "#00cc96",
           "#ab63fa",
           "#FFA15A",
           "#19d3f3",
           "#FF6692",
           "#B6E880",
           "#FF97FF",
           "#FECB52"
          ],
          "font": {
           "color": "#2a3f5f"
          },
          "geo": {
           "bgcolor": "white",
           "lakecolor": "white",
           "landcolor": "#E5ECF6",
           "showlakes": true,
           "showland": true,
           "subunitcolor": "white"
          },
          "hoverlabel": {
           "align": "left"
          },
          "hovermode": "closest",
          "mapbox": {
           "style": "light"
          },
          "paper_bgcolor": "white",
          "plot_bgcolor": "#E5ECF6",
          "polar": {
           "angularaxis": {
            "gridcolor": "white",
            "linecolor": "white",
            "ticks": ""
           },
           "bgcolor": "#E5ECF6",
           "radialaxis": {
            "gridcolor": "white",
            "linecolor": "white",
            "ticks": ""
           }
          },
          "scene": {
           "xaxis": {
            "backgroundcolor": "#E5ECF6",
            "gridcolor": "white",
            "gridwidth": 2,
            "linecolor": "white",
            "showbackground": true,
            "ticks": "",
            "zerolinecolor": "white"
           },
           "yaxis": {
            "backgroundcolor": "#E5ECF6",
            "gridcolor": "white",
            "gridwidth": 2,
            "linecolor": "white",
            "showbackground": true,
            "ticks": "",
            "zerolinecolor": "white"
           },
           "zaxis": {
            "backgroundcolor": "#E5ECF6",
            "gridcolor": "white",
            "gridwidth": 2,
            "linecolor": "white",
            "showbackground": true,
            "ticks": "",
            "zerolinecolor": "white"
           }
          },
          "shapedefaults": {
           "line": {
            "color": "#2a3f5f"
           }
          },
          "ternary": {
           "aaxis": {
            "gridcolor": "white",
            "linecolor": "white",
            "ticks": ""
           },
           "baxis": {
            "gridcolor": "white",
            "linecolor": "white",
            "ticks": ""
           },
           "bgcolor": "#E5ECF6",
           "caxis": {
            "gridcolor": "white",
            "linecolor": "white",
            "ticks": ""
           }
          },
          "title": {
           "x": 0.05
          },
          "xaxis": {
           "automargin": true,
           "gridcolor": "white",
           "linecolor": "white",
           "ticks": "",
           "title": {
            "standoff": 15
           },
           "zerolinecolor": "white",
           "zerolinewidth": 2
          },
          "yaxis": {
           "automargin": true,
           "gridcolor": "white",
           "linecolor": "white",
           "ticks": "",
           "title": {
            "standoff": 15
           },
           "zerolinecolor": "white",
           "zerolinewidth": 2
          }
         }
        },
        "xaxis": {
         "anchor": "y",
         "domain": [
          0,
          0.06272189349112425
         ]
        },
        "xaxis10": {
         "anchor": "y10",
         "domain": [
          0.7029585798816567,
          0.7656804733727809
         ]
        },
        "xaxis11": {
         "anchor": "y11",
         "domain": [
          0.7810650887573963,
          0.8437869822485206
         ]
        },
        "xaxis12": {
         "anchor": "y12",
         "domain": [
          0.859171597633136,
          0.9218934911242602
         ]
        },
        "xaxis13": {
         "anchor": "y13",
         "domain": [
          0.9372781065088757,
          0.9999999999999999
         ]
        },
        "xaxis2": {
         "anchor": "y2",
         "domain": [
          0.07810650887573964,
          0.1408284023668639
         ]
        },
        "xaxis3": {
         "anchor": "y3",
         "domain": [
          0.15621301775147928,
          0.21893491124260353
         ]
        },
        "xaxis4": {
         "anchor": "y4",
         "domain": [
          0.23431952662721892,
          0.29704142011834317
         ]
        },
        "xaxis5": {
         "anchor": "y5",
         "domain": [
          0.31242603550295855,
          0.3751479289940828
         ]
        },
        "xaxis6": {
         "anchor": "y6",
         "domain": [
          0.39053254437869817,
          0.45325443786982245
         ]
        },
        "xaxis7": {
         "anchor": "y7",
         "domain": [
          0.46863905325443783,
          0.5313609467455621
         ]
        },
        "xaxis8": {
         "anchor": "y8",
         "domain": [
          0.5467455621301776,
          0.6094674556213018
         ]
        },
        "xaxis9": {
         "anchor": "y9",
         "domain": [
          0.6248520710059171,
          0.6875739644970413
         ]
        },
        "yaxis": {
         "anchor": "x",
         "domain": [
          0,
          1
         ]
        },
        "yaxis10": {
         "anchor": "x10",
         "domain": [
          0,
          1
         ]
        },
        "yaxis11": {
         "anchor": "x11",
         "domain": [
          0,
          1
         ]
        },
        "yaxis12": {
         "anchor": "x12",
         "domain": [
          0,
          1
         ]
        },
        "yaxis13": {
         "anchor": "x13",
         "domain": [
          0,
          1
         ]
        },
        "yaxis2": {
         "anchor": "x2",
         "domain": [
          0,
          1
         ]
        },
        "yaxis3": {
         "anchor": "x3",
         "domain": [
          0,
          1
         ]
        },
        "yaxis4": {
         "anchor": "x4",
         "domain": [
          0,
          1
         ]
        },
        "yaxis5": {
         "anchor": "x5",
         "domain": [
          0,
          1
         ]
        },
        "yaxis6": {
         "anchor": "x6",
         "domain": [
          0,
          1
         ]
        },
        "yaxis7": {
         "anchor": "x7",
         "domain": [
          0,
          1
         ]
        },
        "yaxis8": {
         "anchor": "x8",
         "domain": [
          0,
          1
         ]
        },
        "yaxis9": {
         "anchor": "x9",
         "domain": [
          0,
          1
         ]
        }
       }
      }
     },
     "metadata": {},
     "output_type": "display_data"
    }
   ],
   "source": [
    "# Найти все категории\n",
    "unique_datasets = df['dataset'].unique()\n",
    "\n",
    "# Создать сетку для графиков\n",
    "fig = make_subplots(rows=1, cols=len(unique_datasets), subplot_titles=unique_datasets)\n",
    "\n",
    "# Добавить гистограму для каждой категории\n",
    "for i, dataset in enumerate(unique_datasets):\n",
    "    df_group = df[df['dataset'] == dataset]\n",
    "    fig.add_trace(go.Histogram(x=df_group['y'], name=dataset, marker_color = corp_col), row=1, col=i+1)\n",
    "\n",
    "fig.update_layout(showlegend=False)\n",
    "\n",
    "fig.show()"
   ]
  },
  {
   "cell_type": "markdown",
   "id": "efbbcd53",
   "metadata": {},
   "source": [
    "**Выводы**: форма распределения переменной Y сильно варьируется от категории к категории. В одних слуаях распределения близки к дискретными (h_lines, dots), в большинстве случаев имеют сложную форму."
   ]
  },
  {
   "cell_type": "markdown",
   "id": "922d2084",
   "metadata": {},
   "source": [
    "## Точечная диаграмма "
   ]
  },
  {
   "cell_type": "code",
   "execution_count": 7,
   "id": "4234e93f",
   "metadata": {},
   "outputs": [
    {
     "data": {
      "application/vnd.plotly.v1+json": {
       "config": {
        "plotlyServerURL": "https://plot.ly"
       },
       "data": [
        {
         "hovertemplate": "x=%{x}<br>y=%{y}<extra></extra>",
         "legendgroup": "",
         "marker": {
          "color": "#40ba21",
          "symbol": "circle"
         },
         "mode": "markers",
         "name": "",
         "showlegend": false,
         "type": "scattergl",
         "x": {
          "bdata": "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",
          "dtype": "f8"
         },
         "xaxis": "x",
         "y": {
          "bdata": "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",
          "dtype": "f8"
         },
         "yaxis": "y"
        }
       ],
       "layout": {
        "legend": {
         "tracegroupgap": 0
        },
        "margin": {
         "t": 60
        },
        "plot_bgcolor": "white",
        "template": {
         "data": {
          "bar": [
           {
            "error_x": {
             "color": "#2a3f5f"
            },
            "error_y": {
             "color": "#2a3f5f"
            },
            "marker": {
             "line": {
              "color": "#E5ECF6",
              "width": 0.5
             },
             "pattern": {
              "fillmode": "overlay",
              "size": 10,
              "solidity": 0.2
             }
            },
            "type": "bar"
           }
          ],
          "barpolar": [
           {
            "marker": {
             "line": {
              "color": "#E5ECF6",
              "width": 0.5
             },
             "pattern": {
              "fillmode": "overlay",
              "size": 10,
              "solidity": 0.2
             }
            },
            "type": "barpolar"
           }
          ],
          "carpet": [
           {
            "aaxis": {
             "endlinecolor": "#2a3f5f",
             "gridcolor": "white",
             "linecolor": "white",
             "minorgridcolor": "white",
             "startlinecolor": "#2a3f5f"
            },
            "baxis": {
             "endlinecolor": "#2a3f5f",
             "gridcolor": "white",
             "linecolor": "white",
             "minorgridcolor": "white",
             "startlinecolor": "#2a3f5f"
            },
            "type": "carpet"
           }
          ],
          "choropleth": [
           {
            "colorbar": {
             "outlinewidth": 0,
             "ticks": ""
            },
            "type": "choropleth"
           }
          ],
          "contour": [
           {
            "colorbar": {
             "outlinewidth": 0,
             "ticks": ""
            },
            "colorscale": [
             [
              0,
              "#0d0887"
             ],
             [
              0.1111111111111111,
              "#46039f"
             ],
             [
              0.2222222222222222,
              "#7201a8"
             ],
             [
              0.3333333333333333,
              "#9c179e"
             ],
             [
              0.4444444444444444,
              "#bd3786"
             ],
             [
              0.5555555555555556,
              "#d8576b"
             ],
             [
              0.6666666666666666,
              "#ed7953"
             ],
             [
              0.7777777777777778,
              "#fb9f3a"
             ],
             [
              0.8888888888888888,
              "#fdca26"
             ],
             [
              1,
              "#f0f921"
             ]
            ],
            "type": "contour"
           }
          ],
          "contourcarpet": [
           {
            "colorbar": {
             "outlinewidth": 0,
             "ticks": ""
            },
            "type": "contourcarpet"
           }
          ],
          "heatmap": [
           {
            "colorbar": {
             "outlinewidth": 0,
             "ticks": ""
            },
            "colorscale": [
             [
              0,
              "#0d0887"
             ],
             [
              0.1111111111111111,
              "#46039f"
             ],
             [
              0.2222222222222222,
              "#7201a8"
             ],
             [
              0.3333333333333333,
              "#9c179e"
             ],
             [
              0.4444444444444444,
              "#bd3786"
             ],
             [
              0.5555555555555556,
              "#d8576b"
             ],
             [
              0.6666666666666666,
              "#ed7953"
             ],
             [
              0.7777777777777778,
              "#fb9f3a"
             ],
             [
              0.8888888888888888,
              "#fdca26"
             ],
             [
              1,
              "#f0f921"
             ]
            ],
            "type": "heatmap"
           }
          ],
          "histogram": [
           {
            "marker": {
             "pattern": {
              "fillmode": "overlay",
              "size": 10,
              "solidity": 0.2
             }
            },
            "type": "histogram"
           }
          ],
          "histogram2d": [
           {
            "colorbar": {
             "outlinewidth": 0,
             "ticks": ""
            },
            "colorscale": [
             [
              0,
              "#0d0887"
             ],
             [
              0.1111111111111111,
              "#46039f"
             ],
             [
              0.2222222222222222,
              "#7201a8"
             ],
             [
              0.3333333333333333,
              "#9c179e"
             ],
             [
              0.4444444444444444,
              "#bd3786"
             ],
             [
              0.5555555555555556,
              "#d8576b"
             ],
             [
              0.6666666666666666,
              "#ed7953"
             ],
             [
              0.7777777777777778,
              "#fb9f3a"
             ],
             [
              0.8888888888888888,
              "#fdca26"
             ],
             [
              1,
              "#f0f921"
             ]
            ],
            "type": "histogram2d"
           }
          ],
          "histogram2dcontour": [
           {
            "colorbar": {
             "outlinewidth": 0,
             "ticks": ""
            },
            "colorscale": [
             [
              0,
              "#0d0887"
             ],
             [
              0.1111111111111111,
              "#46039f"
             ],
             [
              0.2222222222222222,
              "#7201a8"
             ],
             [
              0.3333333333333333,
              "#9c179e"
             ],
             [
              0.4444444444444444,
              "#bd3786"
             ],
             [
              0.5555555555555556,
              "#d8576b"
             ],
             [
              0.6666666666666666,
              "#ed7953"
             ],
             [
              0.7777777777777778,
              "#fb9f3a"
             ],
             [
              0.8888888888888888,
              "#fdca26"
             ],
             [
              1,
              "#f0f921"
             ]
            ],
            "type": "histogram2dcontour"
           }
          ],
          "mesh3d": [
           {
            "colorbar": {
             "outlinewidth": 0,
             "ticks": ""
            },
            "type": "mesh3d"
           }
          ],
          "parcoords": [
           {
            "line": {
             "colorbar": {
              "outlinewidth": 0,
              "ticks": ""
             }
            },
            "type": "parcoords"
           }
          ],
          "pie": [
           {
            "automargin": true,
            "type": "pie"
           }
          ],
          "scatter": [
           {
            "fillpattern": {
             "fillmode": "overlay",
             "size": 10,
             "solidity": 0.2
            },
            "type": "scatter"
           }
          ],
          "scatter3d": [
           {
            "line": {
             "colorbar": {
              "outlinewidth": 0,
              "ticks": ""
             }
            },
            "marker": {
             "colorbar": {
              "outlinewidth": 0,
              "ticks": ""
             }
            },
            "type": "scatter3d"
           }
          ],
          "scattercarpet": [
           {
            "marker": {
             "colorbar": {
              "outlinewidth": 0,
              "ticks": ""
             }
            },
            "type": "scattercarpet"
           }
          ],
          "scattergeo": [
           {
            "marker": {
             "colorbar": {
              "outlinewidth": 0,
              "ticks": ""
             }
            },
            "type": "scattergeo"
           }
          ],
          "scattergl": [
           {
            "marker": {
             "colorbar": {
              "outlinewidth": 0,
              "ticks": ""
             }
            },
            "type": "scattergl"
           }
          ],
          "scattermap": [
           {
            "marker": {
             "colorbar": {
              "outlinewidth": 0,
              "ticks": ""
             }
            },
            "type": "scattermap"
           }
          ],
          "scattermapbox": [
           {
            "marker": {
             "colorbar": {
              "outlinewidth": 0,
              "ticks": ""
             }
            },
            "type": "scattermapbox"
           }
          ],
          "scatterpolar": [
           {
            "marker": {
             "colorbar": {
              "outlinewidth": 0,
              "ticks": ""
             }
            },
            "type": "scatterpolar"
           }
          ],
          "scatterpolargl": [
           {
            "marker": {
             "colorbar": {
              "outlinewidth": 0,
              "ticks": ""
             }
            },
            "type": "scatterpolargl"
           }
          ],
          "scatterternary": [
           {
            "marker": {
             "colorbar": {
              "outlinewidth": 0,
              "ticks": ""
             }
            },
            "type": "scatterternary"
           }
          ],
          "surface": [
           {
            "colorbar": {
             "outlinewidth": 0,
             "ticks": ""
            },
            "colorscale": [
             [
              0,
              "#0d0887"
             ],
             [
              0.1111111111111111,
              "#46039f"
             ],
             [
              0.2222222222222222,
              "#7201a8"
             ],
             [
              0.3333333333333333,
              "#9c179e"
             ],
             [
              0.4444444444444444,
              "#bd3786"
             ],
             [
              0.5555555555555556,
              "#d8576b"
             ],
             [
              0.6666666666666666,
              "#ed7953"
             ],
             [
              0.7777777777777778,
              "#fb9f3a"
             ],
             [
              0.8888888888888888,
              "#fdca26"
             ],
             [
              1,
              "#f0f921"
             ]
            ],
            "type": "surface"
           }
          ],
          "table": [
           {
            "cells": {
             "fill": {
              "color": "#EBF0F8"
             },
             "line": {
              "color": "white"
             }
            },
            "header": {
             "fill": {
              "color": "#C8D4E3"
             },
             "line": {
              "color": "white"
             }
            },
            "type": "table"
           }
          ]
         },
         "layout": {
          "annotationdefaults": {
           "arrowcolor": "#2a3f5f",
           "arrowhead": 0,
           "arrowwidth": 1
          },
          "autotypenumbers": "strict",
          "coloraxis": {
           "colorbar": {
            "outlinewidth": 0,
            "ticks": ""
           }
          },
          "colorscale": {
           "diverging": [
            [
             0,
             "#8e0152"
            ],
            [
             0.1,
             "#c51b7d"
            ],
            [
             0.2,
             "#de77ae"
            ],
            [
             0.3,
             "#f1b6da"
            ],
            [
             0.4,
             "#fde0ef"
            ],
            [
             0.5,
             "#f7f7f7"
            ],
            [
             0.6,
             "#e6f5d0"
            ],
            [
             0.7,
             "#b8e186"
            ],
            [
             0.8,
             "#7fbc41"
            ],
            [
             0.9,
             "#4d9221"
            ],
            [
             1,
             "#276419"
            ]
           ],
           "sequential": [
            [
             0,
             "#0d0887"
            ],
            [
             0.1111111111111111,
             "#46039f"
            ],
            [
             0.2222222222222222,
             "#7201a8"
            ],
            [
             0.3333333333333333,
             "#9c179e"
            ],
            [
             0.4444444444444444,
             "#bd3786"
            ],
            [
             0.5555555555555556,
             "#d8576b"
            ],
            [
             0.6666666666666666,
             "#ed7953"
            ],
            [
             0.7777777777777778,
             "#fb9f3a"
            ],
            [
             0.8888888888888888,
             "#fdca26"
            ],
            [
             1,
             "#f0f921"
            ]
           ],
           "sequentialminus": [
            [
             0,
             "#0d0887"
            ],
            [
             0.1111111111111111,
             "#46039f"
            ],
            [
             0.2222222222222222,
             "#7201a8"
            ],
            [
             0.3333333333333333,
             "#9c179e"
            ],
            [
             0.4444444444444444,
             "#bd3786"
            ],
            [
             0.5555555555555556,
             "#d8576b"
            ],
            [
             0.6666666666666666,
             "#ed7953"
            ],
            [
             0.7777777777777778,
             "#fb9f3a"
            ],
            [
             0.8888888888888888,
             "#fdca26"
            ],
            [
             1,
             "#f0f921"
            ]
           ]
          },
          "colorway": [
           "#636efa",
           "#EF553B",
           "#00cc96",
           "#ab63fa",
           "#FFA15A",
           "#19d3f3",
           "#FF6692",
           "#B6E880",
           "#FF97FF",
           "#FECB52"
          ],
          "font": {
           "color": "#2a3f5f"
          },
          "geo": {
           "bgcolor": "white",
           "lakecolor": "white",
           "landcolor": "#E5ECF6",
           "showlakes": true,
           "showland": true,
           "subunitcolor": "white"
          },
          "hoverlabel": {
           "align": "left"
          },
          "hovermode": "closest",
          "mapbox": {
           "style": "light"
          },
          "paper_bgcolor": "white",
          "plot_bgcolor": "#E5ECF6",
          "polar": {
           "angularaxis": {
            "gridcolor": "white",
            "linecolor": "white",
            "ticks": ""
           },
           "bgcolor": "#E5ECF6",
           "radialaxis": {
            "gridcolor": "white",
            "linecolor": "white",
            "ticks": ""
           }
          },
          "scene": {
           "xaxis": {
            "backgroundcolor": "#E5ECF6",
            "gridcolor": "white",
            "gridwidth": 2,
            "linecolor": "white",
            "showbackground": true,
            "ticks": "",
            "zerolinecolor": "white"
           },
           "yaxis": {
            "backgroundcolor": "#E5ECF6",
            "gridcolor": "white",
            "gridwidth": 2,
            "linecolor": "white",
            "showbackground": true,
            "ticks": "",
            "zerolinecolor": "white"
           },
           "zaxis": {
            "backgroundcolor": "#E5ECF6",
            "gridcolor": "white",
            "gridwidth": 2,
            "linecolor": "white",
            "showbackground": true,
            "ticks": "",
            "zerolinecolor": "white"
           }
          },
          "shapedefaults": {
           "line": {
            "color": "#2a3f5f"
           }
          },
          "ternary": {
           "aaxis": {
            "gridcolor": "white",
            "linecolor": "white",
            "ticks": ""
           },
           "baxis": {
            "gridcolor": "white",
            "linecolor": "white",
            "ticks": ""
           },
           "bgcolor": "#E5ECF6",
           "caxis": {
            "gridcolor": "white",
            "linecolor": "white",
            "ticks": ""
           }
          },
          "title": {
           "x": 0.05
          },
          "xaxis": {
           "automargin": true,
           "gridcolor": "white",
           "linecolor": "white",
           "ticks": "",
           "title": {
            "standoff": 15
           },
           "zerolinecolor": "white",
           "zerolinewidth": 2
          },
          "yaxis": {
           "automargin": true,
           "gridcolor": "white",
           "linecolor": "white",
           "ticks": "",
           "title": {
            "standoff": 15
           },
           "zerolinecolor": "white",
           "zerolinewidth": 2
          }
         }
        },
        "xaxis": {
         "anchor": "y",
         "domain": [
          0,
          1
         ],
         "title": {
          "text": "Вещественная переменная X"
         }
        },
        "yaxis": {
         "anchor": "x",
         "domain": [
          0,
          1
         ],
         "title": {
          "text": "Вещественная переменная Y"
         }
        }
       }
      }
     },
     "metadata": {},
     "output_type": "display_data"
    }
   ],
   "source": [
    "# График разброса\n",
    "fig = px.scatter(df, x='x', y='y', color_discrete_sequence=[corp_col], size_max=10)\n",
    "\n",
    "# Фон и подписи\n",
    "fig.update_layout(\n",
    "    plot_bgcolor='white',\n",
    "    xaxis_title='Вещественная переменная X',\n",
    "    yaxis_title='Вещественная переменная Y'\n",
    ")\n",
    "\n",
    "fig.show()"
   ]
  },
  {
   "cell_type": "markdown",
   "id": "bf635197",
   "metadata": {},
   "source": [
    "**Выводы**: В целом значения по X и Y выглядят некоррелированными, неоднородными (наблюдается кластеризация)."
   ]
  },
  {
   "cell_type": "markdown",
   "id": "08bdcd9a",
   "metadata": {},
   "source": [
    "## Тепловая карта"
   ]
  },
  {
   "cell_type": "code",
   "execution_count": 8,
   "id": "9e1eae61",
   "metadata": {},
   "outputs": [
    {
     "data": {
      "application/vnd.plotly.v1+json": {
       "config": {
        "plotlyServerURL": "https://plot.ly"
       },
       "data": [
        {
         "coloraxis": "coloraxis",
         "hovertemplate": "x=%{x}<br>y=%{y}<br>count=%{z}<extra></extra>",
         "name": "",
         "nbinsx": 10,
         "nbinsy": 10,
         "type": "histogram2d",
         "x": {
          "bdata": "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",
          "dtype": "f8"
         },
         "xaxis": "x",
         "xbingroup": "x",
         "y": {
          "bdata": "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",
          "dtype": "f8"
         },
         "yaxis": "y",
         "ybingroup": "y"
        }
       ],
       "layout": {
        "coloraxis": {
         "colorbar": {
          "title": {
           "text": "Плотность"
          }
         },
         "colorscale": [
          [
           0,
           "#f0f8f0"
          ],
          [
           1,
           "#40ba21"
          ]
         ]
        },
        "legend": {
         "tracegroupgap": 0
        },
        "template": {
         "data": {
          "bar": [
           {
            "error_x": {
             "color": "#2a3f5f"
            },
            "error_y": {
             "color": "#2a3f5f"
            },
            "marker": {
             "line": {
              "color": "#E5ECF6",
              "width": 0.5
             },
             "pattern": {
              "fillmode": "overlay",
              "size": 10,
              "solidity": 0.2
             }
            },
            "type": "bar"
           }
          ],
          "barpolar": [
           {
            "marker": {
             "line": {
              "color": "#E5ECF6",
              "width": 0.5
             },
             "pattern": {
              "fillmode": "overlay",
              "size": 10,
              "solidity": 0.2
             }
            },
            "type": "barpolar"
           }
          ],
          "carpet": [
           {
            "aaxis": {
             "endlinecolor": "#2a3f5f",
             "gridcolor": "white",
             "linecolor": "white",
             "minorgridcolor": "white",
             "startlinecolor": "#2a3f5f"
            },
            "baxis": {
             "endlinecolor": "#2a3f5f",
             "gridcolor": "white",
             "linecolor": "white",
             "minorgridcolor": "white",
             "startlinecolor": "#2a3f5f"
            },
            "type": "carpet"
           }
          ],
          "choropleth": [
           {
            "colorbar": {
             "outlinewidth": 0,
             "ticks": ""
            },
            "type": "choropleth"
           }
          ],
          "contour": [
           {
            "colorbar": {
             "outlinewidth": 0,
             "ticks": ""
            },
            "colorscale": [
             [
              0,
              "#0d0887"
             ],
             [
              0.1111111111111111,
              "#46039f"
             ],
             [
              0.2222222222222222,
              "#7201a8"
             ],
             [
              0.3333333333333333,
              "#9c179e"
             ],
             [
              0.4444444444444444,
              "#bd3786"
             ],
             [
              0.5555555555555556,
              "#d8576b"
             ],
             [
              0.6666666666666666,
              "#ed7953"
             ],
             [
              0.7777777777777778,
              "#fb9f3a"
             ],
             [
              0.8888888888888888,
              "#fdca26"
             ],
             [
              1,
              "#f0f921"
             ]
            ],
            "type": "contour"
           }
          ],
          "contourcarpet": [
           {
            "colorbar": {
             "outlinewidth": 0,
             "ticks": ""
            },
            "type": "contourcarpet"
           }
          ],
          "heatmap": [
           {
            "colorbar": {
             "outlinewidth": 0,
             "ticks": ""
            },
            "colorscale": [
             [
              0,
              "#0d0887"
             ],
             [
              0.1111111111111111,
              "#46039f"
             ],
             [
              0.2222222222222222,
              "#7201a8"
             ],
             [
              0.3333333333333333,
              "#9c179e"
             ],
             [
              0.4444444444444444,
              "#bd3786"
             ],
             [
              0.5555555555555556,
              "#d8576b"
             ],
             [
              0.6666666666666666,
              "#ed7953"
             ],
             [
              0.7777777777777778,
              "#fb9f3a"
             ],
             [
              0.8888888888888888,
              "#fdca26"
             ],
             [
              1,
              "#f0f921"
             ]
            ],
            "type": "heatmap"
           }
          ],
          "histogram": [
           {
            "marker": {
             "pattern": {
              "fillmode": "overlay",
              "size": 10,
              "solidity": 0.2
             }
            },
            "type": "histogram"
           }
          ],
          "histogram2d": [
           {
            "colorbar": {
             "outlinewidth": 0,
             "ticks": ""
            },
            "colorscale": [
             [
              0,
              "#0d0887"
             ],
             [
              0.1111111111111111,
              "#46039f"
             ],
             [
              0.2222222222222222,
              "#7201a8"
             ],
             [
              0.3333333333333333,
              "#9c179e"
             ],
             [
              0.4444444444444444,
              "#bd3786"
             ],
             [
              0.5555555555555556,
              "#d8576b"
             ],
             [
              0.6666666666666666,
              "#ed7953"
             ],
             [
              0.7777777777777778,
              "#fb9f3a"
             ],
             [
              0.8888888888888888,
              "#fdca26"
             ],
             [
              1,
              "#f0f921"
             ]
            ],
            "type": "histogram2d"
           }
          ],
          "histogram2dcontour": [
           {
            "colorbar": {
             "outlinewidth": 0,
             "ticks": ""
            },
            "colorscale": [
             [
              0,
              "#0d0887"
             ],
             [
              0.1111111111111111,
              "#46039f"
             ],
             [
              0.2222222222222222,
              "#7201a8"
             ],
             [
              0.3333333333333333,
              "#9c179e"
             ],
             [
              0.4444444444444444,
              "#bd3786"
             ],
             [
              0.5555555555555556,
              "#d8576b"
             ],
             [
              0.6666666666666666,
              "#ed7953"
             ],
             [
              0.7777777777777778,
              "#fb9f3a"
             ],
             [
              0.8888888888888888,
              "#fdca26"
             ],
             [
              1,
              "#f0f921"
             ]
            ],
            "type": "histogram2dcontour"
           }
          ],
          "mesh3d": [
           {
            "colorbar": {
             "outlinewidth": 0,
             "ticks": ""
            },
            "type": "mesh3d"
           }
          ],
          "parcoords": [
           {
            "line": {
             "colorbar": {
              "outlinewidth": 0,
              "ticks": ""
             }
            },
            "type": "parcoords"
           }
          ],
          "pie": [
           {
            "automargin": true,
            "type": "pie"
           }
          ],
          "scatter": [
           {
            "fillpattern": {
             "fillmode": "overlay",
             "size": 10,
             "solidity": 0.2
            },
            "type": "scatter"
           }
          ],
          "scatter3d": [
           {
            "line": {
             "colorbar": {
              "outlinewidth": 0,
              "ticks": ""
             }
            },
            "marker": {
             "colorbar": {
              "outlinewidth": 0,
              "ticks": ""
             }
            },
            "type": "scatter3d"
           }
          ],
          "scattercarpet": [
           {
            "marker": {
             "colorbar": {
              "outlinewidth": 0,
              "ticks": ""
             }
            },
            "type": "scattercarpet"
           }
          ],
          "scattergeo": [
           {
            "marker": {
             "colorbar": {
              "outlinewidth": 0,
              "ticks": ""
             }
            },
            "type": "scattergeo"
           }
          ],
          "scattergl": [
           {
            "marker": {
             "colorbar": {
              "outlinewidth": 0,
              "ticks": ""
             }
            },
            "type": "scattergl"
           }
          ],
          "scattermap": [
           {
            "marker": {
             "colorbar": {
              "outlinewidth": 0,
              "ticks": ""
             }
            },
            "type": "scattermap"
           }
          ],
          "scattermapbox": [
           {
            "marker": {
             "colorbar": {
              "outlinewidth": 0,
              "ticks": ""
             }
            },
            "type": "scattermapbox"
           }
          ],
          "scatterpolar": [
           {
            "marker": {
             "colorbar": {
              "outlinewidth": 0,
              "ticks": ""
             }
            },
            "type": "scatterpolar"
           }
          ],
          "scatterpolargl": [
           {
            "marker": {
             "colorbar": {
              "outlinewidth": 0,
              "ticks": ""
             }
            },
            "type": "scatterpolargl"
           }
          ],
          "scatterternary": [
           {
            "marker": {
             "colorbar": {
              "outlinewidth": 0,
              "ticks": ""
             }
            },
            "type": "scatterternary"
           }
          ],
          "surface": [
           {
            "colorbar": {
             "outlinewidth": 0,
             "ticks": ""
            },
            "colorscale": [
             [
              0,
              "#0d0887"
             ],
             [
              0.1111111111111111,
              "#46039f"
             ],
             [
              0.2222222222222222,
              "#7201a8"
             ],
             [
              0.3333333333333333,
              "#9c179e"
             ],
             [
              0.4444444444444444,
              "#bd3786"
             ],
             [
              0.5555555555555556,
              "#d8576b"
             ],
             [
              0.6666666666666666,
              "#ed7953"
             ],
             [
              0.7777777777777778,
              "#fb9f3a"
             ],
             [
              0.8888888888888888,
              "#fdca26"
             ],
             [
              1,
              "#f0f921"
             ]
            ],
            "type": "surface"
           }
          ],
          "table": [
           {
            "cells": {
             "fill": {
              "color": "#EBF0F8"
             },
             "line": {
              "color": "white"
             }
            },
            "header": {
             "fill": {
              "color": "#C8D4E3"
             },
             "line": {
              "color": "white"
             }
            },
            "type": "table"
           }
          ]
         },
         "layout": {
          "annotationdefaults": {
           "arrowcolor": "#2a3f5f",
           "arrowhead": 0,
           "arrowwidth": 1
          },
          "autotypenumbers": "strict",
          "coloraxis": {
           "colorbar": {
            "outlinewidth": 0,
            "ticks": ""
           }
          },
          "colorscale": {
           "diverging": [
            [
             0,
             "#8e0152"
            ],
            [
             0.1,
             "#c51b7d"
            ],
            [
             0.2,
             "#de77ae"
            ],
            [
             0.3,
             "#f1b6da"
            ],
            [
             0.4,
             "#fde0ef"
            ],
            [
             0.5,
             "#f7f7f7"
            ],
            [
             0.6,
             "#e6f5d0"
            ],
            [
             0.7,
             "#b8e186"
            ],
            [
             0.8,
             "#7fbc41"
            ],
            [
             0.9,
             "#4d9221"
            ],
            [
             1,
             "#276419"
            ]
           ],
           "sequential": [
            [
             0,
             "#0d0887"
            ],
            [
             0.1111111111111111,
             "#46039f"
            ],
            [
             0.2222222222222222,
             "#7201a8"
            ],
            [
             0.3333333333333333,
             "#9c179e"
            ],
            [
             0.4444444444444444,
             "#bd3786"
            ],
            [
             0.5555555555555556,
             "#d8576b"
            ],
            [
             0.6666666666666666,
             "#ed7953"
            ],
            [
             0.7777777777777778,
             "#fb9f3a"
            ],
            [
             0.8888888888888888,
             "#fdca26"
            ],
            [
             1,
             "#f0f921"
            ]
           ],
           "sequentialminus": [
            [
             0,
             "#0d0887"
            ],
            [
             0.1111111111111111,
             "#46039f"
            ],
            [
             0.2222222222222222,
             "#7201a8"
            ],
            [
             0.3333333333333333,
             "#9c179e"
            ],
            [
             0.4444444444444444,
             "#bd3786"
            ],
            [
             0.5555555555555556,
             "#d8576b"
            ],
            [
             0.6666666666666666,
             "#ed7953"
            ],
            [
             0.7777777777777778,
             "#fb9f3a"
            ],
            [
             0.8888888888888888,
             "#fdca26"
            ],
            [
             1,
             "#f0f921"
            ]
           ]
          },
          "colorway": [
           "#636efa",
           "#EF553B",
           "#00cc96",
           "#ab63fa",
           "#FFA15A",
           "#19d3f3",
           "#FF6692",
           "#B6E880",
           "#FF97FF",
           "#FECB52"
          ],
          "font": {
           "color": "#2a3f5f"
          },
          "geo": {
           "bgcolor": "white",
           "lakecolor": "white",
           "landcolor": "#E5ECF6",
           "showlakes": true,
           "showland": true,
           "subunitcolor": "white"
          },
          "hoverlabel": {
           "align": "left"
          },
          "hovermode": "closest",
          "mapbox": {
           "style": "light"
          },
          "paper_bgcolor": "white",
          "plot_bgcolor": "#E5ECF6",
          "polar": {
           "angularaxis": {
            "gridcolor": "white",
            "linecolor": "white",
            "ticks": ""
           },
           "bgcolor": "#E5ECF6",
           "radialaxis": {
            "gridcolor": "white",
            "linecolor": "white",
            "ticks": ""
           }
          },
          "scene": {
           "xaxis": {
            "backgroundcolor": "#E5ECF6",
            "gridcolor": "white",
            "gridwidth": 2,
            "linecolor": "white",
            "showbackground": true,
            "ticks": "",
            "zerolinecolor": "white"
           },
           "yaxis": {
            "backgroundcolor": "#E5ECF6",
            "gridcolor": "white",
            "gridwidth": 2,
            "linecolor": "white",
            "showbackground": true,
            "ticks": "",
            "zerolinecolor": "white"
           },
           "zaxis": {
            "backgroundcolor": "#E5ECF6",
            "gridcolor": "white",
            "gridwidth": 2,
            "linecolor": "white",
            "showbackground": true,
            "ticks": "",
            "zerolinecolor": "white"
           }
          },
          "shapedefaults": {
           "line": {
            "color": "#2a3f5f"
           }
          },
          "ternary": {
           "aaxis": {
            "gridcolor": "white",
            "linecolor": "white",
            "ticks": ""
           },
           "baxis": {
            "gridcolor": "white",
            "linecolor": "white",
            "ticks": ""
           },
           "bgcolor": "#E5ECF6",
           "caxis": {
            "gridcolor": "white",
            "linecolor": "white",
            "ticks": ""
           }
          },
          "title": {
           "x": 0.05
          },
          "xaxis": {
           "automargin": true,
           "gridcolor": "white",
           "linecolor": "white",
           "ticks": "",
           "title": {
            "standoff": 15
           },
           "zerolinecolor": "white",
           "zerolinewidth": 2
          },
          "yaxis": {
           "automargin": true,
           "gridcolor": "white",
           "linecolor": "white",
           "ticks": "",
           "title": {
            "standoff": 15
           },
           "zerolinecolor": "white",
           "zerolinewidth": 2
          }
         }
        },
        "title": {
         "text": "Тепловая карта"
        },
        "xaxis": {
         "anchor": "y",
         "domain": [
          0,
          1
         ],
         "title": {
          "text": "X"
         }
        },
        "yaxis": {
         "anchor": "x",
         "domain": [
          0,
          1
         ],
         "title": {
          "text": "Y"
         }
        }
       }
      }
     },
     "metadata": {},
     "output_type": "display_data"
    }
   ],
   "source": [
    "# Тепловая карта\n",
    "fig = px.density_heatmap(\n",
    "    df,\n",
    "    x='x',\n",
    "    y='y',\n",
    "    nbinsx=10,  # Дискретизация по x\n",
    "    nbinsy=10,  # Дискретизация по y\n",
    "    color_continuous_scale=[(0, '#f0f8f0'), (1, corp_col)],  # Градиент к #40ba21\n",
    "    title='Тепловая карта'\n",
    ")\n",
    "\n",
    "# Настраиваем макет\n",
    "fig.update_layout(\n",
    "    xaxis_title='X',\n",
    "    yaxis_title='Y',\n",
    "    coloraxis_colorbar=dict(title='Плотность')\n",
    ")\n",
    "\n",
    "fig.show()"
   ]
  },
  {
   "cell_type": "markdown",
   "id": "8373dccf",
   "metadata": {},
   "source": [
    "**Выводы**: Наболее значимые кластеры значений наблюдаются в диапазоне:\n",
    "1. $x\\in[50,60],\\ y\\in[5,25]$\n",
    "2. $x\\in[50,60],\\ y\\in[75,95]$"
   ]
  },
  {
   "cell_type": "markdown",
   "id": "54851e1d",
   "metadata": {},
   "source": [
    "# Общие выводы\n",
    "\n",
    "Для корректного анализа значений X и Y необходимо учитывать категории, смешение всех значений в одну категорию может привести ошибочным результатам анализа."
   ]
  },
  {
   "cell_type": "code",
   "execution_count": 9,
   "id": "236aa0b7",
   "metadata": {},
   "outputs": [
    {
     "data": {
      "application/vnd.plotly.v1+json": {
       "config": {
        "plotlyServerURL": "https://plot.ly"
       },
       "data": [
        {
         "hovertemplate": "dataset=dino<br>x=%{x}<br>y=%{y}<extra></extra>",
         "legendgroup": "dino",
         "marker": {
          "color": "#636efa",
          "symbol": "circle"
         },
         "mode": "markers",
         "name": "dino",
         "showlegend": true,
         "type": "scattergl",
         "x": {
          "bdata": "UwWjkjqxS0CwcmiR7cRJQPkP6bevE0dAGy/dJAZpRUCmCkYldWJEQDLmriXkW0NANV66SQzSQUD9h/Tb14lAQO84RUdy+TxA8x/Sb18nOkD5D+m3rxM3QK36XG3FTjZArfpcbcVONkC+wRcmU1U3QC9uowG85TlAeJyiI7l8PUAbL90kBmlAQFMFo5I6sUFA4lgXt9EgREDpSC7/IQ1GQCEf9GxWVUdAAAAAAAAASUD9h/Tb14lKQCEf9GxWVUxAWvW52oqdTUDOGVHaG6ROQLByaJHtxE5Akst/SL/lTkDHKTqSy7dMQI9TdCSXb0tAOdbFbTRISkBuNIC3QBpIQDxO0ZFcvkhAiGNd3EaDSUBTBaOSOrFGQBsv3SQGaUVAMuauJeRbQ0BxrIvbaJBBQDnWxW00SEBAAAAAAAAAPkDBOSNKe8tAQCEf9GxWVUJAbjSAt0AaQ0A8TtGRXL49QDxO0ZFcvj1AAAAAAAAAPkB0JJf/kAZAQBe30QDe8kFAiGNd3EaDREDpSC7/IQ1GQOXQItv5lkdAPE7RkVy+SECwcmiR7cRJQME5I0p7y0pAcayL22iQS0AhH/RsVlVMQFr1udqKnU1AVn2utmInT0DHKTqSyzdQQMZtNIC3/FBA4lgXt9GgUUBYObTIduJRQFg5tMh24lFAHqfoSC5fUUADeAskKHZHQG40gLdAGkhAAAAAAAAASUD9h/Tb14lKQFMFo5I6sUtAIR/0bFZVTED5D+m3rxNMQAfwFkhQ7EpAzhlR2hukSUAAAAAAAABJQIzbaABv+UdAPE7RkVy+PUA8TtGRXL49QJwzorQ3SD9AjNtoAG/5TECSy39Iv+VOQMcpOpLLN1BAqMZLN4kdUUBTBaOSOrFRQDqSy39IA1JAA3gLJCh2UkA51sVtNMhSQJEPejarKlNAVcGopE5sU0CPU3Qkl+9TQMnlP6TfclRAb/CFyVTVVEA51sVtNEhVQCBj7lpCmlVAxm00gLf8VUAep+hILl9WQG/whclUVVdAqoJRSZ3YV0A3GsBbII1YQCEf9GxWVUxAWvW52oqdTUCmCkYldWJOQP2H9NvXiU9AdCSX/5AGUEDl0CLb+RZQQOXQItv5llJA54wo7Q3SUUDGbTSAt/xQQIzbaABveVBA/Yf029eJT0DOGVHaG6ROQDLmriXkW01AcayL22iQS0BWfa62YidKQB6n6Egu30hAxyk6ksu3R0CPU3Qkl29GQDLmriXkW0hAzhlR2hukSUDpSC7/IQ1LQPkP6bevE0xAdCSX/5AGSkAy5q4l5FtIQOXQItv5lkdA+Q/pt68TR0DEsS5uo0FJQAfwFkhQ7EpAxyk6ksu3TEAAAAAAAABOQHQkl/+QBlBAArwFEhS7UEDnjCjtDdJRQOXQItv5llJANxrAWyCNU0DGbTSAt/xQQKjGSzeJHVFANxrAWyANUUCqglFJndhCQDxO0ZFcvkNA54wo7Q3SVkAAAAAAAABJQIzbaABv+UdA6Ugu/yENRkA=",
          "dtype": "f8"
         },
         "xaxis": "x",
         "y": {
          "bdata": "c2iR7XxLWEDEsS5uowFYQB6n6Egun1dAIGPuWkLaVkBv8IXJVBVWQMcpOpLLN1VAxyk6ksv3U0Ac6+I2GmRTQB6n6Egun1JAIGPuWkLaUUAgY+5aQppQQJLLf0i/5U5A5dAi2/mWTECM22gAb3lKQIhjXdxGg0lAiGNd3EaDSUCIY13cRoNJQD/G3LWEtElAP8bctYS0SUCM22gAb3lKQOlILv8hDUtA4lgXt9GgS0A1XrpJDNJLQIhjXdxGA0xAjNtoAG/5TEDl0CLb+RZPQCBj7lpCmlBAdCSX/5BGUUDiWBe30aBLQI9TdCSX70hAiGNd3EYDR0Df4AuTqSpDQOXQItv5FkVA6Ugu/yENRkA/xty1hDRCQDnWxW00SEBAfoy5awlpP0DEsS5uo0E+QOXQItv5FkBAkst/SL9lQkA/xty1hLREQDVeukkM0kZA6Ugu/yGNSECIY13cRgNCQOXQItv5FkBA0ZFc/kMaPUAkl/+Qfss6QMSxLm6jQTlAxLEubqNBOUBqvHSTGKQ5QCuHFtnOtzxAfoy5awlpP0CPU3Qkl29BQDnWxW00yEJANV66SQxSREDl0CLb+RZFQDxO0ZFcPkZAiGNd3EYDR0CSy39Iv2VHQIzbaABv+UdAlkOLbOfbSkA1XrpJDFJOQB6n6EguH1BAHqfoSC5fUUDHKTqSy/dTQHQkl/+QBlVAcayL22hQVUBxrIvbaFBVQMSxLm6jgVVAxLEubqOBVUDGbTSAt7xUQBsv3SQGKVRAy6FFtvOtU0DLoUW2861TQBzr4jYaZFNAj1N0JJfvTUDl0CLb+RZPQDnWxW00SE9AHqfoSC7fWEB0JJf/kMZYQBzr4jYaZFhAdCSX/5CGV0DEsS5uo8FWQCBj7lpCmlVAb/CFyVTVVEB0JJf/kMZTQHGsi9to0FJAIGPuWkLaUUDJ5T+k37JQQOJYF7fRIE5A4lgXt9GgS0A/xty1hLRJQDnWxW00yEdAiGNd3EYDR0A51sVtNEhFQI9TdCSX70NAkst/SL9lQkCWQ4ts59tAQDVeukkMUkRA3+ALk6kqQ0CWQ4ts59tAQNGRXP5DGj1AxLEubqNBOUDRkVz+Qxo4QBe30QDe8jZAF7fRAN7yNkDLoUW28y02QMSxLm6jQTRA0ZFc/kMaM0DRkVz+QxozQL7BFyZTVTJAvsEXJlNVMkC+wRcmU1UyQHGsi9tokDFAEce6uI0GMEBWDi2ynW8rQDxO0ZFcvi1APE7RkVy+LUA8TtGRXL4tQKMjufyHNCxA4lgXt9EgKUAijnVxGw0mQDxO0ZFcviNAQxzr4jYaGEDvOEVHcvkiQIhjXdxGgyRAiGNd3EaDJEDVeOkmMUglQNV46SYxSCVA1XjpJjFIJUDVeOkmMUglQNV46SYxSCVA1XjpJjFIJUBWDi2ynW8hQBHHuriNBhVAu7iNBvCWB0BNFYxK6sQ5QKYKRiV1YjlAsHJoke3EREBTBaOSOvFXQAAAAAAAwFdAVcGopE4sV0A=",
          "dtype": "f8"
         },
         "yaxis": "y"
        },
        {
         "hovertemplate": "dataset=away<br>x=%{x}<br>y=%{y}<extra></extra>",
         "legendgroup": "away",
         "marker": {
          "color": "#EF553B",
          "symbol": "circle"
         },
         "mode": "markers",
         "name": "away",
         "showlegend": true,
         "type": "scattergl",
         "x": {
          "bdata": "IE/l0WEqQEDPiuR+8rVKQOEzCjDJ9U9Ak3T+QoeSUUDCDUTUNQ9BQN4CfATt6lBA9wYBJyuhSkBPIZ/k6sFPQELl3SXB/lBAdGE3e9bXUEDKNLyPGh8vQKFUGvCb8lFAYs984YWPUUCVU6fx/jtQQHd6tcVUG09Ac8Z/2z3RUECban03/EhEQF+X1YNvr1JASwshIyzxUUBE3nHQrgpTQGCB6ADqZ1BA3AwnkOFsSUA04QC6FINAQGGlVuVo2kNAK2x1nlnMRkC3lA726HtFQC6Xr7hIP0pAatVKA4gKR0C+XYhz2o9SQGHpv3BeJFBAv/vVbmOBUkBUmWU0EjJPQK3OUC0ZjFJAjt2+vZ08PECMHflxZ/FSQAkXYhS89lJAS9B4hSJ+UEByiyepLcc1QLtxcICg8FBAvineIICnU0CNxn1KfiBRQPpmyi+kuFJAeoY9JB2dUEAX6pzeVlRTQEcl73/LdE1ANICyhwjPTEBd3899pQVTQEafXounu0xAJ5OZomrbU0A5NUdC0RZTQDX3y8DsGVBArtbMDElRREDkmqkplflFQDHW1k8I/z5AMv9M68QOUUDqroAL+AJSQIfEHtLfS0dAuEHSh+ygSEDmY7XAEGRFQAH/MQB2XlBAb6UJ6sP9UUCrLR9HvxJAQK6D88in1j9APbXqmlgBP0AN4+whIx5UQMex+em0/VFA+ayrPRWFU0A+VlZ1u9ZEQK1MGbQHfVBA3HNfXZx3T0DCk2FO7BdQQIgs+tWYIFJA5SuD3mINPkDEU2rb2QA8QMiIbrOt2VJAcxo1JXF9Q0BiC0YQE05QQJjYT5J0Q1JApOCdg/0yQUC/EOoRx75FQEB9ayrCkUtAcs86NJrXRUAxzNh7qfNBQE+CNOxisEZAg7cIj4TjQ0CGLC0QDVVDQHK/gv6ihUNAuuHWIPXoVkBwIK4he75HQJi88RWMS0ZA/gVQfXiLQ0Bi8kVFXB1FQJ4gm68MgEJAIpQOxaqGQ0DRdtJfhL5CQNCOrQUDV1FA8Zx5rnnFRUBdA5lk1udDQE33WEhphFFAIB4cRJiCUUBPfVCyvcBDQE1nvnopQk9AAjOxifQIUkBtQAGlM6BGQPY9KV0aCEVAUKw2a4ctQkB1pkfRTmQ+QIz/UvV4OUJAAn7Kh9k7REBvvyQfYG5UQPKXGoleaUhAUyBjkW7PQUByEahNv0pJQKHcCqag7U5AujRk1nCpQ0AEJ4tVxBdFQGeN067P2D5A+4xcl6BYPUAQR8VhE4dUQL//VyCoJkNAyz62hsVKTEB3z9qdcKtAQPLF5yGNsVNATmbIaTLsO0AL7HTSqexRQGRK4mvaiFJAUJlbVB1KQEDUjUUNhepNQIIN3aLrg0FA/PbLKTWTUkAAJBV1BqBPQEnO90cnFkFAh8bacfh0REDVLg9ZqWpPQGwvYIgHPUVAYm6bS0gESkAbFd77GXRIQJ5iSwoJ7U1ApH0hXPB6SEB+tNA2JGxHQLXchkpE+0NAGShtzR2tUEA=",
          "dtype": "f8"
         },
         "xaxis": "x",
         "y": {
          "bdata": "ncA39560TkBXS6Jk1y86QExwFqkK1T5Ame5nTCeiVEAI9hTHBd5GQNE0BYszjkJA4tqcCHNeWEDm+e6/nhk5QLve6DFCPVRAserPJWy4PUDpM1BzMwRUQJbRFZswxFFAtgLXlQ4cOEASqjkYeGNUQNHYoZXQeTVALcmF8361MkCJJTKi3tdTQJiqU+UEGjVAeenq8tQCNEBXBkY36vtSQJUgezNlKi9ArBbA66b5K0BZGXW7w3c4QDj1zE2eEVVAb3sPqdWGI0Bm+rqPCfIxQFKm+tEVDTBACbug9kYcN0CAV8mcblA0QPfAAcPv6FRAXMNHpjUIU0B+t/FCBn4WQKnEpKCMCFFAT3zoS94RTEA+StcaEnVRQAXo1YEuQk9APh57uKsvUkA8neKfbHcaQLJ7Qff0GlJADKMbCKJJSkCO6VhI8ekuQHUFRbamajlAfK+kSy3WM0DC1BcE/TJIQETAkoS86lJAXuKX57xjIEAhQG/yB9dNQLrhycoYEvg/lNqkTvuaRkA0EH6zI9YkQKoqDSRjpVNA/hcOl0NZUkDeFvWYW/1SQAW5aCFx7FFAoNs2Edc3VEB2zo/6BNYpQBsI+YQ7PlVAAoEY6Wh4VEDhw8cMffspQFVMVX2WjCxAUTbZBdK1MUAf266nqL1FQAxbi4T681FASz4vQlxXRECSaKNlRsBIQM6ukn7o70RAuKIKQ4hIV0BkNwULhjM+QCzds2e8JT9ALmyzlJjqP0CURR9E0tw8QKU/9fwixUNA3e9c0IUnWEAjZM5iClZHQNxioKHmKFZAtvnfR57UVUAMHZyItStVQA3Iaqt8YT1Afgqmb7DFTUCsdaBWKmREQB4ySG7LuT5AzhstY1hpQEAyqsPDKMdWQCeWXMhRKz1AOfnjrL7gRUCguzpFm6hAQK5d78JDK1VARNPXyAXaU0DniSOr9FhVQCWjpvy0CDZADwOyH9adUUDxhBxjAOozQPOVA+fTIU5ABbVLm8KpUUDRlgxrPmhOQKDAqt9dYVBApPHneus6T0ATSZfmbVVQQK6m13K1Xx5AcZCbIDRJU0D4q3EPgbZSQEJ2YdoFn1BACyaieOH2jj+vhA0OOIBRQLo4tI97rgJAwb88MP0FGECmIpn+OmFFQLFtDiXsRUlAP6wehIUDTkCO0/wnciYYQKD8lUGpKFNA0cKSKJykTEAp/COZn/NRQHYX00288lFAct9AQoGmTUCVqBTEO4JQQEcO6dy6q0JAjEbq+AkTRUC6caZra17zP08QDM5GAk5AudfpCs2gUUBEbzs1mkrgP5hUUgf3vUFARCJ3DKT8OUC5wPZvfbwlQLGxI/pClkhACv2vngru/D8ZCYWxwklRQBIv17PDEilAgBWDbxE9RUB2EqqI9XxQQOIWuKOUsTlAVXjg841HQ0AXIGb7ZEFPQLOW4uiaXUxAEHjRMEQkUECSbAx6apJSQGnDEUdWPVJAmeZGJkooUkDICc/fVmVCQO1VQvjyeEVAqt6kpe4BQEA=",
          "dtype": "f8"
         },
         "yaxis": "y"
        },
        {
         "hovertemplate": "dataset=h_lines<br>x=%{x}<br>y=%{y}<extra></extra>",
         "legendgroup": "h_lines",
         "marker": {
          "color": "#00cc96",
          "symbol": "circle"
         },
         "mode": "markers",
         "name": "h_lines",
         "showlegend": true,
         "type": "scattergl",
         "x": {
          "bdata": "NKK+qeuuSkDDSH1Cp2ZKQGAuXrrthkdAYjI1R2Y5RUBQmr3cHVpFQJ4apQ+BMEBAOPA3Ee5DQEDdsR/8wK5AQMMlzw77U0BAwP0V/oD0NkBJGPomXCY7QL/6AZG6KjpA7XoEX9pUOkBRcBEV8wA2QJv4VT7lSDdAQFYPV1CiO0CWtnj0vwRAQBiI6I8lVj1AxEyW65FoREChC3EDml5FQOVXnSQX70lAWk5x/XyvRUBgsypqeoVKQPm93XM4T0xATtBC3F6kUUAXaQ2evPdQQJUpSnAoaU1AbWtpQO0XTkCnPXUJv7dNQICDTOv8ykhANYUslM7jREA676UGWBBHQG+3zgZTBENA4kws5f5FRkCr7i6jeh5HQJWCm/mv3khAw6rquxyOQ0AZIj2CSJJDQE7o4mgPUEFAF4fS3olgQUAf49k/eWBCQAYSaRp6gkJAqwmJCGS1RECHC6n0LdE2QOG4smJ9ZkFAG3O+41LkO0DinZwacW9AQE2ZN2mj5UJANFDjnmrVQUAfWiVFnThIQGjq6AWuVU1A1/m3y171R0DLfV0LdPJJQG46Wyfi30lANqh6DI8fTUDwOTrqxKdMQBFAEoD0/VBA8HyapcF8UEBgcbm8oN9LQC5Oo+rKGVFAFMOR5JIsU0B6sCzkv81QQBts1g9UE1JANNiKNdmwUECdAL8VFNdJQGJ30f1bjEpASVB8dAMfRUB0kzaj7x1MQBhtfpEqV0tApaobPIvzTEDnGvZc/uhJQKiRvtsIakxAiKNUBtoiTUAQi4oUAOpJQNpFx0jMbEZAf33OxzdFOEC5Jt1NCV9BQMmwlvNP5kJA/c8cfLrkSEBMFDgRMeBNQHfqkU+WMVBA1rnybQu2UUC43q7Px6ZRQG+HoIceqVNAPIPDYeKzUUCMiTHORrFQQELxUg6HVVJA/AFcv7pGUkDp2hCEaKtSQC9YhkVgD1RAnpbaLJm8UUCCi3YVaSpWQCZKliH7GVVAwVs4uSz/UkAmWVJoLMdWQOCempxwklhAWlWFdi3EV0COYPty889XQLq3OvL700hAvYDkg2GCT0D1We7gcaJRQNLHNEaPhVFA1qRUtMRXT0C5/rOfUk9RQIGfuG2dGVRALrE+1napUkAjG1mMsn9QQJ0OYvOqxVBAR+96PiHtTUDOSSHo3t9KQHTHj66aHk1Ak/o27bdnS0DFXMroBH1KQKiWOjIZGkpAGbzzeWFfSUCpga3tSVtFQCIGc9iaqEZAtMByEveOSkB5iPjnX4ZMQPuu/otkbUtAIry6PWF2S0DQ4mp3n6dPQJvnYZDv30hACkLF9quVREAp2pqKG1hHQMI1yDufNUpAJiamTnJwSUATs0680oZMQAS0PjdVslFAsu8FzNViTEBPiT3Oit5SQAHAZLQEMVNA6pDYRL9nU0Cdj7P0hlpQQF0Ltva+fVFAiZASMRA+UECiSjJKbgZDQCBGqfivHEVAOwGWo7PsVUD25xhUHy5KQGNR65YRtElAxGRM71LLRUA=",
          "dtype": "f8"
         },
         "xaxis": "x",
         "y": {
          "bdata": "V/sVXVCNVkDNn0/ZooVWQBSoNTVfnVZA5NifKH5gVkA5PgAIVJxWQK6GA6I5iVZAxiDOyBKKUUCAUHjAZZ1RQK72Mr1Eg1FAxHwLQFKbUUBuKMrXfY1RQOTPtikFoFFA/3LSoE0/SUD+A2un7T9JQDdR9pe3PElAWU7UJ3hASUC12K0qAkBJQI6JcVcfO0lAOWkU7W4+SUDTQDgO2D1JQPlaCJQjP0lAQU/6bxtASUCfOtuGZj5JQLYNUI9uQElALHtSqoQ/SUDavEmKWoRRQPvDNYcrnVFAq6nsgPKeUUAL/g1K1zVJQGoaTnitN0lATxOaAT48SUBGIreVDHM+QBmmocvVPklA1oNFpjw1SUDcNVx94H4+QLHPiH8EeT5A3SBqxIt6PkCQKVqb+Mo+QOcHMwfvfz5ADBc3AvF+PkAQlVA+wENJQLMmzLMPP0lAg6INiSE8SUAJdPJWoG8+QA+oZm54fz5AyxXMAid8PkDuggZ4mYA+QAaYx4sdfj5ArEvcFqSFPkBlkl/ncIA+QByK1iDAgT5AzLIdD5p8PkBFSvpOqH4+QKgYbhcWeT5A/emHHLA4SUDZJNf+wj1JQNbg2FfgOUlAH0pHSEM/SUDFctcLTz1JQO68YgTTP0lAWWr+1jU/SUCnu05OpJBRQHnEY6UbjlFADDcSwFOeUUAwgaJMz39WQDi6XFqTYlZAF4oHWlltVkCcTIvjqGhWQL9tXv+7fVZABuTY5JNnVkAFwXdkYnVWQIiISsNaZVZAWc53Ep55UUBU7vjNkZZRQOzlZwFLmVFAOiMGFSc+SUAyk0J+wZVRQHZANOAMnlFA8yYkcR1qVkCnyYD7125WQFh1neB3iFZAXn2SPSZ7VkBl36gksYJWQJZT6ulGY1ZAjKEXC+5lVkCuFFeUGJtRQLkg5ohIlFFAFj0vljuTUUAg8hYHgJxRQKZdfv+sllFATa7/fYE8SUBKLYAfSDpJQDFt78NXP0lA27jwxfg+SUDf+MZPpD5JQDq7v3Wamj5A1Nv0ZhqAPkB925jKnnU+QHrxSn01N0lAM6Ff2Rl+PkC/oEB5yns+QDzMEUySgj5AmzHUeuKLPkBKl0mPiYE+QC9CtWApfD5ALNG6RoKsPkAlTXcvm3k+QFTGIx+Zfj5AR5dNtRwWJUDp5pvjjgslQLGZy2dj/SRALK5h7ilzJUDPTAUcD7glQP58Xh/E/SRAiAhVbMAMJUB1Kc7Kn/kkQBzPFx7j/SRArRFyO4MDJUCqZ3KGKgQlQHvzxkqG7SRAZOJCXSX/JEDCXSbcRfokQCHtsii7+CRAXogyI57+JECqkIVA2wMlQIi4OHDn/SRAJLb8/pQBJUC5fFQVNAclQNaQUQkDByVAhlXf6awBJUBqcuK/gQklQJQLTKl2/iRALwUxOuP9JEBjzxwmGl0lQD3x8Qi0AyVA5mmMnN32JED12bsmb2g+QGqp+lx/fz5Att99PbY+SUA/jqOHE21WQKaCka2TbVZA0Ovy3rZvVkA=",
          "dtype": "f8"
         },
         "yaxis": "y"
        },
        {
         "hovertemplate": "dataset=v_lines<br>x=%{x}<br>y=%{y}<extra></extra>",
         "legendgroup": "v_lines",
         "marker": {
          "color": "#ab63fa",
          "symbol": "circle"
         },
         "mode": "markers",
         "name": "v_lines",
         "showlegend": true,
         "type": "scattergl",
         "x": {
          "bdata": "ABlKD6I9SUDBonPeJSRJQJRQH+XlF0lAa24UN9gpSUB1fngAZTpJQJZuXTUAdz5Al1RioGiAPkDPF6toVH0+QLptfHlDcz5AWfmBhbWEPkAV57M6/II+QL+AZwWCfz5Aa3v2PseePkBNyCfd/30+QDXLuaKBeT5A8Kn8aEGAPkCzhf1lkn4+QAgB0ibifz5A3EkZeHsSSUA4XmXc2fRIQCNb6NIwK0lAVyJDHKE1SUDSrwztRRpJQMfpQmi4N0lA/41s2F5gUUAHwQ84LmJRQAGriZelYFFANlgxRq9hUUCT6bgoP/lIQBBdzcsTCElARyL3HrU+SUC6lrOwLNhIQGb/TYKvKklA0U+IJi85SUDaWEBa4DVJQAiYBvDgL0lAxyhQhhF6PkAcVuqx44A+QFDtotw8gT5AbH4F81N2PkDW7TUCxn0+QBu7kIMccz5AB3ruHWp8PkC9KdAaiIA+QF8ZPBFiej5AFg1QFEyAPkDhovHNOIE+QPgPy2FVgj5ATUX4CM0OSUD6TjPwYTlJQK8gk60qFklAUzw/aBz2SEAMlmyo2CdJQOZVqdofM0lAbyf7si4rSUCh7TOP5RlJQB9Y4v0wI0lAGp9L7aNfUUAjdNDcPGFRQLiiuiDeYVFAd4hCdbpfUUBbUohcvUxRQO4wCBVFY1FAC7AMhG1gUUAZRgnY2DhJQCpLJyzOO0lAdY9BLv4aSUBIDG3GShpJQKO6k+gZOElAMG8ud88vSUBO5AW1eCBJQLlu2m0PIElAVnR2uiQLSUBSCnLDkx1JQJVu0kKXGklAJVX3ot9/PkCZ6e5kNoU+QH8TMf13dD5Aqng3IE81SUDoIp28mmFRQMfYVuJLYVFAsaUlIO9fUUCr78rW1GFRQA8YbC78X1FAqKIZSD5gUUAIvyeqNF9RQNfBLDE5YVFATqeCs0dgUUAtqAf/zWBRQBYUZfugX1ZAudpOCAJgVkCo+tIxYF9WQGyUN7jbX1ZApNEde09gVkCyWx4/EWBWQMqu1CxJX1ZAjnyRmRpgVkAexaaG119WQG9a2Co0OElAgPg4VAUXSUDFou8TU2BRQGHKqoocZVFA8olSCWpgUUAD7jt2919RQL44clYEYFFAzL+wGURgUUBcJ2TeEGJRQFX8o9MBYFFAonha5U5gUUDSFzXtOGBRQFQWUrVOMElAaM5OS3IrSUDN0f25/AtJQOe7qXqR90hAA/AeAvgkSUCrDVoA3SRJQNwY8VMLHklA0CFjQ80jSUAywjaGYiBJQEzi9aewPElAu7trXOENSUB6SWGzo/VIQPXrw4S1CklAKxEQ4hYtSUACdntysD9JQKUrQU8WAklAlhQ+rO47SUDy7hBTPmNRQLL1Le8xYVFARoFtpThgUUAa8ZqX919RQGLu2wvDYVFApSBV2zhhUUDRbwMp9mNRQOZ8CB0RYFFAZ87FopNhUUB1UJhf5X8+QB5/+rPFfD5AIjr09AJgVkB3q+PHgzRJQL7O9+O3KUlAfe6B51ANSUA=",
          "dtype": "f8"
         },
         "xaxis": "x",
         "y": {
          "bdata": "MJ06vUBOV0AMiIn4CWdYQPZNs6N17FhA0UsMU2mBVkDghEC6MX9WQJwrffq1hVRA0CpD9aeTVECcLC1btm5TQKIV7ehu9VNAHGuhUSoQUUAf3Yx6/4VQQGvPiDBHMU9At4IKLBduTkBMKkZZgPBLQFxe7IY8KUpA8PtD6+sISEB7rg4/AeNGQIFRBqXosEhAEfzeC9SBR0CSZDNOPstLQMrdBr1H+kxAY7LGTjBDTkAzn4a/TPZMQE7TA7g7OExAENOwanikTUBIC2iKJjlQQHWKHSIxqk5ABP5uTmV/TEDZQinFYh1IQNT5uILiCk1AIdB68EqaQ0A7USmuXgJFQEwyR5ZZy0VAtv8+8IOdTEBA3wHaiaxFQO1KleiIdUBAhyrceVm2Q0DT+s58nSxDQKEOtzyAxTxAcVandw9gQEAtHg8b28dFQHn3wzBgf0ZAdJyAgomsR0CNjjqqeThCQNEwT8NEBTxA2PA4sTUoQ0CgVN76p2o6QC/9Vw5X0zZAu3DCaaqxMEDAUuzY56M1QNIOV4WILT1AFMSYamE4Q0AMIqL1SNw6QLNO5xJfe0NAvoxQ1ul0REC5iVXhQZtHQGGQldPOz0hAx8dYeWNOSkAo44dmOLFHQCjEZ6Cu60xA8OABR31kTUDjVrpkoDVOQEMPJTBXM01AEGlk52cFUUAuuSvm2cBSQG79soMDklZAEfjX/EU8VEDikUqK/qhWQHc0Z2S0FldAiI5vdweOVEDsEMvjmm9UQDsky37j/FFA+kFcf+t8UkBo2iLKbilUQBrzjwZUR1JAsuqDTmfOSkD3digabUZQQEn4f0k6wE9ANfsSokJRWEDbJWJ0RmZXQCPN83ZoTFhAVFpkG7YHV0AReTJL0OdWQDa/iiGzHlVAZBEKmy90VEDt+PPRgHVUQA65xwFsx1FAft1jlZSfUUBQBOgssL9OQNg0E23+HU9A2n69uLCbSkCh9xKfBXJIQDV4K8igUEdAKE4PPTI2SECRdhnCdaxFQCBkN/0CUERA6pKtylfoRkABuv8tYPNAQJu+q9nb1UJAuiGzGl5nQkDiSjZRvd5AQKLw46xr7zVAShNxpom6NkBPgMhuZFYwQG+P7nfSIjtAicd1Nz6rN0CH/sSi1Nk1QFW29wBQlSdABe6KKo06L0CCg5N3SSsxQCOR+zOKgTBAehFtEDS5MkAJs8M2JjcnQHnvvl+SQTZASTROMXHfKkCpow3Gm74pQLXMiYmLZzRAPZVuc6w3L0AcSVHJqpomQO1nxNOK7ChAgo3qulBCMkA+3dHjHbwNQHINQYPFeCRAoUiHaOzvKEB92SHMdKMdQGBEiXzxQDBAAY1JtKG2KkAWZyS/4xAiQMG5ordoXC5A3ophI9ngMEBc9DFCaGokQDKX/E4O/CNAhW+jQmrYJkAh2yRI5v8vQENuAQfG0hdA1U2g8MngBUA2FO1c5xU6QECG0V6LxzNA0dBDVZr6P0A2MHU0N6hYQJcXKgiov1dAU9Vcm6rFV0A=",
          "dtype": "f8"
         },
         "yaxis": "y"
        },
        {
         "hovertemplate": "dataset=x_shape<br>x=%{x}<br>y=%{y}<extra></extra>",
         "legendgroup": "x_shape",
         "marker": {
          "color": "#FFA15A",
          "symbol": "circle"
         },
         "mode": "markers",
         "name": "x_shape",
         "showlegend": true,
         "type": "scattergl",
         "x": {
          "bdata": "d2udoDsrQ0DxAVRNPeBBQIOetTI0YkBANNs7wWPdQEAn4TX0fp5CQFvwPTt7A0JAcHWjwKCeQ0BbKi5Qa+RDQOBAd3NAlUFAQsWMfqFPREDtozy7SJdDQMGT3V4nN0VADk6Sl2aKRUDL4+4NLC5GQPKhZ1qSKUZAE998L63GR0Dn0v8/HFVIQEbpfL/rI0dAICYxZRhISUBtQ5pvw1BKQN2HeDZvUUtASMQGnkqsSUBtj7PwQpFMQOhgbz7rFUtAaanC+594SUCr9RjB06BQQFrJall3GVBAgtj/JPErUUAJQUBfx0FQQIjqvPX5pkpAhaR4mPt4SkDbFEP95JxGQJAp4mfxa0lALfJqvmPUSEAtmWboRpJHQOxnVTaRokRA1ZiyAaiQR0CYboKOPnVEQPuEykCAVENAWdXCEGhORUAMwW3OwZpEQJRYu60ZU0lA9pOsKeIQSkA/ayj8DOZDQCskMIRixkVAUz+WFnpbQkAtoFAGwJxCQAFGKuSXQURAFeuujWwcREAH4JG6/g9GQDVO3ExSLEVAqGKq6jMYRkCD5rgwOehGQCAbcrtRUkdAKUqNQk4YSkA3a/8y14xJQHXfRESnWVBAOaQN0oc2UED6TVfqr7NPQGZY6nTHV1BA/lwhpTr0TkDPIvnh5/RRQBwbjFjlKVJAj7jxdt44U0BZOqSyT99FQKzX65zxhkNA6udFHUH3Q0DNDC9JpOFDQHbeoJ9kqURAMb/sAcfkREDC7cobueBDQDZAUgz8X0RAUhiZ2a7tRUDlqrrOFC9FQIpZlkRCu0NAV3a0/zdCRkBdKcx+a9FEQOlpSKQitkZAgiMqmF0ARUAlaEGgwgZTQLZ9csn2zFNAYXSPoUk2VUCPcxhdIGRUQEXyZ1GOXFVAo6DW2/8TVEDEFDDzCTFUQGiWcB/jqlRAxFoE13hKU0CrImxZhoRSQKdQ/Y5Ph1JAWp7c9ko8UUBcMVj3fE9SQNMtxyR991FAeW8Vl23kUUDDBA/+595RQAGujbQ5iFNACN84f4yyU0A/ftrcBHJTQLEkw6nrQ0hA91HaUvhhUEDRkRPfjYdRQKOC8Iw5nlFAjH0E4KEyU0Ax45vdMhpSQH815vlcEVNAogKeMgI9U0AKxL8M5cZSQL8Ny8QI/lJAg0FvNCvSUkBMeB7pV0NTQGZy0ybTaUVA5IDeFlMKRUBqaGlJbPBDQMnLKSjdPEJAIoVghDGNQkCNG+ZjERNBQEbPR38qykJATzUPLDuIREDCsCl7/hhFQHpVdJaDTUJAibJfSjC3Q0DXswwe8sdCQAjG0mN6HkFAw7kfWwoSQUBBZEfiYlRCQOugsmRlUkRAPvJrCXBlQkAHyy31sPxSQHn8y+fNNVNA1U4qoNR8VEA4p1R5MmlUQL4bP9cNJ1VAja+ek5UGVUCnDHeJhQtUQLSMNoGwJFRAV88v5EbAU0Bw2135KgZEQGI7tT21ZUFAsGB7YzHOU0DU2Ere8wNCQIRg1obxP0FA0TBHm1sbP0A=",
          "dtype": "f8"
         },
         "xaxis": "x",
         "y": {
          "bdata": "bw9oB0EeV0Cr8JogeYdXQOUNB70rIVZALUvjM9MnVkCB8iU6Ze5UQEENciacglRAdcf02eDQU0ByqJQcrZBUQPI79PYDClVA9w/a1bGiU0CRef4aa/RTQFe/TniNyFJAmLYUXDDWUkCHwotoWZ5RQMo5BBnwwlFAIOorQXedUECVOuEagT1QQPObV6/RAVFAc+9DmNlPT0Db930/YvtNQHGAnTo2v0xA/mwB7N7MTkC7qvguYfBKQJv2/MinB01AqAqLZ3cMT0C7jHrDH4lNQMunL1FiFkxA1OexSWEeT0BXfjIpUoxMQPhZdNEhcURAKOUsajsxREBbdTtJI44+QNeCOPlP30JAsBPqKwAjQkDyhoZNNQNAQNjoLQLJuDVAqchDzFVPP0CURI/MpYo3QEV0M1OGsDVAmEpMC+8xOEAS4d0V8yA4QFO45trsvUJASwzwR6uuQ0AaDIKCYxUwQD0gSmClTjhA5fZxSr5hMUDfmIWB5foxQEOfuLFT9jZATs8X2VedNEA/00RAwl03QMmqu4PujjhAb5dyyMrFPEDdxkM4lg4/QCK9KII/aD9ALDqc9BOvQ0D9wKblPwxDQLSHE5qYTkVASe0mOR6RRUBiw1SsemxGQC9yjZYVWUVAQ2bkdF2YSkAu3L4y62tQQOxVTLM1uFBA2ocyGJcKUkD0iTVGJtFRQPwgBAmex1RABb7/pxv8U0Bl2OFe+xlTQAmvTUGPDVRAtf56qzz/VEAclwzfDepTQIWQ3xoZTVNATyynrQdnU0DKThZy2WhSQB07XDZwnVNAHAFzbaOXUUCDPbFE8w9TQKZOCrMcRlFAKAXJept1WECHUD/NhNNXQLlzIdIPGldArlBX/y/bV0ChUvP9vvJUQDm5L8QCxVRAwLkZDwohU0DNPN0jWflTQHGCwuKIbVRA6NeJnIRhUkDZ7mousR5RQI8KNopJ+1FAESA2nUxRT0BKNIL+m9ZQQC5Z+9UhKkFA6+jM/n9ZQUBty0kuG1dBQBfjkbKkIzdAKgnFqeGYOUB8RtalfHI3QFisWnuDE0FAmSxglfojRUCN4YQeXjlCQMdpkFJFC0JAmsCYIG8SPEACak1fBoVAQCRDJaXNkTlA02TYvkbFO0CBAW8GWQQ+QDrcyxTzCT1A5D3q0u/fOEDF85721+c7QPgdROSUjjlAycqfjk/yOEBJ8qKPLlMyQKS1VvYMuDFAJS27NSfkLkBAQ9qrOAwrQIW0ZcAiCC5ATsEy385tKED8br75W+s0QBat9ahsfy9As/hHOudSM0D1BEE8XdsnQNC9WRMjbStAqMb9dIZPEkBHjPg4la4xQEfkQRepPTRAN2Ml4sXIKkDDZu/xqr42QHdxHOkl6zRAs/T3C+PfM0BMghSVfZcwQBf+4aXafixAqeEFhBj2IUDKgCd9vhYzQNC4qQU1uyBAZqAzI6NBJUBrQIrf8EI4QA7LwVl68CtAvPjAJTcYNkAHXjR6ykdXQH9hvf4Jp1VAshOFbotdVkA=",
          "dtype": "f8"
         },
         "yaxis": "y"
        },
        {
         "hovertemplate": "dataset=star<br>x=%{x}<br>y=%{y}<extra></extra>",
         "legendgroup": "star",
         "marker": {
          "color": "#19d3f3",
          "symbol": "circle"
         },
         "mode": "markers",
         "name": "star",
         "showlegend": true,
         "type": "scattergl",
         "x": {
          "bdata": "hjb1g1cbTUAiWJJJGBlNQFV48/vuW01AMF/iuKGjTEB3qsWlfwpNQNjuhDmmvkxAruhGwLcWPEBxQq4+4RU8QAN13IZXFjxA9NrtdfmTO0DOuW/HqMc7QHZYHrHIljxAT02MYDi9PECfLuJlTAY7QHWx12YkzTxAvhgWGLwvO0CybBpe/0g9QDZfMLaTs0NAj2V6OLPPPECBv7oX6CZBQJzVKItOmj1A5xheOt6OSECy3tu9C89DQBzz17fVnUVAx4AJcCM5UEBf5nc2vT5PQG59ecY8P1FAPSNK6YQNT0BEaErLHTtAQJQBBbbhqURA1bL6SeoARkBaKBbSeglGQABjBRkrAEZAvHj3c86ARkAyb+PEzzhGQAkspRTgFkVAy9mBU7QFRkCmBLFl+tFEQNg+mjIb+ERA7ou+GOcGRkBWnm7HdZpDQB786shWtDxAqKuJ7mq1P0AfGF0p5mdFQI/Eeox6pkVAWR8xZwYzRED0rNe9xDdEQPlk2sLgd0RA3i0kcq7UQ0BgoLXsGnNEQK7z36L7+0RAkSgpcRMxREB7F+BT4URMQLMRqZw/fEpArvzZX3tPS0C/YEy+VkZQQPeBxrUqh09AuVs933K9UUBRKTkaVXlRQKBuyhsjplFAJYSPzGhpUUBa6AugJllTQNo3U3+mGVBAVndbEzrvT0AHfWf/FUxMQCTBM9wCRExAS9bq7HnTTUAsIvodeVFMQIYdhIgNVk1A+CFKzl0cTUCgVb+5E/VMQM0Qz5liqEtAmsVvebFJS0CeU7NA4DRLQPW70miJiUtAGPYWgNZuPUCmF3AnNWw9QF5J7+1vAT1A8nnnhh07TUBA5tAQuP9MQLZsoSpVxkxAiygXstTDTUDv9t0L7B9NQJM0cUYjA01AZKKOdOkwTUB21GuPi0hPQB11l7RAC1JAv7y9uUHeU0BIoDyS5BZUQFx6j452sFNAEmoWSZOiVEBc1VS95ZtVQOr8AptG31NAUJgQaPJhVECXGAhY9MtTQO0sViqKeVNAcpUfn13IUkBvd1J/tgNTQCU3fKatzkxAquivWvAVTEBkO63MbJJQQPC0HRhu+FBAEgCEFcwBUEAH92ckyV9TQO4abCKeaFNAPzQ3S0d3U0Cd2iVipFVTQKUdyfGLC1NARQt/bytQU0AV+Ji9dFpTQHG3257WLlNAJ1OgLk28SEAVbcdC/zxFQGu9rsEszEVAQtVAIIQrSUBMpsSV3l9EQFw6k6t5MUNADMw1xbYzQ0ANlAXk02FDQDVkrp8tvERAiSwSTuSTR0B8Zg+MkcpDQHjlM0/A3kRAAq8Fa+unQ0A3xso/BddEQI08AAkyi0NAzELG4qG9REAC1zwfymZTQHNlJe3j/lJAC4RiSYc8U0AFU0hPzGJTQOVpq2BsZVNAZu8HoqA0U0C5DIf/TlZTQG0/m4iuZFNAEwLbQD9+U0CWsoSks8NEQJgmc4t83EVAm3/+dt7UU0CSt0oa/VRMQJSbuWMw6UxAafi8QSAfTUA=",
          "dtype": "f8"
         },
         "xaxis": "x",
         "y": {
          "bdata": "Hr0Z6XD4VkDwQb9fwg1XQIOB+cHfk1ZAU1t7OhZ6VkBTAKZyhQBXQH7ek1F1BVZAA/g1tmHBT0DuJNeSi8tPQI/9LbvHj09ApWxxyxdpT0BiAmioUsJPQGI3bBIVg09AbGePREVcT0A1LX0ccHNPQD6kTxPMsU9ApU3+c4THT0D0UuX+GbFPQKwY40lPk0lAAxFpKc6tTkD+YL1hZEVMQLiP+O8jFE5Aant95nrUT0DQ1xmPbHZPQJJ7GOMllU9AkYzUeBt0UEBFlDwAZaVSQC5qvQC3nU9AUxUxbWr/UkATduEx4nBPQJDzZf79iEhA31wb6Y45R0DQEpViz0ZBQLD5CxG980BAgY/LRUYmQ0DgRlVScQJCQBrq2Ir7fTpAEaZNOcTUQUAO5P0Z1Rc7QHRTMXPU/ThA7aqI3jfHQEADNMTLUMRJQHKxy/OF405AmjQLiTtrTUDL3Y0bPAU+QPa8B97Dhj9Ao/yUitVYMEBoBDFOkDs0QIZtWa+66TBAT7NFdP03L0Bsjp5kbMw0QJVLWiZAfzpAa/IhWydkNUD74BkJ3ThAQBuRnlRKCj1AU1AtwTJYPkDJJVe31j07QEUATUuHtT1AvtKRVjehREAsyprIFLpFQP5RH7p8+0RA4frdX7AFRkCL8Wb4i69PQH/1k8233FBAKLqk5a2NUUClvOURVLtVQGJak+f831VAAlz+N87zVUBiFym6zGhVQFHHyDHwhFZAnWitIU6aVkDFhsMaC31WQCJmUXweEFRAgovijFJiU0Boo8paqY5TQJOQNK5S9FNA7nIinaBmTkAWpI90w4hPQCPpwiMEsk9AKWKKG/uQVkB3+FPxOwpXQCqzxRXur1ZA+oFBD/IUVkASg4qzTAhXQOMWfGVx7FZAShXkJmyjVkBMLImgnG9TQMsKWMKAkE9AWqan00+0T0CsA7fl0KVPQLfV4kqTqkpAEAGZM0FFTEAx8Qw4eeVNQCn68Q9q00pARYJmJT8DTEDNr8OoDZ5KQBESkFBG6UlAMPtuW1hfN0BRq2hrPWIwQPkj8PZF6UBAiE2OQRoPQEA8G37n+h06QMQR3LNrPDhANa4kHjWsO0A4nTfhpOUtQAT9Lx547CxAuZCmvao4LUBihn8+tccvQGbMst080y9AcuOyo5NNLkBksS+LoHEuQFcsmTqDNzBARyWDCCIQOUD7OBY0plYyQJ0ni/SD/jNAXLLGcq14OkBZYwLWoC4wQBzdrPURKS1AEgWFyWXnLEDjjbasLrssQF1SJzMtRzFArlK6L8BgNkBGDEwBAaYxQEKoFZlO1DFAnTglDgxIL0CNlmeM9L4xQMkLKp+ePi5ArilB3CQMMkB81IIHZFMuQF5/CneSTjBAirXheIq3L0CkmnOfBYIuQLBeHez6qC9Aie49grkwL0CB5bIYj4wvQJG0hs+wjy1AyaeWWFHpLUAHkFrXmuo4QJSIQ8HLEzNAsW6TBUBzSkBpexMCK/xVQDqNOtdcrFZAHUbITq0GV0A=",
          "dtype": "f8"
         },
         "yaxis": "y"
        },
        {
         "hovertemplate": "dataset=high_lines<br>x=%{x}<br>y=%{y}<extra></extra>",
         "legendgroup": "high_lines",
         "marker": {
          "color": "#FF6692",
          "symbol": "circle"
         },
         "mode": "markers",
         "name": "high_lines",
         "showlegend": true,
         "type": "scattergl",
         "x": {
          "bdata": "PRfYb37OTEAwq2tFH6NJQBS8Pr5/YElAkoJeKLaCQkDpq8xZ3XBFQNquKFLuk0JAp3Tuhq1dQ0D2M+5uIgA/QI9JCbRJ/DlAUT0C0e22N0Bo6BE2yxM3QAIEMkZr8DhAGe7pVLzkMUB3NLQXT6w3QIfnKC3DvzdA6I42+YobQEC9kf3T1G89QEwx+4RpBkRAKtMX4pLJQkA/MppvvadIQMl6Nt+LrEdAZPn6JyYUSUAiIA2N4RpNQOSdoq/wTUxAmi+SobpqSkDFr4Rox+hOQJryehcj3U5AslBZt5sYT0C6fzu4Mw9NQD6Afd+cIk1AKqZQqh3iTUC2o9dmjERKQEl4rCU+cklAzkiMt9j7SECvaAtwh6xJQNrc7wwOx0JAvw9RTYyZQ0AbkHgK/TBCQE84s43jjERAtTIIhMI3PEDDQ+t0BuZAQHO9tHuu9UVAT0yroUw1RkBL981VoAk8QPi7rA+IsD9Adys4tZRHO0DMuiMFzTg/QOSLDvHcxUBADfvQFEDeQ0DFbgKAwWtFQBiYSVf/i0dAY8cYehG6SUATH1gEEa9IQJfihRByIEhAqm9N/GCATkD2o2tiPWdOQPJn4XKhiE1Anz24txK1TkATJpq1zDtRQLHDKOlZiE9A5ijEA3ERUkDsBl9OCNdSQFwnUyBaNVJAqKMz1t2zUUB2g1vMpeZGQAD54vDh6kZAed9pVBYKREAMHAF60P1JQLJga4FAq0xABi3XrAkrT0D7tG6pwUBNQLL5rVa8H0xAM+zh3wi0S0B4YU0XWaRKQHSOUB+gVkZAi1a1NuICPkBaMQD2yL49QEzfP2Osp0JAyLdUtWaRTkCXdug/PdxOQFsbuygAzk9AiTjjXVGuUUDU3a68aMBSQFsX61XsxVJA2YavyvyUUUBVsvbPQLdRQLNv5/Xp8VJABTOggv6FU0CUP0mNui9TQDsTFRC8nVNABnfxTLkvU0CwYD4AWUpVQAP7aQy881ZAUE8u9cv4VkDy2hXQ5Q9XQDupNAQV8lZAZDS0OicFWECJhwuT3Q9XQFbB8XrF1ExAMwTvCGjsTUC54epNSwRQQNKeedahfU5AE622jcj7TUD/AznbjVpPQJOwybt+TFFAqCoFRellUECYztmKfidQQMkiBud3mE1AqZNyCnnrS0CbNMzbGIBNQDGaUqzMOkxAe9dzZdYtSkDAW0OZ5OdJQDsgjzSGHEtA5fOxk2aCSEDMf3yMqNNBQPmgIN6ee0dAubQXWsjKSEC4sb08m+1JQJCENUH4+UtAzZ688vbUSUD5FeikCe5GQI/xkMHE3kNA1fZeHNZnSkBrCi5fAWVMQMsDNvqoDktAKIWNcxrJS0ChDeEUnVNQQPxiJG9ov1BAS4bfrgcKUkCOh03Uwb5RQCFYSpg2DlJAGcf1ZM/sU0DInH4/8g9QQDNDCONevFBAZy0ybkS8UED7i8dm+tJDQIZkBoOS+UJAehVZ70egVUCN+vrSYWhJQK927NV7l0lAOinjzpJuREA=",
          "dtype": "f8"
         },
         "xaxis": "x",
         "y": {
          "bdata": "2puBUe75VEDbvRvVWbRUQPnYFaZDMFNANYhTCRZ9VEDEAsRF0wtUQFbJUCkQPVVA7OTS0ITyVEAeVsg1FqVUQJDbll1cllJASCSlb0bGUkCmk3BSHe5RQE1aFmcjJVJAlNkPHgXHUUDM+xTUuzdQQD+jnWhRx09AbJOfGHZmUEBpsXxjfeNQQHToD+3l+FFAksPDlkd/UUC6dRb4zMpQQAXrpvbcJVJA1+RFt1nKUUAyjza22QJRQEdONywsmlFA7d/MGlIjUkBECECCOAdTQHEi7GZuRFNA4OdwUwkKU0DHEJAQnUdSQE1Xhw5nzEFAATomLIVPQECd8TRSkyw7QP0zA1QxJT1AI1S+4s91PEBdeX0oQF07QGEHW1akiThAsZ2n9jSuN0BI3THp7Tw5QKR8Sg94jTpA4BmPP8FHPEBA013dIrM8QA6c/Yo/zDtA71j/9pvyPED3gu9ux806QOhFPzSZqjpAOZdhKt1BM0Csgars23A6QAYJQEmpFDRAGOiIq6t+N0C4M8x/elU0QF2KXhdU/jpAgfu6gt8FOkCq36i8bQE2QOuayMlWRT1Al1CKpesDPkCqeenKSd47QC4pTfvMyTpANa3bexQKP0Co9jVQsZ4/QPHJsPEsHkFAW0clkT7pUED8C7i7+9pSQMs2tCRXB1JAVnx3923WU0BG1wkPIWpUQNnej6CGr1RA964d4tEPVEBbMGWeFI1UQK4q/h34P1VAuWW5xMfPVEChoMWvt29UQMUOaozk4FRAHSZMJxERVEADr0TP3hBVQLVDBxJAD1RARgbZdGQJUUAEWYXE45lSQM7qGZGDJVJAdxJWiWeiVEAwVNsUKm1VQCRGY7YK11RAqmSYxL3JVUDqchniQJtUQKblmTX+21RAXK+F8uCBVEBq9feIH9pTQBmNxX23+FNAG+ztmZxwU0BLfCCIS/5RQGoobov0b1FAomyJ1dGCUUAypx49y2BQQBbZnZmYe0FA4tgL6XZiQUA9H6qYRjBAQAtmMZEwMUFAukcyw7gNPEBIaQnFHBI8QBFBYQCEDzhADZ/LkH4tOkAjyJC9yMY7QJouAiou7zdAo8YDGHbNOkBpZ3Sm2f41QFDte/C0tTZAYmwSVLWxNECt7qn8cXE2QLSaezaVxDFAXw7nlFqeNUCFepIlxys1QCFk8igCJTlA0IIXD8RqM0D01Q8akwgxQCCanznwgDNA22TpD0F9N0C3FNnMtoMxQFwJIB4JyjBATECwyAbCMEBCJLXjFfg1QB9i7I0tyjBAudNEAdXsM0BdLc7U/yAxQI5cpou1vTJAhI9TgODaMUBbNDaWXU4xQDYQ8L9srDFA8dOScJxeMUDhrZLYhTIyQI7aDA0OOTFALQUPUHTQMECg4KRh3ycxQBYvxT6JXjNA15Jl8369NEDV9Dzj8tMtQK+23PxqMDRA9VSooVY+MkByRpjTOrs2QAd2mluRhTpACpeta29yQUCJzwCL2rxTQIqZkic/SFVAu+Lt9kW7VEA=",
          "dtype": "f8"
         },
         "yaxis": "y"
        },
        {
         "hovertemplate": "dataset=dots<br>x=%{x}<br>y=%{y}<extra></extra>",
         "legendgroup": "dots",
         "marker": {
          "color": "#B6E880",
          "symbol": "circle"
         },
         "mode": "markers",
         "name": "dots",
         "showlegend": true,
         "type": "scattergl",
         "x": {
          "bdata": "JrdQ7+6SSUA9N7MtMUJJQNFHD7aOGklAkfOSyOQISUDtekxZC0hJQBKknnruJElAdRR8n16VOUCIOPsezHs5QBl7jeaKcTlAdVL5RauQOUCZCgC9yO05QBdP6K0tjTtAeMXbpMyHO0B+0JRMdxg7QHbno6lycDtAYV4v7dXgO0DT3ggdwFY7QMVEO9GrrTtAx5cXO11RSkCcQj83OgNKQM2TAgLKcEpA50ZUCe95SkB/7s92oUJKQIAo3JfhK0pAF9OwRrv2SUCXWGT2XFtKQILin4fOOElAgByvqbwbSUCeW7k2kxdKQMfxIXJjZUpAEry08HtLSkAl3ShQsQNKQLIOtPNXXUpAzkCCLTFxSkDDBn3FMEFKQBCSsHBsbklAnyz8ahxySUBbmWmk6do5QDRNL6SQBjpA9H6g96bkO0AaCEnw1KM7QC2CGEuF5DtA/ufrHBxmSkBRjae+pJQ7QKSyXEvMfTpA53TTyT38OUCRMrA2kDM6QHV0T6yJ2zlAPFTiGDNaSUAZMOPO7mdJQGLO9ttMSElAkgZRHDt4SUDY/F/BuzpJQIty3+Vfc0pAqDPwjaxXSkBboxvqAkBKQF5ZXyn26klAE0j11LQ/U0DQj9Dg4FNTQCCVdU9Ee1NAQb0L5kdQU0DEsr7ljw9TQPY2HjFoRVNAcf9tbJjOUkAOKhr4RFRJQDOLEuQHGklAZEhEa/t2SUB7txS43hZJQKuYT/gaNklAqzkouGs7SUC8frCwgTlJQCQeNCrV9khAxKEnO3c+SUD76fsEgvtIQDASVRVFYElAIUssUiRsO0A46cm6kKw7QMxgR72SiTtADZDoXbUhSkBW0NE+X95JQJJAgN6991JA8jhhCqPPUkCwMbnesMxSQHdgTd3d7FJAOFc/gK3eUkBFEp7Ic8xSQG3kcQp/tFJAcwj9jYTKUkBn0znR2tBSQFfv9CppcFNA5bzEdhV9U0BANfNnVUVTQBy/EjURBFNALXvMJ6ZrU0B5VMR+MjhTQKjSwUS0PFNAne0irEx3U0CFoDZwX/FSQEMSddtwKkpAmFHweOFLSkCzzlTmDz1JQKDfqHL50lJAY10ZqrvkUkC7g6k8otlSQCKBWFC+91JA0xTd0MbmUkB/jGMiUflSQKKRBrHH71JAFIxxHxzJUkAlvEcxtVRJQG+5q7SUWUlA7Oyx2p91SUDNS5hF1VxJQOoESojGoUlABneOIh6gSUDBRgMIgGRJQAZwYcMtQElASpcXDOldSUA1wrVzDltJQDZPWwYIaElADiCuYtKBSUCO4nwwQC1JQBqF2m6/N0lApF5YBMRQSUCzTHEjjYhJQA8lMuFrZUlA2vmCR5BGSUCZhugmpkdJQH6/H9Xc1FJA1piEydzCUkCJji+lX9JSQJOPCatbz1JAk/Y95MHJUkABcrjJjv1SQFHjXA6t3FJAIZGUvpnwUkAjnCPmajBJQNSv6CZORElAdayP3Q5gU0CHU+XBdlhJQIyMAkPF/khAQ7srgEcQSUA=",
          "dtype": "f8"
         },
         "xaxis": "x",
         "y": {
          "bdata": "KcUCr4O3VkABLwaijUZWQCEkoWpxXVVAT0CG27DDVEBWx6BFBbxUQES27o1qvlRAvUOJk426VEChANggdrtUQDqDpObyt1RAK4v5aiS7VEAht8pHjrRUQA24jK5ivklAu0EysRm1SUBeXGWQ1AlKQK/BCWgl20lAz5y7fr1aSUAXdDoJl9NJQF/BzGtLl0lAWr/SHpO1SUDGT3PTvg9KQOKOMRuPT0lAS7VFDJEJSUA+VdkFUMBJQDhaNHJU7klAFxFYSP8gSkBm1ks9VplJQPguYOxGvFRA7U0eYybwVEBTiJUD1fxJQF4kWAdliUlAiXUfikarSUBfCHicohZKQIM+5G/TmUlAvrzy9IA4SUBvjts1RrVJQALYRhRIJTFAzZ60yi0kMUCVy8L39xQxQDLe06/N7DBAmsOON7tUSUAfa1igFbNJQJfP48jLZUlASOk4ENBXSUAFdYJgK8NJQImQ7rPHZzFAUWk2Iic0MUALDw3YBBgxQHBL4cokHTFAbzhWHxQGMUAoNPK9ax0xQHmk7DbpEzFANSUIQCT7MEBOc7BP4AkxQI7G+1tkWElASdvYKrGlSUDtbOHcE8xJQLyccV36KkpAJLEG4tMFSkB0yZDZlN9JQBcpYd3JKElA9OFWEx27SUBd8aoR1Q9KQGJGqSLL+0lASE8nFhW/VEAL1SKhU8dUQDV6m9njvlRAhvOsiSW2VEC+1S/a0MtUQLnxXNM7ulRALlK0a9y7VEAYI+8sE/5UQNVjIjeYv1RAHt50hV7GVEC7kMQTVe1UQOhX5Yy5uVRAI8qsGC24SUCn+ZIl7aZJQEM1Vdv8y0lAmyq0/PSPV0CawpbcqT5XQMdOIHa7GFZA732r5tL5VEBZxrtglt1UQOsG9WnYulRAvgpHTJS4VEBQvPbIp7tUQBsMIseXvVRAJmbEZD3CVEBFtMF0f7xUQE1DxDVtk0lAAKGQxd88SUC21C/EMhRKQApfHj1lDUpARpunnjOVSUAS2gNIDO9JQJJQioAp9ElAAYnESs7USEBAH4L1ehwxQAyO7n5+8ElAm6y+qx+ySUCE2uSxXAwxQGD57dgBBDFAis/90usPMUBGch77hQoxQGQkOWiIIjFA3rJTTFYRMUCNXunSgSsxQCqKvzwQGzFAVEM4sULBMEDCtE0EARQxQCKxzaTOFTFAgXrkbMklMUCCwfzwT+gwQCkbJsCPKTFAGbTtg449MUBBflZbIS4xQNMeMsoTGzFA9fiu2TL+MEARyifemxYxQOcncaadkjBApKJzt5k4MUBTqqAAkxAxQID3CuKuEDFA/ufq95YTMUArwXXUdzUxQD0XEmRHNDFA3LVL9qsVMUBMrFzECBgxQLTARm01iy9AdvzKVBcBMUAYF8SIyCwwQCRoKSgnCDFAY86850MBMUBYASku4bEwQAEfcumOCzFAjoF81mPxMEAHZspkP/IwQDnl20gDBTFAubOny18VSUCpPEO65OBVQDrBIrLU/1RAQtWrcmi/VEA=",
          "dtype": "f8"
         },
         "yaxis": "y"
        },
        {
         "hovertemplate": "dataset=circle<br>x=%{x}<br>y=%{y}<extra></extra>",
         "legendgroup": "circle",
         "marker": {
          "color": "#FF97FF",
          "symbol": "circle"
         },
         "mode": "markers",
         "name": "circle",
         "showlegend": true,
         "type": "scattergl",
         "x": {
          "bdata": "QeOrnBv/S0BNfXDkIARJQIP4nTbspElAitsYJ9SVSUCSudaAXzBGQAbmm4dQgUZA9O0BE6hHSEDeIO/YNRJFQFUN9c1zg0RASb7GuaNJQUCm8cFqKSs/QCp92+p2UkBAY4UhSqmqOkDFd0Q3knU6QCa3ft66iTlARK/2IBpSOkBx5MnC0yk6QAufvvi6NjlA/twXIQrcOkDwGP82u8I/QPOiqIuK5UNA7EdKPwjPRkBVLEE5v+JKQH6RH5TIOUxAAlABg/+FUEDX1fXngXZMQIHcHxp/fk1AdZs7dH3zTEAf3SADBjRQQC4TsQjGLE5AbKQju/1xSEBdzVg5VsZHQI9vFL2x4z5A4vUSwwv5PEBE/hh4p5RBQL0TxUFo70ZAZW6P/WtqQED4MJFQJ75DQL4ytYUcuUBA1SOYqRPdNUCUNP6Cdio5QIP6B2qg9TZAUuRftweWOUB1beOfdlA6QIySkknGhEBAmwEFkgQ8QkD5H003eIM6QCbZj7l3A0JAdlQOVSxXRUD+LusDQoVGQOHmf/sbrUdASC8HFlDsSkD7M/gFmJBLQPacnVAUGEpAtpPu0hlWTUDKlLxmPIlUQBBYEsjw61JAnqr+5RNWVUDgX5vNDvZUQIOXS3CLalVAdfy3lZV7U0Cy7F2NCUJSQPA8U1mUhlFAfl0GW4WSTECwXWL0MXtHQLcwTcBPSElAkhChXB7cSkCmlXY2oRlLQGVZ0n8G8EdADsHiSZq8SUDHTbEMKGBKQGgfZez2R0hAZIeyIGaKSkAyMsZc2TxMQLex+p8TyUhA55zqlFjQQkAxTqfswCFAQIeOBrhsRUBAe8jRKZppSkAMEN79nkNNQOLebNsGIkxAM3TB17aJTECGExDL0SBLQPboTxPEV09Av/oBkXoFUUCIOGxPj0dQQMr6VGy4L1FAkV1Xf4yLT0CmDs79F01TQJGndI4rglRAIn3gEP1kVEDela53h0tVQP/LN1dbElVA8DOC0tZnVUDWnaMcsGZVQCpW5bAvG1VA5iD/BItkVUAUTNI/HChVQIj4L5paWVJAbEYPBnpgUkCXcgpnoa1PQIfbIQZhPVJAI/UzeFUBUEAY01Zp7o9OQD3yfzYm61JAzjPki95gUUDNmye8O0lNQKbnAR/YvlFAtppJIUZOUEDXz+2tKVRQQFoPhMinAFBAXM1DMAqSTEBUjoRXvS5MQPHbGlXphUVAHF5U93YKSkAA0b5EhHBFQJtMI0mTyElAE0O1c2hrTUAM582yvWBOQOUxTZBtYUtAxA6lpfLISkCf/+U1EnVIQDbulKC0UkpAtg8CvVPrSEA3FOJ8j1dKQDSUBnqpc1BA8tRyCkNWTkDlY4HzhbJPQDYqbh9UM1BA/IFx/6hBUEB4Hdn0WnBQQNj8G1vvfVFApnmaXyM5UUCkZhFHzOlOQJmhHzTcZE5AldZTsjL1TkAiKvAwtoNGQBPqbDfv9UNAal/ectUyVUCr+AfV29RLQJxdbfcBP0lAUoxf+Mm7SUA=",
          "dtype": "f8"
         },
         "xaxis": "x",
         "y": {
          "bdata": "VH88sL7RU0BeDpUo1sBTQOajOXDmm1RAlTO+LZTKU0Dw3eRDiYpTQNYdsA9geFNAQsr5qXSyU0AJuAhRXDhTQI+GhbI2GlNAK45HzGMuUkCeCJ/7tE9RQEm+gS7irlFAa1PmdpB9T0As1B36PFFPQNQZq5OrUE5AZDT2VrkyT0AxDayrbgNPQGbAsrn+Ik5Auld4oyeST0BcPzXJDHNRQKLfi6+181JAxR2bl62HU0BjcGc7Y9NTQKw895nQz1NAHKMz7yNBU0DbJwZTNM1TQP7Z5160ulNAYic38CzFU0A/5d8BKl9TQGAQuD2vrlNAonHFonnOMECRgyGRRxIxQN2hwsg7VDpAB2zyh+sMPUDLBX76bsk2QK6zM+JIfTFA9vO9dSvMOEAeKM/3dQg0QBdpoAHOMDhAZeL1YLsGR0AxVPJnIOJBQLk+gpPTpElANAzv11xsTkAfnruaCaZAQF5jJ52AkDhAlvC+CUngNUAXVBKYmXVAQM+Hl0IIMjZAhwT6puOKMkB8+J1aCbwxQG+sH61+IjFAA+ZbRydjMEDxyQ5jblowQGimv0wQazBA8l2VxtKpMEBY5rYH/ZhAQFMh/p/TvThAUn/HNHZxSkCOLscP205NQIPDOOx4xUZAJZBO+SksUUC9hBJ/t0dSQErMPam561JAV2RHLWzMU0CjfRDnqKpTQPQuoXXyxFNAYM6X16TTU0CqapjWzNRTQOIlvi5Bq1NAXjTIQjvKU0AvmQlTy9JTQKriW5ISslNApwYTKAbTU0AH3GTkvcpTQBvHJ59wwlNALdqwJq6jUkDnUs/PQ5RRQDJNTGf0rFFAYEo+JQBlVUAy9CoXo75TQD9qGCkw0FNAr+ETOmnMU0A+9ZhcFtRTQGuAZ/4ui1NArGy9NTAHU0AyCrtNjFlTQB0ZwUSQ8lJANbECdKaCU0Aq5AJD+lNRQBdJV4JHV09AgYA264zyT0Bi4Bb7DeRKQC+Orx3KoExAexH33ReDRkDTT9pJlGFJQGqcZON1YUNAC495PbFHRkD7mEiOWL5DQPDkCqD10DZAMCOcnWPbNkAcKV6TXLkxQDp/LKfxgjZA1CCFYTLiMUAzi3BVyR0xQBnFuPtRyDhApga1/4NHNEDqX5w8iKQwQD4gO+xYJTVAw2hclK5lMkAolUuHcFUyQLkRTZqq7DFAdztkij6ZMED+0A2LmFMwQBJd6yEOZzJAyP0LHzF0MEAsiXsKSn0yQMb+mrpXfDBAweu8DzyjMEBQLyncgQgxQBPljJG+XTBAJd7WZvdWMEDNI9d6c8wwQHffIaOEYjBAHwQo+yOtMECNQLk/cGgwQKAT7SsJJDJAF/R060INMUDvPUhFVrMxQGsVrluFNzJAt1jP3a5JMkDk0Hy4JoQyQNr4HCv7iTRAbQw/kU4INECEUqYjCEUxQJhQ4xTUCzFA7iQZrz1IMUCJOOpgdbkxQAznIWmsszNANYUSicnIS0DEA+qP0NZUQLr4upDXv1NAOJiEBevMU0A=",
          "dtype": "f8"
         },
         "yaxis": "y"
        },
        {
         "hovertemplate": "dataset=bullseye<br>x=%{x}<br>y=%{y}<extra></extra>",
         "legendgroup": "bullseye",
         "marker": {
          "color": "#FECB52",
          "symbol": "circle"
         },
         "mode": "markers",
         "name": "bullseye",
         "showlegend": true,
         "type": "scattergl",
         "x": {
          "bdata": "6VLTGhmaSUBrlQNuu3xNQG7VxROg70lA0cfV+AcXSEAFdlwcc9dEQKBlmSL58UJA54wgxUTGQ0CLz548JdNDQF4ZZZATYEFAo0nR5pKPO0DGpHG/sqI4QKtZZ3yf9TRA7iOIEmywNECsiR/Jx0kzQOWjbqtFBjRA2KFeVBm8QUAf1RVUeXJCQGWtSUEch0NAcqkymoF6R0CiUUzqvKdCQHbsoe48AURAbO1BbNcBSEC3qF5UFdpKQMqGItajiE9AuKTg7SUGT0BKvnsHhOtNQFRc0b2ZlEtACcPvC9CjTkBWaemT3mpOQEIo27aiwk5AnncuT1F1QkDLXC4USEBDQHFVqBkKVUhAe5KZJoMkSUCspGneXiNFQMw2OTkRBEtAxOwgUCiqQkC8zPzf27FEQEhjUa2OCURAsdWnVcKsQUD6jnHvwGFBQNNq/pdog0JAEAA6GlA6QkA+v1Eu0sRBQNrhEc+waDRAT1OP4eZ+N0Ck528pu449QAWYD88NgUBAhBJsuH39SkDc8f/S/R1KQHi4cdBkwE1AkVAvx/aUREADuUvwG39IQHM8Fsd3ok1ArQj3/Q28RkAYWQhse1hPQAbp7FdvW1JA6wJo2Cu2UUDUXxxNf+JRQFJ4R0S851BA0VU4FiQeUkBYc0Gz+zNQQP4/z2FFbU5A+8PjGofyUEBr6fv4Bc5EQNOoOSJjgEpAx0oP9WlbS0BSmYVmVSVGQBpmVFiKmEhA2tUGFPqMSkC72QPTx8xJQMf5krqaMEtAvVIrz4k9R0D7jPciW5ZKQGIBDP7QokZA3O6KhUYEQkBb1Bb7bEU8QIdohcUHDjlA1xfJmpEwUEBj5ljgf5JPQOP/Dd9bNklAp8xnnkepUUDUWVUKFJNPQPQ8qKJ5aU9AChbB3iiPUUDazpssvIJRQK2CMxiFJFJAClHMpl3IUkAzcv9Zz9JUQA517UWD6lNAK8dZkacbVkCKPpxRZUdWQAnx45DmRVZACp3q4HbuVkACkikRE+9WQCUXZz2B4FZAJ1ekzksPVkCb4NEG9CFWQDNR65K9rktA+K4IkLZHT0Dc8aeI2gBNQJCphVKXiEtASdyL+rDOTkCg+BzdwiJRQJ4jhuYwbVNA3UmmtP4cUUCxPgASdhBRQNVWcrJZkFFAYKKwOdZCUEB/1aG8zgtOQKFUIM76fkpAWsfLM4MSSUCoCRdFGkFHQCMXxNJM50VA7LJddq/oTEAdVz8QYnhJQNWWZUiov09AhmYKHRwCSUCj2aaEgVFNQGEk3xx6XUtApT2m+Qh4UEBkMRNIzodMQHjmWr7yaEdAad6zpgAuQ0CtElCLX6hHQAzafzOlhktArdtY/ApCSUAQzPaFtdZIQKejV1P20VBA0rguuxKLUEBZMQ9qVYtOQDvW3sFlg1BAl/+nGuEqUkD+aHfJccBOQINBkoyuP1FAk7ZfoP6PU0CUgxCKsT1CQBb+yS3fe0lA5UfnODrMVkDOTkz3j+5LQA/sxYfqo0hAiYEBDyuvRUA=",
          "dtype": "f8"
         },
         "xaxis": "x",
         "y": {
          "bdata": "Z+1f5r7VVEBPYAID/V9VQH1u4WsadVVArrFPMeNCVUCWm1bwJQFVQKSQJs5RpFRAGgDfqgE0VEBWFBO5h6pUQKyC+7a1AFRA71ZGxkI2UkCZyKLzFedRQKYG1einglBAFfafulNcT0B/ljxUEghPQG4qVRnbq05ANNNuUdWORUAYLg1tcNpHQKLEEDwDxktAJTOx1WJPUEDHcN6/HqFGQEew6lVIfk5Ad2YS1p5tUEBuEhBG7ZhQQJy4j3I9AlBA2Ic4P0XsT0CUZQNPgx5QQGKpmg4wT1BAKZAWvQxxUEDwt7EppCZQQArtxMCtMlBAXUNsETGMREDjPCaOmMhEQLxhzC5Arj5A/v8lEIJWPkBthpuUiUNBQCYE6AQfrD1AsovquA/NQ0CU064r5aVCQD5MrurUT0FAGbg2rw6SR0CpIqVx+c9HQDkJMGssO0ZAtADLHFtlREAGBICMXF1IQAASnOb8GUBAXUrgRY1SOUAJJzkOYl01QCAaRElb+C9APFjVQ9pZPUDTdmozMLY9QDnma8Bvqz5AQpoxxGooQUDNhmDM4gNAQOnh6AcFpD1AYfMAhmTqQEBEnnzwVUo+QG87Kyj3SUhAgeqM4CAkSkDdclGLysJGQLwPZujWAENAKpspHaKPSUCUovsUzGdPQOJVZQbyX1BAYkq0xY2uTkBOiWrhUPZUQJjieOYvK1VAuDJAnMICVUDiXuxINLpUQLEgUCMUeFVAoLAG1wwjVUDwz430dzRVQHIFPvxhD1VAC3hDYSrhVEAZSFolrRBVQKlTKE8sT1VAOwbgdpOvSkAWeVJZxjVSQK2EdToc41FA6LfGnyyUVEAqPlkIJk9VQFEPgxAvS1VAm9BDLJSbVEBp9ixHmfxUQB0Hmf3VPVVASpmVI/SKVECurJswpBhUQEd4XXEoPlRAnXPLYfv+U0Aqeo/T0bFRQCyrXvaqe1JASuCyqfMnUEDdF02vGABQQJbwViZU4kxAs/oeCspPSkCDctDeL3xIQO5DyPsEqEpAho4VLDl6P0AN+RIr3Xk+QE+iaT4jcj5AUcame3dyPkAUNwjh80A+QN52ifjzAj1A9oTaa5D+PUDqfTXYM9RBQK7o2P7jTTRAMR6vzTASKkCnGVhs78QoQMSraXUygCpAjEZVS24AJkDozQtthb4nQLaa+Nk20CNA1gBiYE9sKEDChhiIDWomQOV8gb5MoyZAWPpqtenjJUDgYUx3EmIjQG7g1N8A1CdAW8dU3CHeJ0A4g7OjDvMnQEf1lFtl0yZAOGUg5gF3J0BhmJfAU9cjQLtkuh1D/SRAtjWoUdbcKkBY/Nmh97QpQJyffOhk5idA5wsEoPuHI0CrXbLxKcQkQBmeF53eQSxAklMg3GkTKEASeEIYSCskQGLitPuswipAphRodux3LkCDwC7xJaglQOvSCkUW/StABTJ5ExziMUBwFYVKVVMuQGV5DbAFrj1AxdS93VBWR0D/iMD/iFVVQGkuy+kfA1VAi84sZEIVVUA=",
          "dtype": "f8"
         },
         "yaxis": "y"
        },
        {
         "hovertemplate": "dataset=slant_up<br>x=%{x}<br>y=%{y}<extra></extra>",
         "legendgroup": "slant_up",
         "marker": {
          "color": "#636efa",
          "symbol": "circle"
         },
         "mode": "markers",
         "name": "slant_up",
         "showlegend": true,
         "type": "scattergl",
         "x": {
          "bdata": "1Wq9V/zYR0DOMM+wE05GQHl5jeid7UVAFWnIWxrKRECjpbemtZZIQNS7zPV8U0VA8sGcrJIfPkBStI6EX+o/QCQPaJNB4ztAHHXUF1mMO0CmgZAFtDU0QJG75h+GcThA7/5mFX6hOEBhc2JUuAk1QARfnrwyGztAX6jCLvEWPECXtf2FvyI/QJpAPAu12UJA/DERnUOyRUCDM5E9lqFJQLsDTAKzpEVAEosqEPXzS0DMmaF8dxlJQK/k67F74UtAHXjbo1wpTUBv2v4o+YpRQGzAAdzVTE5AHNsasVDhT0Bb5xH72jFLQAdu5tHinktAhVfR6fmISECQml65UQJHQGAtPSk6YUZAJKRoQOHMSUBT+58FojtCQHG5zsOIskBAcsQNyT/KQkDkAWwNU09CQKZy2XfsFEJA40gBEHmVQECUR/vMjlJFQFejxqDNnEdAwnNt8zgySECPoUf7xD47QCpz/iSBZz5AwQ4VQ68UPkAu4fFphf1AQIIe2wsUIEFAn/KiTRKSSUAEmzPVJfNIQDQhyxmBy0tAJ2/SBbS9S0DgWuITVslPQCqM1bk1g01ADaB+YD42T0BygI7GyexHQOulrTpgIkpAFxAzI3c2UUC7vI0SSmtQQNp7OffMb1NAVWT4eJYWVECSCrIINitOQJrdxwtR1E5AlsMy6+HiUUAs9zMRPoVIQBRI9YuF8UlAyuBqlQf8TEDrdEtrhm1LQCshg4wMEUtAQREFloenSUBez0sVaY9OQIl2tLosyEtABz6U1aWFS0COeZEQ2zhJQOO4Ul7y6UVAK/r+p03lQkDukH7V80o9QEktBqKWGEBAtZIAM4u3SUD3HHh3tN1QQNadvSelSVBAnrAe4VZlUEAE9i+JflJRQDXMlIM+UVRA/HjeANmkU0AkPtYY9ItSQCwZb0fSJ1JAjqEwqA7JUkAWGTF0y8pSQMOie72/VFVAxVxh4MoFVUA8YJj4ZZBVQIZe/20fI1dAOI1Kue2VVkCq6D4qbXRVQM1He79GnFZA/vIgsB8BV0BCefJ8rNBXQLiaQIsopURAn+dN0ZqbUEDggmCdQP5PQNiBV/GEok5AGXIp/OtfTkAhSSxM7ylQQBHcWZfZKFFAhBnG4bRxUECBNqeGlchRQOwg7UaR3E9A6o2VehhAUkDESkky8htSQBkAy8ZqGlFATCQ/RN1tSkAjVzx91cNKQDGa3zE/YUlAX7ZbmnRERUDnYqgT5MNEQLTyVlN1W0dAPijR1q05SEA9Wlpe+dBNQK8/jD4tz05AgerdJ8BqSEAKGUgP3KtGQLFdcR8fNUVAOCqzYaZ3TUAPwN8OgVdOQLhlSQLpZ0tAz0gQpx3LTkA9dHIkpttNQCjFPxJMNU1ASpuOJjWfTUDQIPYjFExMQMc7MFaFH1FAgQV4X2FAUEBQNeWH5PVPQFe3zgSpwUpA1AJgZZnqTEDdHv5GbQg/QBLhIXxPVT9AGLcg/rKZVUCvnDMdl7hHQEi6SwvjIUdAduEO6vcUREA=",
          "dtype": "f8"
         },
         "xaxis": "x",
         "y": {
          "bdata": "3jVMm2/PV0AxlS172kRXQIVYUOx+hVdAF/hYom2TVkDujbb2EidYQHcMd4Xho1ZAJUJ7IjxJVEBhI3MilvJTQEniK1GE3FJAi5ePaYvKUkBNhQWqEOFQQCIBJ7ugPEtAsTKAkqeySkAB7qJ9JupIQDjqTFEaXEtAJEdJLpBBTkA7hm3qSLdOQKvy8CbHGlFAsL9j9n3MRUC09joKUNVIQFYj8TJHh0VARH7XklcgS0ApJg/FzRxKQOoFKf3nA0tAWxkov/kDTkAGZqvpD5JRQGkf5mxs4E1AkRwAF8OXTkCKehxh7OdKQLm03ED6S0pApdJTFc9ySEDepVYU/SBHQFiC1ei//ERAg0j53ycESUAql1uUGMNBQFYnpIsmgkFAdyI39XBqQ0BnseNq3GdCQD3tpEnf6EBAM/8S92s/P0ATbbvPwBNEQFhB1MmuSUZA0Rsrh28qSUClbHs9y9E9QF+8fLpcFD1AWQQe14iWO0AmMto/O4RBQHxfmOiFOEFAMZGWd0qeNEAynVHHZ5AzQAJo61ObTDpA46vq09TTNkBPGyefJHhAQGuIYTh0UjxAzJgdwUi+QEAYNvN5P0dIQErWWRwSZ0pAY3hUS2bJQ0AknUoM/o1BQEeIvO6Xr0dAyXqhMXDmR0DQgReMeYRPQGma38hmBlBAK+w8BhgqUkDIUXOQNFdTQApsL1lFB1RAblkKdMlWVUDyYPYvI/JUQNnD8dTQ8lRAit73oboIVECDcuwzDy1WQKdZtS/dc1VAV/fHeKbiVEDq4yBviYxTQBxCSOcCw1FAq7tHcLK2UEDzcMgnYOVNQEVG3u2uGU5AQ+F+g3DQWEDzSZto//9XQAZbsSYrIFdAoBPBhhdhV0BFKWAFGOVYQK9SYFKzKFRAcTXAejQ0U0BXTtRwB5ZSQMBlI865oVJAOni4cnV0UkBOyIvjoHlSQHgTcfO8sUtAqxo746YmTEBWLDrtW+pLQK8p7Ldxc0VASbwVsePjQkDLUrIuI8lCQGujTdwJEURAstFwxH71Q0A2urBZIQFHQADDDPPgJ0VAIhdqPp9EQkBFqyK6UVtAQLtMrM++Yj1AZwO5lz4NPEDLizwnvpwwQAOOFyINgjJAi9Hx06PJMEASlN4czmIzQAjyDbj3Ci1AGeHgYOUSOECituRsDpQ0QMTgRKnC6TNA8pg69Sw8NED60QMu7j04QDAohZDiFjJAZH2r//hWJEDVrtye5soqQB0nVhz/OS9Aa9yW3Vc2MEAuzH4abjscQLH291pX0ipAg9JkPti5MUBgkKjbT9ErQEKqnEY3YydACnEz8Qe9IkC58xmY6UMlQJWrWv1RRxpAPHgLux8OJkBc6lgQxwknQCC5TLFGlRZAQ2wsgY0UJUDq4mIertUhQFVkhNnD/DFAxL4ITknTL0BmXsOa7j0vQJHlUrYcgBdA2Ku4ZdxxIkAw4fW0mu08QAFkPNjvREBAPvWZgZtfQ0BSJAaay4tYQHI1P7Fvh1dAhiM4DLfcVUA=",
          "dtype": "f8"
         },
         "yaxis": "y"
        },
        {
         "hovertemplate": "dataset=slant_down<br>x=%{x}<br>y=%{y}<extra></extra>",
         "legendgroup": "slant_down",
         "marker": {
          "color": "#EF553B",
          "symbol": "circle"
         },
         "mode": "markers",
         "name": "slant_down",
         "showlegend": true,
         "type": "scattergl",
         "x": {
          "bdata": "uuhyZp5vSkDipZ58z4FNQDdBr5IDMExA4Kcv5WrrQkB9q4jqU/FDQJ+HUGnoCUZApqz7Dz1/P0BzogFe3fM5QHRtggilN0JAyyuQBlv/OEBBwJHxhR9AQOBpVmAGHDJAVFStKM3LNUDxsSuVhiY4QJeI5QZrmjxAarvgh5fuNEAM05+Hv7dBQJK3khROMEZABGOgEicoR0DGxszeajFHQEivrpRqP0VAi+rORncmRkA8spQRgH5HQOFKknj0NUpABHAR6tIFUEBtxIzaKIJPQMCDym9d01BAuqTjE3bOUEDshtC1rSdJQEXAL1rRtEZAeE2RQaMCS0D4eZFix+tIQFx3cWZNW0lAgJlJvtSFS0BOmrwAmMVCQA8ntfrf5UNAz1w49PyFPECVIUkzT2Y/QBC355vrnkNAQ8xUacy2O0BZkT5V+HpAQD6CqGXOs0FA3qG0eTTSSUCUU91RkxpBQL5s27EBQ0JAZZqm1FBrPECjtdtTFik6QHuV4s64N0RAqbSBGMFFRkDjh/xK1g9EQG4Q3rynF0VAghK8I1cARECUBzKSB5BMQCmZPmkYME5A6UAVAY6NS0AJQp3lXt5OQFVAEhjh3ktAYg8CtvAlTUBFflk4coVMQO9wMJ2jMVNAZWWz38X4UUCRM060dHJSQGpkPZjwyFJAcZnFFiomUECqFgzDa3RHQMh28Gvac0dAalbGX0vnSECHWzq1fm5IQFmA5lfir1BA2zRU0gwuT0BjkL2b/K9HQFwPRdIluUdA9Gc14FCxSkD3ewxU8rlIQEo9JU2+ZktA2hDWnUuLQkCRoTOFHzBAQCBDfcoOvUJA9yMwEg00SkDnaIODBSZJQAAWbgMbyE5AcysyaRSLTkBuRUVRRZ5NQOBEJjjbiVBApxZhMM7OUEC+rTkdb21SQORzcx0mJVNAXs/h5xm4U0CHz3RzvFxTQACTJCSjtlVAtD92NZ7zU0DWHmPfPz9TQDM5Fsut3lNAJiOqWXeTVEBXnRkg2KxWQMKPrxpi3FdAghwb2Na/V0AyecZoJOFWQGT0nUx1JU9AkXEbfQuaTUAg8zi9aFBQQJnPeVLtOE9AWwGOEJgdUkC8Sjjh13pRQNgU4q7ScFNAZqUDedExUkASwWM4sUxQQJkM/VNuXVFAY3xCvVOoTUASxiZkbb5JQL7QbK5kjkxAH4kVubkcSUCyh3TDiDdJQOGf9ditMExADkKYUYduS0AQM+BV+79GQN5UKkXn90hAVe1s6qnnSkDsKdiPJO1NQGE0/et7FkhA6CV/pvBeSUBRXUx12TpNQFHMqiGrDklAbgxxFM+1RkDf+mjkN61JQED9dvi8i0pAjnBrrrl4TUACt72IzqdNQB/xuYA4DlFAdt6TvoFBT0DZCOvXUlhRQPID2EI3s1RA8+3k4UJKVUDDAGFeIsZQQB0u615kJ09A8aBqjzb8TUBT5Bx2sPRDQE7q4CRazENALPjDiPrlV0BYNj5W2mJKQA4wotbclkpAS1muSUPQQkA=",
          "dtype": "f8"
         },
         "xaxis": "x",
         "y": {
          "bdata": "W00qXPdVWEBnB/u/ymRXQFLT7ImHE1hAQolSHwGXV0BrOrVNnqhWQDdeAvsNCFVAfcEaa2f6UECr7n2gH0JSQGt+IUijJU9AMwLZi0LcUkB1d9HaE4dRQBDP/1uj2kpAgzNelfC/SEAoedndIZhHQLnvB/KiHEZAC6ks2LfSSUAOZ15MA3tBQGUannWl10xAMeybeMHXS0DbLHbtRoBJQFblH9arc0xA1JFDzwQRTUAFN6Zs17VLQM00LAn67kdAIskIvakpUUAeZlqkag5RQM46VCx2GlBA8B8vBfs8T0BH2t/zSaJHQN3qdkx270pAs+Hb/YuiR0AQuS53zElJQDv8FEvaYkhAz0lyLz7+RkDPhbS2J3FAQMx21s52cTxAUbXcKPnlQ0DylzEl9KFDQPpK5OZCrkBA0nwQsQEgRUBHZ/S1W+lBQAkGAu9s8D9AHS1Tv05rSUCwRQ3RAcxAQOeb4unk1UFA2luP4NRQNUDOrYmuzwo3QNBuzrPboztABCO37rtcO0CNeKy9uhI+QL406VjckjxAwhGedM18O0DOIdwtmF5FQNfSZWqgrURAH7HhGhQTR0A+zBkr3EpDQERQDWmoU0dAqZouOabKREDY+YTamTVFQBv8srCWoEtAXUdj0CyiTUAEc3zFdk9NQHONW3xNH0tAG3nF+PV8UECj9WJyi2ZVQB/pPHwzZFRAoj0uD3GFVEDjr3GHIspUQDEL+DNPAFVAy4HGH5iPVkC2OjL3Ld5UQOuLPeHQp1RAVkFIssC3U0AtUgz/jvtTQNFRsodL11JA5SBsobltTkCPTUdIsSBRQP9vHqbz5E9AYy3c/zkbWEAV2Eg7OulYQDdDFA1Od1ZA3ivK11tOVkBcpRJayt5WQISc6fkpB1VAt6t2no9DVUCGyF6wUZFTQKeeSuMOOVJAapoZdADkUUBqEfe3oBxSQBOdG9LFYlBAOPDBJ5FcSkCUyTba9BlLQKJTS8sMkkhATeoL7tV+R0BvgJLsvLtEQD7IeyRIGEJATw+g0zKMQUCIJWIk9HFCQNsZZb/HA0RA9x3XkKWiREDKVa9IU21AQH/707EetUFAOisKwc+fO0Dnjr7Fo089QIv/SajKfTdAzuRofInmOkA/6HVdeoNAQI+LH6hwMj5ATCXVmWi1KEBbXrne9tc0QDdPsQbBpC5AzzGYrsQrM0Czxs5L7YgyQLAvuv2wky1AZCdZ2usELEAb9iMuJ+IPQAAne5cQlzVA9hXLvDPEMUAlLutQdBQiQD3klF5uhTNARCb+v6HWMUAlRqWJHUwsQCIn6PQG3fs/rUKgyFh9FUB7yhpPpXLTP2dobW8/SjNAj3MwHss5J0BLgQ0P7yQlQMK/Db1fJPI/hEPhpQX3HUDn/mTZY8/3P+dVeDOFhzJA/JWcu2cJLkCdjpLuaT/jP0Z1c1/5/xZAaxtb3DqnH0C6lEFVbxJAQO+rwsNsEUBAQuy38/edQEDrMrweQ+dYQPbCYqmlplhA4CXOEOJDV0A=",
          "dtype": "f8"
         },
         "yaxis": "y"
        },
        {
         "hovertemplate": "dataset=wide_lines<br>x=%{x}<br>y=%{y}<extra></extra>",
         "legendgroup": "wide_lines",
         "marker": {
          "color": "#00cc96",
          "symbol": "circle"
         },
         "mode": "markers",
         "name": "wide_lines",
         "showlegend": true,
         "type": "scattergl",
         "x": {
          "bdata": "j7gUzzF0UED0CnVkBmtQQGQaPgNZgENAxcpze8zlQkAGfZB+x8FBQBGSZwgXnENA3TC1XZSWP0AEBeATMlRAQJ7EgNk/pD9AMwLKYLX8PkAbdni8i3A7QLdVfg0QlD5Abj4Y8jTPPEBIEiFKhPA7QLTamCfL7EBAhxkpenFQQEDsHKivJThAQHUirSdN60FArZVfdi6SQkAc0zqCgFJBQEJxPKlz1kFAhK7QSac/UEAQi6r9Q4hQQH/tWQqaclBAa4JvLB3gUEBhPQD2SehQQItEp/p89E9AQ1dTriijUED4/pp1TANQQJW7RdteDFFAZzzqINFRUECAnU1es39BQL/uRvg99kBAgBT6+kiAUECd24gP+oJCQMXaBepgWUFA1UGvVoVuQUAdY0iBDhc/QCBpHFztdUFAbLO7hOZXPkDJtWm43b1BQCPxfIsRnkBAXyCOElC4QUDbXvgoz+9AQKLVqlVrkDxAELUR8c1RP0DWt4cV0ss+QLAwRJfeHUFAdBHNpr1QQkCQGJYmOUZBQC7rWWuDwkJA6BUAQH02T0B/WQcrgRRQQJnDy5qDXFBAtQDgJdcUUED0pr/q6lBQQGXceYfgmFBABAt/RUAMUUCI1642miJRQPCuzeNU6lBAqlGvpzsrUUD8rH28OkVRQH4NyCseQ1FAaY6L7rnTUEAXpeTSgVtDQF5HF/knxkFAS+G6VPdaQkCnl7gPaTpQQEn7x8wahFBAnF++ROY7UEChz7sBs8FQQGLRnhoZVFBAfrUZ2eQSUEClfgpDJWZDQL6wNjd/VkFAaCf5jCG4PkAD4OeVdQ1BQMBCfwwxtkBAY9srdRWUUEAPrW0A0VNQQJ7xG2yzbVBAOTgUI/vlUECZIplG1ZhQQAN6B5aY81BAqSxJaJu9UUAw0FzAl/9RQCEADpu1HlJAzfgG/ASFUkBgmvuKUgJSQCIRrEjiP1JASGpI9fmzUkCkmJJdv0FSQOJs2o9LRFNAV/NAxRjBUkC/UuJmlCpTQH5j9a6delNA9kvbrn1vUkDk+K6zG9VSQJYWoyaJtE9AKTR2rdA2UUA+vzFFnpVQQJpGU7kJDVBAN9AUoukfUECbUXr9BTlRQEqa0gnHF1JAOtoDufxwUUCetkOVwydRQNa0NSAOE1BAL2ldwsCsUEDXhaGK2eJQQOA4/Lg1+U9ATNeNI9gYUECHBOyge2RQQKaEoiiQM0NA0HfkxYrqQkDp86KNu3NCQKgo5VWgJEJAIRp6YLBkT0DKxzzbVLRQQHcUVEVSsFBAc4lfBJhaUECXo4BjIXlCQFm1dNin6UJAGL8m9IVcQkC8cNZNscRQQCntFzCEJlBAPDNmbvxbUEBuxxTnQcBQQAVisilZrlBAHuWbBrATUUBXr/SzJzFRQNbCjZS0ilJAdtoId585UEDIgWAY3DBRQPiJTlFItFBAC63gVczTUEBQ2TKVrF1BQLIA0B5U1kBARydB8iToUkA/DACXGE5EQAnHW4+jjkNAiTAI6LpKQUA=",
          "dtype": "f8"
         },
         "xaxis": "x",
         "y": {
          "bdata": "KnKq66flV0DPCPTavPtWQN6C1/TBEFdAVDKmvxNiV0Ditn0hWWZWQLdTCmjI4lRAN3phnMtBU0ChHuaASQdUQHLMFOQXZ1NA22gd6dX4T0CTtPRHpW9QQGhx9Y1nYVBAxFsJE33PTUAUOxOEFn5JQPIhnqhpJEdAlos8/icIS0BJCYgklvNIQPHA5ZH9rEpA4LcRdvneSEDGxAuG2DhLQJNgyRQV0EhAR421eii7SEBdmwBZZdJOQKK4hgEC+UtAyRnsQNRsTkAbzJzy7LZOQMKgk3h1fE9AnSdrC3DuUECyY/PW+GhIQP6iyL6SRUdAwAslUwFpRkAj0vnjC6I8QNPSAhuDx0pAbZsRPaNXSkBdGV1oKg9AQPq0f2fYPEJA2BiJS3TwPkAPL+nfHjFAQMBNzGCPtUFA/u/W4iRDQEDZmrXk7T5GQNM79mJRQENAE6RODxXmR0Dno7rwK4dCQIaVrd0tUEFAXhOSSPupP0Atj5Jv34Q3QEUmDhD0fjZADm4UnRF6P0Ad4BxBcBw6QJY64dGBRD1AoncTjagFQUBeIY8DH8k/QEj/hQUCo0VAWM5dUNjORECrvtuB2NtBQNCWGZUgbENAg3+ju7GVRkBLAY6hIThIQEm7N2HHiElAVhp10Iw7SUDyvZ3FrbxLQIfNJEttl1BABENPa8flUUAih6UVaBlTQBp4Y7mEU1ZAVqRjQsyEVUDmvvu4VOlVQLJPd9NaTVZAy8Ex6Z3EVUAP4fKwPQ5TQLJe2mEUfFNAtcVpCw4IVUA6l6eRFKdSQKXlFmvO6FNA3kmzlfFnTUBE2nHERAhQQO1lw6ggxlBAUgJt8pW7WEC8Mv7tkYpYQG5MRzAp0lhAelkvF+y8VkDxixqu/1FWQMIhAxkL7FZASzp15iihVUDhjcVpirRTQMJsJWQ+M1RAYNWo4eU8UkAiYLy8021RQH1iiNgz1U1AW3qnT4HLTEB1rJSWGCNHQGsU0lVTvklAn1RiM6xPR0BPgMYkWjhDQPhj0M2i9kZAWAFzcnyPQ0Dxjbr4SGpAQA5V/qNZMENA+hb+VcWKRUBGrEG4O6dAQKesvqzkpDpAgoRHbA7dNkCMg3Ui1Es7QO0vwQUu9jVAHdIIM/b/M0Aqi3fFaeoyQCPZIYrCbTRAvCluXlGXMkAX4dUSrHIwQN6fulFesTJAYvcfDa6LL0DItRq7CMQ3QAuiEO7+CzNA71mz62DwLEB1uuvl6SorQASfU8oTGzFAex2QQ4bWK0CZT9LTMtMmQCIIuY7WFTJAbgHTeFHtJEAXKdV8XAcrQPiEZMS6MyNAnk3hkqaqIkBJLapOZTIYQMPzpUL7AChAz7MV2DwXL0AYwnMwELEuQDK7CALN/xRAGs5bStSPKkDdG2ta/AorQJI45CtHZhVA7X6hQMk+MECtmDR/sWYhQIt2NzztiyhAfVheiNzGyz8a2uo9D5ozQOSOzF0qFzpAKSCh8XqQQkBvaG4nuEhWQBZEfQPVHlhAI272kbBlVkA=",
          "dtype": "f8"
         },
         "yaxis": "y"
        }
       ],
       "layout": {
        "legend": {
         "title": {
          "text": "dataset"
         },
         "tracegroupgap": 0
        },
        "margin": {
         "t": 60
        },
        "plot_bgcolor": "white",
        "template": {
         "data": {
          "bar": [
           {
            "error_x": {
             "color": "#2a3f5f"
            },
            "error_y": {
             "color": "#2a3f5f"
            },
            "marker": {
             "line": {
              "color": "#E5ECF6",
              "width": 0.5
             },
             "pattern": {
              "fillmode": "overlay",
              "size": 10,
              "solidity": 0.2
             }
            },
            "type": "bar"
           }
          ],
          "barpolar": [
           {
            "marker": {
             "line": {
              "color": "#E5ECF6",
              "width": 0.5
             },
             "pattern": {
              "fillmode": "overlay",
              "size": 10,
              "solidity": 0.2
             }
            },
            "type": "barpolar"
           }
          ],
          "carpet": [
           {
            "aaxis": {
             "endlinecolor": "#2a3f5f",
             "gridcolor": "white",
             "linecolor": "white",
             "minorgridcolor": "white",
             "startlinecolor": "#2a3f5f"
            },
            "baxis": {
             "endlinecolor": "#2a3f5f",
             "gridcolor": "white",
             "linecolor": "white",
             "minorgridcolor": "white",
             "startlinecolor": "#2a3f5f"
            },
            "type": "carpet"
           }
          ],
          "choropleth": [
           {
            "colorbar": {
             "outlinewidth": 0,
             "ticks": ""
            },
            "type": "choropleth"
           }
          ],
          "contour": [
           {
            "colorbar": {
             "outlinewidth": 0,
             "ticks": ""
            },
            "colorscale": [
             [
              0,
              "#0d0887"
             ],
             [
              0.1111111111111111,
              "#46039f"
             ],
             [
              0.2222222222222222,
              "#7201a8"
             ],
             [
              0.3333333333333333,
              "#9c179e"
             ],
             [
              0.4444444444444444,
              "#bd3786"
             ],
             [
              0.5555555555555556,
              "#d8576b"
             ],
             [
              0.6666666666666666,
              "#ed7953"
             ],
             [
              0.7777777777777778,
              "#fb9f3a"
             ],
             [
              0.8888888888888888,
              "#fdca26"
             ],
             [
              1,
              "#f0f921"
             ]
            ],
            "type": "contour"
           }
          ],
          "contourcarpet": [
           {
            "colorbar": {
             "outlinewidth": 0,
             "ticks": ""
            },
            "type": "contourcarpet"
           }
          ],
          "heatmap": [
           {
            "colorbar": {
             "outlinewidth": 0,
             "ticks": ""
            },
            "colorscale": [
             [
              0,
              "#0d0887"
             ],
             [
              0.1111111111111111,
              "#46039f"
             ],
             [
              0.2222222222222222,
              "#7201a8"
             ],
             [
              0.3333333333333333,
              "#9c179e"
             ],
             [
              0.4444444444444444,
              "#bd3786"
             ],
             [
              0.5555555555555556,
              "#d8576b"
             ],
             [
              0.6666666666666666,
              "#ed7953"
             ],
             [
              0.7777777777777778,
              "#fb9f3a"
             ],
             [
              0.8888888888888888,
              "#fdca26"
             ],
             [
              1,
              "#f0f921"
             ]
            ],
            "type": "heatmap"
           }
          ],
          "histogram": [
           {
            "marker": {
             "pattern": {
              "fillmode": "overlay",
              "size": 10,
              "solidity": 0.2
             }
            },
            "type": "histogram"
           }
          ],
          "histogram2d": [
           {
            "colorbar": {
             "outlinewidth": 0,
             "ticks": ""
            },
            "colorscale": [
             [
              0,
              "#0d0887"
             ],
             [
              0.1111111111111111,
              "#46039f"
             ],
             [
              0.2222222222222222,
              "#7201a8"
             ],
             [
              0.3333333333333333,
              "#9c179e"
             ],
             [
              0.4444444444444444,
              "#bd3786"
             ],
             [
              0.5555555555555556,
              "#d8576b"
             ],
             [
              0.6666666666666666,
              "#ed7953"
             ],
             [
              0.7777777777777778,
              "#fb9f3a"
             ],
             [
              0.8888888888888888,
              "#fdca26"
             ],
             [
              1,
              "#f0f921"
             ]
            ],
            "type": "histogram2d"
           }
          ],
          "histogram2dcontour": [
           {
            "colorbar": {
             "outlinewidth": 0,
             "ticks": ""
            },
            "colorscale": [
             [
              0,
              "#0d0887"
             ],
             [
              0.1111111111111111,
              "#46039f"
             ],
             [
              0.2222222222222222,
              "#7201a8"
             ],
             [
              0.3333333333333333,
              "#9c179e"
             ],
             [
              0.4444444444444444,
              "#bd3786"
             ],
             [
              0.5555555555555556,
              "#d8576b"
             ],
             [
              0.6666666666666666,
              "#ed7953"
             ],
             [
              0.7777777777777778,
              "#fb9f3a"
             ],
             [
              0.8888888888888888,
              "#fdca26"
             ],
             [
              1,
              "#f0f921"
             ]
            ],
            "type": "histogram2dcontour"
           }
          ],
          "mesh3d": [
           {
            "colorbar": {
             "outlinewidth": 0,
             "ticks": ""
            },
            "type": "mesh3d"
           }
          ],
          "parcoords": [
           {
            "line": {
             "colorbar": {
              "outlinewidth": 0,
              "ticks": ""
             }
            },
            "type": "parcoords"
           }
          ],
          "pie": [
           {
            "automargin": true,
            "type": "pie"
           }
          ],
          "scatter": [
           {
            "fillpattern": {
             "fillmode": "overlay",
             "size": 10,
             "solidity": 0.2
            },
            "type": "scatter"
           }
          ],
          "scatter3d": [
           {
            "line": {
             "colorbar": {
              "outlinewidth": 0,
              "ticks": ""
             }
            },
            "marker": {
             "colorbar": {
              "outlinewidth": 0,
              "ticks": ""
             }
            },
            "type": "scatter3d"
           }
          ],
          "scattercarpet": [
           {
            "marker": {
             "colorbar": {
              "outlinewidth": 0,
              "ticks": ""
             }
            },
            "type": "scattercarpet"
           }
          ],
          "scattergeo": [
           {
            "marker": {
             "colorbar": {
              "outlinewidth": 0,
              "ticks": ""
             }
            },
            "type": "scattergeo"
           }
          ],
          "scattergl": [
           {
            "marker": {
             "colorbar": {
              "outlinewidth": 0,
              "ticks": ""
             }
            },
            "type": "scattergl"
           }
          ],
          "scattermap": [
           {
            "marker": {
             "colorbar": {
              "outlinewidth": 0,
              "ticks": ""
             }
            },
            "type": "scattermap"
           }
          ],
          "scattermapbox": [
           {
            "marker": {
             "colorbar": {
              "outlinewidth": 0,
              "ticks": ""
             }
            },
            "type": "scattermapbox"
           }
          ],
          "scatterpolar": [
           {
            "marker": {
             "colorbar": {
              "outlinewidth": 0,
              "ticks": ""
             }
            },
            "type": "scatterpolar"
           }
          ],
          "scatterpolargl": [
           {
            "marker": {
             "colorbar": {
              "outlinewidth": 0,
              "ticks": ""
             }
            },
            "type": "scatterpolargl"
           }
          ],
          "scatterternary": [
           {
            "marker": {
             "colorbar": {
              "outlinewidth": 0,
              "ticks": ""
             }
            },
            "type": "scatterternary"
           }
          ],
          "surface": [
           {
            "colorbar": {
             "outlinewidth": 0,
             "ticks": ""
            },
            "colorscale": [
             [
              0,
              "#0d0887"
             ],
             [
              0.1111111111111111,
              "#46039f"
             ],
             [
              0.2222222222222222,
              "#7201a8"
             ],
             [
              0.3333333333333333,
              "#9c179e"
             ],
             [
              0.4444444444444444,
              "#bd3786"
             ],
             [
              0.5555555555555556,
              "#d8576b"
             ],
             [
              0.6666666666666666,
              "#ed7953"
             ],
             [
              0.7777777777777778,
              "#fb9f3a"
             ],
             [
              0.8888888888888888,
              "#fdca26"
             ],
             [
              1,
              "#f0f921"
             ]
            ],
            "type": "surface"
           }
          ],
          "table": [
           {
            "cells": {
             "fill": {
              "color": "#EBF0F8"
             },
             "line": {
              "color": "white"
             }
            },
            "header": {
             "fill": {
              "color": "#C8D4E3"
             },
             "line": {
              "color": "white"
             }
            },
            "type": "table"
           }
          ]
         },
         "layout": {
          "annotationdefaults": {
           "arrowcolor": "#2a3f5f",
           "arrowhead": 0,
           "arrowwidth": 1
          },
          "autotypenumbers": "strict",
          "coloraxis": {
           "colorbar": {
            "outlinewidth": 0,
            "ticks": ""
           }
          },
          "colorscale": {
           "diverging": [
            [
             0,
             "#8e0152"
            ],
            [
             0.1,
             "#c51b7d"
            ],
            [
             0.2,
             "#de77ae"
            ],
            [
             0.3,
             "#f1b6da"
            ],
            [
             0.4,
             "#fde0ef"
            ],
            [
             0.5,
             "#f7f7f7"
            ],
            [
             0.6,
             "#e6f5d0"
            ],
            [
             0.7,
             "#b8e186"
            ],
            [
             0.8,
             "#7fbc41"
            ],
            [
             0.9,
             "#4d9221"
            ],
            [
             1,
             "#276419"
            ]
           ],
           "sequential": [
            [
             0,
             "#0d0887"
            ],
            [
             0.1111111111111111,
             "#46039f"
            ],
            [
             0.2222222222222222,
             "#7201a8"
            ],
            [
             0.3333333333333333,
             "#9c179e"
            ],
            [
             0.4444444444444444,
             "#bd3786"
            ],
            [
             0.5555555555555556,
             "#d8576b"
            ],
            [
             0.6666666666666666,
             "#ed7953"
            ],
            [
             0.7777777777777778,
             "#fb9f3a"
            ],
            [
             0.8888888888888888,
             "#fdca26"
            ],
            [
             1,
             "#f0f921"
            ]
           ],
           "sequentialminus": [
            [
             0,
             "#0d0887"
            ],
            [
             0.1111111111111111,
             "#46039f"
            ],
            [
             0.2222222222222222,
             "#7201a8"
            ],
            [
             0.3333333333333333,
             "#9c179e"
            ],
            [
             0.4444444444444444,
             "#bd3786"
            ],
            [
             0.5555555555555556,
             "#d8576b"
            ],
            [
             0.6666666666666666,
             "#ed7953"
            ],
            [
             0.7777777777777778,
             "#fb9f3a"
            ],
            [
             0.8888888888888888,
             "#fdca26"
            ],
            [
             1,
             "#f0f921"
            ]
           ]
          },
          "colorway": [
           "#636efa",
           "#EF553B",
           "#00cc96",
           "#ab63fa",
           "#FFA15A",
           "#19d3f3",
           "#FF6692",
           "#B6E880",
           "#FF97FF",
           "#FECB52"
          ],
          "font": {
           "color": "#2a3f5f"
          },
          "geo": {
           "bgcolor": "white",
           "lakecolor": "white",
           "landcolor": "#E5ECF6",
           "showlakes": true,
           "showland": true,
           "subunitcolor": "white"
          },
          "hoverlabel": {
           "align": "left"
          },
          "hovermode": "closest",
          "mapbox": {
           "style": "light"
          },
          "paper_bgcolor": "white",
          "plot_bgcolor": "#E5ECF6",
          "polar": {
           "angularaxis": {
            "gridcolor": "white",
            "linecolor": "white",
            "ticks": ""
           },
           "bgcolor": "#E5ECF6",
           "radialaxis": {
            "gridcolor": "white",
            "linecolor": "white",
            "ticks": ""
           }
          },
          "scene": {
           "xaxis": {
            "backgroundcolor": "#E5ECF6",
            "gridcolor": "white",
            "gridwidth": 2,
            "linecolor": "white",
            "showbackground": true,
            "ticks": "",
            "zerolinecolor": "white"
           },
           "yaxis": {
            "backgroundcolor": "#E5ECF6",
            "gridcolor": "white",
            "gridwidth": 2,
            "linecolor": "white",
            "showbackground": true,
            "ticks": "",
            "zerolinecolor": "white"
           },
           "zaxis": {
            "backgroundcolor": "#E5ECF6",
            "gridcolor": "white",
            "gridwidth": 2,
            "linecolor": "white",
            "showbackground": true,
            "ticks": "",
            "zerolinecolor": "white"
           }
          },
          "shapedefaults": {
           "line": {
            "color": "#2a3f5f"
           }
          },
          "ternary": {
           "aaxis": {
            "gridcolor": "white",
            "linecolor": "white",
            "ticks": ""
           },
           "baxis": {
            "gridcolor": "white",
            "linecolor": "white",
            "ticks": ""
           },
           "bgcolor": "#E5ECF6",
           "caxis": {
            "gridcolor": "white",
            "linecolor": "white",
            "ticks": ""
           }
          },
          "title": {
           "x": 0.05
          },
          "xaxis": {
           "automargin": true,
           "gridcolor": "white",
           "linecolor": "white",
           "ticks": "",
           "title": {
            "standoff": 15
           },
           "zerolinecolor": "white",
           "zerolinewidth": 2
          },
          "yaxis": {
           "automargin": true,
           "gridcolor": "white",
           "linecolor": "white",
           "ticks": "",
           "title": {
            "standoff": 15
           },
           "zerolinecolor": "white",
           "zerolinewidth": 2
          }
         }
        },
        "xaxis": {
         "anchor": "y",
         "domain": [
          0,
          1
         ],
         "title": {
          "text": "Вещественная переменная X"
         }
        },
        "yaxis": {
         "anchor": "x",
         "domain": [
          0,
          1
         ],
         "title": {
          "text": "Вещественная переменная Y"
         }
        }
       }
      }
     },
     "metadata": {},
     "output_type": "display_data"
    }
   ],
   "source": [
    "# График разброса\n",
    "fig = px.scatter(df, x='x', y='y', color='dataset', size_max=10)\n",
    "\n",
    "# Фон и подписи\n",
    "fig.update_layout(\n",
    "    plot_bgcolor='white',\n",
    "    xaxis_title='Вещественная переменная X',\n",
    "    yaxis_title='Вещественная переменная Y'\n",
    ")\n",
    "\n",
    "fig.show()"
   ]
  }
 ],
 "metadata": {
  "kernelspec": {
   "display_name": ".venv",
   "language": "python",
   "name": "python3"
  },
  "language_info": {
   "codemirror_mode": {
    "name": "ipython",
    "version": 3
   },
   "file_extension": ".py",
   "mimetype": "text/x-python",
   "name": "python",
   "nbconvert_exporter": "python",
   "pygments_lexer": "ipython3",
   "version": "3.12.4"
  }
 },
 "nbformat": 4,
 "nbformat_minor": 5
}
