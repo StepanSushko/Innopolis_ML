{
 "cells": [
  {
   "cell_type": "markdown",
   "id": "b36e7a77",
   "metadata": {},
   "source": [
    "# Подключение к БД и выполнение запроса"
   ]
  },
  {
   "cell_type": "code",
   "execution_count": 7,
   "id": "454be151",
   "metadata": {},
   "outputs": [],
   "source": [
    "import psycopg2\n",
    "from psycopg2 import OperationalError"
   ]
  },
  {
   "cell_type": "code",
   "execution_count": 8,
   "id": "1e150cfb",
   "metadata": {},
   "outputs": [],
   "source": [
    "conn = psycopg2.connect(\n",
    "        dbname=\"postgres\",\n",
    "        user=\"postgres\",\n",
    "        password=\"mhSrgTm85\",\n",
    "        host=\"localhost\",\n",
    "        port=\"5432\"\n",
    "    )\n",
    "    \n",
    "cursor = conn.cursor()\n",
    "\n",
    "query = \"\"\"\n",
    "SELECT\n",
    "    c.customer_id,\n",
    "    CONCAT(c.first_name, ' ', c.last_name) AS customer_name,\n",
    "    SUM(p.amount) AS total_payments,\n",
    "    COUNT(r.rental_id) AS rental_count,\n",
    "    CASE\n",
    "        WHEN SUM(p.amount) >= 200 THEN 'Platinum'\n",
    "        WHEN SUM(p.amount) >= 100 THEN 'Gold'\n",
    "        WHEN SUM(p.amount) >= 50 THEN 'Silver'\n",
    "        ELSE 'Ordinary'\n",
    "    END AS customer_category,\n",
    "    RANK() OVER (ORDER BY SUM(p.amount) DESC) AS payment_rank\n",
    "FROM customer c\n",
    "-- Первый JOIN: связываем customer с rental через customer_id\n",
    "JOIN rental r ON c.customer_id = r.customer_id\n",
    "-- Второй JOIN: связываем rental с payment через rental_id\n",
    "JOIN payment p ON r.rental_id = p.rental_id\n",
    "GROUP BY c.customer_id\n",
    "ORDER BY total_payments DESC;\n",
    "\"\"\"\n",
    "# Execute the query\n",
    "cursor.execute(query)"
   ]
  },
  {
   "cell_type": "markdown",
   "id": "cb92ffd3",
   "metadata": {},
   "source": [
    "# Сохранение результатов"
   ]
  },
  {
   "cell_type": "code",
   "execution_count": 9,
   "id": "57744f24",
   "metadata": {},
   "outputs": [
    {
     "data": {
      "application/vnd.microsoft.datawrangler.viewer.v0+json": {
       "columns": [
        {
         "name": "index",
         "rawType": "int64",
         "type": "integer"
        },
        {
         "name": "customer_id",
         "rawType": "int64",
         "type": "integer"
        },
        {
         "name": "customer_name",
         "rawType": "object",
         "type": "string"
        },
        {
         "name": "total_payments",
         "rawType": "object",
         "type": "unknown"
        },
        {
         "name": "rental_count",
         "rawType": "int64",
         "type": "integer"
        },
        {
         "name": "customer_category",
         "rawType": "object",
         "type": "string"
        },
        {
         "name": "payment_rank",
         "rawType": "int64",
         "type": "integer"
        }
       ],
       "conversionMethod": "pd.DataFrame",
       "ref": "b621d681-25a8-4af4-9be9-7458df4d46d0",
       "rows": [
        [
         "0",
         "148",
         "Eleanor Hunt",
         "211.55",
         "45",
         "Platinum",
         "1"
        ],
        [
         "1",
         "526",
         "Karl Seal",
         "208.58",
         "42",
         "Platinum",
         "2"
        ],
        [
         "2",
         "178",
         "Marion Snyder",
         "194.61",
         "39",
         "Gold",
         "3"
        ],
        [
         "3",
         "137",
         "Rhonda Kennedy",
         "191.62",
         "38",
         "Gold",
         "4"
        ],
        [
         "4",
         "144",
         "Clara Shaw",
         "189.60",
         "40",
         "Gold",
         "5"
        ],
        [
         "5",
         "459",
         "Tommy Collazo",
         "183.63",
         "37",
         "Gold",
         "6"
        ],
        [
         "6",
         "181",
         "Ana Bradley",
         "167.67",
         "33",
         "Gold",
         "7"
        ],
        [
         "7",
         "410",
         "Curtis Irby",
         "167.62",
         "38",
         "Gold",
         "8"
        ],
        [
         "8",
         "236",
         "Marcia Dean",
         "166.61",
         "39",
         "Gold",
         "9"
        ],
        [
         "9",
         "403",
         "Mike Way",
         "162.67",
         "33",
         "Gold",
         "10"
        ],
        [
         "10",
         "522",
         "Arnold Havens",
         "161.68",
         "32",
         "Gold",
         "11"
        ],
        [
         "11",
         "469",
         "Wesley Bull",
         "158.65",
         "35",
         "Gold",
         "12"
        ],
        [
         "12",
         "470",
         "Gordon Allard",
         "157.69",
         "31",
         "Gold",
         "13"
        ],
        [
         "13",
         "373",
         "Louis Leone",
         "156.66",
         "34",
         "Gold",
         "14"
        ],
        [
         "14",
         "468",
         "Tim Cary",
         "154.66",
         "34",
         "Gold",
         "15"
        ],
        [
         "15",
         "259",
         "Lena Jensen",
         "152.71",
         "29",
         "Gold",
         "16"
        ],
        [
         "16",
         "462",
         "Warren Sherrod",
         "152.69",
         "31",
         "Gold",
         "17"
        ],
        [
         "17",
         "372",
         "Steve Mackenzie",
         "152.68",
         "32",
         "Gold",
         "18"
        ],
        [
         "18",
         "187",
         "Brittany Riley",
         "151.73",
         "27",
         "Gold",
         "19"
        ],
        [
         "19",
         "550",
         "Guy Brownlee",
         "151.69",
         "31",
         "Gold",
         "20"
        ],
        [
         "20",
         "176",
         "June Carroll",
         "151.68",
         "32",
         "Gold",
         "21"
        ],
        [
         "21",
         "532",
         "Neil Renner",
         "149.69",
         "31",
         "Gold",
         "22"
        ],
        [
         "22",
         "75",
         "Tammy Sanders",
         "149.61",
         "39",
         "Gold",
         "23"
        ],
        [
         "23",
         "209",
         "Tonya Chapman",
         "147.71",
         "29",
         "Gold",
         "24"
        ],
        [
         "24",
         "86",
         "Jacqueline Long",
         "146.68",
         "32",
         "Gold",
         "25"
        ],
        [
         "25",
         "26",
         "Jessica Hall",
         "146.68",
         "32",
         "Gold",
         "25"
        ],
        [
         "26",
         "21",
         "Michelle Clark",
         "146.68",
         "32",
         "Gold",
         "25"
        ],
        [
         "27",
         "211",
         "Stacey Montgomery",
         "146.67",
         "33",
         "Gold",
         "28"
        ],
        [
         "28",
         "346",
         "Arthur Simpkins",
         "145.70",
         "30",
         "Gold",
         "29"
        ],
        [
         "29",
         "366",
         "Brandon Huey",
         "145.64",
         "36",
         "Gold",
         "30"
        ],
        [
         "30",
         "50",
         "Diane Collins",
         "144.70",
         "30",
         "Gold",
         "31"
        ],
        [
         "31",
         "360",
         "Ralph Madrigal",
         "144.68",
         "32",
         "Gold",
         "32"
        ],
        [
         "32",
         "348",
         "Roger Quintanilla",
         "144.66",
         "34",
         "Gold",
         "33"
        ],
        [
         "33",
         "513",
         "Duane Tubbs",
         "143.70",
         "30",
         "Gold",
         "34"
        ],
        [
         "34",
         "454",
         "Alex Gresham",
         "143.68",
         "32",
         "Gold",
         "35"
        ],
        [
         "35",
         "347",
         "Ryan Salisbury",
         "142.70",
         "30",
         "Gold",
         "36"
        ],
        [
         "36",
         "390",
         "Shawn Heaton",
         "142.69",
         "31",
         "Gold",
         "37"
        ],
        [
         "37",
         "267",
         "Margie Wade",
         "142.67",
         "33",
         "Gold",
         "38"
        ],
        [
         "38",
         "257",
         "Marsha Douglas",
         "142.66",
         "34",
         "Gold",
         "39"
        ],
        [
         "39",
         "39",
         "Debra Nelson",
         "141.71",
         "29",
         "Gold",
         "40"
        ],
        [
         "40",
         "78",
         "Lori Wood",
         "141.69",
         "31",
         "Gold",
         "41"
        ],
        [
         "41",
         "362",
         "Nicholas Barfield",
         "140.69",
         "31",
         "Gold",
         "42"
        ],
        [
         "42",
         "363",
         "Roy Whiting",
         "139.72",
         "28",
         "Gold",
         "43"
        ],
        [
         "43",
         "368",
         "Harry Arce",
         "139.69",
         "31",
         "Gold",
         "44"
        ],
        [
         "44",
         "119",
         "Sherry Marshall",
         "139.69",
         "31",
         "Gold",
         "44"
        ],
        [
         "45",
         "66",
         "Janice Ward",
         "139.67",
         "33",
         "Gold",
         "46"
        ],
        [
         "46",
         "237",
         "Tanya Gilbert",
         "138.69",
         "31",
         "Gold",
         "47"
        ],
        [
         "47",
         "29",
         "Angela Hernandez",
         "138.65",
         "35",
         "Gold",
         "48"
        ],
        [
         "48",
         "87",
         "Wanda Patterson",
         "137.72",
         "28",
         "Gold",
         "49"
        ],
        [
         "49",
         "80",
         "Marilyn Ross",
         "137.70",
         "30",
         "Gold",
         "50"
        ]
       ],
       "shape": {
        "columns": 6,
        "rows": 599
       }
      },
      "text/html": [
       "<div>\n",
       "<style scoped>\n",
       "    .dataframe tbody tr th:only-of-type {\n",
       "        vertical-align: middle;\n",
       "    }\n",
       "\n",
       "    .dataframe tbody tr th {\n",
       "        vertical-align: top;\n",
       "    }\n",
       "\n",
       "    .dataframe thead th {\n",
       "        text-align: right;\n",
       "    }\n",
       "</style>\n",
       "<table border=\"1\" class=\"dataframe\">\n",
       "  <thead>\n",
       "    <tr style=\"text-align: right;\">\n",
       "      <th></th>\n",
       "      <th>customer_id</th>\n",
       "      <th>customer_name</th>\n",
       "      <th>total_payments</th>\n",
       "      <th>rental_count</th>\n",
       "      <th>customer_category</th>\n",
       "      <th>payment_rank</th>\n",
       "    </tr>\n",
       "  </thead>\n",
       "  <tbody>\n",
       "    <tr>\n",
       "      <th>0</th>\n",
       "      <td>148</td>\n",
       "      <td>Eleanor Hunt</td>\n",
       "      <td>211.55</td>\n",
       "      <td>45</td>\n",
       "      <td>Platinum</td>\n",
       "      <td>1</td>\n",
       "    </tr>\n",
       "    <tr>\n",
       "      <th>1</th>\n",
       "      <td>526</td>\n",
       "      <td>Karl Seal</td>\n",
       "      <td>208.58</td>\n",
       "      <td>42</td>\n",
       "      <td>Platinum</td>\n",
       "      <td>2</td>\n",
       "    </tr>\n",
       "    <tr>\n",
       "      <th>2</th>\n",
       "      <td>178</td>\n",
       "      <td>Marion Snyder</td>\n",
       "      <td>194.61</td>\n",
       "      <td>39</td>\n",
       "      <td>Gold</td>\n",
       "      <td>3</td>\n",
       "    </tr>\n",
       "    <tr>\n",
       "      <th>3</th>\n",
       "      <td>137</td>\n",
       "      <td>Rhonda Kennedy</td>\n",
       "      <td>191.62</td>\n",
       "      <td>38</td>\n",
       "      <td>Gold</td>\n",
       "      <td>4</td>\n",
       "    </tr>\n",
       "    <tr>\n",
       "      <th>4</th>\n",
       "      <td>144</td>\n",
       "      <td>Clara Shaw</td>\n",
       "      <td>189.60</td>\n",
       "      <td>40</td>\n",
       "      <td>Gold</td>\n",
       "      <td>5</td>\n",
       "    </tr>\n",
       "    <tr>\n",
       "      <th>...</th>\n",
       "      <td>...</td>\n",
       "      <td>...</td>\n",
       "      <td>...</td>\n",
       "      <td>...</td>\n",
       "      <td>...</td>\n",
       "      <td>...</td>\n",
       "    </tr>\n",
       "    <tr>\n",
       "      <th>594</th>\n",
       "      <td>110</td>\n",
       "      <td>Tiffany Jordan</td>\n",
       "      <td>49.88</td>\n",
       "      <td>12</td>\n",
       "      <td>Ordinary</td>\n",
       "      <td>595</td>\n",
       "    </tr>\n",
       "    <tr>\n",
       "      <th>595</th>\n",
       "      <td>320</td>\n",
       "      <td>Anthony Schwab</td>\n",
       "      <td>47.85</td>\n",
       "      <td>15</td>\n",
       "      <td>Ordinary</td>\n",
       "      <td>596</td>\n",
       "    </tr>\n",
       "    <tr>\n",
       "      <th>596</th>\n",
       "      <td>248</td>\n",
       "      <td>Caroline Bowman</td>\n",
       "      <td>37.87</td>\n",
       "      <td>13</td>\n",
       "      <td>Ordinary</td>\n",
       "      <td>597</td>\n",
       "    </tr>\n",
       "    <tr>\n",
       "      <th>597</th>\n",
       "      <td>281</td>\n",
       "      <td>Leona Obrien</td>\n",
       "      <td>32.90</td>\n",
       "      <td>10</td>\n",
       "      <td>Ordinary</td>\n",
       "      <td>598</td>\n",
       "    </tr>\n",
       "    <tr>\n",
       "      <th>598</th>\n",
       "      <td>318</td>\n",
       "      <td>Brian Wyman</td>\n",
       "      <td>27.93</td>\n",
       "      <td>7</td>\n",
       "      <td>Ordinary</td>\n",
       "      <td>599</td>\n",
       "    </tr>\n",
       "  </tbody>\n",
       "</table>\n",
       "<p>599 rows × 6 columns</p>\n",
       "</div>"
      ],
      "text/plain": [
       "     customer_id    customer_name total_payments  rental_count  \\\n",
       "0            148     Eleanor Hunt         211.55            45   \n",
       "1            526        Karl Seal         208.58            42   \n",
       "2            178    Marion Snyder         194.61            39   \n",
       "3            137   Rhonda Kennedy         191.62            38   \n",
       "4            144       Clara Shaw         189.60            40   \n",
       "..           ...              ...            ...           ...   \n",
       "594          110   Tiffany Jordan          49.88            12   \n",
       "595          320   Anthony Schwab          47.85            15   \n",
       "596          248  Caroline Bowman          37.87            13   \n",
       "597          281     Leona Obrien          32.90            10   \n",
       "598          318      Brian Wyman          27.93             7   \n",
       "\n",
       "    customer_category  payment_rank  \n",
       "0            Platinum             1  \n",
       "1            Platinum             2  \n",
       "2                Gold             3  \n",
       "3                Gold             4  \n",
       "4                Gold             5  \n",
       "..                ...           ...  \n",
       "594          Ordinary           595  \n",
       "595          Ordinary           596  \n",
       "596          Ordinary           597  \n",
       "597          Ordinary           598  \n",
       "598          Ordinary           599  \n",
       "\n",
       "[599 rows x 6 columns]"
      ]
     },
     "execution_count": 9,
     "metadata": {},
     "output_type": "execute_result"
    }
   ],
   "source": [
    "# Получаем столбцы результата (названия колонок)\n",
    "columns = [desc[0] for desc in cursor.description]\n",
    "    \n",
    "# Создаем DataFrame из результатов\n",
    "df = pd.DataFrame(cursor.fetchall(), columns=columns)\n",
    "    \n",
    "# Закрываем соединение\n",
    "cursor.close()\n",
    "conn.close()\n",
    "    \n",
    "# Сохраняем DataFrame в CSV-файл\n",
    "df.to_excel('output.xlsx', index=False)\n",
    "df"
   ]
  }
 ],
 "metadata": {
  "kernelspec": {
   "display_name": ".venv",
   "language": "python",
   "name": "python3"
  },
  "language_info": {
   "codemirror_mode": {
    "name": "ipython",
    "version": 3
   },
   "file_extension": ".py",
   "mimetype": "text/x-python",
   "name": "python",
   "nbconvert_exporter": "python",
   "pygments_lexer": "ipython3",
   "version": "3.12.4"
  }
 },
 "nbformat": 4,
 "nbformat_minor": 5
}
